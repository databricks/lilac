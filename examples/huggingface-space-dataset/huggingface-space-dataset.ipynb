{
 "cells": [
  {
   "cell_type": "markdown",
   "metadata": {},
   "source": [
    "# Host a Lilac instance of a HuggingFace Dataset\n",
    "\n",
    "This notebook will show you how to host a Lilac instance of a HuggingFace dataset with just a few lines of Python.\n"
   ]
  },
  {
   "cell_type": "code",
   "execution_count": 6,
   "metadata": {},
   "outputs": [],
   "source": [
    "from typing import ClassVar, Iterable, Optional, Any\n",
    "from huggingface_hub import duplicate_space, SpaceHardware, SpaceStorage, HfApi, delete_folder\n",
    "import lilac as ll\n",
    "import yaml\n"
   ]
  },
  {
   "cell_type": "code",
   "execution_count": 21,
   "metadata": {},
   "outputs": [],
   "source": [
    "class IndentDumper(yaml.Dumper):\n",
    "  \"\"\"A yaml dumper that indent lists.\"\"\"\n",
    "\n",
    "  def increase_indent(self, flow: bool = False, indentless: bool = False) -> Any:\n",
    "    \"\"\"Increase the indent level.\"\"\"\n",
    "    return super(IndentDumper, self).increase_indent(flow, False)\n",
    "\n",
    "\n",
    "def to_yaml(input: dict) -> str:\n",
    "  \"\"\"Convert a dictionary to a pretty yaml representation.\"\"\"\n",
    "  return yaml.dump(input, Dumper=IndentDumper, sort_keys=False)\n",
    "\n",
    "\n",
    "def deploy_dataset(dataset_name: str,\n",
    "                   target_space: str,\n",
    "                   config_name: Optional[str] = None,\n",
    "                   split: Optional[str] = None,\n",
    "                   private: Optional[bool] = None,\n",
    "                   token: Optional[str] = None,\n",
    "                   exist_ok: Optional[bool] = None,\n",
    "                   hardware: Optional[SpaceHardware] = None,\n",
    "                   storage: Optional[SpaceStorage] = None,\n",
    "                   sleep_time: Optional[int] = None) -> None:\n",
    "\n",
    "  variables: dict[str, str] = {'LILAC_LOAD_ON_START_SERVER': 'true'}\n",
    "  if storage:\n",
    "    variables['LILAC_PROJECT_DIR'] = '/data'\n",
    "    variables['TRANSFORMERS_CACHE'] = '/data/.cache'\n",
    "    variables['XDG_CACHE_HOME'] = '/data/.cache'\n",
    "    variables['HF_HOME'] = '/data/.huggingface'\n",
    "\n",
    "  repo_url = duplicate_space(\n",
    "    from_id='lilacai/lilac',\n",
    "    to_id=target_space,\n",
    "    private=private,\n",
    "    token=token,\n",
    "    exist_ok=exist_ok,\n",
    "    hardware=hardware,\n",
    "    storage=storage,\n",
    "    sleep_time=sleep_time,\n",
    "    variables=[{\n",
    "      'key': key,\n",
    "      'value': value\n",
    "    } for key, value in variables.items()])\n",
    "\n",
    "  target_space_splits = target_space.split('/')\n",
    "  if len(target_space_splits) == 2:\n",
    "    namespace, dataset_name = target_space_splits\n",
    "  else:\n",
    "    namespace = 'local'\n",
    "    dataset_name = target_space_splits[0]\n",
    "\n",
    "  config = ll.Config(datasets=[\n",
    "    ll.DatasetConfig(\n",
    "      namespace=namespace,\n",
    "      name=dataset_name,\n",
    "      source=ll.HuggingFaceSource(dataset_name=dataset_name, config_name=config_name, split=split))\n",
    "  ])\n",
    "\n",
    "  hf_api = HfApi()\n",
    "  hf_api.upload_file(\n",
    "    path_or_fileobj=to_yaml(\n",
    "      config.model_dump(exclude_defaults=True, exclude_none=True, exclude_unset=True)).encode(),\n",
    "    path_in_repo=f'data/{ll.project.PROJECT_CONFIG_FILENAME}',\n",
    "    repo_id=target_space,\n",
    "    repo_type='space',\n",
    "  )\n",
    "  hf_api.upload_file(\n",
    "    path_or_fileobj=('---\\n' + to_yaml({\n",
    "      'title': f'Lilac: {dataset_name}',\n",
    "      'emoji': '🌷',\n",
    "      'colorFrom': 'purple',\n",
    "      'colorTo': 'purple',\n",
    "      'sdk': 'docker',\n",
    "      'app_port': 5432,\n",
    "      'datasets': []\n",
    "    }) + '\\n---').encode(),\n",
    "    path_in_repo='README.md',\n",
    "    repo_id=target_space,\n",
    "    repo_type='space',\n",
    "  )\n",
    "  delete_folder(path_in_repo='data/.cache', repo_id=target_space)\n",
    "\n",
    "  print('repo_url=', repo_url)\n"
   ]
  },
  {
   "cell_type": "code",
   "execution_count": 26,
   "metadata": {},
   "outputs": [
    {
     "ename": "HfHubHTTPError",
     "evalue": "429 Client Error: Too Many Requests for url: https://huggingface.co/api/spaces/lilacai/lilac/duplicate (Request ID: Root=1-65123a4c-207419e666c3596c624d0672;ad4671ff-adfb-44f4-aa07-a1049466989b)\n\nYou have exceeded our daily quotas for action: duplicate. We invite you to retry later.",
     "output_type": "error",
     "traceback": [
      "\u001b[0;31m---------------------------------------------------------------------------\u001b[0m",
      "\u001b[0;31mHTTPError\u001b[0m                                 Traceback (most recent call last)",
      "File \u001b[0;32m~/Code/lilac/.venv/lib/python3.9/site-packages/huggingface_hub/utils/_errors.py:261\u001b[0m, in \u001b[0;36mhf_raise_for_status\u001b[0;34m(response, endpoint_name)\u001b[0m\n\u001b[1;32m    260\u001b[0m \u001b[39mtry\u001b[39;00m:\n\u001b[0;32m--> 261\u001b[0m     response\u001b[39m.\u001b[39;49mraise_for_status()\n\u001b[1;32m    262\u001b[0m \u001b[39mexcept\u001b[39;00m HTTPError \u001b[39mas\u001b[39;00m e:\n",
      "File \u001b[0;32m~/Code/lilac/.venv/lib/python3.9/site-packages/requests/models.py:1021\u001b[0m, in \u001b[0;36mResponse.raise_for_status\u001b[0;34m(self)\u001b[0m\n\u001b[1;32m   1020\u001b[0m \u001b[39mif\u001b[39;00m http_error_msg:\n\u001b[0;32m-> 1021\u001b[0m     \u001b[39mraise\u001b[39;00m HTTPError(http_error_msg, response\u001b[39m=\u001b[39m\u001b[39mself\u001b[39m)\n",
      "\u001b[0;31mHTTPError\u001b[0m: 429 Client Error: Too Many Requests for url: https://huggingface.co/api/spaces/lilacai/lilac/duplicate",
      "\nThe above exception was the direct cause of the following exception:\n",
      "\u001b[0;31mHfHubHTTPError\u001b[0m                            Traceback (most recent call last)",
      "Cell \u001b[0;32mIn[26], line 1\u001b[0m\n\u001b[0;32m----> 1\u001b[0m deploy_dataset(\n\u001b[1;32m      2\u001b[0m   dataset_name\u001b[39m=\u001b[39;49m\u001b[39m'\u001b[39;49m\u001b[39mglue\u001b[39;49m\u001b[39m'\u001b[39;49m,\n\u001b[1;32m      3\u001b[0m   config_name\u001b[39m=\u001b[39;49m\u001b[39m'\u001b[39;49m\u001b[39max\u001b[39;49m\u001b[39m'\u001b[39;49m,\n\u001b[1;32m      4\u001b[0m   target_space\u001b[39m=\u001b[39;49m\u001b[39m'\u001b[39;49m\u001b[39mnsthorat-lilac/glue\u001b[39;49m\u001b[39m'\u001b[39;49m,\n\u001b[1;32m      5\u001b[0m   exist_ok\u001b[39m=\u001b[39;49m\u001b[39mTrue\u001b[39;49;00m,\n\u001b[1;32m      6\u001b[0m )\n",
      "Cell \u001b[0;32mIn[21], line 32\u001b[0m, in \u001b[0;36mdeploy_dataset\u001b[0;34m(dataset_name, target_space, config_name, split, private, token, exist_ok, hardware, storage, sleep_time)\u001b[0m\n\u001b[1;32m     29\u001b[0m   variables[\u001b[39m'\u001b[39m\u001b[39mXDG_CACHE_HOME\u001b[39m\u001b[39m'\u001b[39m] \u001b[39m=\u001b[39m \u001b[39m'\u001b[39m\u001b[39m/data/.cache\u001b[39m\u001b[39m'\u001b[39m\n\u001b[1;32m     30\u001b[0m   variables[\u001b[39m'\u001b[39m\u001b[39mHF_HOME\u001b[39m\u001b[39m'\u001b[39m] \u001b[39m=\u001b[39m \u001b[39m'\u001b[39m\u001b[39m/data/.huggingface\u001b[39m\u001b[39m'\u001b[39m\n\u001b[0;32m---> 32\u001b[0m repo_url \u001b[39m=\u001b[39m duplicate_space(\n\u001b[1;32m     33\u001b[0m   from_id\u001b[39m=\u001b[39;49m\u001b[39m'\u001b[39;49m\u001b[39mlilacai/lilac\u001b[39;49m\u001b[39m'\u001b[39;49m,\n\u001b[1;32m     34\u001b[0m   to_id\u001b[39m=\u001b[39;49mtarget_space,\n\u001b[1;32m     35\u001b[0m   private\u001b[39m=\u001b[39;49mprivate,\n\u001b[1;32m     36\u001b[0m   token\u001b[39m=\u001b[39;49mtoken,\n\u001b[1;32m     37\u001b[0m   exist_ok\u001b[39m=\u001b[39;49mexist_ok,\n\u001b[1;32m     38\u001b[0m   hardware\u001b[39m=\u001b[39;49mhardware,\n\u001b[1;32m     39\u001b[0m   storage\u001b[39m=\u001b[39;49mstorage,\n\u001b[1;32m     40\u001b[0m   sleep_time\u001b[39m=\u001b[39;49msleep_time,\n\u001b[1;32m     41\u001b[0m   variables\u001b[39m=\u001b[39;49m[{\n\u001b[1;32m     42\u001b[0m     \u001b[39m'\u001b[39;49m\u001b[39mkey\u001b[39;49m\u001b[39m'\u001b[39;49m: key,\n\u001b[1;32m     43\u001b[0m     \u001b[39m'\u001b[39;49m\u001b[39mvalue\u001b[39;49m\u001b[39m'\u001b[39;49m: value\n\u001b[1;32m     44\u001b[0m   } \u001b[39mfor\u001b[39;49;00m key, value \u001b[39min\u001b[39;49;00m variables\u001b[39m.\u001b[39;49mitems()])\n\u001b[1;32m     46\u001b[0m target_space_splits \u001b[39m=\u001b[39m target_space\u001b[39m.\u001b[39msplit(\u001b[39m'\u001b[39m\u001b[39m/\u001b[39m\u001b[39m'\u001b[39m)\n\u001b[1;32m     47\u001b[0m \u001b[39mif\u001b[39;00m \u001b[39mlen\u001b[39m(target_space_splits) \u001b[39m==\u001b[39m \u001b[39m2\u001b[39m:\n",
      "File \u001b[0;32m~/Code/lilac/.venv/lib/python3.9/site-packages/huggingface_hub/utils/_validators.py:118\u001b[0m, in \u001b[0;36mvalidate_hf_hub_args.<locals>._inner_fn\u001b[0;34m(*args, **kwargs)\u001b[0m\n\u001b[1;32m    115\u001b[0m \u001b[39mif\u001b[39;00m check_use_auth_token:\n\u001b[1;32m    116\u001b[0m     kwargs \u001b[39m=\u001b[39m smoothly_deprecate_use_auth_token(fn_name\u001b[39m=\u001b[39mfn\u001b[39m.\u001b[39m\u001b[39m__name__\u001b[39m, has_token\u001b[39m=\u001b[39mhas_token, kwargs\u001b[39m=\u001b[39mkwargs)\n\u001b[0;32m--> 118\u001b[0m \u001b[39mreturn\u001b[39;00m fn(\u001b[39m*\u001b[39;49margs, \u001b[39m*\u001b[39;49m\u001b[39m*\u001b[39;49mkwargs)\n",
      "File \u001b[0;32m~/Code/lilac/.venv/lib/python3.9/site-packages/huggingface_hub/hf_api.py:5630\u001b[0m, in \u001b[0;36mHfApi.duplicate_space\u001b[0;34m(self, from_id, to_id, private, token, exist_ok, hardware, storage, sleep_time, secrets, variables)\u001b[0m\n\u001b[1;32m   5623\u001b[0m r \u001b[39m=\u001b[39m get_session()\u001b[39m.\u001b[39mpost(\n\u001b[1;32m   5624\u001b[0m     \u001b[39mf\u001b[39m\u001b[39m\"\u001b[39m\u001b[39m{\u001b[39;00m\u001b[39mself\u001b[39m\u001b[39m.\u001b[39mendpoint\u001b[39m}\u001b[39;00m\u001b[39m/api/spaces/\u001b[39m\u001b[39m{\u001b[39;00mfrom_id\u001b[39m}\u001b[39;00m\u001b[39m/duplicate\u001b[39m\u001b[39m\"\u001b[39m,\n\u001b[1;32m   5625\u001b[0m     headers\u001b[39m=\u001b[39m\u001b[39mself\u001b[39m\u001b[39m.\u001b[39m_build_hf_headers(token\u001b[39m=\u001b[39mtoken, is_write_action\u001b[39m=\u001b[39m\u001b[39mTrue\u001b[39;00m),\n\u001b[1;32m   5626\u001b[0m     json\u001b[39m=\u001b[39mpayload,\n\u001b[1;32m   5627\u001b[0m )\n\u001b[1;32m   5629\u001b[0m \u001b[39mtry\u001b[39;00m:\n\u001b[0;32m-> 5630\u001b[0m     hf_raise_for_status(r)\n\u001b[1;32m   5631\u001b[0m \u001b[39mexcept\u001b[39;00m HTTPError \u001b[39mas\u001b[39;00m err:\n\u001b[1;32m   5632\u001b[0m     \u001b[39mif\u001b[39;00m exist_ok \u001b[39mand\u001b[39;00m err\u001b[39m.\u001b[39mresponse\u001b[39m.\u001b[39mstatus_code \u001b[39m==\u001b[39m \u001b[39m409\u001b[39m:\n\u001b[1;32m   5633\u001b[0m         \u001b[39m# Repo already exists and `exist_ok=True`\u001b[39;00m\n",
      "File \u001b[0;32m~/Code/lilac/.venv/lib/python3.9/site-packages/huggingface_hub/utils/_errors.py:303\u001b[0m, in \u001b[0;36mhf_raise_for_status\u001b[0;34m(response, endpoint_name)\u001b[0m\n\u001b[1;32m    299\u001b[0m     \u001b[39mraise\u001b[39;00m BadRequestError(message, response\u001b[39m=\u001b[39mresponse) \u001b[39mfrom\u001b[39;00m \u001b[39me\u001b[39;00m\n\u001b[1;32m    301\u001b[0m \u001b[39m# Convert `HTTPError` into a `HfHubHTTPError` to display request information\u001b[39;00m\n\u001b[1;32m    302\u001b[0m \u001b[39m# as well (request id and/or server error message)\u001b[39;00m\n\u001b[0;32m--> 303\u001b[0m \u001b[39mraise\u001b[39;00m HfHubHTTPError(\u001b[39mstr\u001b[39m(e), response\u001b[39m=\u001b[39mresponse) \u001b[39mfrom\u001b[39;00m \u001b[39me\u001b[39;00m\n",
      "\u001b[0;31mHfHubHTTPError\u001b[0m: 429 Client Error: Too Many Requests for url: https://huggingface.co/api/spaces/lilacai/lilac/duplicate (Request ID: Root=1-65123a4c-207419e666c3596c624d0672;ad4671ff-adfb-44f4-aa07-a1049466989b)\n\nYou have exceeded our daily quotas for action: duplicate. We invite you to retry later."
     ]
    }
   ],
   "source": [
    "deploy_dataset(\n",
    "  dataset_name='glue',\n",
    "  config_name='ax',\n",
    "  target_space='nsthorat-lilac/glue',\n",
    "  exist_ok=True,\n",
    ")\n"
   ]
  },
  {
   "cell_type": "code",
   "execution_count": null,
   "metadata": {},
   "outputs": [],
   "source": []
  }
 ],
 "metadata": {
  "kernelspec": {
   "display_name": ".venv",
   "language": "python",
   "name": "python3"
  },
  "language_info": {
   "codemirror_mode": {
    "name": "ipython",
    "version": 3
   },
   "file_extension": ".py",
   "mimetype": "text/x-python",
   "name": "python",
   "nbconvert_exporter": "python",
   "pygments_lexer": "ipython3",
   "version": "3.9.17"
  },
  "orig_nbformat": 4
 },
 "nbformat": 4,
 "nbformat_minor": 2
}
