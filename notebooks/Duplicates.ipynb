{
 "cells": [
  {
   "cell_type": "code",
   "execution_count": 1,
   "metadata": {},
   "outputs": [
    {
     "name": "stderr",
     "output_type": "stream",
     "text": [
      "/Users/dsmilkov/code/lilac/.venv/lib/python3.11/site-packages/tqdm/auto.py:21: TqdmWarning: IProgress not found. Please update jupyter and ipywidgets. See https://ipywidgets.readthedocs.io/en/stable/user_install.html\n",
      "  from .autonotebook import tqdm as notebook_tqdm\n"
     ]
    }
   ],
   "source": [
    "import lilac as ll\n"
   ]
  },
  {
   "cell_type": "code",
   "execution_count": 2,
   "metadata": {},
   "outputs": [],
   "source": [
    "ds = ll.get_dataset('local', 'open-hermes')\n"
   ]
  },
  {
   "cell_type": "code",
   "execution_count": 6,
   "metadata": {},
   "outputs": [
    {
     "name": "stdout",
     "output_type": "stream",
     "text": [
      "Scheduling task \"1463336797044730991d161cb78eac2d\": \"[local/open-hermes][shard 0/1] map \"dup\" to \"input_instruction\"\".\n"
     ]
    },
    {
     "name": "stderr",
     "output_type": "stream",
     "text": [
      "[local/open-hermes][shard 0/1] map \"dup\" to \"input_instruction\": 100%|██████████| 242831/242831 [00:03<00:00, 71620.01it/s]\n"
     ]
    },
    {
     "name": "stdout",
     "output_type": "stream",
     "text": [
      "Wrote map output to ./data/datasets/local/open-hermes/./data/datasets/local/open-hermes/input_instruction-00000-of-00001.parquet\n"
     ]
    },
    {
     "data": {
      "text/plain": [
       "<lilac.data.dataset_duckdb.DuckDBMapOutput at 0x2b8b0f690>"
      ]
     },
     "execution_count": 6,
     "metadata": {},
     "output_type": "execute_result"
    },
    {
     "name": "stdout",
     "output_type": "stream",
     "text": [
      "Task finished \"1463336797044730991d161cb78eac2d\": \"[local/open-hermes][shard 0/1] map \"dup\" to \"input_instruction\"\" in 3s.\n"
     ]
    }
   ],
   "source": [
    "def dup(x):\n",
    "  return x['input'] + x['instruction']\n",
    "\n",
    "\n",
    "ds.map(dup, output_column='input_instruction', overwrite=True)\n",
    "\n",
    "# counts = ds.select_groups('input_instruction').counts\n"
   ]
  },
  {
   "cell_type": "code",
   "execution_count": 10,
   "metadata": {},
   "outputs": [
    {
     "name": "stderr",
     "output_type": "stream",
     "text": [
      "Fingerprinting...: 242831it [00:23, 10159.66it/s]\":0.7,\"signal_name\":\"near_dup\"}) over ('input_instruction',):   0%|          | 0/242831 [00:00<?, ?it/s]\n",
      "2023-11-28 08:46:38,429 - distributed.utils_perf - WARNING - full garbage collections took 10% CPU time recently (threshold: 10%)\n",
      "2023-11-28 08:46:40,034 - distributed.utils_perf - WARNING - full garbage collections took 12% CPU time recently (threshold: 10%)\n",
      "2023-11-28 08:46:41,687 - distributed.utils_perf - WARNING - full garbage collections took 14% CPU time recently (threshold: 10%)\n",
      "2023-11-28 08:46:44,898 - distributed.utils_perf - WARNING - full garbage collections took 18% CPU time recently (threshold: 10%)\n",
      "Computing hash collisions...: 100%|██████████| 25/25 [00:12<00:00,  2.05it/s]\n",
      "Clustering...: 100%|██████████| 25/25 [00:00<00:00, 27.55it/s]\n",
      "2023-11-28 08:46:46,479 - distributed.utils_perf - WARNING - full garbage collections took 17% CPU time recently (threshold: 10%)\n",
      "Computing signal  NearDuplicateSignal({\"threshold\":0.7,\"signal_name\":\"near_dup\"}) over ('input_instruction',):   0%|          | 1/242831 [00:39<2641:00:48, 39.15s/it]2023-11-28 08:46:47,767 - distributed.utils_perf - WARNING - full garbage collections took 17% CPU time recently (threshold: 10%)\n",
      "2023-11-28 08:46:47,794 - distributed.utils_perf - WARNING - full garbage collections took 17% CPU time recently (threshold: 10%)\n",
      "2023-11-28 08:46:47,820 - distributed.utils_perf - WARNING - full garbage collections took 17% CPU time recently (threshold: 10%)\n",
      "Computing signal  NearDuplicateSignal({\"threshold\":0.7,\"signal_name\":\"near_dup\"}) over ('input_instruction',):   5%|▍         | 11763/242831 [00:39<09:00, 427.62it/s]2023-11-28 08:46:47,848 - distributed.utils_perf - WARNING - full garbage collections took 17% CPU time recently (threshold: 10%)\n",
      "2023-11-28 08:46:47,877 - distributed.utils_perf - WARNING - full garbage collections took 17% CPU time recently (threshold: 10%)\n",
      "2023-11-28 08:46:47,913 - distributed.utils_perf - WARNING - full garbage collections took 17% CPU time recently (threshold: 10%)\n",
      "Computing signal  NearDuplicateSignal({\"threshold\":0.7,\"signal_name\":\"near_dup\"}) over ('input_instruction',):  10%|▉         | 23520/242831 [00:39<03:32, 1032.63it/s]2023-11-28 08:46:47,958 - distributed.utils_perf - WARNING - full garbage collections took 17% CPU time recently (threshold: 10%)\n",
      "2023-11-28 08:46:48,010 - distributed.utils_perf - WARNING - full garbage collections took 17% CPU time recently (threshold: 10%)\n",
      "Computing signal  NearDuplicateSignal({\"threshold\":0.7,\"signal_name\":\"near_dup\"}) over ('input_instruction',):  14%|█▍        | 35019/242831 [00:39<01:51, 1867.07it/s]2023-11-28 08:46:48,076 - distributed.utils_perf - WARNING - full garbage collections took 17% CPU time recently (threshold: 10%)\n",
      "2023-11-28 08:46:48,155 - distributed.utils_perf - WARNING - full garbage collections took 17% CPU time recently (threshold: 10%)\n",
      "Computing signal  NearDuplicateSignal({\"threshold\":0.7,\"signal_name\":\"near_dup\"}) over ('input_instruction',):  19%|█▉        | 47124/242831 [00:39<01:03, 3097.42it/s]2023-11-28 08:46:48,256 - distributed.utils_perf - WARNING - full garbage collections took 24% CPU time recently (threshold: 10%)\n",
      "Computing signal  NearDuplicateSignal({\"threshold\":0.7,\"signal_name\":\"near_dup\"}) over ('input_instruction',):  30%|██▉       | 72221/242831 [00:39<00:23, 7400.88it/s]2023-11-28 08:46:48,385 - distributed.utils_perf - WARNING - full garbage collections took 26% CPU time recently (threshold: 10%)\n",
      "Computing signal  NearDuplicateSignal({\"threshold\":0.7,\"signal_name\":\"near_dup\"}) over ('input_instruction',):  35%|███▍      | 84265/242831 [00:39<00:15, 10554.76it/s]2023-11-28 08:46:48,540 - distributed.utils_perf - WARNING - full garbage collections took 27% CPU time recently (threshold: 10%)\n",
      "Computing signal  NearDuplicateSignal({\"threshold\":0.7,\"signal_name\":\"near_dup\"}) over ('input_instruction',):  45%|████▌     | 109474/242831 [00:40<00:06, 20917.70it/s]2023-11-28 08:46:48,732 - distributed.utils_perf - WARNING - full garbage collections took 29% CPU time recently (threshold: 10%)\n",
      "Computing signal  NearDuplicateSignal({\"threshold\":0.7,\"signal_name\":\"near_dup\"}) over ('input_instruction',):  56%|█████▌    | 134920/242831 [00:40<00:02, 36877.11it/s]2023-11-28 08:46:48,970 - distributed.utils_perf - WARNING - full garbage collections took 31% CPU time recently (threshold: 10%)\n",
      "Computing signal  NearDuplicateSignal({\"threshold\":0.7,\"signal_name\":\"near_dup\"}) over ('input_instruction',):  66%|██████▌   | 160603/242831 [00:40<00:01, 57417.01it/s]2023-11-28 08:46:49,268 - distributed.utils_perf - WARNING - full garbage collections took 33% CPU time recently (threshold: 10%)\n",
      "Computing signal  NearDuplicateSignal({\"threshold\":0.7,\"signal_name\":\"near_dup\"}) over ('input_instruction',):  82%|████████▏ | 199890/242831 [00:40<00:00, 88018.52it/s]2023-11-28 08:46:49,629 - distributed.utils_perf - WARNING - full garbage collections took 37% CPU time recently (threshold: 10%)\n",
      "Computing signal  NearDuplicateSignal({\"threshold\":0.7,\"signal_name\":\"near_dup\"}) over ('input_instruction',): 100%|██████████| 242831/242831 [00:41<00:00, 5883.06it/s]  \n"
     ]
    },
    {
     "name": "stdout",
     "output_type": "stream",
     "text": [
      "Wrote signal output to ./data/datasets/local/open-hermes/input_instruction/near_dup%28threshold%3D0.7%29\n"
     ]
    }
   ],
   "source": [
    "ds.compute_signal(ll.NearDuplicateSignal(threshold=0.7), 'input_instruction')\n"
   ]
  },
  {
   "cell_type": "code",
   "execution_count": 12,
   "metadata": {},
   "outputs": [
    {
     "data": {
      "text/plain": [
       "{\n",
       "  \"fields\": {\n",
       "    \"input\": {\n",
       "      \"dtype\": {\n",
       "        \"type\": \"string\"\n",
       "      }\n",
       "    },\n",
       "    \"output\": {\n",
       "      \"dtype\": {\n",
       "        \"type\": \"string\"\n",
       "      }\n",
       "    },\n",
       "    \"instruction\": {\n",
       "      \"dtype\": {\n",
       "        \"type\": \"string\"\n",
       "      }\n",
       "    },\n",
       "    \"__hfsplit__\": {\n",
       "      \"dtype\": {\n",
       "        \"type\": \"string\"\n",
       "      }\n",
       "    },\n",
       "    \"input_instruction\": {\n",
       "      \"fields\": {\n",
       "        \"near_dup\": {\n",
       "          \"fields\": {\n",
       "            \"cluster_id\": {\n",
       "              \"dtype\": {\n",
       "                \"type\": \"uint32\"\n",
       "              },\n",
       "              \"categorical\": true\n",
       "            }\n",
       "          },\n",
       "          \"signal\": {\n",
       "            \"threshold\": 0.85,\n",
       "            \"signal_name\": \"near_dup\"\n",
       "          }\n",
       "        },\n",
       "        \"near_dup(threshold=0.7)\": {\n",
       "          \"fields\": {\n",
       "            \"cluster_id\": {\n",
       "              \"dtype\": {\n",
       "                \"type\": \"uint32\"\n",
       "              },\n",
       "              \"categorical\": true\n",
       "            }\n",
       "          },\n",
       "          \"signal\": {\n",
       "            \"threshold\": 0.7,\n",
       "            \"signal_name\": \"near_dup\"\n",
       "          }\n",
       "        }\n",
       "      },\n",
       "      \"dtype\": {\n",
       "        \"type\": \"string\"\n",
       "      },\n",
       "      \"map\": {\n",
       "        \"fn_name\": \"dup\",\n",
       "        \"fn_source\": \"def dup(x):\\n  return x['input'] + x['instruction']\\n\",\n",
       "        \"date_created\": \"2023-11-28T08:40:40.520399\"\n",
       "      }\n",
       "    }\n",
       "  }\n",
       "}"
      ]
     },
     "execution_count": 12,
     "metadata": {},
     "output_type": "execute_result"
    }
   ],
   "source": [
    "ds.manifest().data_schema\n"
   ]
  },
  {
   "cell_type": "code",
   "execution_count": 8,
   "metadata": {},
   "outputs": [
    {
     "name": "stdout",
     "output_type": "stream",
     "text": [
      "Number of duplicates: 9152\n"
     ]
    }
   ],
   "source": [
    "counts = ds.select_groups('input_instruction').counts\n",
    "num_duplicates = 0\n",
    "for _, c in counts:\n",
    "  num_duplicates += c - 1\n",
    "\n",
    "print('Number of duplicates: ' + str(num_duplicates))\n"
   ]
  },
  {
   "cell_type": "code",
   "execution_count": 9,
   "metadata": {},
   "outputs": [
    {
     "name": "stdout",
     "output_type": "stream",
     "text": [
      "Number of near-duplicates: 9545\n"
     ]
    }
   ],
   "source": [
    "counts = ds.select_groups('input_instruction.near_dup.cluster_id').counts\n",
    "num_duplicates = 0\n",
    "for _, c in counts:\n",
    "  num_duplicates += c - 1\n",
    "\n",
    "print('Number of near-duplicates: ' + str(num_duplicates))\n"
   ]
  },
  {
   "cell_type": "code",
   "execution_count": 13,
   "metadata": {},
   "outputs": [
    {
     "name": "stdout",
     "output_type": "stream",
     "text": [
      "Number of near-duplicates: 11250\n"
     ]
    }
   ],
   "source": [
    "counts = ds.select_groups('input_instruction.\"near_dup(threshold=0.7)\".cluster_id').counts\n",
    "num_duplicates = 0\n",
    "for _, c in counts:\n",
    "  num_duplicates += c - 1\n",
    "\n",
    "print('Number of near-duplicates: ' + str(num_duplicates))\n"
   ]
  },
  {
   "cell_type": "code",
   "execution_count": null,
   "metadata": {},
   "outputs": [],
   "source": []
  }
 ],
 "metadata": {
  "kernelspec": {
   "display_name": ".venv",
   "language": "python",
   "name": "python3"
  },
  "language_info": {
   "codemirror_mode": {
    "name": "ipython",
    "version": 3
   },
   "file_extension": ".py",
   "mimetype": "text/x-python",
   "name": "python",
   "nbconvert_exporter": "python",
   "pygments_lexer": "ipython3",
   "version": "3.11.4"
  }
 },
 "nbformat": 4,
 "nbformat_minor": 2
}
