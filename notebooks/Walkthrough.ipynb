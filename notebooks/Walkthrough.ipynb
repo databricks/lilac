{
 "cells": [
  {
   "cell_type": "code",
   "execution_count": 2,
   "metadata": {},
   "outputs": [
    {
     "name": "stderr",
     "output_type": "stream",
     "text": [
      "/Users/nikhil/Code/lilac/.venv/lib/python3.11/site-packages/tqdm/auto.py:21: TqdmWarning: IProgress not found. Please update jupyter and ipywidgets. See https://ipywidgets.readthedocs.io/en/stable/user_install.html\n",
      "  from .autonotebook import tqdm as notebook_tqdm\n"
     ]
    }
   ],
   "source": [
    "import lilac as ll"
   ]
  },
  {
   "cell_type": "code",
   "execution_count": 3,
   "metadata": {},
   "outputs": [
    {
     "data": {
      "text/plain": [
       "<lilac.server.Server at 0x2af17c990>"
      ]
     },
     "execution_count": 3,
     "metadata": {},
     "output_type": "execute_result"
    },
    {
     "name": "stderr",
     "output_type": "stream",
     "text": [
      "INFO:     Started server process [1662]\n",
      "INFO:     Waiting for application startup.\n",
      "INFO:     ASGI 'lifespan' protocol appears unsupported.\n",
      "INFO:     Application startup complete.\n",
      "INFO:     Uvicorn running on http://127.0.0.1:5432 (Press CTRL+C to quit)\n"
     ]
    }
   ],
   "source": [
    "ll.start_server()"
   ]
  },
  {
   "cell_type": "markdown",
   "metadata": {},
   "source": [
    "# Load a dataset from HuggingFace\n"
   ]
  },
  {
   "cell_type": "code",
   "execution_count": 3,
   "metadata": {},
   "outputs": [
    {
     "name": "stdout",
     "output_type": "stream",
     "text": [
      "Dataset \"databricks-dolly-15k-curated-en\" written to ./data/datasets/local/databricks-dolly-15k-curated-en\n"
     ]
    }
   ],
   "source": [
    "ds = ll.from_huggingface('argilla/databricks-dolly-15k-curated-en', overwrite=True)"
   ]
  },
  {
   "cell_type": "markdown",
   "metadata": {},
   "source": [
    "# Database selections\n"
   ]
  },
  {
   "cell_type": "code",
   "execution_count": 6,
   "metadata": {},
   "outputs": [
    {
     "name": "stdout",
     "output_type": "stream",
     "text": [
      "{'id': '5182', 'category': 'closed_qa', 'original-instruction': 'What are the causes of population growth in the Sun Belt in the US?', 'original-context': 'The Sun Belt has seen substantial population growth since post-World War II from an influx of people seeking a warm and sunny climate, a surge in retiring baby boomers, and growing economic opportunities. The advent of air conditioning created more comfortable summer conditions and allowed more manufacturing and industry to locate in the Sun Belt. Since much of the construction in the Sun Belt is new or recent, housing styles and design are often modern and open. Recreational opportunities in the Sun Belt are often not tied strictly to one season, and many tourist and resort cities, such as Fort Lauderdale, Gulf Shores, Houston, Las Vegas, Los Angeles, Miami, Myrtle Beach, New Orleans, Orlando, Palm Springs, Phoenix, San Antonio, San Diego, Tampa, and Tucson support a tourist industry all year.\\nThe traditional explanations for the growth are increasing productivity in the South and West and increasing demand for Sunbelt amenities, especially its pleasant weather. Job decline in the Rust Belt is another major reason for migration.', 'original-response': 'Since WWII, many people have migrated from the US Midwest or Northeast to the Sun Belt. One significant factor is the milder climate and the recreational possibilities it makes possible. Economic opportunity is another factor, as many automobile and other manufacturers have left the Midwest and Northeast and built factories in the Sun Belt. The housing stock is newer and affordable, which attracts people of all ages.', 'external_id': None, '__hfsplit__': 'train', 'new-instruction.user_id': [None], 'new-instruction.value': ['What are the causes of population growth in the Sun Belt in the US?'], 'new-instruction.status': ['submitted'], 'new-context.user_id': [None], 'new-context.value': ['The Sun Belt has seen substantial population growth since post-World War II from an influx of people seeking a warm and sunny climate, a surge in retiring baby boomers, and growing economic opportunities. The advent of air conditioning created more comfortable summer conditions and allowed more manufacturing and industry to locate in the Sun Belt. Since much of the construction in the Sun Belt is new or recent, housing styles and design are often modern and open. Recreational opportunities in the Sun Belt are often not tied strictly to one season, and many tourist and resort cities, such as Fort Lauderdale, Gulf Shores, Houston, Las Vegas, Los Angeles, Miami, Myrtle Beach, New Orleans, Orlando, Palm Springs, Phoenix, San Antonio, San Diego, Tampa, and Tucson support a tourist industry all year.\\nThe traditional explanations for the growth are increasing productivity in the South and West and increasing demand for Sunbelt amenities, especially its pleasant weather. Job decline in the Rust Belt is another major reason for migration.'], 'new-context.status': ['submitted'], 'new-response.user_id': [None], 'new-response.value': ['Since WWII, many people have migrated from the US Midwest or Northeast to the Sun Belt. One significant factor is the milder climate and the recreational possibilities it makes possible. Economic opportunity is another factor, as many automobile and other manufacturers have left the Midwest and Northeast and built factories in the Sun Belt. The housing stock is newer and affordable, which attracts people of all ages.'], 'new-response.status': ['submitted']}\n",
      "{'id': '8872', 'category': 'classification', 'original-instruction': 'Which of these drinks are caffeinated: water, coffee, tea, laptop, orange juice, lemonade, pre workout.', 'original-context': '', 'original-response': 'Coffee, tea, and pre workout may have varying amounts of caffeine. Water, orange juice, and lemonade are drinks which don’t have caffeine. A laptop is not a drink at all.', 'external_id': None, '__hfsplit__': 'train', 'new-instruction.user_id': [None], 'new-instruction.value': ['Which of these drinks are caffeinated: water, coffee, tea, laptop, orange juice, lemonade, pre workout.'], 'new-instruction.status': ['submitted'], 'new-context.user_id': [None], 'new-context.value': [''], 'new-context.status': ['submitted'], 'new-response.user_id': [None], 'new-response.value': ['Coffee, tea, and pre workout may have varying amounts of caffeine. Water, orange juice, and lemonade are drinks which don’t have caffeine. A laptop is not a drink at all.'], 'new-response.status': ['submitted']}\n",
      "{'id': '12452', 'category': 'classification', 'original-instruction': 'Identify which instrument is string or woodwind: Spinet, Caval', 'original-context': '', 'original-response': 'Caval is woodwind, Spinet is string.', 'external_id': None, '__hfsplit__': 'train', 'new-instruction.user_id': [None], 'new-instruction.value': ['Identify which instrument is string or woodwind: Spinet, Caval'], 'new-instruction.status': ['submitted'], 'new-context.user_id': [None], 'new-context.value': [''], 'new-context.status': ['submitted'], 'new-response.user_id': [None], 'new-response.value': ['Caval is woodwind, Spinet is string.'], 'new-response.status': ['submitted']}\n",
      "{'id': '6766', 'category': 'information_extraction', 'original-instruction': 'From the passage identify the usage of Limestone. Display the results in a numbered list format.', 'original-context': \"Limestone\\xa0(calcium carbonate\\xa0CaCO3) is a type of\\xa0carbonate\\xa0sedimentary rock\\xa0which is the main source of the material\\xa0lime. It is composed mostly of the\\xa0minerals\\xa0calcite\\xa0and\\xa0aragonite, which are different\\xa0crystal forms\\xa0of\\xa0CaCO3. Limestone forms when these minerals\\xa0precipitate\\xa0out of water containing dissolved calcium. This can take place through both biological and nonbiological processes, though biological processes, such as the accumulation of corals and shells in the sea, have likely been more important for the last 540 million years.[1][2]\\xa0Limestone often contains\\xa0fossils\\xa0which provide scientists with information on ancient environments and on the\\xa0evolution\\xa0of life.[3]About 20% to 25% of sedimentary rock is carbonate rock, and most of this is limestone.[4][3]\\xa0The remaining carbonate rock is mostly\\xa0dolomite, a closely related rock, which contains a high percentage of the mineral\\xa0dolomite,\\xa0CaMg(CO3)2.\\xa0Magnesian limestone\\xa0is an obsolete and poorly-defined term used variously for dolomite, for limestone containing significant dolomite (dolomitic limestone), or for any other limestone containing a significant percentage of\\xa0magnesium.[5]\\xa0Most limestone was formed in shallow marine environments, such as\\xa0continental shelves\\xa0or\\xa0platforms, though smaller amounts were formed in many other environments. Much dolomite is secondary dolomite, formed by chemical alteration of limestone.[6][7]\\xa0Limestone is exposed over large regions of the Earth's surface, and because limestone is slightly\\xa0soluble\\xa0in rainwater, these exposures often are eroded to become\\xa0karst\\xa0landscapes. Most\\xa0cave\\xa0systems are found in limestone bedrock.Limestone has numerous uses: as a chemical\\xa0feedstock\\xa0for the production of\\xa0lime\\xa0used for\\xa0cement\\xa0(an essential component of\\xa0concrete), as aggregate for the base of roads, as white pigment or filler in products such as\\xa0toothpaste\\xa0or\\xa0paints, as a\\xa0soil conditioner, and as a popular decorative addition to\\xa0rock gardens. Limestone formations contain about 30% of the world's\\xa0petroleum reservoirs.[3]\", 'original-response': '1. as a chemical feedstock for the production of lime used for cement (an essential component of concrete)\\n2. as aggregate for the base of roads\\n3. as white pigment or filler in products such as toothpaste or paints\\n4. as a soil conditioner\\n5. as a popular decorative addition to rock gardens', 'external_id': None, '__hfsplit__': 'train', 'new-instruction.user_id': [None], 'new-instruction.value': ['From the passage identify the usage of Limestone. Display the results in a numbered list format.'], 'new-instruction.status': ['submitted'], 'new-context.user_id': [None], 'new-context.value': [\"Limestone\\xa0(calcium carbonate\\xa0CaCO3) is a type of\\xa0carbonate\\xa0sedimentary rock\\xa0which is the main source of the material\\xa0lime. It is composed mostly of the\\xa0minerals\\xa0calcite\\xa0and\\xa0aragonite, which are different\\xa0crystal forms\\xa0of\\xa0CaCO3. Limestone forms when these minerals\\xa0precipitate\\xa0out of water containing dissolved calcium. This can take place through both biological and nonbiological processes, though biological processes, such as the accumulation of corals and shells in the sea, have likely been more important for the last 540 million years.\\xa0Limestone often contains\\xa0fossils\\xa0which provide scientists with information on ancient environments and on the\\xa0evolution\\xa0of life.About 20% to 25% of sedimentary rock is carbonate rock, and most of this is limestone.\\xa0The remaining carbonate rock is mostly\\xa0dolomite, a closely related rock, which contains a high percentage of the mineral\\xa0dolomite,\\xa0CaMg(CO3)2.\\xa0Magnesian limestone\\xa0is an obsolete and poorly-defined term used variously for dolomite, for limestone containing significant dolomite (dolomitic limestone), or for any other limestone containing a significant percentage of\\xa0magnesium.\\xa0Most limestone was formed in shallow marine environments, such as\\xa0continental shelves\\xa0or\\xa0platforms, though smaller amounts were formed in many other environments. Much dolomite is secondary dolomite, formed by chemical alteration of limestone.\\xa0Limestone is exposed over large regions of the Earth's surface, and because limestone is slightly\\xa0soluble\\xa0in rainwater, these exposures often are eroded to become\\xa0karst\\xa0landscapes. Most\\xa0cave\\xa0systems are found in limestone bedrock.Limestone has numerous uses: as a chemical\\xa0feedstock\\xa0for the production of\\xa0lime\\xa0used for\\xa0cement\\xa0(an essential component of\\xa0concrete), as aggregate for the base of roads, as white pigment or filler in products such as\\xa0toothpaste\\xa0or\\xa0paints, as a\\xa0soil conditioner, and as a popular decorative addition to\\xa0rock gardens. Limestone formations contain about 30% of the world's\\xa0petroleum reservoirs.\"], 'new-context.status': ['submitted'], 'new-response.user_id': [None], 'new-response.value': ['1. as a chemical feedstock for the production of lime used for cement (an essential component of concrete)\\n2. as aggregate for the base of roads\\n3. as white pigment or filler in products such as toothpaste or paints\\n4. as a soil conditioner\\n5. as a popular decorative addition to rock gardens'], 'new-response.status': ['submitted']}\n",
      "{'id': '2437', 'category': 'brainstorming', 'original-instruction': 'Why USA is best ?', 'original-context': '', 'original-response': 'Because USA is powerful and give respect and Wealth and health benefits to all of their citizen', 'external_id': None, '__hfsplit__': 'train', 'new-instruction.user_id': [None], 'new-instruction.value': ['Why USA is best ?'], 'new-instruction.status': ['submitted'], 'new-context.user_id': [None], 'new-context.value': [''], 'new-context.status': ['submitted'], 'new-response.user_id': [None], 'new-response.value': ['Because USA is powerful and give respect and Wealth and health benefits to all of their citizen'], 'new-response.status': ['submitted']}\n"
     ]
    }
   ],
   "source": [
    "# Simple select / limit.\n",
    "rows = ds.select_rows(\n",
    "  columns=['*'],\n",
    "  limit=5,\n",
    ")\n",
    "for row in rows:\n",
    "  print(row)"
   ]
  },
  {
   "cell_type": "code",
   "execution_count": 7,
   "metadata": {},
   "outputs": [
    {
     "name": "stdout",
     "output_type": "stream",
     "text": [
      "{'id': '8872', 'category': 'classification', 'original-instruction': 'Which of these drinks are caffeinated: water, coffee, tea, laptop, orange juice, lemonade, pre workout.', 'original-context': '', 'original-response': 'Coffee, tea, and pre workout may have varying amounts of caffeine. Water, orange juice, and lemonade are drinks which don’t have caffeine. A laptop is not a drink at all.', 'external_id': None, '__hfsplit__': 'train', 'new-instruction.user_id': [None], 'new-instruction.value': ['Which of these drinks are caffeinated: water, coffee, tea, laptop, orange juice, lemonade, pre workout.'], 'new-instruction.status': ['submitted'], 'new-context.user_id': [None], 'new-context.value': [''], 'new-context.status': ['submitted'], 'new-response.user_id': [None], 'new-response.value': ['Coffee, tea, and pre workout may have varying amounts of caffeine. Water, orange juice, and lemonade are drinks which don’t have caffeine. A laptop is not a drink at all.'], 'new-response.status': ['submitted']}\n",
      "{'id': '12452', 'category': 'classification', 'original-instruction': 'Identify which instrument is string or woodwind: Spinet, Caval', 'original-context': '', 'original-response': 'Caval is woodwind, Spinet is string.', 'external_id': None, '__hfsplit__': 'train', 'new-instruction.user_id': [None], 'new-instruction.value': ['Identify which instrument is string or woodwind: Spinet, Caval'], 'new-instruction.status': ['submitted'], 'new-context.user_id': [None], 'new-context.value': [''], 'new-context.status': ['submitted'], 'new-response.user_id': [None], 'new-response.value': ['Caval is woodwind, Spinet is string.'], 'new-response.status': ['submitted']}\n",
      "{'id': '1301', 'category': 'classification', 'original-instruction': \"Classify each of the following dishes as either 'Indian', 'Italian', 'Latin American', 'African' or 'Neither' based on their cuisine. Biriyani, Pasta, Dosa, Risotto, Burger, Lasagne, Tajine,  Empanadas, Tacos\", 'original-context': '', 'original-response': 'Here is are the dishes classified based on their cuisine.\\nBiriyani, Dosa - Indian\\nPasta, Risotto, Lasagne - Italian\\nTajine - African\\nEmpanadas, Tacos - Latin American\\nBurger - Neither', 'external_id': None, '__hfsplit__': 'train', 'new-instruction.user_id': [None], 'new-instruction.value': [\"Classify each of the following dishes as either 'Indian', 'Italian', 'Latin American', 'African' or 'Neither' based on their cuisine. Biriyani, Pasta, Dosa, Risotto, Burger, Lasagne, Tajine,  Empanadas, Tacos\"], 'new-instruction.status': ['submitted'], 'new-context.user_id': [None], 'new-context.value': [''], 'new-context.status': ['submitted'], 'new-response.user_id': [None], 'new-response.value': ['Here is are the dishes classified based on their cuisine.\\nBiriyani, Dosa - Indian\\nPasta, Risotto, Lasagne - Italian\\nTajine - African\\nEmpanadas, Tacos - Latin American\\nBurger - Neither'], 'new-response.status': ['submitted']}\n",
      "{'id': '7345', 'category': 'classification', 'original-instruction': 'Identify which instrument is string or percussion: Singing bowl, Kibangala', 'original-context': '', 'original-response': 'Kibangala is string, Singing bowl is percussion.', 'external_id': None, '__hfsplit__': 'train', 'new-instruction.user_id': [None], 'new-instruction.value': ['Identify which instrument is string or percussion: Singing bowl, Kibangala'], 'new-instruction.status': ['submitted'], 'new-context.user_id': [None], 'new-context.value': [''], 'new-context.status': ['submitted'], 'new-response.user_id': [None], 'new-response.value': ['Kibangala is string, Singing bowl is percussion.'], 'new-response.status': ['submitted']}\n",
      "{'id': '10037', 'category': 'classification', 'original-instruction': 'I need you to divide the following into solids, liquids and gasses. Gold, oxygen, helium, water, coffee, wood, blood, sand, neon, steel, rock, carbon dioxide, copper, ice and milk.', 'original-context': '', 'original-response': 'Gold, wood, sand, steel, rock, copper, ice are solids. Water, coffee, blood and milk are liquids. Oxygen, helium, neon, carbon dioxide are gasses.', 'external_id': None, '__hfsplit__': 'train', 'new-instruction.user_id': [None], 'new-instruction.value': ['I need you to divide the following into solids, liquids and gasses. Gold, oxygen, helium, water, coffee, wood, blood, sand, neon, steel, rock, carbon dioxide, copper, ice and milk.'], 'new-instruction.status': ['submitted'], 'new-context.user_id': [None], 'new-context.value': [''], 'new-context.status': ['submitted'], 'new-response.user_id': [None], 'new-response.value': ['Gold, wood, sand, steel, rock, copper, ice are solids. Water, coffee, blood and milk are liquids. Oxygen, helium, neon, carbon dioxide are gasses.'], 'new-response.status': ['submitted']}\n",
      "Total count: 2136\n"
     ]
    }
   ],
   "source": [
    "# Simple filter.\n",
    "rows_result = ds.select_rows(\n",
    "  columns=['*'],\n",
    "  filters=[('category', 'equals', 'classification')],\n",
    "  limit=5,\n",
    ")\n",
    "for row in rows_result:\n",
    "  print(row)\n",
    "\n",
    "print('Total count:', rows_result.total_num_rows)"
   ]
  },
  {
   "cell_type": "markdown",
   "metadata": {},
   "source": [
    "# Histograms\n"
   ]
  },
  {
   "cell_type": "code",
   "execution_count": 8,
   "metadata": {},
   "outputs": [
    {
     "name": "stdout",
     "output_type": "stream",
     "text": [
      "[('open_qa', 3611),\n",
      " ('general_qa', 2191),\n",
      " ('classification', 2136),\n",
      " ('closed_qa', 1823),\n",
      " ('brainstorming', 1768),\n",
      " ('information_extraction', 1512),\n",
      " ('summarization', 1263),\n",
      " ('creative_writing', 711)]\n"
     ]
    }
   ],
   "source": [
    "from pprint import pprint\n",
    "\n",
    "# Simple histogram\n",
    "groups = ds.select_groups(\n",
    "  'category',\n",
    ")\n",
    "pprint(groups.counts)"
   ]
  },
  {
   "cell_type": "markdown",
   "metadata": {},
   "source": [
    "# Signals\n"
   ]
  },
  {
   "cell_type": "code",
   "execution_count": 9,
   "metadata": {},
   "outputs": [
    {
     "name": "stderr",
     "output_type": "stream",
     "text": [
      "/Users/nikhil/Code/lilac/.venv/lib/python3.11/site-packages/spacy/util.py:910: UserWarning: [W095] Model 'en_core_web_sm' (3.6.0) was trained with spaCy v3.6.0 and may not be 100% compatible with the current version (3.7.4). If you see errors or degraded performance, download a newer compatible model or retrain your custom model with the current spaCy version. For more details and available updates, run: python -m spacy validate\n",
      "  warnings.warn(warn_msg)\n",
      "Compute signal  TextStatisticsSignal({\"signal_name\":\"text_statistics\"}) on databricks-dolly-15k-curated-en:original-instruction: 100%|██████████| 15015/15015 [00:01<00:00, 9652.02it/s] "
     ]
    },
    {
     "name": "stdout",
     "output_type": "stream",
     "text": [
      "Wrote signal output to ./data/datasets/local/databricks-dolly-15k-curated-en/original-instruction/text_statistics\n"
     ]
    },
    {
     "name": "stderr",
     "output_type": "stream",
     "text": [
      "\n"
     ]
    }
   ],
   "source": [
    "# Compute a signal.\n",
    "ds.compute_signal(ll.TextStatisticsSignal(), 'original-instruction', overwrite=True)"
   ]
  },
  {
   "cell_type": "markdown",
   "metadata": {},
   "source": [
    "# Custom signal\n"
   ]
  },
  {
   "cell_type": "code",
   "execution_count": 12,
   "metadata": {},
   "outputs": [
    {
     "name": "stderr",
     "output_type": "stream",
     "text": [
      "Compute signal  URLHighlighter({\"signal_name\":\"url-highlighter\"}) on databricks-dolly-15k-curated-en:original-instruction: 100%|██████████| 15015/15015 [00:00<00:00, 83845.65it/s]\n"
     ]
    },
    {
     "name": "stdout",
     "output_type": "stream",
     "text": [
      "Wrote signal output to ./data/datasets/local/databricks-dolly-15k-curated-en/original-instruction/url-highlighter\n"
     ]
    }
   ],
   "source": [
    "import re\n",
    "\n",
    "url_re = re.compile(\n",
    "  r'https?:\\/\\/(www\\.)?[-a-zA-Z0-9@:%._\\+~#=]{1,256}\\.[a-zA-Z0-9()]{1,6}\\b([-a-zA-Z0-9()@:%_\\+.~#?&//=]*)'\n",
    ")\n",
    "\n",
    "\n",
    "class URLHighlighter(ll.TextSignal):\n",
    "  name = 'url-highlighter'\n",
    "\n",
    "  def compute(self, docs: list[str]):\n",
    "    for doc in docs:\n",
    "      # Get the spans\n",
    "      url_spans = url_re.finditer(doc)\n",
    "\n",
    "      spans = []\n",
    "      for url_span in url_spans:\n",
    "        spans.append(ll.span(url_span.start(), url_span.end()))\n",
    "\n",
    "      yield {'has_url': len(spans) > 0, 'urls': spans}\n",
    "\n",
    "\n",
    "ds.compute_signal(URLHighlighter(), 'original-instruction', overwrite=True)"
   ]
  },
  {
   "cell_type": "code",
   "execution_count": 13,
   "metadata": {},
   "outputs": [
    {
     "name": "stderr",
     "output_type": "stream",
     "text": [
      "Compute signal  URLHighlighter({\"signal_name\":\"url-highlighter\"}) on databricks-dolly-15k-curated-en:original-response: 100%|██████████| 15015/15015 [00:00<00:00, 78597.76it/s]\n"
     ]
    },
    {
     "name": "stdout",
     "output_type": "stream",
     "text": [
      "Wrote signal output to ./data/datasets/local/databricks-dolly-15k-curated-en/original-response/url-highlighter\n"
     ]
    }
   ],
   "source": [
    "ds.compute_signal(URLHighlighter(), 'original-response', overwrite=True)"
   ]
  },
  {
   "cell_type": "code",
   "execution_count": 4,
   "metadata": {},
   "outputs": [
    {
     "name": "stderr",
     "output_type": "stream",
     "text": [
      "Compute embedding  GTESmall({\"embed_input_type\":\"document\",\"signal_name\":\"gte-small\"}) on databricks-dolly-15k-curated-en:original-instruction:   0%|          | 0/15015 [00:00<?, ?it/s]/Users/nikhil/Code/lilac/.venv/lib/python3.11/site-packages/modal/client.py:154: DeprecationError: 🚨 Version 0.56.4964 of `modal` will be deprecated on July 06, 2024. Please upgrade to the latest version using `pip install --upgrade modal`. 🚨\n",
      "  warnings.warn(f\"{ALARM_EMOJI} {resp.warning} {ALARM_EMOJI}\", DeprecationError)\n",
      "Compute embedding  GTESmall({\"embed_input_type\":\"document\",\"signal_name\":\"gte-small\"}) on databricks-dolly-15k-curated-en:original-instruction: 100%|██████████| 15015/15015 [00:25<00:00, 600.34it/s]\n"
     ]
    },
    {
     "name": "stdout",
     "output_type": "stream",
     "text": [
      "Computing GTE on Lilac Garden took 24.816s.\n",
      "hnswlib index creation took 0.001s.\n",
      "hnswlib add items took 1.393s.\n",
      "Wrote embedding index to ./data/datasets/local/databricks-dolly-15k-curated-en/original-instruction/gte-small\n"
     ]
    }
   ],
   "source": [
    "ds.compute_embedding('gte-small', 'original-instruction', use_garden=True, overwrite=True)"
   ]
  },
  {
   "cell_type": "markdown",
   "metadata": {},
   "source": [
    "# Searches\n"
   ]
  },
  {
   "cell_type": "code",
   "execution_count": 1,
   "metadata": {},
   "outputs": [
    {
     "ename": "NameError",
     "evalue": "name 'ds' is not defined",
     "output_type": "error",
     "traceback": [
      "\u001b[0;31m---------------------------------------------------------------------------\u001b[0m",
      "\u001b[0;31mNameError\u001b[0m                                 Traceback (most recent call last)",
      "Cell \u001b[0;32mIn[1], line 1\u001b[0m\n\u001b[0;32m----> 1\u001b[0m top_rows \u001b[38;5;241m=\u001b[39m \u001b[43mds\u001b[49m\u001b[38;5;241m.\u001b[39mselect_rows(\n\u001b[1;32m      2\u001b[0m   columns\u001b[38;5;241m=\u001b[39m[ll\u001b[38;5;241m.\u001b[39mROWID, \u001b[38;5;124m'\u001b[39m\u001b[38;5;124moriginal-instruction\u001b[39m\u001b[38;5;124m'\u001b[39m],\n\u001b[1;32m      3\u001b[0m   limit\u001b[38;5;241m=\u001b[39m\u001b[38;5;241m5\u001b[39m,\n\u001b[1;32m      4\u001b[0m   searches\u001b[38;5;241m=\u001b[39m[\n\u001b[1;32m      5\u001b[0m     ll\u001b[38;5;241m.\u001b[39mConceptSearch(\n\u001b[1;32m      6\u001b[0m       path\u001b[38;5;241m=\u001b[39m\u001b[38;5;124m'\u001b[39m\u001b[38;5;124moriginal-instruction\u001b[39m\u001b[38;5;124m'\u001b[39m,\n\u001b[1;32m      7\u001b[0m       concept_namespace\u001b[38;5;241m=\u001b[39m\u001b[38;5;124m'\u001b[39m\u001b[38;5;124mlocal\u001b[39m\u001b[38;5;124m'\u001b[39m,\n\u001b[1;32m      8\u001b[0m       concept_name\u001b[38;5;241m=\u001b[39m\u001b[38;5;124m'\u001b[39m\u001b[38;5;124mpolitics-auto\u001b[39m\u001b[38;5;124m'\u001b[39m,\n\u001b[1;32m      9\u001b[0m       embedding\u001b[38;5;241m=\u001b[39m\u001b[38;5;124m'\u001b[39m\u001b[38;5;124mgte-small\u001b[39m\u001b[38;5;124m'\u001b[39m,\n\u001b[1;32m     10\u001b[0m     )\n\u001b[1;32m     11\u001b[0m   ],\n\u001b[1;32m     12\u001b[0m   combine_columns\u001b[38;5;241m=\u001b[39m\u001b[38;5;28;01mTrue\u001b[39;00m,\n\u001b[1;32m     13\u001b[0m )\n\u001b[1;32m     15\u001b[0m \u001b[38;5;28;01mfor\u001b[39;00m row \u001b[38;5;129;01min\u001b[39;00m top_rows:\n\u001b[1;32m     16\u001b[0m   pprint(row)\n",
      "\u001b[0;31mNameError\u001b[0m: name 'ds' is not defined"
     ]
    }
   ],
   "source": [
    "top_rows = ds.select_rows(\n",
    "  columns=[ll.ROWID, 'original-instruction'],\n",
    "  limit=5,\n",
    "  searches=[\n",
    "    ll.ConceptSearch(\n",
    "      path='original-instruction',\n",
    "      concept_namespace='local',\n",
    "      concept_name='politics-auto',\n",
    "      embedding='gte-small',\n",
    "    )\n",
    "  ],\n",
    "  combine_columns=True,\n",
    ")\n",
    "\n",
    "for row in top_rows:\n",
    "  pprint(row)"
   ]
  },
  {
   "cell_type": "code",
   "execution_count": null,
   "metadata": {},
   "outputs": [],
   "source": []
  }
 ],
 "metadata": {
  "kernelspec": {
   "display_name": ".venv",
   "language": "python",
   "name": "python3"
  },
  "language_info": {
   "codemirror_mode": {
    "name": "ipython",
    "version": 3
   },
   "file_extension": ".py",
   "mimetype": "text/x-python",
   "name": "python",
   "nbconvert_exporter": "python",
   "pygments_lexer": "ipython3",
   "version": "3.11.4"
  }
 },
 "nbformat": 4,
 "nbformat_minor": 2
}
