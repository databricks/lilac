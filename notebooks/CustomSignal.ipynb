{
 "cells": [
  {
   "cell_type": "markdown",
   "metadata": {},
   "source": [
    "# Register and compute a custom signal\n",
    "\n",
    "This notebook will show you how to register a custom signal, which will show up in the UI to be computed.\n"
   ]
  },
  {
   "cell_type": "code",
   "execution_count": 1,
   "metadata": {},
   "outputs": [
    {
     "name": "stderr",
     "output_type": "stream",
     "text": [
      "/Users/nikhil/Code/lilac/.venv/lib/python3.11/site-packages/tqdm/auto.py:21: TqdmWarning: IProgress not found. Please update jupyter and ipywidgets. See https://ipywidgets.readthedocs.io/en/stable/user_install.html\n",
      "  from .autonotebook import tqdm as notebook_tqdm\n"
     ]
    },
    {
     "name": "stdout",
     "output_type": "stream",
     "text": [
      "CP b\"\\x80\\x05\\x95'\\x00\\x00\\x00\\x00\\x00\\x00\\x00\\x8c\\x14lilac.router_dataset\\x94\\x8c\\nTestSignal\\x94\\x93\\x94.\"\n"
     ]
    }
   ],
   "source": [
    "# %load_ext autoreload\n",
    "# %autoreload 2\n",
    "import lilac as ll\n",
    "\n",
    "ll.set_project_dir('./data')\n",
    "\n",
    "try:\n",
    "  glue = ll.get_dataset('local', 'glue_ax_map')\n",
    "except Exception as e:\n",
    "  glue = ll.create_dataset(\n",
    "    ll.DatasetConfig(\n",
    "      namespace='local',\n",
    "      name='glue_ax_map',\n",
    "      source=ll.HuggingFaceSource(dataset_name='glue', config_name='ax', sample_size=100),\n",
    "    )\n",
    "  )\n",
    "\n",
    "# ll.start_server()"
   ]
  },
  {
   "cell_type": "code",
   "execution_count": 1,
   "metadata": {},
   "outputs": [],
   "source": [
    "class TestSignal(ll.TextSignal):\n",
    "  \"\"\"Test signal that computes the length of text, and whether it's all capitalized.\"\"\"\n",
    "\n",
    "  # The unique identifier for the signal. This must be globally unique.\n",
    "  name = 'test_signal'\n",
    "  # The display name will show up in the UI.\n",
    "  display_name = 'text_len_and_capital'\n",
    "\n",
    "  # Set the input type of the signal to text.\n",
    "  input_type = ll.SignalInputType.TEXT\n",
    "\n",
    "  def fields(self):\n",
    "    return ll.field(\n",
    "      fields={\n",
    "        'len': 'int32',\n",
    "        # See lilac.DataType for details on datatypes.\n",
    "        'is_all_capital': 'boolean',\n",
    "      }\n",
    "    )\n",
    "\n",
    "  def compute(self, data):\n",
    "    for text in data:\n",
    "      yield {\n",
    "        'len': len(text),\n",
    "        # Determine whether all the letters are capitalized.\n",
    "        'is_all_capital': text.upper() == text,\n",
    "      }"
   ]
  },
  {
   "cell_type": "code",
   "execution_count": null,
   "metadata": {},
   "outputs": [],
   "source": [
    "ll.register_signal(TestSignal)\n",
    "# ll.start_server()"
   ]
  },
  {
   "cell_type": "code",
   "execution_count": 3,
   "metadata": {},
   "outputs": [
    {
     "name": "stdout",
     "output_type": "stream",
     "text": [
      "2.5.2\n",
      "2.2.1\n"
     ]
    },
    {
     "ename": "TypeError",
     "evalue": "no default __reduce__ due to non-trivial __cinit__",
     "output_type": "error",
     "traceback": [
      "\u001b[0;31m---------------------------------------------------------------------------\u001b[0m",
      "\u001b[0;31mTypeError\u001b[0m                                 Traceback (most recent call last)",
      "\u001b[1;32m/Users/nikhil/Code/lilac/notebooks/CustomSignal.ipynb Cell 5\u001b[0m line \u001b[0;36m5\n\u001b[1;32m      <a href='vscode-notebook-cell:/Users/nikhil/Code/lilac/notebooks/CustomSignal.ipynb#W4sZmlsZQ%3D%3D?line=2'>3</a>\u001b[0m \u001b[39mprint\u001b[39m(pydantic\u001b[39m.\u001b[39m__version__)\n\u001b[1;32m      <a href='vscode-notebook-cell:/Users/nikhil/Code/lilac/notebooks/CustomSignal.ipynb#W4sZmlsZQ%3D%3D?line=3'>4</a>\u001b[0m \u001b[39mprint\u001b[39m(cloudpickle\u001b[39m.\u001b[39m__version__)\n\u001b[0;32m----> <a href='vscode-notebook-cell:/Users/nikhil/Code/lilac/notebooks/CustomSignal.ipynb#W4sZmlsZQ%3D%3D?line=4'>5</a>\u001b[0m cloudpickle\u001b[39m.\u001b[39;49mdumps(TestSignal)\n",
      "File \u001b[0;32m~/Code/lilac/.venv/lib/python3.11/site-packages/cloudpickle/cloudpickle_fast.py:73\u001b[0m, in \u001b[0;36mdumps\u001b[0;34m(obj, protocol, buffer_callback)\u001b[0m\n\u001b[1;32m     69\u001b[0m \u001b[39mwith\u001b[39;00m io\u001b[39m.\u001b[39mBytesIO() \u001b[39mas\u001b[39;00m file:\n\u001b[1;32m     70\u001b[0m     cp \u001b[39m=\u001b[39m CloudPickler(\n\u001b[1;32m     71\u001b[0m         file, protocol\u001b[39m=\u001b[39mprotocol, buffer_callback\u001b[39m=\u001b[39mbuffer_callback\n\u001b[1;32m     72\u001b[0m     )\n\u001b[0;32m---> 73\u001b[0m     cp\u001b[39m.\u001b[39;49mdump(obj)\n\u001b[1;32m     74\u001b[0m     \u001b[39mreturn\u001b[39;00m file\u001b[39m.\u001b[39mgetvalue()\n",
      "File \u001b[0;32m~/Code/lilac/.venv/lib/python3.11/site-packages/cloudpickle/cloudpickle_fast.py:632\u001b[0m, in \u001b[0;36mCloudPickler.dump\u001b[0;34m(self, obj)\u001b[0m\n\u001b[1;32m    630\u001b[0m \u001b[39mdef\u001b[39;00m \u001b[39mdump\u001b[39m(\u001b[39mself\u001b[39m, obj):\n\u001b[1;32m    631\u001b[0m     \u001b[39mtry\u001b[39;00m:\n\u001b[0;32m--> 632\u001b[0m         \u001b[39mreturn\u001b[39;00m Pickler\u001b[39m.\u001b[39;49mdump(\u001b[39mself\u001b[39;49m, obj)\n\u001b[1;32m    633\u001b[0m     \u001b[39mexcept\u001b[39;00m \u001b[39mRuntimeError\u001b[39;00m \u001b[39mas\u001b[39;00m e:\n\u001b[1;32m    634\u001b[0m         \u001b[39mif\u001b[39;00m \u001b[39m\"\u001b[39m\u001b[39mrecursion\u001b[39m\u001b[39m\"\u001b[39m \u001b[39min\u001b[39;00m e\u001b[39m.\u001b[39margs[\u001b[39m0\u001b[39m]:\n",
      "File \u001b[0;32mstringsource:2\u001b[0m, in \u001b[0;36mzmq.backend.cython.socket.Socket.__reduce_cython__\u001b[0;34m()\u001b[0m\n",
      "\u001b[0;31mTypeError\u001b[0m: no default __reduce__ due to non-trivial __cinit__"
     ]
    }
   ],
   "source": [
    "import cloudpickle\n",
    "import pydantic\n",
    "\n",
    "print(pydantic.__version__)\n",
    "print(cloudpickle.__version__)\n",
    "cloudpickle.dumps(TestSignal)"
   ]
  },
  {
   "cell_type": "code",
   "execution_count": 6,
   "metadata": {},
   "outputs": [
    {
     "name": "stdout",
     "output_type": "stream",
     "text": [
      "3.11.4\n"
     ]
    }
   ],
   "source": [
    "from platform import python_version\n",
    "\n",
    "print(python_version())"
   ]
  },
  {
   "cell_type": "code",
   "execution_count": null,
   "metadata": {},
   "outputs": [],
   "source": []
  }
 ],
 "metadata": {
  "kernelspec": {
   "display_name": ".venv",
   "language": "python",
   "name": "python3"
  },
  "language_info": {
   "codemirror_mode": {
    "name": "ipython",
    "version": 3
   },
   "file_extension": ".py",
   "mimetype": "text/x-python",
   "name": "python",
   "nbconvert_exporter": "python",
   "pygments_lexer": "ipython3",
   "version": "3.11.4"
  }
 },
 "nbformat": 4,
 "nbformat_minor": 2
}
