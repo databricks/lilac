{
 "cells": [
  {
   "cell_type": "code",
   "execution_count": 10,
   "metadata": {},
   "outputs": [
    {
     "name": "stderr",
     "output_type": "stream",
     "text": [
      "Reading from source dict...: 100%|██████████| 3/3 [00:00<00:00, 2235.37it/s]\n"
     ]
    },
    {
     "name": "stdout",
     "output_type": "stream",
     "text": [
      "Dataset \"questions\" written to ./data/datasets/local/questions\n",
      "Scheduling task \"f67b435a3e01485e8489f8554357e3d7\": \"[local/questions][1 shards] map \"add_prefix\" to \"question_prefixed\"\".\n",
      "Wrote map output to ./data/datasets/local/questions/question_prefixed-00000-of-00001.parquet\n"
     ]
    },
    {
     "name": "stderr",
     "output_type": "stream",
     "text": [
      "[Shard 0/1] map \"add_prefix\" to \"('question_prefixed',)\": 6it [00:00, 478.71it/s]              \n"
     ]
    },
    {
     "data": {
      "text/html": [
       "<div>\n",
       "<style scoped>\n",
       "    .dataframe tbody tr th:only-of-type {\n",
       "        vertical-align: middle;\n",
       "    }\n",
       "\n",
       "    .dataframe tbody tr th {\n",
       "        vertical-align: top;\n",
       "    }\n",
       "\n",
       "    .dataframe thead th {\n",
       "        text-align: right;\n",
       "    }\n",
       "</style>\n",
       "<table border=\"1\" class=\"dataframe\">\n",
       "  <thead>\n",
       "    <tr style=\"text-align: right;\">\n",
       "      <th></th>\n",
       "      <th>question</th>\n",
       "      <th>question_prefixed</th>\n",
       "    </tr>\n",
       "  </thead>\n",
       "  <tbody>\n",
       "    <tr>\n",
       "      <th>0</th>\n",
       "      <td>A</td>\n",
       "      <td>Q: A</td>\n",
       "    </tr>\n",
       "    <tr>\n",
       "      <th>1</th>\n",
       "      <td>B</td>\n",
       "      <td>Q: B</td>\n",
       "    </tr>\n",
       "    <tr>\n",
       "      <th>2</th>\n",
       "      <td>C</td>\n",
       "      <td>Q: C</td>\n",
       "    </tr>\n",
       "  </tbody>\n",
       "</table>\n",
       "</div>"
      ],
      "text/plain": [
       "  question question_prefixed\n",
       "0        A              Q: A\n",
       "1        B              Q: B\n",
       "2        C              Q: C"
      ]
     },
     "execution_count": 10,
     "metadata": {},
     "output_type": "execute_result"
    },
    {
     "name": "stdout",
     "output_type": "stream",
     "text": [
      "Task finished \"f67b435a3e01485e8489f8554357e3d7\": \"[local/questions][1 shards] map \"add_prefix\" to \"question_prefixed\"\" in 5s.\n"
     ]
    }
   ],
   "source": [
    "import lilac as ll\n",
    "\n",
    "items = [{'question': 'A'}, {'question': 'B'}, {'question': 'C'}]\n",
    "dataset = ll.from_dicts('local', 'questions', items)\n",
    "\n",
    "\n",
    "def add_prefix(item):\n",
    "  return 'Q: ' + item['question']\n",
    "\n",
    "\n",
    "dataset.map(add_prefix, output_column='question_prefixed')\n",
    "dataset.to_pandas()\n"
   ]
  },
  {
   "cell_type": "code",
   "execution_count": 11,
   "metadata": {},
   "outputs": [
    {
     "name": "stdout",
     "output_type": "stream",
     "text": [
      "Scheduling task \"48f71686ebbf4fb8a840fa780bc1f6ea\": \"[local/questions][1 shards] map \"add_prefix\" to \"question_prefixed2\"\".\n",
      "Wrote map output to ./data/datasets/local/questions/question_prefixed2-00000-of-00001.parquet\n"
     ]
    },
    {
     "name": "stderr",
     "output_type": "stream",
     "text": [
      "[Shard 0/1] map \"add_prefix\" to \"('question_prefixed2',)\": 100%|██████████| 3/3 [00:00<00:00, 461.89it/s]\n"
     ]
    },
    {
     "data": {
      "text/html": [
       "<div>\n",
       "<style scoped>\n",
       "    .dataframe tbody tr th:only-of-type {\n",
       "        vertical-align: middle;\n",
       "    }\n",
       "\n",
       "    .dataframe tbody tr th {\n",
       "        vertical-align: top;\n",
       "    }\n",
       "\n",
       "    .dataframe thead th {\n",
       "        text-align: right;\n",
       "    }\n",
       "</style>\n",
       "<table border=\"1\" class=\"dataframe\">\n",
       "  <thead>\n",
       "    <tr style=\"text-align: right;\">\n",
       "      <th></th>\n",
       "      <th>question</th>\n",
       "      <th>question_prefixed</th>\n",
       "      <th>question_prefixed2</th>\n",
       "    </tr>\n",
       "  </thead>\n",
       "  <tbody>\n",
       "    <tr>\n",
       "      <th>0</th>\n",
       "      <td>A</td>\n",
       "      <td>Q: A</td>\n",
       "      <td>Q: A</td>\n",
       "    </tr>\n",
       "    <tr>\n",
       "      <th>1</th>\n",
       "      <td>B</td>\n",
       "      <td>Q: B</td>\n",
       "      <td>Q: B</td>\n",
       "    </tr>\n",
       "    <tr>\n",
       "      <th>2</th>\n",
       "      <td>C</td>\n",
       "      <td>Q: C</td>\n",
       "      <td>Q: C</td>\n",
       "    </tr>\n",
       "  </tbody>\n",
       "</table>\n",
       "</div>"
      ],
      "text/plain": [
       "  question question_prefixed question_prefixed2\n",
       "0        A              Q: A               Q: A\n",
       "1        B              Q: B               Q: B\n",
       "2        C              Q: C               Q: C"
      ]
     },
     "execution_count": 11,
     "metadata": {},
     "output_type": "execute_result"
    },
    {
     "name": "stdout",
     "output_type": "stream",
     "text": [
      "Task finished \"48f71686ebbf4fb8a840fa780bc1f6ea\": \"[local/questions][1 shards] map \"add_prefix\" to \"question_prefixed2\"\" in 5s.\n"
     ]
    }
   ],
   "source": [
    "def add_prefix(question):\n",
    "  return 'Q: ' + question\n",
    "\n",
    "\n",
    "dataset.map(add_prefix, input_path='question', output_column='question_prefixed2')\n",
    "dataset.to_pandas()\n"
   ]
  },
  {
   "cell_type": "code",
   "execution_count": 3,
   "metadata": {},
   "outputs": [
    {
     "name": "stderr",
     "output_type": "stream",
     "text": [
      "Reading from source dict...: 100%|██████████| 3/3 [00:00<00:00, 1989.39it/s]"
     ]
    },
    {
     "name": "stdout",
     "output_type": "stream",
     "text": [
      "Dataset \"tutorial\" written to ./data/datasets/local/tutorial\n"
     ]
    },
    {
     "name": "stderr",
     "output_type": "stream",
     "text": [
      "\n"
     ]
    },
    {
     "data": {
      "text/html": [
       "<div>\n",
       "<style scoped>\n",
       "    .dataframe tbody tr th:only-of-type {\n",
       "        vertical-align: middle;\n",
       "    }\n",
       "\n",
       "    .dataframe tbody tr th {\n",
       "        vertical-align: top;\n",
       "    }\n",
       "\n",
       "    .dataframe thead th {\n",
       "        text-align: right;\n",
       "    }\n",
       "</style>\n",
       "<table border=\"1\" class=\"dataframe\">\n",
       "  <thead>\n",
       "    <tr style=\"text-align: right;\">\n",
       "      <th></th>\n",
       "      <th>questions</th>\n",
       "    </tr>\n",
       "  </thead>\n",
       "  <tbody>\n",
       "    <tr>\n",
       "      <th>0</th>\n",
       "      <td>[A, B]</td>\n",
       "    </tr>\n",
       "    <tr>\n",
       "      <th>1</th>\n",
       "      <td>[C]</td>\n",
       "    </tr>\n",
       "    <tr>\n",
       "      <th>2</th>\n",
       "      <td>[D, E]</td>\n",
       "    </tr>\n",
       "  </tbody>\n",
       "</table>\n",
       "</div>"
      ],
      "text/plain": [
       "  questions\n",
       "0    [A, B]\n",
       "1       [C]\n",
       "2    [D, E]"
      ]
     },
     "execution_count": 3,
     "metadata": {},
     "output_type": "execute_result"
    }
   ],
   "source": [
    "import lilac as ll\n",
    "\n",
    "items = [\n",
    "  {'questions': ['A', 'B']},\n",
    "  {'questions': ['C']},\n",
    "  {'questions': ['D', 'E']},\n",
    "]\n",
    "dataset = ll.from_dicts('local', 'tutorial', items, overwrite=True)\n",
    "dataset.to_pandas()\n"
   ]
  },
  {
   "cell_type": "code",
   "execution_count": 4,
   "metadata": {},
   "outputs": [
    {
     "name": "stdout",
     "output_type": "stream",
     "text": [
      "Scheduling task \"9133bf63e9e84c5aa3f1a273d7981659\": \"[local/tutorial][1 shards] map \"add_prefix\" to \"questions_with_prefix\"\".\n"
     ]
    },
    {
     "name": "stderr",
     "output_type": "stream",
     "text": [
      "/Users/dsmilkov/code/lilac/.venv/lib/python3.11/site-packages/distributed/node.py:182: UserWarning: Port 8787 is already in use.\n",
      "Perhaps you already have a cluster running?\n",
      "Hosting the HTTP server on port 58022 instead\n",
      "  warnings.warn(\n"
     ]
    },
    {
     "name": "stdout",
     "output_type": "stream",
     "text": [
      "Wrote map output to ./data/datasets/local/tutorial/questions_with_prefix-00000-of-00001.parquet\n"
     ]
    },
    {
     "name": "stderr",
     "output_type": "stream",
     "text": [
      "[Shard 0/1] map \"add_prefix\" to \"('questions_with_prefix',)\": 100%|██████████| 3/3 [00:00<00:00, 638.82it/s]\n"
     ]
    },
    {
     "data": {
      "text/html": [
       "<div>\n",
       "<style scoped>\n",
       "    .dataframe tbody tr th:only-of-type {\n",
       "        vertical-align: middle;\n",
       "    }\n",
       "\n",
       "    .dataframe tbody tr th {\n",
       "        vertical-align: top;\n",
       "    }\n",
       "\n",
       "    .dataframe thead th {\n",
       "        text-align: right;\n",
       "    }\n",
       "</style>\n",
       "<table border=\"1\" class=\"dataframe\">\n",
       "  <thead>\n",
       "    <tr style=\"text-align: right;\">\n",
       "      <th></th>\n",
       "      <th>questions</th>\n",
       "      <th>questions_with_prefix</th>\n",
       "    </tr>\n",
       "  </thead>\n",
       "  <tbody>\n",
       "    <tr>\n",
       "      <th>0</th>\n",
       "      <td>[A, B]</td>\n",
       "      <td>[Q: A, Q: B]</td>\n",
       "    </tr>\n",
       "    <tr>\n",
       "      <th>1</th>\n",
       "      <td>[C]</td>\n",
       "      <td>[Q: C]</td>\n",
       "    </tr>\n",
       "    <tr>\n",
       "      <th>2</th>\n",
       "      <td>[D, E]</td>\n",
       "      <td>[Q: D, Q: E]</td>\n",
       "    </tr>\n",
       "  </tbody>\n",
       "</table>\n",
       "</div>"
      ],
      "text/plain": [
       "  questions questions_with_prefix\n",
       "0    [A, B]          [Q: A, Q: B]\n",
       "1       [C]                [Q: C]\n",
       "2    [D, E]          [Q: D, Q: E]"
      ]
     },
     "execution_count": 4,
     "metadata": {},
     "output_type": "execute_result"
    },
    {
     "name": "stdout",
     "output_type": "stream",
     "text": [
      "Task finished \"9133bf63e9e84c5aa3f1a273d7981659\": \"[local/tutorial][1 shards] map \"add_prefix\" to \"questions_with_prefix\"\" in 7s.\n"
     ]
    }
   ],
   "source": [
    "import lilac as ll\n",
    "\n",
    "ll.set_project_dir('./data')\n",
    "\n",
    "\n",
    "def add_prefix(question):\n",
    "  return 'Q: ' + question\n",
    "\n",
    "\n",
    "dataset = ll.get_dataset('local', 'tutorial')\n",
    "dataset.map(\n",
    "  add_prefix, input_path=('questions', '*'), output_column='questions_with_prefix', overwrite=True\n",
    ")\n",
    "dataset.to_pandas()\n"
   ]
  },
  {
   "cell_type": "code",
   "execution_count": 10,
   "metadata": {},
   "outputs": [
    {
     "name": "stderr",
     "output_type": "stream",
     "text": [
      "Reading from source dict...: 100%|██████████| 2/2 [00:00<00:00, 1251.66it/s]"
     ]
    },
    {
     "name": "stderr",
     "output_type": "stream",
     "text": [
      "\n"
     ]
    },
    {
     "name": "stdout",
     "output_type": "stream",
     "text": [
      "Dataset \"tutorial3\" written to ./datasets/local/tutorial3\n",
      "Scheduling task \"22c95a8997ef490d8a28e56f9933cf94\": \"[local/tutorial3][1 shards] map \"extract_company_with_coordinates\" to \"company\"\".\n",
      "Wrote map output to ./datasets/local/tutorial3/company-00000-of-00001.parquet\n"
     ]
    },
    {
     "name": "stderr",
     "output_type": "stream",
     "text": [
      "[Shard 0/1] map \"extract_company_with_coordinates\" to \"('company',)\": 100%|██████████| 2/2 [00:00<00:00, 849.65it/s]\n"
     ]
    },
    {
     "data": {
      "text/plain": [
       "<lilac.data.dataset_duckdb.DuckDBMapOutput at 0x2cf6fbb10>"
      ]
     },
     "execution_count": 10,
     "metadata": {},
     "output_type": "execute_result"
    }
   ],
   "source": [
    "import lilac as ll\n",
    "\n",
    "ll.set_project_dir('./data')\n",
    "\n",
    "items = [\n",
    "  {\n",
    "    'text': 'Apple Inc. is an American multinational technology company headquartered in Cupertino, California, (Company: Apple Inc.) that designs, develops, and sells consumer electronics, computer software, and online services.'\n",
    "  },\n",
    "  {\n",
    "    'text': 'Google LLC is an American multinational technology company (Company: Google LLC) that specializes in Internet-related services and products, which include online advertising technologies, a search engine, cloud computing, software, and hardware.'\n",
    "  },\n",
    "]\n",
    "config = ll.DatasetConfig(\n",
    "  namespace='local',\n",
    "  name='tutorial3',\n",
    "  source=ll.DictSource(items),\n",
    ")\n",
    "dataset = ll.create_dataset(config, overwrite=True)\n",
    "dataset.to_pandas()\n",
    "\n",
    "\n",
    "def extract_company_with_coordinates(text):\n",
    "  import re\n",
    "\n",
    "  pattern = r'\\(Company: ([^\\)]+)\\)'\n",
    "  matches = re.finditer(pattern, text)\n",
    "  return [ll.span(m.start(), m.end(), {'Company': m.group(1)}) for m in matches]\n",
    "\n",
    "\n",
    "dataset.map(\n",
    "  extract_company_with_coordinates, input_path='text', output_column='company', overwrite=True\n",
    ")\n"
   ]
  },
  {
   "cell_type": "code",
   "execution_count": 21,
   "metadata": {},
   "outputs": [
    {
     "name": "stdout",
     "output_type": "stream",
     "text": [
      "Index(['text', 'company.*', 'company.*.Company'], dtype='object')\n"
     ]
    }
   ],
   "source": [
    "df = dataset.to_pandas()\n",
    "print(df.columns)\n"
   ]
  },
  {
   "cell_type": "code",
   "execution_count": 18,
   "metadata": {},
   "outputs": [
    {
     "data": {
      "text/plain": [
       "0    [Apple Inc.]\n",
       "Name: company.*.Company, dtype: object"
      ]
     },
     "execution_count": 18,
     "metadata": {},
     "output_type": "execute_result"
    }
   ],
   "source": [
    "df[:1]['company.*.Company']\n"
   ]
  },
  {
   "cell_type": "code",
   "execution_count": null,
   "metadata": {},
   "outputs": [
    {
     "name": "stderr",
     "output_type": "stream",
     "text": [
      "INFO:     Started server process [65094]\n",
      "INFO:     Waiting for application startup.\n",
      "INFO:     Application startup complete.\n",
      "INFO:     Uvicorn running on http://127.0.0.1:5432 (Press CTRL+C to quit)\n"
     ]
    }
   ],
   "source": [
    "ll.start_server()\n"
   ]
  },
  {
   "cell_type": "code",
   "execution_count": null,
   "metadata": {},
   "outputs": [
    {
     "name": "stderr",
     "output_type": "stream",
     "text": [
      "INFO:     Started server process [65547]\n",
      "INFO:     Waiting for application startup.\n",
      "INFO:     Application startup complete.\n",
      "INFO:     Uvicorn running on http://127.0.0.1:5432 (Press CTRL+C to quit)\n"
     ]
    }
   ],
   "source": [
    "ll.start_server()\n"
   ]
  },
  {
   "cell_type": "code",
   "execution_count": 2,
   "metadata": {},
   "outputs": [
    {
     "name": "stderr",
     "output_type": "stream",
     "text": [
      "/Users/dsmilkov/code/lilac/.venv/lib/python3.11/site-packages/tqdm/auto.py:21: TqdmWarning: IProgress not found. Please update jupyter and ipywidgets. See https://ipywidgets.readthedocs.io/en/stable/user_install.html\n",
      "  from .autonotebook import tqdm as notebook_tqdm\n"
     ]
    },
    {
     "name": "stdout",
     "output_type": "stream",
     "text": [
      "Dataset \"companies\" written to ./data/datasets/local/companies\n"
     ]
    },
    {
     "data": {
      "text/html": [
       "<div>\n",
       "<style scoped>\n",
       "    .dataframe tbody tr th:only-of-type {\n",
       "        vertical-align: middle;\n",
       "    }\n",
       "\n",
       "    .dataframe tbody tr th {\n",
       "        vertical-align: top;\n",
       "    }\n",
       "\n",
       "    .dataframe thead th {\n",
       "        text-align: right;\n",
       "    }\n",
       "</style>\n",
       "<table border=\"1\" class=\"dataframe\">\n",
       "  <thead>\n",
       "    <tr style=\"text-align: right;\">\n",
       "      <th></th>\n",
       "      <th>statement</th>\n",
       "      <th>label</th>\n",
       "      <th>__hfsplit__</th>\n",
       "      <th>__rowid__</th>\n",
       "      <th>overview.sbert.*</th>\n",
       "      <th>overview.openai.*</th>\n",
       "      <th>overview.sbert.*.embedding</th>\n",
       "      <th>overview.openai.*.embedding</th>\n",
       "    </tr>\n",
       "  </thead>\n",
       "  <tbody>\n",
       "    <tr>\n",
       "      <th>0</th>\n",
       "      <td>Shell operates in the industry of oil &amp; gas op...</td>\n",
       "      <td>true</td>\n",
       "      <td>train</td>\n",
       "      <td>a151a69e-3efe-4fa8-a0a9-302f8c9a9fe0</td>\n",
       "      <td>None</td>\n",
       "      <td>None</td>\n",
       "      <td>None</td>\n",
       "      <td>None</td>\n",
       "    </tr>\n",
       "    <tr>\n",
       "      <th>1</th>\n",
       "      <td>Nestle operates in the industry of Banking.</td>\n",
       "      <td>false</td>\n",
       "      <td>train</td>\n",
       "      <td>cd9f8dd0-3ff0-4d45-a8ff-39bcd6a87e9d</td>\n",
       "      <td>None</td>\n",
       "      <td>None</td>\n",
       "      <td>None</td>\n",
       "      <td>None</td>\n",
       "    </tr>\n",
       "    <tr>\n",
       "      <th>2</th>\n",
       "      <td>Itau Unibanco Holding operates in the industry...</td>\n",
       "      <td>true</td>\n",
       "      <td>train</td>\n",
       "      <td>602ceff5-1973-44fd-911c-fc83a1096948</td>\n",
       "      <td>None</td>\n",
       "      <td>None</td>\n",
       "      <td>None</td>\n",
       "      <td>None</td>\n",
       "    </tr>\n",
       "    <tr>\n",
       "      <th>3</th>\n",
       "      <td>Raytheon Technologies operates in the industry...</td>\n",
       "      <td>true</td>\n",
       "      <td>train</td>\n",
       "      <td>7990194a-6e50-45b5-97e6-bc2793b95ede</td>\n",
       "      <td>None</td>\n",
       "      <td>None</td>\n",
       "      <td>None</td>\n",
       "      <td>None</td>\n",
       "    </tr>\n",
       "    <tr>\n",
       "      <th>4</th>\n",
       "      <td>Manulife operates in the industry of insurance.</td>\n",
       "      <td>true</td>\n",
       "      <td>train</td>\n",
       "      <td>8de5f7d2-9d63-42cd-bb64-19f911357166</td>\n",
       "      <td>None</td>\n",
       "      <td>None</td>\n",
       "      <td>None</td>\n",
       "      <td>None</td>\n",
       "    </tr>\n",
       "    <tr>\n",
       "      <th>...</th>\n",
       "      <td>...</td>\n",
       "      <td>...</td>\n",
       "      <td>...</td>\n",
       "      <td>...</td>\n",
       "      <td>...</td>\n",
       "      <td>...</td>\n",
       "      <td>...</td>\n",
       "      <td>...</td>\n",
       "    </tr>\n",
       "    <tr>\n",
       "      <th>1195</th>\n",
       "      <td>Alphabet has headquarters in South Korea.</td>\n",
       "      <td>false</td>\n",
       "      <td>test</td>\n",
       "      <td>aee1baa1-79d5-49cc-8a7a-45199421872a</td>\n",
       "      <td>None</td>\n",
       "      <td>None</td>\n",
       "      <td>None</td>\n",
       "      <td>None</td>\n",
       "    </tr>\n",
       "    <tr>\n",
       "      <th>1196</th>\n",
       "      <td>Iberdrola is a holding company, which engages ...</td>\n",
       "      <td>false</td>\n",
       "      <td>test</td>\n",
       "      <td>0e31deea-2000-46ce-9579-50991f953257</td>\n",
       "      <td>None</td>\n",
       "      <td>None</td>\n",
       "      <td>None</td>\n",
       "      <td>None</td>\n",
       "    </tr>\n",
       "    <tr>\n",
       "      <th>1197</th>\n",
       "      <td>Dow has headquarters in Italy.</td>\n",
       "      <td>false</td>\n",
       "      <td>test</td>\n",
       "      <td>b72e5655-7933-4282-b743-4e405defc58f</td>\n",
       "      <td>None</td>\n",
       "      <td>None</td>\n",
       "      <td>None</td>\n",
       "      <td>None</td>\n",
       "    </tr>\n",
       "    <tr>\n",
       "      <th>1198</th>\n",
       "      <td>Merck &amp; Co. engages in the provision of health...</td>\n",
       "      <td>true</td>\n",
       "      <td>test</td>\n",
       "      <td>6b39b493-1857-47df-9485-55b21cb9bd1c</td>\n",
       "      <td>None</td>\n",
       "      <td>None</td>\n",
       "      <td>None</td>\n",
       "      <td>None</td>\n",
       "    </tr>\n",
       "    <tr>\n",
       "      <th>1199</th>\n",
       "      <td>AT&amp;T has headquarters in United States.</td>\n",
       "      <td>true</td>\n",
       "      <td>test</td>\n",
       "      <td>2b043ab0-8e3a-4587-9c9b-4c027b5fa36f</td>\n",
       "      <td>None</td>\n",
       "      <td>None</td>\n",
       "      <td>None</td>\n",
       "      <td>None</td>\n",
       "    </tr>\n",
       "  </tbody>\n",
       "</table>\n",
       "<p>1200 rows × 8 columns</p>\n",
       "</div>"
      ],
      "text/plain": [
       "                                              statement  label __hfsplit__  \\\n",
       "0     Shell operates in the industry of oil & gas op...   true       train   \n",
       "1           Nestle operates in the industry of Banking.  false       train   \n",
       "2     Itau Unibanco Holding operates in the industry...   true       train   \n",
       "3     Raytheon Technologies operates in the industry...   true       train   \n",
       "4       Manulife operates in the industry of insurance.   true       train   \n",
       "...                                                 ...    ...         ...   \n",
       "1195          Alphabet has headquarters in South Korea.  false        test   \n",
       "1196  Iberdrola is a holding company, which engages ...  false        test   \n",
       "1197                     Dow has headquarters in Italy.  false        test   \n",
       "1198  Merck & Co. engages in the provision of health...   true        test   \n",
       "1199            AT&T has headquarters in United States.   true        test   \n",
       "\n",
       "                                 __rowid__ overview.sbert.* overview.openai.*  \\\n",
       "0     a151a69e-3efe-4fa8-a0a9-302f8c9a9fe0             None              None   \n",
       "1     cd9f8dd0-3ff0-4d45-a8ff-39bcd6a87e9d             None              None   \n",
       "2     602ceff5-1973-44fd-911c-fc83a1096948             None              None   \n",
       "3     7990194a-6e50-45b5-97e6-bc2793b95ede             None              None   \n",
       "4     8de5f7d2-9d63-42cd-bb64-19f911357166             None              None   \n",
       "...                                    ...              ...               ...   \n",
       "1195  aee1baa1-79d5-49cc-8a7a-45199421872a             None              None   \n",
       "1196  0e31deea-2000-46ce-9579-50991f953257             None              None   \n",
       "1197  b72e5655-7933-4282-b743-4e405defc58f             None              None   \n",
       "1198  6b39b493-1857-47df-9485-55b21cb9bd1c             None              None   \n",
       "1199  2b043ab0-8e3a-4587-9c9b-4c027b5fa36f             None              None   \n",
       "\n",
       "     overview.sbert.*.embedding overview.openai.*.embedding  \n",
       "0                          None                        None  \n",
       "1                          None                        None  \n",
       "2                          None                        None  \n",
       "3                          None                        None  \n",
       "4                          None                        None  \n",
       "...                         ...                         ...  \n",
       "1195                       None                        None  \n",
       "1196                       None                        None  \n",
       "1197                       None                        None  \n",
       "1198                       None                        None  \n",
       "1199                       None                        None  \n",
       "\n",
       "[1200 rows x 8 columns]"
      ]
     },
     "execution_count": 2,
     "metadata": {},
     "output_type": "execute_result"
    }
   ],
   "source": [
    "import lilac as ll\n",
    "\n",
    "config = ll.DatasetConfig(\n",
    "  namespace='local',\n",
    "  name='companies',\n",
    "  source=ll.HuggingFaceSource(dataset_name='atmallen/companies_azaria_mitchell'),\n",
    ")\n",
    "dataset = ll.create_dataset(config, overwrite=True)\n",
    "dataset.to_pandas()\n"
   ]
  },
  {
   "cell_type": "code",
   "execution_count": null,
   "metadata": {},
   "outputs": [
    {
     "name": "stderr",
     "output_type": "stream",
     "text": [
      "INFO:     Started server process [69441]\n",
      "INFO:     Waiting for application startup.\n",
      "INFO:     Application startup complete.\n",
      "INFO:     Uvicorn running on http://127.0.0.1:5432 (Press CTRL+C to quit)\n",
      "[Shard 0/1] map \"extract_company\" to \"('company',)\":  53%|█████▎    | 636/1200 [18:29<06:22,  1.47it/s]/var/folders/zn/brkm752x5673zb89tjjqzzs00000gn/T/ipykernel_69441/3762146513.py:33: PydanticDeprecatedSince20: The `dict` method is deprecated; use `model_dump` instead. Deprecated in Pydantic V2.0 to be removed in V3.0. See Pydantic V2 Migration Guide at https://errors.pydantic.dev/2.5/migration/\n",
      "[Shard 0/1] map \"extract_company\" to \"('company',)\":  67%|██████▋   | 803/1200 [20:44<06:13,  1.06it/s]/it]"
     ]
    }
   ],
   "source": [
    "ll.start_server()\n"
   ]
  },
  {
   "cell_type": "code",
   "execution_count": 1,
   "metadata": {},
   "outputs": [
    {
     "name": "stderr",
     "output_type": "stream",
     "text": [
      "/Users/dsmilkov/code/lilac/.venv/lib/python3.11/site-packages/tqdm/auto.py:21: TqdmWarning: IProgress not found. Please update jupyter and ipywidgets. See https://ipywidgets.readthedocs.io/en/stable/user_install.html\n",
      "  from .autonotebook import tqdm as notebook_tqdm\n"
     ]
    },
    {
     "ename": "ValueError",
     "evalue": "Cannot map to path \"company\" which already exists in the dataset. Use overwrite=True to overwrite the column.",
     "output_type": "error",
     "traceback": [
      "\u001b[0;31m---------------------------------------------------------------------------\u001b[0m",
      "\u001b[0;31mValueError\u001b[0m                                Traceback (most recent call last)",
      "\u001b[1;32m/Users/dsmilkov/code/lilac/notebooks/Map.ipynb Cell 10\u001b[0m line \u001b[0;36m2\n\u001b[1;32m     <a href='vscode-notebook-cell:/Users/dsmilkov/code/lilac/notebooks/Map.ipynb#X12sZmlsZQ%3D%3D?line=16'>17</a>\u001b[0m   company \u001b[39m=\u001b[39m client\u001b[39m.\u001b[39mchat\u001b[39m.\u001b[39mcompletions\u001b[39m.\u001b[39mcreate(\n\u001b[1;32m     <a href='vscode-notebook-cell:/Users/dsmilkov/code/lilac/notebooks/Map.ipynb#X12sZmlsZQ%3D%3D?line=17'>18</a>\u001b[0m     model\u001b[39m=\u001b[39m\u001b[39m'\u001b[39m\u001b[39mgpt-3.5-turbo\u001b[39m\u001b[39m'\u001b[39m,\n\u001b[1;32m     <a href='vscode-notebook-cell:/Users/dsmilkov/code/lilac/notebooks/Map.ipynb#X12sZmlsZQ%3D%3D?line=18'>19</a>\u001b[0m     response_model\u001b[39m=\u001b[39mCompanyDetail,\n\u001b[0;32m   (...)\u001b[0m\n\u001b[1;32m     <a href='vscode-notebook-cell:/Users/dsmilkov/code/lilac/notebooks/Map.ipynb#X12sZmlsZQ%3D%3D?line=21'>22</a>\u001b[0m     ],\n\u001b[1;32m     <a href='vscode-notebook-cell:/Users/dsmilkov/code/lilac/notebooks/Map.ipynb#X12sZmlsZQ%3D%3D?line=22'>23</a>\u001b[0m   )\n\u001b[1;32m     <a href='vscode-notebook-cell:/Users/dsmilkov/code/lilac/notebooks/Map.ipynb#X12sZmlsZQ%3D%3D?line=23'>24</a>\u001b[0m   \u001b[39mreturn\u001b[39;00m company\u001b[39m.\u001b[39mmodel_dump()\n\u001b[0;32m---> <a href='vscode-notebook-cell:/Users/dsmilkov/code/lilac/notebooks/Map.ipynb#X12sZmlsZQ%3D%3D?line=26'>27</a>\u001b[0m dataset\u001b[39m.\u001b[39;49mmap(extract_company, input_path\u001b[39m=\u001b[39;49m\u001b[39m'\u001b[39;49m\u001b[39mstatement\u001b[39;49m\u001b[39m'\u001b[39;49m, output_column\u001b[39m=\u001b[39;49m\u001b[39m'\u001b[39;49m\u001b[39mcompany\u001b[39;49m\u001b[39m'\u001b[39;49m)\n",
      "File \u001b[0;32m~/code/lilac/lilac/data/dataset_duckdb.py:2570\u001b[0m, in \u001b[0;36mDatasetDuckDB.map\u001b[0;34m(self, map_fn, input_path, output_column, nest_under, overwrite, combine_columns, resolve_span, num_jobs)\u001b[0m\n\u001b[1;32m   2567\u001b[0m         delete_file(map_manifest_filepath)\n\u001b[1;32m   2569\u001b[0m     \u001b[39melse\u001b[39;00m:\n\u001b[0;32m-> 2570\u001b[0m       \u001b[39mraise\u001b[39;00m \u001b[39mValueError\u001b[39;00m(\n\u001b[1;32m   2571\u001b[0m         \u001b[39mf\u001b[39m\u001b[39m'\u001b[39m\u001b[39mCannot map to path \u001b[39m\u001b[39m\"\u001b[39m\u001b[39m{\u001b[39;00moutput_column\u001b[39m}\u001b[39;00m\u001b[39m\"\u001b[39m\u001b[39m which already exists in the dataset. \u001b[39m\u001b[39m'\u001b[39m\n\u001b[1;32m   2572\u001b[0m         \u001b[39m'\u001b[39m\u001b[39mUse overwrite=True to overwrite the column.\u001b[39m\u001b[39m'\u001b[39m\n\u001b[1;32m   2573\u001b[0m       )\n\u001b[1;32m   2575\u001b[0m num_jobs \u001b[39m=\u001b[39m get_task_manager()\u001b[39m.\u001b[39mget_num_workers() \u001b[39mif\u001b[39;00m num_jobs \u001b[39m==\u001b[39m \u001b[39m-\u001b[39m\u001b[39m1\u001b[39m \u001b[39melse\u001b[39;00m num_jobs\n\u001b[1;32m   2577\u001b[0m jsonl_cache_filepaths: \u001b[39mlist\u001b[39m[\u001b[39mstr\u001b[39m] \u001b[39m=\u001b[39m []\n",
      "\u001b[0;31mValueError\u001b[0m: Cannot map to path \"company\" which already exists in the dataset. Use overwrite=True to overwrite the column."
     ]
    }
   ],
   "source": [
    "import instructor\n",
    "from openai import OpenAI\n",
    "from pydantic import BaseModel, Field\n",
    "import lilac as ll\n",
    "\n",
    "dataset = ll.get_dataset('local', 'companies')\n",
    "\n",
    "\n",
    "def extract_company(text):\n",
    "  class CompanyDetail(BaseModel):\n",
    "    \"\"\"Details of a company.\"\"\"\n",
    "\n",
    "    name: str = Field(description='Company name')\n",
    "    age: int = Field(description='The estimated age of the company')\n",
    "\n",
    "  client = instructor.patch(OpenAI())\n",
    "  company = client.chat.completions.create(\n",
    "    model='gpt-3.5-turbo',\n",
    "    response_model=CompanyDetail,\n",
    "    messages=[\n",
    "      {'role': 'user', 'content': text},\n",
    "    ],\n",
    "  )\n",
    "  return company.model_dump()\n",
    "\n",
    "\n",
    "dataset.map(extract_company, input_path='statement', output_column='company')\n"
   ]
  },
  {
   "cell_type": "code",
   "execution_count": 12,
   "metadata": {},
   "outputs": [
    {
     "name": "stderr",
     "output_type": "stream",
     "text": [
      "Reading from source dict...: 100%|██████████| 3/3 [00:00<00:00, 1007.36it/s]"
     ]
    },
    {
     "name": "stdout",
     "output_type": "stream",
     "text": [
      "Dataset \"nested_questions\" written to ./data/datasets/local/nested_questions\n"
     ]
    },
    {
     "name": "stderr",
     "output_type": "stream",
     "text": [
      "\n"
     ]
    },
    {
     "data": {
      "text/html": [
       "<div>\n",
       "<style scoped>\n",
       "    .dataframe tbody tr th:only-of-type {\n",
       "        vertical-align: middle;\n",
       "    }\n",
       "\n",
       "    .dataframe tbody tr th {\n",
       "        vertical-align: top;\n",
       "    }\n",
       "\n",
       "    .dataframe thead th {\n",
       "        text-align: right;\n",
       "    }\n",
       "</style>\n",
       "<table border=\"1\" class=\"dataframe\">\n",
       "  <thead>\n",
       "    <tr style=\"text-align: right;\">\n",
       "      <th></th>\n",
       "      <th>questions</th>\n",
       "    </tr>\n",
       "  </thead>\n",
       "  <tbody>\n",
       "    <tr>\n",
       "      <th>0</th>\n",
       "      <td>[A, B]</td>\n",
       "    </tr>\n",
       "    <tr>\n",
       "      <th>1</th>\n",
       "      <td>[C]</td>\n",
       "    </tr>\n",
       "    <tr>\n",
       "      <th>2</th>\n",
       "      <td>[D, E]</td>\n",
       "    </tr>\n",
       "  </tbody>\n",
       "</table>\n",
       "</div>"
      ],
      "text/plain": [
       "  questions\n",
       "0    [A, B]\n",
       "1       [C]\n",
       "2    [D, E]"
      ]
     },
     "execution_count": 12,
     "metadata": {},
     "output_type": "execute_result"
    }
   ],
   "source": [
    "items = [\n",
    "  {'questions': ['A', 'B']},\n",
    "  {'questions': ['C']},\n",
    "  {'questions': ['D', 'E']},\n",
    "]\n",
    "dataset = ll.from_dicts('local', 'nested_questions', items)\n",
    "dataset.to_pandas()\n"
   ]
  },
  {
   "cell_type": "code",
   "execution_count": 13,
   "metadata": {},
   "outputs": [
    {
     "name": "stdout",
     "output_type": "stream",
     "text": [
      "Scheduling task \"793083ae34d441adb74aaf6be5602066\": \"[local/nested_questions][1 shards] map \"add_prefix\" to \"questions_prefixed\"\".\n",
      "Wrote map output to ./data/datasets/local/nested_questions/questions_prefixed-00000-of-00001.parquet\n"
     ]
    },
    {
     "name": "stderr",
     "output_type": "stream",
     "text": [
      "[Shard 0/1] map \"add_prefix\" to \"('questions_prefixed',)\": 100%|██████████| 3/3 [00:00<00:00, 1097.41it/s]\n"
     ]
    },
    {
     "data": {
      "text/html": [
       "<div>\n",
       "<style scoped>\n",
       "    .dataframe tbody tr th:only-of-type {\n",
       "        vertical-align: middle;\n",
       "    }\n",
       "\n",
       "    .dataframe tbody tr th {\n",
       "        vertical-align: top;\n",
       "    }\n",
       "\n",
       "    .dataframe thead th {\n",
       "        text-align: right;\n",
       "    }\n",
       "</style>\n",
       "<table border=\"1\" class=\"dataframe\">\n",
       "  <thead>\n",
       "    <tr style=\"text-align: right;\">\n",
       "      <th></th>\n",
       "      <th>questions</th>\n",
       "      <th>questions_prefixed</th>\n",
       "    </tr>\n",
       "  </thead>\n",
       "  <tbody>\n",
       "    <tr>\n",
       "      <th>0</th>\n",
       "      <td>[A, B]</td>\n",
       "      <td>[Q: A, Q: B]</td>\n",
       "    </tr>\n",
       "    <tr>\n",
       "      <th>1</th>\n",
       "      <td>[C]</td>\n",
       "      <td>[Q: C]</td>\n",
       "    </tr>\n",
       "    <tr>\n",
       "      <th>2</th>\n",
       "      <td>[D, E]</td>\n",
       "      <td>[Q: D, Q: E]</td>\n",
       "    </tr>\n",
       "  </tbody>\n",
       "</table>\n",
       "</div>"
      ],
      "text/plain": [
       "  questions questions_prefixed\n",
       "0    [A, B]       [Q: A, Q: B]\n",
       "1       [C]             [Q: C]\n",
       "2    [D, E]       [Q: D, Q: E]"
      ]
     },
     "execution_count": 13,
     "metadata": {},
     "output_type": "execute_result"
    },
    {
     "name": "stdout",
     "output_type": "stream",
     "text": [
      "Task finished \"793083ae34d441adb74aaf6be5602066\": \"[local/nested_questions][1 shards] map \"add_prefix\" to \"questions_prefixed\"\" in 5s.\n"
     ]
    }
   ],
   "source": [
    "def add_prefix(question):\n",
    "  return 'Q: ' + question\n",
    "\n",
    "\n",
    "dataset.map(add_prefix, input_path=('questions', '*'), output_column='questions_prefixed')\n",
    "dataset.to_pandas()\n"
   ]
  },
  {
   "cell_type": "code",
   "execution_count": 14,
   "metadata": {},
   "outputs": [
    {
     "name": "stderr",
     "output_type": "stream",
     "text": [
      "Reading from source dict...: 100%|██████████| 3/3 [00:00<00:00, 1872.46it/s]\n"
     ]
    },
    {
     "name": "stdout",
     "output_type": "stream",
     "text": [
      "Dataset \"questions3\" written to ./data/datasets/local/questions3\n",
      "Scheduling task \"2b61d10029d24c74a47e040106e9af0e\": \"[local/questions3][1 shards] map \"enrich\" to \"metadata\"\".\n",
      "Wrote map output to ./data/datasets/local/questions3/metadata-00000-of-00001.parquet\n"
     ]
    },
    {
     "name": "stderr",
     "output_type": "stream",
     "text": [
      "[Shard 0/1] map \"enrich\" to \"('metadata',)\": 100%|██████████| 3/3 [00:00<00:00, 370.97it/s]\n"
     ]
    },
    {
     "data": {
      "text/html": [
       "<div>\n",
       "<style scoped>\n",
       "    .dataframe tbody tr th:only-of-type {\n",
       "        vertical-align: middle;\n",
       "    }\n",
       "\n",
       "    .dataframe tbody tr th {\n",
       "        vertical-align: top;\n",
       "    }\n",
       "\n",
       "    .dataframe thead th {\n",
       "        text-align: right;\n",
       "    }\n",
       "</style>\n",
       "<table border=\"1\" class=\"dataframe\">\n",
       "  <thead>\n",
       "    <tr style=\"text-align: right;\">\n",
       "      <th></th>\n",
       "      <th>question</th>\n",
       "      <th>metadata.length</th>\n",
       "      <th>metadata.ends_with_?</th>\n",
       "    </tr>\n",
       "  </thead>\n",
       "  <tbody>\n",
       "    <tr>\n",
       "      <th>0</th>\n",
       "      <td>How are you today?</td>\n",
       "      <td>18</td>\n",
       "      <td>True</td>\n",
       "    </tr>\n",
       "    <tr>\n",
       "      <th>1</th>\n",
       "      <td>What kind of food</td>\n",
       "      <td>17</td>\n",
       "      <td>False</td>\n",
       "    </tr>\n",
       "    <tr>\n",
       "      <th>2</th>\n",
       "      <td>Are you sure?</td>\n",
       "      <td>13</td>\n",
       "      <td>True</td>\n",
       "    </tr>\n",
       "  </tbody>\n",
       "</table>\n",
       "</div>"
      ],
      "text/plain": [
       "             question  metadata.length  metadata.ends_with_?\n",
       "0  How are you today?               18                  True\n",
       "1   What kind of food               17                 False\n",
       "2       Are you sure?               13                  True"
      ]
     },
     "execution_count": 14,
     "metadata": {},
     "output_type": "execute_result"
    },
    {
     "name": "stdout",
     "output_type": "stream",
     "text": [
      "Task finished \"2b61d10029d24c74a47e040106e9af0e\": \"[local/questions3][1 shards] map \"enrich\" to \"metadata\"\" in 5s.\n"
     ]
    }
   ],
   "source": [
    "items = [\n",
    "  {'question': 'How are you today?'},\n",
    "  {'question': 'What kind of food'},\n",
    "  {'question': 'Are you sure?'},\n",
    "]\n",
    "dataset = ll.from_dicts('local', 'questions3', items)\n",
    "\n",
    "\n",
    "def enrich(question):\n",
    "  return {'length': len(question), 'ends_with_?': question[-1] == '?'}\n",
    "\n",
    "\n",
    "dataset.map(enrich, input_path='question', output_column='metadata')\n",
    "dataset.to_pandas()\n"
   ]
  },
  {
   "cell_type": "code",
   "execution_count": 15,
   "metadata": {},
   "outputs": [
    {
     "name": "stderr",
     "output_type": "stream",
     "text": [
      "INFO:     Started server process [5352]\n",
      "INFO:     Waiting for application startup.\n",
      "INFO:     Application startup complete.\n",
      "INFO:     Uvicorn running on http://127.0.0.1:5432 (Press CTRL+C to quit)\n"
     ]
    }
   ],
   "source": [
    "ll.start_server()\n"
   ]
  },
  {
   "cell_type": "code",
   "execution_count": 19,
   "metadata": {},
   "outputs": [
    {
     "name": "stderr",
     "output_type": "stream",
     "text": [
      "Reading from source dict...: 100%|██████████| 3/3 [00:00<00:00, 2278.27it/s]\n"
     ]
    },
    {
     "name": "stdout",
     "output_type": "stream",
     "text": [
      "Dataset \"company\" written to ./data/datasets/local/company\n",
      "Scheduling task \"a61e0023e8bb473298ba9e47c6c284f1\": \"[local/company][1 shards] map \"extract_company\" to \"company\"\".\n",
      "Wrote map output to ./data/datasets/local/company/company-00000-of-00001.parquet\n"
     ]
    },
    {
     "name": "stderr",
     "output_type": "stream",
     "text": [
      "[Shard 0/1] map \"extract_company\" to \"('company',)\": 100%|██████████| 3/3 [00:00<00:00, 666.19it/s]\n"
     ]
    },
    {
     "data": {
      "text/html": [
       "<div>\n",
       "<style scoped>\n",
       "    .dataframe tbody tr th:only-of-type {\n",
       "        vertical-align: middle;\n",
       "    }\n",
       "\n",
       "    .dataframe tbody tr th {\n",
       "        vertical-align: top;\n",
       "    }\n",
       "\n",
       "    .dataframe thead th {\n",
       "        text-align: right;\n",
       "    }\n",
       "</style>\n",
       "<table border=\"1\" class=\"dataframe\">\n",
       "  <thead>\n",
       "    <tr style=\"text-align: right;\">\n",
       "      <th></th>\n",
       "      <th>text</th>\n",
       "      <th>company</th>\n",
       "    </tr>\n",
       "  </thead>\n",
       "  <tbody>\n",
       "    <tr>\n",
       "      <th>0</th>\n",
       "      <td>Company name: Apple Inc.\\n Apple Inc is a ...</td>\n",
       "      <td>[{'__span__': {'start': 14, 'end': 24}}]</td>\n",
       "    </tr>\n",
       "    <tr>\n",
       "      <th>1</th>\n",
       "      <td>Google LLC is a ... Company name: Google LLC</td>\n",
       "      <td>[{'__span__': {'start': 34, 'end': 40}}]</td>\n",
       "    </tr>\n",
       "    <tr>\n",
       "      <th>2</th>\n",
       "      <td>There is no company name here</td>\n",
       "      <td>[]</td>\n",
       "    </tr>\n",
       "  </tbody>\n",
       "</table>\n",
       "</div>"
      ],
      "text/plain": [
       "                                            text  \\\n",
       "0  Company name: Apple Inc.\\n Apple Inc is a ...   \n",
       "1   Google LLC is a ... Company name: Google LLC   \n",
       "2                  There is no company name here   \n",
       "\n",
       "                                    company  \n",
       "0  [{'__span__': {'start': 14, 'end': 24}}]  \n",
       "1  [{'__span__': {'start': 34, 'end': 40}}]  \n",
       "2                                        []  "
      ]
     },
     "execution_count": 19,
     "metadata": {},
     "output_type": "execute_result"
    },
    {
     "name": "stdout",
     "output_type": "stream",
     "text": [
      "Task finished \"a61e0023e8bb473298ba9e47c6c284f1\": \"[local/company][1 shards] map \"extract_company\" to \"company\"\" in 0s.\n"
     ]
    }
   ],
   "source": [
    "items = [\n",
    "  {'text': 'Company name: Apple Inc.\\n Apple Inc is a ...'},\n",
    "  {'text': 'Google LLC is a ... Company name: Google LLC'},\n",
    "  {'text': 'There is no company name here'},\n",
    "]\n",
    "dataset = ll.from_dicts('local', 'company', items, overwrite=True)\n",
    "\n",
    "\n",
    "def extract_company(text):\n",
    "  import re\n",
    "\n",
    "  pattern = r'Company name: (.*)?\\s'\n",
    "  matches = re.finditer(pattern, text)\n",
    "  return [ll.span(m.span(1)[0], m.span(1)[1]) for m in matches]\n",
    "\n",
    "\n",
    "dataset.map(extract_company, input_path='text', output_column='company', overwrite=True)\n",
    "dataset.to_pandas()\n"
   ]
  },
  {
   "cell_type": "code",
   "execution_count": null,
   "metadata": {},
   "outputs": [],
   "source": []
  }
 ],
 "metadata": {
  "kernelspec": {
   "display_name": ".venv",
   "language": "python",
   "name": "python3"
  },
  "language_info": {
   "codemirror_mode": {
    "name": "ipython",
    "version": 3
   },
   "file_extension": ".py",
   "mimetype": "text/x-python",
   "name": "python",
   "nbconvert_exporter": "python",
   "pygments_lexer": "ipython3",
   "version": "3.11.4"
  }
 },
 "nbformat": 4,
 "nbformat_minor": 2
}
