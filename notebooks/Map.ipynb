{
 "cells": [
  {
   "cell_type": "code",
   "execution_count": 14,
   "metadata": {},
   "outputs": [
    {
     "name": "stderr",
     "output_type": "stream",
     "text": [
      "Reading from source dict...: 100%|██████████| 3/3 [00:00<00:00, 837.97it/s]"
     ]
    },
    {
     "name": "stdout",
     "output_type": "stream",
     "text": [
      "Dataset \"tutorial2\" written to ./datasets/local/tutorial2\n"
     ]
    },
    {
     "name": "stderr",
     "output_type": "stream",
     "text": [
      "\n"
     ]
    },
    {
     "data": {
      "text/html": [
       "<div>\n",
       "<style scoped>\n",
       "    .dataframe tbody tr th:only-of-type {\n",
       "        vertical-align: middle;\n",
       "    }\n",
       "\n",
       "    .dataframe tbody tr th {\n",
       "        vertical-align: top;\n",
       "    }\n",
       "\n",
       "    .dataframe thead th {\n",
       "        text-align: right;\n",
       "    }\n",
       "</style>\n",
       "<table border=\"1\" class=\"dataframe\">\n",
       "  <thead>\n",
       "    <tr style=\"text-align: right;\">\n",
       "      <th></th>\n",
       "      <th>questions.*</th>\n",
       "    </tr>\n",
       "  </thead>\n",
       "  <tbody>\n",
       "    <tr>\n",
       "      <th>0</th>\n",
       "      <td>[A, B]</td>\n",
       "    </tr>\n",
       "    <tr>\n",
       "      <th>1</th>\n",
       "      <td>[C]</td>\n",
       "    </tr>\n",
       "    <tr>\n",
       "      <th>2</th>\n",
       "      <td>[D, E]</td>\n",
       "    </tr>\n",
       "  </tbody>\n",
       "</table>\n",
       "</div>"
      ],
      "text/plain": [
       "  questions.*\n",
       "0      [A, B]\n",
       "1         [C]\n",
       "2      [D, E]"
      ]
     },
     "execution_count": 14,
     "metadata": {},
     "output_type": "execute_result"
    }
   ],
   "source": [
    "import lilac as ll\n",
    "\n",
    "items = [\n",
    "  {'questions': ['A', 'B']},\n",
    "  {'questions': ['C']},\n",
    "  {'questions': ['D', 'E']},\n",
    "]\n",
    "config = ll.DatasetConfig(\n",
    "  namespace='local',\n",
    "  name='tutorial2',\n",
    "  source=ll.DictSource(items),\n",
    ")\n",
    "dataset = ll.create_dataset(config, overwrite=True)\n",
    "dataset.to_pandas()\n"
   ]
  },
  {
   "cell_type": "code",
   "execution_count": 16,
   "metadata": {},
   "outputs": [
    {
     "name": "stdout",
     "output_type": "stream",
     "text": [
      "Scheduling task \"0dbe18d9b6ed460c92b347258bd12344\": \"[local/tutorial2][1 shards] map \"add_prefix\" to \"questions_with_prefix\"\".\n",
      "Wrote map output to ./datasets/local/tutorial2/questions_with_prefix-00000-of-00001.parquet\n",
      "[]\n"
     ]
    },
    {
     "name": "stderr",
     "output_type": "stream",
     "text": [
      "[Shard 0/1] map \"add_prefix\" to \"('questions_with_prefix',)\": 100%|██████████| 3/3 [00:00<00:00, 420.47it/s]\n"
     ]
    },
    {
     "data": {
      "text/html": [
       "<div>\n",
       "<style scoped>\n",
       "    .dataframe tbody tr th:only-of-type {\n",
       "        vertical-align: middle;\n",
       "    }\n",
       "\n",
       "    .dataframe tbody tr th {\n",
       "        vertical-align: top;\n",
       "    }\n",
       "\n",
       "    .dataframe thead th {\n",
       "        text-align: right;\n",
       "    }\n",
       "</style>\n",
       "<table border=\"1\" class=\"dataframe\">\n",
       "  <thead>\n",
       "    <tr style=\"text-align: right;\">\n",
       "      <th></th>\n",
       "      <th>questions.*</th>\n",
       "      <th>questions_with_prefix.*</th>\n",
       "    </tr>\n",
       "  </thead>\n",
       "  <tbody>\n",
       "    <tr>\n",
       "      <th>0</th>\n",
       "      <td>[A, B]</td>\n",
       "      <td>[Q: A, Q: B]</td>\n",
       "    </tr>\n",
       "    <tr>\n",
       "      <th>1</th>\n",
       "      <td>[C]</td>\n",
       "      <td>[Q: C]</td>\n",
       "    </tr>\n",
       "    <tr>\n",
       "      <th>2</th>\n",
       "      <td>[D, E]</td>\n",
       "      <td>[Q: D, Q: E]</td>\n",
       "    </tr>\n",
       "  </tbody>\n",
       "</table>\n",
       "</div>"
      ],
      "text/plain": [
       "  questions.* questions_with_prefix.*\n",
       "0      [A, B]            [Q: A, Q: B]\n",
       "1         [C]                  [Q: C]\n",
       "2      [D, E]            [Q: D, Q: E]"
      ]
     },
     "execution_count": 16,
     "metadata": {},
     "output_type": "execute_result"
    },
    {
     "name": "stdout",
     "output_type": "stream",
     "text": [
      "Task finished \"0dbe18d9b6ed460c92b347258bd12344\": \"[local/tutorial2][1 shards] map \"add_prefix\" to \"questions_with_prefix\"\" in 4s.\n"
     ]
    }
   ],
   "source": [
    "def add_prefix(question):\n",
    "  return 'Q: ' + question\n",
    "\n",
    "\n",
    "res = dataset.map(\n",
    "  add_prefix, input_path=('questions', '*'), output_column='questions_with_prefix', overwrite=True\n",
    ")\n",
    "\n",
    "print(list(res))\n",
    "\n",
    "dataset.to_pandas()\n"
   ]
  },
  {
   "cell_type": "code",
   "execution_count": 10,
   "metadata": {},
   "outputs": [
    {
     "name": "stderr",
     "output_type": "stream",
     "text": [
      "Reading from source dict...: 100%|██████████| 2/2 [00:00<00:00, 1251.66it/s]"
     ]
    },
    {
     "name": "stderr",
     "output_type": "stream",
     "text": [
      "\n"
     ]
    },
    {
     "name": "stdout",
     "output_type": "stream",
     "text": [
      "Dataset \"tutorial3\" written to ./datasets/local/tutorial3\n",
      "Scheduling task \"22c95a8997ef490d8a28e56f9933cf94\": \"[local/tutorial3][1 shards] map \"extract_company_with_coordinates\" to \"company\"\".\n",
      "Wrote map output to ./datasets/local/tutorial3/company-00000-of-00001.parquet\n"
     ]
    },
    {
     "name": "stderr",
     "output_type": "stream",
     "text": [
      "[Shard 0/1] map \"extract_company_with_coordinates\" to \"('company',)\": 100%|██████████| 2/2 [00:00<00:00, 849.65it/s]\n"
     ]
    },
    {
     "data": {
      "text/plain": [
       "<lilac.data.dataset_duckdb.DuckDBMapOutput at 0x2cf6fbb10>"
      ]
     },
     "execution_count": 10,
     "metadata": {},
     "output_type": "execute_result"
    }
   ],
   "source": [
    "import lilac as ll\n",
    "\n",
    "items = [\n",
    "  {\n",
    "    'text': 'Apple Inc. is an American multinational technology company headquartered in Cupertino, California, (Company: Apple Inc.) that designs, develops, and sells consumer electronics, computer software, and online services.'\n",
    "  },\n",
    "  {\n",
    "    'text': 'Google LLC is an American multinational technology company (Company: Google LLC) that specializes in Internet-related services and products, which include online advertising technologies, a search engine, cloud computing, software, and hardware.'\n",
    "  },\n",
    "]\n",
    "config = ll.DatasetConfig(\n",
    "  namespace='local',\n",
    "  name='tutorial3',\n",
    "  source=ll.DictSource(items),\n",
    ")\n",
    "dataset = ll.create_dataset(config, overwrite=True)\n",
    "dataset.to_pandas()\n",
    "\n",
    "\n",
    "def extract_company_with_coordinates(text):\n",
    "  import re\n",
    "\n",
    "  pattern = r'\\(Company: ([^\\)]+)\\)'\n",
    "  matches = re.finditer(pattern, text)\n",
    "  return [ll.span(m.start(), m.end(), {'Company': m.group(1)}) for m in matches]\n",
    "\n",
    "\n",
    "dataset.map(\n",
    "  extract_company_with_coordinates, input_path='text', output_column='company', overwrite=True\n",
    ")\n"
   ]
  },
  {
   "cell_type": "code",
   "execution_count": 21,
   "metadata": {},
   "outputs": [
    {
     "name": "stdout",
     "output_type": "stream",
     "text": [
      "Index(['text', 'company.*', 'company.*.Company'], dtype='object')\n"
     ]
    }
   ],
   "source": [
    "df = dataset.to_pandas()\n",
    "print(df.columns)\n"
   ]
  },
  {
   "cell_type": "code",
   "execution_count": 18,
   "metadata": {},
   "outputs": [
    {
     "data": {
      "text/plain": [
       "0    [Apple Inc.]\n",
       "Name: company.*.Company, dtype: object"
      ]
     },
     "execution_count": 18,
     "metadata": {},
     "output_type": "execute_result"
    }
   ],
   "source": [
    "df[:1]['company.*.Company']\n"
   ]
  },
  {
   "cell_type": "code",
   "execution_count": null,
   "metadata": {},
   "outputs": [
    {
     "name": "stderr",
     "output_type": "stream",
     "text": [
      "INFO:     Started server process [65094]\n",
      "INFO:     Waiting for application startup.\n",
      "INFO:     Application startup complete.\n",
      "INFO:     Uvicorn running on http://127.0.0.1:5432 (Press CTRL+C to quit)\n"
     ]
    }
   ],
   "source": [
    "ll.start_server()\n"
   ]
  },
  {
   "cell_type": "code",
   "execution_count": null,
   "metadata": {},
   "outputs": [
    {
     "name": "stderr",
     "output_type": "stream",
     "text": [
      "INFO:     Started server process [65547]\n",
      "INFO:     Waiting for application startup.\n",
      "INFO:     Application startup complete.\n",
      "INFO:     Uvicorn running on http://127.0.0.1:5432 (Press CTRL+C to quit)\n"
     ]
    }
   ],
   "source": [
    "ll.start_server()\n"
   ]
  },
  {
   "cell_type": "code",
   "execution_count": 2,
   "metadata": {},
   "outputs": [
    {
     "name": "stderr",
     "output_type": "stream",
     "text": [
      "/Users/dsmilkov/code/lilac/.venv/lib/python3.11/site-packages/tqdm/auto.py:21: TqdmWarning: IProgress not found. Please update jupyter and ipywidgets. See https://ipywidgets.readthedocs.io/en/stable/user_install.html\n",
      "  from .autonotebook import tqdm as notebook_tqdm\n"
     ]
    },
    {
     "name": "stdout",
     "output_type": "stream",
     "text": [
      "Dataset \"companies\" written to ./data/datasets/local/companies\n"
     ]
    },
    {
     "data": {
      "text/html": [
       "<div>\n",
       "<style scoped>\n",
       "    .dataframe tbody tr th:only-of-type {\n",
       "        vertical-align: middle;\n",
       "    }\n",
       "\n",
       "    .dataframe tbody tr th {\n",
       "        vertical-align: top;\n",
       "    }\n",
       "\n",
       "    .dataframe thead th {\n",
       "        text-align: right;\n",
       "    }\n",
       "</style>\n",
       "<table border=\"1\" class=\"dataframe\">\n",
       "  <thead>\n",
       "    <tr style=\"text-align: right;\">\n",
       "      <th></th>\n",
       "      <th>statement</th>\n",
       "      <th>label</th>\n",
       "      <th>__hfsplit__</th>\n",
       "      <th>__rowid__</th>\n",
       "      <th>overview.sbert.*</th>\n",
       "      <th>overview.openai.*</th>\n",
       "      <th>overview.sbert.*.embedding</th>\n",
       "      <th>overview.openai.*.embedding</th>\n",
       "    </tr>\n",
       "  </thead>\n",
       "  <tbody>\n",
       "    <tr>\n",
       "      <th>0</th>\n",
       "      <td>Shell operates in the industry of oil &amp; gas op...</td>\n",
       "      <td>true</td>\n",
       "      <td>train</td>\n",
       "      <td>a151a69e-3efe-4fa8-a0a9-302f8c9a9fe0</td>\n",
       "      <td>None</td>\n",
       "      <td>None</td>\n",
       "      <td>None</td>\n",
       "      <td>None</td>\n",
       "    </tr>\n",
       "    <tr>\n",
       "      <th>1</th>\n",
       "      <td>Nestle operates in the industry of Banking.</td>\n",
       "      <td>false</td>\n",
       "      <td>train</td>\n",
       "      <td>cd9f8dd0-3ff0-4d45-a8ff-39bcd6a87e9d</td>\n",
       "      <td>None</td>\n",
       "      <td>None</td>\n",
       "      <td>None</td>\n",
       "      <td>None</td>\n",
       "    </tr>\n",
       "    <tr>\n",
       "      <th>2</th>\n",
       "      <td>Itau Unibanco Holding operates in the industry...</td>\n",
       "      <td>true</td>\n",
       "      <td>train</td>\n",
       "      <td>602ceff5-1973-44fd-911c-fc83a1096948</td>\n",
       "      <td>None</td>\n",
       "      <td>None</td>\n",
       "      <td>None</td>\n",
       "      <td>None</td>\n",
       "    </tr>\n",
       "    <tr>\n",
       "      <th>3</th>\n",
       "      <td>Raytheon Technologies operates in the industry...</td>\n",
       "      <td>true</td>\n",
       "      <td>train</td>\n",
       "      <td>7990194a-6e50-45b5-97e6-bc2793b95ede</td>\n",
       "      <td>None</td>\n",
       "      <td>None</td>\n",
       "      <td>None</td>\n",
       "      <td>None</td>\n",
       "    </tr>\n",
       "    <tr>\n",
       "      <th>4</th>\n",
       "      <td>Manulife operates in the industry of insurance.</td>\n",
       "      <td>true</td>\n",
       "      <td>train</td>\n",
       "      <td>8de5f7d2-9d63-42cd-bb64-19f911357166</td>\n",
       "      <td>None</td>\n",
       "      <td>None</td>\n",
       "      <td>None</td>\n",
       "      <td>None</td>\n",
       "    </tr>\n",
       "    <tr>\n",
       "      <th>...</th>\n",
       "      <td>...</td>\n",
       "      <td>...</td>\n",
       "      <td>...</td>\n",
       "      <td>...</td>\n",
       "      <td>...</td>\n",
       "      <td>...</td>\n",
       "      <td>...</td>\n",
       "      <td>...</td>\n",
       "    </tr>\n",
       "    <tr>\n",
       "      <th>1195</th>\n",
       "      <td>Alphabet has headquarters in South Korea.</td>\n",
       "      <td>false</td>\n",
       "      <td>test</td>\n",
       "      <td>aee1baa1-79d5-49cc-8a7a-45199421872a</td>\n",
       "      <td>None</td>\n",
       "      <td>None</td>\n",
       "      <td>None</td>\n",
       "      <td>None</td>\n",
       "    </tr>\n",
       "    <tr>\n",
       "      <th>1196</th>\n",
       "      <td>Iberdrola is a holding company, which engages ...</td>\n",
       "      <td>false</td>\n",
       "      <td>test</td>\n",
       "      <td>0e31deea-2000-46ce-9579-50991f953257</td>\n",
       "      <td>None</td>\n",
       "      <td>None</td>\n",
       "      <td>None</td>\n",
       "      <td>None</td>\n",
       "    </tr>\n",
       "    <tr>\n",
       "      <th>1197</th>\n",
       "      <td>Dow has headquarters in Italy.</td>\n",
       "      <td>false</td>\n",
       "      <td>test</td>\n",
       "      <td>b72e5655-7933-4282-b743-4e405defc58f</td>\n",
       "      <td>None</td>\n",
       "      <td>None</td>\n",
       "      <td>None</td>\n",
       "      <td>None</td>\n",
       "    </tr>\n",
       "    <tr>\n",
       "      <th>1198</th>\n",
       "      <td>Merck &amp; Co. engages in the provision of health...</td>\n",
       "      <td>true</td>\n",
       "      <td>test</td>\n",
       "      <td>6b39b493-1857-47df-9485-55b21cb9bd1c</td>\n",
       "      <td>None</td>\n",
       "      <td>None</td>\n",
       "      <td>None</td>\n",
       "      <td>None</td>\n",
       "    </tr>\n",
       "    <tr>\n",
       "      <th>1199</th>\n",
       "      <td>AT&amp;T has headquarters in United States.</td>\n",
       "      <td>true</td>\n",
       "      <td>test</td>\n",
       "      <td>2b043ab0-8e3a-4587-9c9b-4c027b5fa36f</td>\n",
       "      <td>None</td>\n",
       "      <td>None</td>\n",
       "      <td>None</td>\n",
       "      <td>None</td>\n",
       "    </tr>\n",
       "  </tbody>\n",
       "</table>\n",
       "<p>1200 rows × 8 columns</p>\n",
       "</div>"
      ],
      "text/plain": [
       "                                              statement  label __hfsplit__  \\\n",
       "0     Shell operates in the industry of oil & gas op...   true       train   \n",
       "1           Nestle operates in the industry of Banking.  false       train   \n",
       "2     Itau Unibanco Holding operates in the industry...   true       train   \n",
       "3     Raytheon Technologies operates in the industry...   true       train   \n",
       "4       Manulife operates in the industry of insurance.   true       train   \n",
       "...                                                 ...    ...         ...   \n",
       "1195          Alphabet has headquarters in South Korea.  false        test   \n",
       "1196  Iberdrola is a holding company, which engages ...  false        test   \n",
       "1197                     Dow has headquarters in Italy.  false        test   \n",
       "1198  Merck & Co. engages in the provision of health...   true        test   \n",
       "1199            AT&T has headquarters in United States.   true        test   \n",
       "\n",
       "                                 __rowid__ overview.sbert.* overview.openai.*  \\\n",
       "0     a151a69e-3efe-4fa8-a0a9-302f8c9a9fe0             None              None   \n",
       "1     cd9f8dd0-3ff0-4d45-a8ff-39bcd6a87e9d             None              None   \n",
       "2     602ceff5-1973-44fd-911c-fc83a1096948             None              None   \n",
       "3     7990194a-6e50-45b5-97e6-bc2793b95ede             None              None   \n",
       "4     8de5f7d2-9d63-42cd-bb64-19f911357166             None              None   \n",
       "...                                    ...              ...               ...   \n",
       "1195  aee1baa1-79d5-49cc-8a7a-45199421872a             None              None   \n",
       "1196  0e31deea-2000-46ce-9579-50991f953257             None              None   \n",
       "1197  b72e5655-7933-4282-b743-4e405defc58f             None              None   \n",
       "1198  6b39b493-1857-47df-9485-55b21cb9bd1c             None              None   \n",
       "1199  2b043ab0-8e3a-4587-9c9b-4c027b5fa36f             None              None   \n",
       "\n",
       "     overview.sbert.*.embedding overview.openai.*.embedding  \n",
       "0                          None                        None  \n",
       "1                          None                        None  \n",
       "2                          None                        None  \n",
       "3                          None                        None  \n",
       "4                          None                        None  \n",
       "...                         ...                         ...  \n",
       "1195                       None                        None  \n",
       "1196                       None                        None  \n",
       "1197                       None                        None  \n",
       "1198                       None                        None  \n",
       "1199                       None                        None  \n",
       "\n",
       "[1200 rows x 8 columns]"
      ]
     },
     "execution_count": 2,
     "metadata": {},
     "output_type": "execute_result"
    }
   ],
   "source": [
    "import lilac as ll\n",
    "\n",
    "config = ll.DatasetConfig(\n",
    "  namespace='local',\n",
    "  name='companies',\n",
    "  source=ll.HuggingFaceSource(dataset_name='atmallen/companies_azaria_mitchell'),\n",
    ")\n",
    "dataset = ll.create_dataset(config, overwrite=True)\n",
    "dataset.to_pandas()\n"
   ]
  },
  {
   "cell_type": "code",
   "execution_count": 3,
   "metadata": {},
   "outputs": [
    {
     "name": "stdout",
     "output_type": "stream",
     "text": [
      "Scheduling task \"3a2ea39c39584c9c96a89654b518064f\": \"[local/companies][1 shards] map \"extract_company\" to \"company\"\".\n"
     ]
    },
    {
     "name": "stderr",
     "output_type": "stream",
     "text": [
      "[Shard 0/1] map \"extract_company\" to \"('company',)\":  31%|███       | 374/1200 [04:59<11:53,  1.16it/s]/var/folders/zn/brkm752x5673zb89tjjqzzs00000gn/T/ipykernel_69441/3762146513.py:33: PydanticDeprecatedSince20: The `dict` method is deprecated; use `model_dump` instead. Deprecated in Pydantic V2.0 to be removed in V3.0. See Pydantic V2 Migration Guide at https://errors.pydantic.dev/2.5/migration/\n",
      "[Shard 0/1] map \"extract_company\" to \"('company',)\":  29%|██▉       | 352/1200 [14:38<42:38:38, 181.04s/it]/var/folders/zn/brkm752x5673zb89tjjqzzs00000gn/T/ipykernel_69441/3762146513.py:33: PydanticDeprecatedSince20: The `dict` method is deprecated; use `model_dump` instead. Deprecated in Pydantic V2.0 to be removed in V3.0. See Pydantic V2 Migration Guide at https://errors.pydantic.dev/2.5/migration/\n",
      "[Shard 0/1] map \"extract_company\" to \"('company',)\":  29%|██▉       | 353/1200 [14:39<29:52:32, 126.98s/it]/var/folders/zn/brkm752x5673zb89tjjqzzs00000gn/T/ipykernel_69441/3762146513.py:33: PydanticDeprecatedSince20: The `dict` method is deprecated; use `model_dump` instead. Deprecated in Pydantic V2.0 to be removed in V3.0. See Pydantic V2 Migration Guide at https://errors.pydantic.dev/2.5/migration/\n",
      "[Shard 0/1] map \"extract_company\" to \"('company',)\":  30%|██▉       | 354/1200 [14:40<20:57:09, 89.16s/it] /var/folders/zn/brkm752x5673zb89tjjqzzs00000gn/T/ipykernel_69441/3762146513.py:33: PydanticDeprecatedSince20: The `dict` method is deprecated; use `model_dump` instead. Deprecated in Pydantic V2.0 to be removed in V3.0. See Pydantic V2 Migration Guide at https://errors.pydantic.dev/2.5/migration/\n",
      "[Shard 0/1] map \"extract_company\" to \"('company',)\":  30%|██▉       | 355/1200 [14:40<14:41:17, 62.58s/it]/var/folders/zn/brkm752x5673zb89tjjqzzs00000gn/T/ipykernel_69441/3762146513.py:33: PydanticDeprecatedSince20: The `dict` method is deprecated; use `model_dump` instead. Deprecated in Pydantic V2.0 to be removed in V3.0. See Pydantic V2 Migration Guide at https://errors.pydantic.dev/2.5/migration/\n",
      "[Shard 0/1] map \"extract_company\" to \"('company',)\":  30%|██▉       | 356/1200 [14:41<10:18:57, 44.00s/it]/var/folders/zn/brkm752x5673zb89tjjqzzs00000gn/T/ipykernel_69441/3762146513.py:33: PydanticDeprecatedSince20: The `dict` method is deprecated; use `model_dump` instead. Deprecated in Pydantic V2.0 to be removed in V3.0. See Pydantic V2 Migration Guide at https://errors.pydantic.dev/2.5/migration/\n",
      "[Shard 0/1] map \"extract_company\" to \"('company',)\":  30%|██▉       | 357/1200 [14:42<7:16:05, 31.04s/it] /var/folders/zn/brkm752x5673zb89tjjqzzs00000gn/T/ipykernel_69441/3762146513.py:33: PydanticDeprecatedSince20: The `dict` method is deprecated; use `model_dump` instead. Deprecated in Pydantic V2.0 to be removed in V3.0. See Pydantic V2 Migration Guide at https://errors.pydantic.dev/2.5/migration/\n",
      "[Shard 0/1] map \"extract_company\" to \"('company',)\":  30%|██▉       | 358/1200 [14:42<5:07:19, 21.90s/it]/var/folders/zn/brkm752x5673zb89tjjqzzs00000gn/T/ipykernel_69441/3762146513.py:33: PydanticDeprecatedSince20: The `dict` method is deprecated; use `model_dump` instead. Deprecated in Pydantic V2.0 to be removed in V3.0. See Pydantic V2 Migration Guide at https://errors.pydantic.dev/2.5/migration/\n",
      "[Shard 0/1] map \"extract_company\" to \"('company',)\":  30%|██▉       | 359/1200 [14:43<3:37:19, 15.50s/it]/var/folders/zn/brkm752x5673zb89tjjqzzs00000gn/T/ipykernel_69441/3762146513.py:33: PydanticDeprecatedSince20: The `dict` method is deprecated; use `model_dump` instead. Deprecated in Pydantic V2.0 to be removed in V3.0. See Pydantic V2 Migration Guide at https://errors.pydantic.dev/2.5/migration/\n",
      "[Shard 0/1] map \"extract_company\" to \"('company',)\":  30%|███       | 360/1200 [14:44<2:34:34, 11.04s/it]/var/folders/zn/brkm752x5673zb89tjjqzzs00000gn/T/ipykernel_69441/3762146513.py:33: PydanticDeprecatedSince20: The `dict` method is deprecated; use `model_dump` instead. Deprecated in Pydantic V2.0 to be removed in V3.0. See Pydantic V2 Migration Guide at https://errors.pydantic.dev/2.5/migration/\n",
      "[Shard 0/1] map \"extract_company\" to \"('company',)\":  30%|███       | 361/1200 [14:44<1:51:54,  8.00s/it]/var/folders/zn/brkm752x5673zb89tjjqzzs00000gn/T/ipykernel_69441/3762146513.py:33: PydanticDeprecatedSince20: The `dict` method is deprecated; use `model_dump` instead. Deprecated in Pydantic V2.0 to be removed in V3.0. See Pydantic V2 Migration Guide at https://errors.pydantic.dev/2.5/migration/\n",
      "[Shard 0/1] map \"extract_company\" to \"('company',)\":  30%|███       | 362/1200 [14:45<1:21:43,  5.85s/it]/var/folders/zn/brkm752x5673zb89tjjqzzs00000gn/T/ipykernel_69441/3762146513.py:33: PydanticDeprecatedSince20: The `dict` method is deprecated; use `model_dump` instead. Deprecated in Pydantic V2.0 to be removed in V3.0. See Pydantic V2 Migration Guide at https://errors.pydantic.dev/2.5/migration/\n",
      "[Shard 0/1] map \"extract_company\" to \"('company',)\":  30%|███       | 363/1200 [14:46<1:00:06,  4.31s/it]/var/folders/zn/brkm752x5673zb89tjjqzzs00000gn/T/ipykernel_69441/3762146513.py:33: PydanticDeprecatedSince20: The `dict` method is deprecated; use `model_dump` instead. Deprecated in Pydantic V2.0 to be removed in V3.0. See Pydantic V2 Migration Guide at https://errors.pydantic.dev/2.5/migration/\n",
      "[Shard 0/1] map \"extract_company\" to \"('company',)\":  30%|███       | 364/1200 [14:47<44:32,  3.20s/it]  /var/folders/zn/brkm752x5673zb89tjjqzzs00000gn/T/ipykernel_69441/3762146513.py:33: PydanticDeprecatedSince20: The `dict` method is deprecated; use `model_dump` instead. Deprecated in Pydantic V2.0 to be removed in V3.0. See Pydantic V2 Migration Guide at https://errors.pydantic.dev/2.5/migration/\n",
      "[Shard 0/1] map \"extract_company\" to \"('company',)\":  30%|███       | 365/1200 [14:48<35:02,  2.52s/it]/var/folders/zn/brkm752x5673zb89tjjqzzs00000gn/T/ipykernel_69441/3762146513.py:33: PydanticDeprecatedSince20: The `dict` method is deprecated; use `model_dump` instead. Deprecated in Pydantic V2.0 to be removed in V3.0. See Pydantic V2 Migration Guide at https://errors.pydantic.dev/2.5/migration/\n",
      "[Shard 0/1] map \"extract_company\" to \"('company',)\":  30%|███       | 366/1200 [14:48<26:43,  1.92s/it]/var/folders/zn/brkm752x5673zb89tjjqzzs00000gn/T/ipykernel_69441/3762146513.py:33: PydanticDeprecatedSince20: The `dict` method is deprecated; use `model_dump` instead. Deprecated in Pydantic V2.0 to be removed in V3.0. See Pydantic V2 Migration Guide at https://errors.pydantic.dev/2.5/migration/\n",
      "[Shard 0/1] map \"extract_company\" to \"('company',)\":  31%|███       | 367/1200 [14:49<21:57,  1.58s/it]/var/folders/zn/brkm752x5673zb89tjjqzzs00000gn/T/ipykernel_69441/3762146513.py:33: PydanticDeprecatedSince20: The `dict` method is deprecated; use `model_dump` instead. Deprecated in Pydantic V2.0 to be removed in V3.0. See Pydantic V2 Migration Guide at https://errors.pydantic.dev/2.5/migration/\n",
      "[Shard 0/1] map \"extract_company\" to \"('company',)\":  31%|███       | 368/1200 [14:50<18:42,  1.35s/it]/var/folders/zn/brkm752x5673zb89tjjqzzs00000gn/T/ipykernel_69441/3762146513.py:33: PydanticDeprecatedSince20: The `dict` method is deprecated; use `model_dump` instead. Deprecated in Pydantic V2.0 to be removed in V3.0. See Pydantic V2 Migration Guide at https://errors.pydantic.dev/2.5/migration/\n",
      "[Shard 0/1] map \"extract_company\" to \"('company',)\":  31%|███       | 369/1200 [14:50<16:18,  1.18s/it]/var/folders/zn/brkm752x5673zb89tjjqzzs00000gn/T/ipykernel_69441/3762146513.py:33: PydanticDeprecatedSince20: The `dict` method is deprecated; use `model_dump` instead. Deprecated in Pydantic V2.0 to be removed in V3.0. See Pydantic V2 Migration Guide at https://errors.pydantic.dev/2.5/migration/\n",
      "[Shard 0/1] map \"extract_company\" to \"('company',)\":  31%|███       | 370/1200 [14:51<15:06,  1.09s/it]/var/folders/zn/brkm752x5673zb89tjjqzzs00000gn/T/ipykernel_69441/3762146513.py:33: PydanticDeprecatedSince20: The `dict` method is deprecated; use `model_dump` instead. Deprecated in Pydantic V2.0 to be removed in V3.0. See Pydantic V2 Migration Guide at https://errors.pydantic.dev/2.5/migration/\n",
      "[Shard 0/1] map \"extract_company\" to \"('company',)\":  31%|███       | 371/1200 [14:52<13:45,  1.00it/s]/var/folders/zn/brkm752x5673zb89tjjqzzs00000gn/T/ipykernel_69441/3762146513.py:33: PydanticDeprecatedSince20: The `dict` method is deprecated; use `model_dump` instead. Deprecated in Pydantic V2.0 to be removed in V3.0. See Pydantic V2 Migration Guide at https://errors.pydantic.dev/2.5/migration/\n",
      "[Shard 0/1] map \"extract_company\" to \"('company',)\":  31%|███       | 372/1200 [14:53<11:59,  1.15it/s]/var/folders/zn/brkm752x5673zb89tjjqzzs00000gn/T/ipykernel_69441/3762146513.py:33: PydanticDeprecatedSince20: The `dict` method is deprecated; use `model_dump` instead. Deprecated in Pydantic V2.0 to be removed in V3.0. See Pydantic V2 Migration Guide at https://errors.pydantic.dev/2.5/migration/\n",
      "[Shard 0/1] map \"extract_company\" to \"('company',)\":  31%|███       | 373/1200 [14:53<10:52,  1.27it/s]/var/folders/zn/brkm752x5673zb89tjjqzzs00000gn/T/ipykernel_69441/3762146513.py:33: PydanticDeprecatedSince20: The `dict` method is deprecated; use `model_dump` instead. Deprecated in Pydantic V2.0 to be removed in V3.0. See Pydantic V2 Migration Guide at https://errors.pydantic.dev/2.5/migration/\n",
      "[Shard 0/1] map \"extract_company\" to \"('company',)\":  31%|███       | 374/1200 [14:54<10:04,  1.37it/s]/var/folders/zn/brkm752x5673zb89tjjqzzs00000gn/T/ipykernel_69441/3762146513.py:33: PydanticDeprecatedSince20: The `dict` method is deprecated; use `model_dump` instead. Deprecated in Pydantic V2.0 to be removed in V3.0. See Pydantic V2 Migration Guide at https://errors.pydantic.dev/2.5/migration/\n",
      "[Shard 0/1] map \"extract_company\" to \"('company',)\":  31%|███▏      | 375/1200 [14:54<09:17,  1.48it/s]/var/folders/zn/brkm752x5673zb89tjjqzzs00000gn/T/ipykernel_69441/3762146513.py:33: PydanticDeprecatedSince20: The `dict` method is deprecated; use `model_dump` instead. Deprecated in Pydantic V2.0 to be removed in V3.0. See Pydantic V2 Migration Guide at https://errors.pydantic.dev/2.5/migration/\n",
      "[Shard 0/1] map \"extract_company\" to \"('company',)\":  31%|███▏      | 376/1200 [14:55<08:54,  1.54it/s]/var/folders/zn/brkm752x5673zb89tjjqzzs00000gn/T/ipykernel_69441/3762146513.py:33: PydanticDeprecatedSince20: The `dict` method is deprecated; use `model_dump` instead. Deprecated in Pydantic V2.0 to be removed in V3.0. See Pydantic V2 Migration Guide at https://errors.pydantic.dev/2.5/migration/\n",
      "[Shard 0/1] map \"extract_company\" to \"('company',)\":  31%|███▏      | 377/1200 [14:56<10:19,  1.33it/s]/var/folders/zn/brkm752x5673zb89tjjqzzs00000gn/T/ipykernel_69441/3762146513.py:33: PydanticDeprecatedSince20: The `dict` method is deprecated; use `model_dump` instead. Deprecated in Pydantic V2.0 to be removed in V3.0. See Pydantic V2 Migration Guide at https://errors.pydantic.dev/2.5/migration/\n",
      "[Shard 0/1] map \"extract_company\" to \"('company',)\":  32%|███▏      | 378/1200 [14:57<09:44,  1.41it/s]/var/folders/zn/brkm752x5673zb89tjjqzzs00000gn/T/ipykernel_69441/3762146513.py:33: PydanticDeprecatedSince20: The `dict` method is deprecated; use `model_dump` instead. Deprecated in Pydantic V2.0 to be removed in V3.0. See Pydantic V2 Migration Guide at https://errors.pydantic.dev/2.5/migration/\n",
      "[Shard 0/1] map \"extract_company\" to \"('company',)\":  32%|███▏      | 379/1200 [14:57<10:04,  1.36it/s]/var/folders/zn/brkm752x5673zb89tjjqzzs00000gn/T/ipykernel_69441/3762146513.py:33: PydanticDeprecatedSince20: The `dict` method is deprecated; use `model_dump` instead. Deprecated in Pydantic V2.0 to be removed in V3.0. See Pydantic V2 Migration Guide at https://errors.pydantic.dev/2.5/migration/\n",
      "[Shard 0/1] map \"extract_company\" to \"('company',)\":  32%|███▏      | 380/1200 [14:58<10:16,  1.33it/s]/var/folders/zn/brkm752x5673zb89tjjqzzs00000gn/T/ipykernel_69441/3762146513.py:33: PydanticDeprecatedSince20: The `dict` method is deprecated; use `model_dump` instead. Deprecated in Pydantic V2.0 to be removed in V3.0. See Pydantic V2 Migration Guide at https://errors.pydantic.dev/2.5/migration/\n",
      "[Shard 0/1] map \"extract_company\" to \"('company',)\":  32%|███▏      | 381/1200 [14:59<09:51,  1.38it/s]/var/folders/zn/brkm752x5673zb89tjjqzzs00000gn/T/ipykernel_69441/3762146513.py:33: PydanticDeprecatedSince20: The `dict` method is deprecated; use `model_dump` instead. Deprecated in Pydantic V2.0 to be removed in V3.0. See Pydantic V2 Migration Guide at https://errors.pydantic.dev/2.5/migration/\n",
      "[Shard 0/1] map \"extract_company\" to \"('company',)\":  32%|███▏      | 382/1200 [15:00<10:03,  1.36it/s]/var/folders/zn/brkm752x5673zb89tjjqzzs00000gn/T/ipykernel_69441/3762146513.py:33: PydanticDeprecatedSince20: The `dict` method is deprecated; use `model_dump` instead. Deprecated in Pydantic V2.0 to be removed in V3.0. See Pydantic V2 Migration Guide at https://errors.pydantic.dev/2.5/migration/\n",
      "[Shard 0/1] map \"extract_company\" to \"('company',)\":  32%|███▏      | 383/1200 [15:00<10:10,  1.34it/s]/var/folders/zn/brkm752x5673zb89tjjqzzs00000gn/T/ipykernel_69441/3762146513.py:33: PydanticDeprecatedSince20: The `dict` method is deprecated; use `model_dump` instead. Deprecated in Pydantic V2.0 to be removed in V3.0. See Pydantic V2 Migration Guide at https://errors.pydantic.dev/2.5/migration/\n",
      "[Shard 0/1] map \"extract_company\" to \"('company',)\":  32%|███▏      | 384/1200 [15:01<10:44,  1.27it/s]/var/folders/zn/brkm752x5673zb89tjjqzzs00000gn/T/ipykernel_69441/3762146513.py:33: PydanticDeprecatedSince20: The `dict` method is deprecated; use `model_dump` instead. Deprecated in Pydantic V2.0 to be removed in V3.0. See Pydantic V2 Migration Guide at https://errors.pydantic.dev/2.5/migration/\n",
      "[Shard 0/1] map \"extract_company\" to \"('company',)\":  32%|███▏      | 385/1200 [15:02<11:07,  1.22it/s]/var/folders/zn/brkm752x5673zb89tjjqzzs00000gn/T/ipykernel_69441/3762146513.py:33: PydanticDeprecatedSince20: The `dict` method is deprecated; use `model_dump` instead. Deprecated in Pydantic V2.0 to be removed in V3.0. See Pydantic V2 Migration Guide at https://errors.pydantic.dev/2.5/migration/\n",
      "[Shard 0/1] map \"extract_company\" to \"('company',)\":  32%|███▏      | 386/1200 [15:03<10:55,  1.24it/s]/var/folders/zn/brkm752x5673zb89tjjqzzs00000gn/T/ipykernel_69441/3762146513.py:33: PydanticDeprecatedSince20: The `dict` method is deprecated; use `model_dump` instead. Deprecated in Pydantic V2.0 to be removed in V3.0. See Pydantic V2 Migration Guide at https://errors.pydantic.dev/2.5/migration/\n",
      "[Shard 0/1] map \"extract_company\" to \"('company',)\":  32%|███▏      | 387/1200 [15:04<10:02,  1.35it/s]/var/folders/zn/brkm752x5673zb89tjjqzzs00000gn/T/ipykernel_69441/3762146513.py:33: PydanticDeprecatedSince20: The `dict` method is deprecated; use `model_dump` instead. Deprecated in Pydantic V2.0 to be removed in V3.0. See Pydantic V2 Migration Guide at https://errors.pydantic.dev/2.5/migration/\n",
      "[Shard 0/1] map \"extract_company\" to \"('company',)\":  32%|███▏      | 388/1200 [15:04<10:15,  1.32it/s]/var/folders/zn/brkm752x5673zb89tjjqzzs00000gn/T/ipykernel_69441/3762146513.py:33: PydanticDeprecatedSince20: The `dict` method is deprecated; use `model_dump` instead. Deprecated in Pydantic V2.0 to be removed in V3.0. See Pydantic V2 Migration Guide at https://errors.pydantic.dev/2.5/migration/\n",
      "[Shard 0/1] map \"extract_company\" to \"('company',)\":  32%|███▏      | 389/1200 [15:05<10:51,  1.25it/s]/var/folders/zn/brkm752x5673zb89tjjqzzs00000gn/T/ipykernel_69441/3762146513.py:33: PydanticDeprecatedSince20: The `dict` method is deprecated; use `model_dump` instead. Deprecated in Pydantic V2.0 to be removed in V3.0. See Pydantic V2 Migration Guide at https://errors.pydantic.dev/2.5/migration/\n",
      "[Shard 0/1] map \"extract_company\" to \"('company',)\":  32%|███▎      | 390/1200 [15:06<10:06,  1.34it/s]/var/folders/zn/brkm752x5673zb89tjjqzzs00000gn/T/ipykernel_69441/3762146513.py:33: PydanticDeprecatedSince20: The `dict` method is deprecated; use `model_dump` instead. Deprecated in Pydantic V2.0 to be removed in V3.0. See Pydantic V2 Migration Guide at https://errors.pydantic.dev/2.5/migration/\n",
      "[Shard 0/1] map \"extract_company\" to \"('company',)\":  33%|███▎      | 391/1200 [15:07<10:22,  1.30it/s]/var/folders/zn/brkm752x5673zb89tjjqzzs00000gn/T/ipykernel_69441/3762146513.py:33: PydanticDeprecatedSince20: The `dict` method is deprecated; use `model_dump` instead. Deprecated in Pydantic V2.0 to be removed in V3.0. See Pydantic V2 Migration Guide at https://errors.pydantic.dev/2.5/migration/\n",
      "[Shard 0/1] map \"extract_company\" to \"('company',)\":  33%|███▎      | 392/1200 [15:07<09:35,  1.40it/s]/var/folders/zn/brkm752x5673zb89tjjqzzs00000gn/T/ipykernel_69441/3762146513.py:33: PydanticDeprecatedSince20: The `dict` method is deprecated; use `model_dump` instead. Deprecated in Pydantic V2.0 to be removed in V3.0. See Pydantic V2 Migration Guide at https://errors.pydantic.dev/2.5/migration/\n",
      "[Shard 0/1] map \"extract_company\" to \"('company',)\":  33%|███▎      | 393/1200 [15:08<09:42,  1.39it/s]/var/folders/zn/brkm752x5673zb89tjjqzzs00000gn/T/ipykernel_69441/3762146513.py:33: PydanticDeprecatedSince20: The `dict` method is deprecated; use `model_dump` instead. Deprecated in Pydantic V2.0 to be removed in V3.0. See Pydantic V2 Migration Guide at https://errors.pydantic.dev/2.5/migration/\n",
      "[Shard 0/1] map \"extract_company\" to \"('company',)\":  33%|███▎      | 394/1200 [15:09<09:18,  1.44it/s]/var/folders/zn/brkm752x5673zb89tjjqzzs00000gn/T/ipykernel_69441/3762146513.py:33: PydanticDeprecatedSince20: The `dict` method is deprecated; use `model_dump` instead. Deprecated in Pydantic V2.0 to be removed in V3.0. See Pydantic V2 Migration Guide at https://errors.pydantic.dev/2.5/migration/\n",
      "[Shard 0/1] map \"extract_company\" to \"('company',)\":  33%|███▎      | 395/1200 [15:09<09:27,  1.42it/s]/var/folders/zn/brkm752x5673zb89tjjqzzs00000gn/T/ipykernel_69441/3762146513.py:33: PydanticDeprecatedSince20: The `dict` method is deprecated; use `model_dump` instead. Deprecated in Pydantic V2.0 to be removed in V3.0. See Pydantic V2 Migration Guide at https://errors.pydantic.dev/2.5/migration/\n",
      "[Shard 0/1] map \"extract_company\" to \"('company',)\":  33%|███▎      | 396/1200 [15:10<09:57,  1.35it/s]/var/folders/zn/brkm752x5673zb89tjjqzzs00000gn/T/ipykernel_69441/3762146513.py:33: PydanticDeprecatedSince20: The `dict` method is deprecated; use `model_dump` instead. Deprecated in Pydantic V2.0 to be removed in V3.0. See Pydantic V2 Migration Guide at https://errors.pydantic.dev/2.5/migration/\n",
      "[Shard 0/1] map \"extract_company\" to \"('company',)\":  33%|███▎      | 397/1200 [15:11<10:30,  1.27it/s]/var/folders/zn/brkm752x5673zb89tjjqzzs00000gn/T/ipykernel_69441/3762146513.py:33: PydanticDeprecatedSince20: The `dict` method is deprecated; use `model_dump` instead. Deprecated in Pydantic V2.0 to be removed in V3.0. See Pydantic V2 Migration Guide at https://errors.pydantic.dev/2.5/migration/\n",
      "[Shard 0/1] map \"extract_company\" to \"('company',)\":  33%|███▎      | 398/1200 [15:12<10:39,  1.25it/s]/var/folders/zn/brkm752x5673zb89tjjqzzs00000gn/T/ipykernel_69441/3762146513.py:33: PydanticDeprecatedSince20: The `dict` method is deprecated; use `model_dump` instead. Deprecated in Pydantic V2.0 to be removed in V3.0. See Pydantic V2 Migration Guide at https://errors.pydantic.dev/2.5/migration/\n",
      "[Shard 0/1] map \"extract_company\" to \"('company',)\":  33%|███▎      | 399/1200 [15:13<11:08,  1.20it/s]/var/folders/zn/brkm752x5673zb89tjjqzzs00000gn/T/ipykernel_69441/3762146513.py:33: PydanticDeprecatedSince20: The `dict` method is deprecated; use `model_dump` instead. Deprecated in Pydantic V2.0 to be removed in V3.0. See Pydantic V2 Migration Guide at https://errors.pydantic.dev/2.5/migration/\n",
      "[Shard 0/1] map \"extract_company\" to \"('company',)\":  33%|███▎      | 400/1200 [15:14<11:07,  1.20it/s]/var/folders/zn/brkm752x5673zb89tjjqzzs00000gn/T/ipykernel_69441/3762146513.py:33: PydanticDeprecatedSince20: The `dict` method is deprecated; use `model_dump` instead. Deprecated in Pydantic V2.0 to be removed in V3.0. See Pydantic V2 Migration Guide at https://errors.pydantic.dev/2.5/migration/\n",
      "[Shard 0/1] map \"extract_company\" to \"('company',)\":  33%|███▎      | 401/1200 [15:15<11:24,  1.17it/s]/var/folders/zn/brkm752x5673zb89tjjqzzs00000gn/T/ipykernel_69441/3762146513.py:33: PydanticDeprecatedSince20: The `dict` method is deprecated; use `model_dump` instead. Deprecated in Pydantic V2.0 to be removed in V3.0. See Pydantic V2 Migration Guide at https://errors.pydantic.dev/2.5/migration/\n",
      "[Shard 0/1] map \"extract_company\" to \"('company',)\":  34%|███▎      | 402/1200 [15:15<11:39,  1.14it/s]/var/folders/zn/brkm752x5673zb89tjjqzzs00000gn/T/ipykernel_69441/3762146513.py:33: PydanticDeprecatedSince20: The `dict` method is deprecated; use `model_dump` instead. Deprecated in Pydantic V2.0 to be removed in V3.0. See Pydantic V2 Migration Guide at https://errors.pydantic.dev/2.5/migration/\n",
      "[Shard 0/1] map \"extract_company\" to \"('company',)\":  34%|███▎      | 403/1200 [15:16<11:00,  1.21it/s]/var/folders/zn/brkm752x5673zb89tjjqzzs00000gn/T/ipykernel_69441/3762146513.py:33: PydanticDeprecatedSince20: The `dict` method is deprecated; use `model_dump` instead. Deprecated in Pydantic V2.0 to be removed in V3.0. See Pydantic V2 Migration Guide at https://errors.pydantic.dev/2.5/migration/\n",
      "[Shard 0/1] map \"extract_company\" to \"('company',)\":  34%|███▎      | 404/1200 [15:17<10:55,  1.21it/s]/var/folders/zn/brkm752x5673zb89tjjqzzs00000gn/T/ipykernel_69441/3762146513.py:33: PydanticDeprecatedSince20: The `dict` method is deprecated; use `model_dump` instead. Deprecated in Pydantic V2.0 to be removed in V3.0. See Pydantic V2 Migration Guide at https://errors.pydantic.dev/2.5/migration/\n",
      "[Shard 0/1] map \"extract_company\" to \"('company',)\":  34%|███▍      | 405/1200 [15:18<10:47,  1.23it/s]/var/folders/zn/brkm752x5673zb89tjjqzzs00000gn/T/ipykernel_69441/3762146513.py:33: PydanticDeprecatedSince20: The `dict` method is deprecated; use `model_dump` instead. Deprecated in Pydantic V2.0 to be removed in V3.0. See Pydantic V2 Migration Guide at https://errors.pydantic.dev/2.5/migration/\n",
      "[Shard 0/1] map \"extract_company\" to \"('company',)\":  34%|███▍      | 406/1200 [15:19<10:54,  1.21it/s]/var/folders/zn/brkm752x5673zb89tjjqzzs00000gn/T/ipykernel_69441/3762146513.py:33: PydanticDeprecatedSince20: The `dict` method is deprecated; use `model_dump` instead. Deprecated in Pydantic V2.0 to be removed in V3.0. See Pydantic V2 Migration Guide at https://errors.pydantic.dev/2.5/migration/\n",
      "[Shard 0/1] map \"extract_company\" to \"('company',)\":  34%|███▍      | 407/1200 [15:19<10:17,  1.29it/s]/var/folders/zn/brkm752x5673zb89tjjqzzs00000gn/T/ipykernel_69441/3762146513.py:33: PydanticDeprecatedSince20: The `dict` method is deprecated; use `model_dump` instead. Deprecated in Pydantic V2.0 to be removed in V3.0. See Pydantic V2 Migration Guide at https://errors.pydantic.dev/2.5/migration/\n",
      "[Shard 0/1] map \"extract_company\" to \"('company',)\":  34%|███▍      | 408/1200 [15:20<11:01,  1.20it/s]/var/folders/zn/brkm752x5673zb89tjjqzzs00000gn/T/ipykernel_69441/3762146513.py:33: PydanticDeprecatedSince20: The `dict` method is deprecated; use `model_dump` instead. Deprecated in Pydantic V2.0 to be removed in V3.0. See Pydantic V2 Migration Guide at https://errors.pydantic.dev/2.5/migration/\n",
      "[Shard 0/1] map \"extract_company\" to \"('company',)\":  34%|███▍      | 409/1200 [15:21<09:55,  1.33it/s]/var/folders/zn/brkm752x5673zb89tjjqzzs00000gn/T/ipykernel_69441/3762146513.py:33: PydanticDeprecatedSince20: The `dict` method is deprecated; use `model_dump` instead. Deprecated in Pydantic V2.0 to be removed in V3.0. See Pydantic V2 Migration Guide at https://errors.pydantic.dev/2.5/migration/\n",
      "[Shard 0/1] map \"extract_company\" to \"('company',)\":  34%|███▍      | 410/1200 [15:22<10:21,  1.27it/s]/var/folders/zn/brkm752x5673zb89tjjqzzs00000gn/T/ipykernel_69441/3762146513.py:33: PydanticDeprecatedSince20: The `dict` method is deprecated; use `model_dump` instead. Deprecated in Pydantic V2.0 to be removed in V3.0. See Pydantic V2 Migration Guide at https://errors.pydantic.dev/2.5/migration/\n",
      "[Shard 0/1] map \"extract_company\" to \"('company',)\":  34%|███▍      | 411/1200 [15:23<10:31,  1.25it/s]/var/folders/zn/brkm752x5673zb89tjjqzzs00000gn/T/ipykernel_69441/3762146513.py:33: PydanticDeprecatedSince20: The `dict` method is deprecated; use `model_dump` instead. Deprecated in Pydantic V2.0 to be removed in V3.0. See Pydantic V2 Migration Guide at https://errors.pydantic.dev/2.5/migration/\n",
      "[Shard 0/1] map \"extract_company\" to \"('company',)\":  34%|███▍      | 412/1200 [15:23<10:18,  1.27it/s]/var/folders/zn/brkm752x5673zb89tjjqzzs00000gn/T/ipykernel_69441/3762146513.py:33: PydanticDeprecatedSince20: The `dict` method is deprecated; use `model_dump` instead. Deprecated in Pydantic V2.0 to be removed in V3.0. See Pydantic V2 Migration Guide at https://errors.pydantic.dev/2.5/migration/\n",
      "[Shard 0/1] map \"extract_company\" to \"('company',)\":  34%|███▍      | 413/1200 [15:24<10:23,  1.26it/s]/var/folders/zn/brkm752x5673zb89tjjqzzs00000gn/T/ipykernel_69441/3762146513.py:33: PydanticDeprecatedSince20: The `dict` method is deprecated; use `model_dump` instead. Deprecated in Pydantic V2.0 to be removed in V3.0. See Pydantic V2 Migration Guide at https://errors.pydantic.dev/2.5/migration/\n",
      "[Shard 0/1] map \"extract_company\" to \"('company',)\":  34%|███▍      | 414/1200 [15:25<09:28,  1.38it/s]/var/folders/zn/brkm752x5673zb89tjjqzzs00000gn/T/ipykernel_69441/3762146513.py:33: PydanticDeprecatedSince20: The `dict` method is deprecated; use `model_dump` instead. Deprecated in Pydantic V2.0 to be removed in V3.0. See Pydantic V2 Migration Guide at https://errors.pydantic.dev/2.5/migration/\n",
      "[Shard 0/1] map \"extract_company\" to \"('company',)\":  35%|███▍      | 415/1200 [15:26<09:53,  1.32it/s]/var/folders/zn/brkm752x5673zb89tjjqzzs00000gn/T/ipykernel_69441/3762146513.py:33: PydanticDeprecatedSince20: The `dict` method is deprecated; use `model_dump` instead. Deprecated in Pydantic V2.0 to be removed in V3.0. See Pydantic V2 Migration Guide at https://errors.pydantic.dev/2.5/migration/\n",
      "[Shard 0/1] map \"extract_company\" to \"('company',)\":  35%|███▍      | 416/1200 [15:26<10:04,  1.30it/s]/var/folders/zn/brkm752x5673zb89tjjqzzs00000gn/T/ipykernel_69441/3762146513.py:33: PydanticDeprecatedSince20: The `dict` method is deprecated; use `model_dump` instead. Deprecated in Pydantic V2.0 to be removed in V3.0. See Pydantic V2 Migration Guide at https://errors.pydantic.dev/2.5/migration/\n",
      "[Shard 0/1] map \"extract_company\" to \"('company',)\":  35%|███▍      | 417/1200 [15:27<10:22,  1.26it/s]/var/folders/zn/brkm752x5673zb89tjjqzzs00000gn/T/ipykernel_69441/3762146513.py:33: PydanticDeprecatedSince20: The `dict` method is deprecated; use `model_dump` instead. Deprecated in Pydantic V2.0 to be removed in V3.0. See Pydantic V2 Migration Guide at https://errors.pydantic.dev/2.5/migration/\n",
      "[Shard 0/1] map \"extract_company\" to \"('company',)\":  35%|███▍      | 418/1200 [15:28<10:25,  1.25it/s]/var/folders/zn/brkm752x5673zb89tjjqzzs00000gn/T/ipykernel_69441/3762146513.py:33: PydanticDeprecatedSince20: The `dict` method is deprecated; use `model_dump` instead. Deprecated in Pydantic V2.0 to be removed in V3.0. See Pydantic V2 Migration Guide at https://errors.pydantic.dev/2.5/migration/\n",
      "[Shard 0/1] map \"extract_company\" to \"('company',)\":  35%|███▍      | 419/1200 [15:30<14:28,  1.11s/it]/var/folders/zn/brkm752x5673zb89tjjqzzs00000gn/T/ipykernel_69441/3762146513.py:33: PydanticDeprecatedSince20: The `dict` method is deprecated; use `model_dump` instead. Deprecated in Pydantic V2.0 to be removed in V3.0. See Pydantic V2 Migration Guide at https://errors.pydantic.dev/2.5/migration/\n",
      "[Shard 0/1] map \"extract_company\" to \"('company',)\":  35%|███▌      | 420/1200 [15:31<13:37,  1.05s/it]/var/folders/zn/brkm752x5673zb89tjjqzzs00000gn/T/ipykernel_69441/3762146513.py:33: PydanticDeprecatedSince20: The `dict` method is deprecated; use `model_dump` instead. Deprecated in Pydantic V2.0 to be removed in V3.0. See Pydantic V2 Migration Guide at https://errors.pydantic.dev/2.5/migration/\n",
      "[Shard 0/1] map \"extract_company\" to \"('company',)\":  35%|███▌      | 421/1200 [15:31<11:43,  1.11it/s]/var/folders/zn/brkm752x5673zb89tjjqzzs00000gn/T/ipykernel_69441/3762146513.py:33: PydanticDeprecatedSince20: The `dict` method is deprecated; use `model_dump` instead. Deprecated in Pydantic V2.0 to be removed in V3.0. See Pydantic V2 Migration Guide at https://errors.pydantic.dev/2.5/migration/\n",
      "[Shard 0/1] map \"extract_company\" to \"('company',)\":  35%|███▌      | 422/1200 [15:32<10:23,  1.25it/s]/var/folders/zn/brkm752x5673zb89tjjqzzs00000gn/T/ipykernel_69441/3762146513.py:33: PydanticDeprecatedSince20: The `dict` method is deprecated; use `model_dump` instead. Deprecated in Pydantic V2.0 to be removed in V3.0. See Pydantic V2 Migration Guide at https://errors.pydantic.dev/2.5/migration/\n",
      "[Shard 0/1] map \"extract_company\" to \"('company',)\":  35%|███▌      | 423/1200 [15:33<10:32,  1.23it/s]/var/folders/zn/brkm752x5673zb89tjjqzzs00000gn/T/ipykernel_69441/3762146513.py:33: PydanticDeprecatedSince20: The `dict` method is deprecated; use `model_dump` instead. Deprecated in Pydantic V2.0 to be removed in V3.0. See Pydantic V2 Migration Guide at https://errors.pydantic.dev/2.5/migration/\n",
      "[Shard 0/1] map \"extract_company\" to \"('company',)\":  35%|███▌      | 424/1200 [15:34<10:41,  1.21it/s]/var/folders/zn/brkm752x5673zb89tjjqzzs00000gn/T/ipykernel_69441/3762146513.py:33: PydanticDeprecatedSince20: The `dict` method is deprecated; use `model_dump` instead. Deprecated in Pydantic V2.0 to be removed in V3.0. See Pydantic V2 Migration Guide at https://errors.pydantic.dev/2.5/migration/\n",
      "[Shard 0/1] map \"extract_company\" to \"('company',)\":  35%|███▌      | 425/1200 [15:34<10:31,  1.23it/s]/var/folders/zn/brkm752x5673zb89tjjqzzs00000gn/T/ipykernel_69441/3762146513.py:33: PydanticDeprecatedSince20: The `dict` method is deprecated; use `model_dump` instead. Deprecated in Pydantic V2.0 to be removed in V3.0. See Pydantic V2 Migration Guide at https://errors.pydantic.dev/2.5/migration/\n",
      "[Shard 0/1] map \"extract_company\" to \"('company',)\":  36%|███▌      | 426/1200 [15:35<10:12,  1.26it/s]/var/folders/zn/brkm752x5673zb89tjjqzzs00000gn/T/ipykernel_69441/3762146513.py:33: PydanticDeprecatedSince20: The `dict` method is deprecated; use `model_dump` instead. Deprecated in Pydantic V2.0 to be removed in V3.0. See Pydantic V2 Migration Guide at https://errors.pydantic.dev/2.5/migration/\n",
      "[Shard 0/1] map \"extract_company\" to \"('company',)\":  36%|███▌      | 427/1200 [15:36<09:15,  1.39it/s]/var/folders/zn/brkm752x5673zb89tjjqzzs00000gn/T/ipykernel_69441/3762146513.py:33: PydanticDeprecatedSince20: The `dict` method is deprecated; use `model_dump` instead. Deprecated in Pydantic V2.0 to be removed in V3.0. See Pydantic V2 Migration Guide at https://errors.pydantic.dev/2.5/migration/\n",
      "[Shard 0/1] map \"extract_company\" to \"('company',)\":  36%|███▌      | 428/1200 [15:36<08:44,  1.47it/s]/var/folders/zn/brkm752x5673zb89tjjqzzs00000gn/T/ipykernel_69441/3762146513.py:33: PydanticDeprecatedSince20: The `dict` method is deprecated; use `model_dump` instead. Deprecated in Pydantic V2.0 to be removed in V3.0. See Pydantic V2 Migration Guide at https://errors.pydantic.dev/2.5/migration/\n",
      "[Shard 0/1] map \"extract_company\" to \"('company',)\":  36%|███▌      | 429/1200 [15:37<10:39,  1.21it/s]/var/folders/zn/brkm752x5673zb89tjjqzzs00000gn/T/ipykernel_69441/3762146513.py:33: PydanticDeprecatedSince20: The `dict` method is deprecated; use `model_dump` instead. Deprecated in Pydantic V2.0 to be removed in V3.0. See Pydantic V2 Migration Guide at https://errors.pydantic.dev/2.5/migration/\n",
      "[Shard 0/1] map \"extract_company\" to \"('company',)\":  36%|███▌      | 430/1200 [15:38<10:12,  1.26it/s]/var/folders/zn/brkm752x5673zb89tjjqzzs00000gn/T/ipykernel_69441/3762146513.py:33: PydanticDeprecatedSince20: The `dict` method is deprecated; use `model_dump` instead. Deprecated in Pydantic V2.0 to be removed in V3.0. See Pydantic V2 Migration Guide at https://errors.pydantic.dev/2.5/migration/\n",
      "[Shard 0/1] map \"extract_company\" to \"('company',)\":  36%|███▌      | 431/1200 [15:39<10:02,  1.28it/s]/var/folders/zn/brkm752x5673zb89tjjqzzs00000gn/T/ipykernel_69441/3762146513.py:33: PydanticDeprecatedSince20: The `dict` method is deprecated; use `model_dump` instead. Deprecated in Pydantic V2.0 to be removed in V3.0. See Pydantic V2 Migration Guide at https://errors.pydantic.dev/2.5/migration/\n",
      "[Shard 0/1] map \"extract_company\" to \"('company',)\":  36%|███▌      | 432/1200 [15:40<09:51,  1.30it/s]/var/folders/zn/brkm752x5673zb89tjjqzzs00000gn/T/ipykernel_69441/3762146513.py:33: PydanticDeprecatedSince20: The `dict` method is deprecated; use `model_dump` instead. Deprecated in Pydantic V2.0 to be removed in V3.0. See Pydantic V2 Migration Guide at https://errors.pydantic.dev/2.5/migration/\n",
      "[Shard 0/1] map \"extract_company\" to \"('company',)\":  36%|███▌      | 433/1200 [15:40<10:10,  1.26it/s]/var/folders/zn/brkm752x5673zb89tjjqzzs00000gn/T/ipykernel_69441/3762146513.py:33: PydanticDeprecatedSince20: The `dict` method is deprecated; use `model_dump` instead. Deprecated in Pydantic V2.0 to be removed in V3.0. See Pydantic V2 Migration Guide at https://errors.pydantic.dev/2.5/migration/\n",
      "[Shard 0/1] map \"extract_company\" to \"('company',)\":  36%|███▌      | 434/1200 [15:41<10:49,  1.18it/s]/var/folders/zn/brkm752x5673zb89tjjqzzs00000gn/T/ipykernel_69441/3762146513.py:33: PydanticDeprecatedSince20: The `dict` method is deprecated; use `model_dump` instead. Deprecated in Pydantic V2.0 to be removed in V3.0. See Pydantic V2 Migration Guide at https://errors.pydantic.dev/2.5/migration/\n",
      "[Shard 0/1] map \"extract_company\" to \"('company',)\":  36%|███▋      | 435/1200 [15:42<10:38,  1.20it/s]/var/folders/zn/brkm752x5673zb89tjjqzzs00000gn/T/ipykernel_69441/3762146513.py:33: PydanticDeprecatedSince20: The `dict` method is deprecated; use `model_dump` instead. Deprecated in Pydantic V2.0 to be removed in V3.0. See Pydantic V2 Migration Guide at https://errors.pydantic.dev/2.5/migration/\n",
      "[Shard 0/1] map \"extract_company\" to \"('company',)\":  36%|███▋      | 436/1200 [15:43<10:32,  1.21it/s]/var/folders/zn/brkm752x5673zb89tjjqzzs00000gn/T/ipykernel_69441/3762146513.py:33: PydanticDeprecatedSince20: The `dict` method is deprecated; use `model_dump` instead. Deprecated in Pydantic V2.0 to be removed in V3.0. See Pydantic V2 Migration Guide at https://errors.pydantic.dev/2.5/migration/\n",
      "[Shard 0/1] map \"extract_company\" to \"('company',)\":  36%|███▋      | 437/1200 [15:44<09:48,  1.30it/s]/var/folders/zn/brkm752x5673zb89tjjqzzs00000gn/T/ipykernel_69441/3762146513.py:33: PydanticDeprecatedSince20: The `dict` method is deprecated; use `model_dump` instead. Deprecated in Pydantic V2.0 to be removed in V3.0. See Pydantic V2 Migration Guide at https://errors.pydantic.dev/2.5/migration/\n",
      "[Shard 0/1] map \"extract_company\" to \"('company',)\":  36%|███▋      | 438/1200 [15:44<09:52,  1.29it/s]/var/folders/zn/brkm752x5673zb89tjjqzzs00000gn/T/ipykernel_69441/3762146513.py:33: PydanticDeprecatedSince20: The `dict` method is deprecated; use `model_dump` instead. Deprecated in Pydantic V2.0 to be removed in V3.0. See Pydantic V2 Migration Guide at https://errors.pydantic.dev/2.5/migration/\n",
      "[Shard 0/1] map \"extract_company\" to \"('company',)\":  37%|███▋      | 439/1200 [15:45<09:58,  1.27it/s]/var/folders/zn/brkm752x5673zb89tjjqzzs00000gn/T/ipykernel_69441/3762146513.py:33: PydanticDeprecatedSince20: The `dict` method is deprecated; use `model_dump` instead. Deprecated in Pydantic V2.0 to be removed in V3.0. See Pydantic V2 Migration Guide at https://errors.pydantic.dev/2.5/migration/\n",
      "[Shard 0/1] map \"extract_company\" to \"('company',)\":  37%|███▋      | 440/1200 [15:46<09:09,  1.38it/s]/var/folders/zn/brkm752x5673zb89tjjqzzs00000gn/T/ipykernel_69441/3762146513.py:33: PydanticDeprecatedSince20: The `dict` method is deprecated; use `model_dump` instead. Deprecated in Pydantic V2.0 to be removed in V3.0. See Pydantic V2 Migration Guide at https://errors.pydantic.dev/2.5/migration/\n",
      "[Shard 0/1] map \"extract_company\" to \"('company',)\":  37%|███▋      | 441/1200 [15:47<08:52,  1.42it/s]/var/folders/zn/brkm752x5673zb89tjjqzzs00000gn/T/ipykernel_69441/3762146513.py:33: PydanticDeprecatedSince20: The `dict` method is deprecated; use `model_dump` instead. Deprecated in Pydantic V2.0 to be removed in V3.0. See Pydantic V2 Migration Guide at https://errors.pydantic.dev/2.5/migration/\n",
      "[Shard 0/1] map \"extract_company\" to \"('company',)\":  37%|███▋      | 442/1200 [15:47<09:14,  1.37it/s]/var/folders/zn/brkm752x5673zb89tjjqzzs00000gn/T/ipykernel_69441/3762146513.py:33: PydanticDeprecatedSince20: The `dict` method is deprecated; use `model_dump` instead. Deprecated in Pydantic V2.0 to be removed in V3.0. See Pydantic V2 Migration Guide at https://errors.pydantic.dev/2.5/migration/\n",
      "[Shard 0/1] map \"extract_company\" to \"('company',)\":  37%|███▋      | 443/1200 [15:48<09:26,  1.34it/s]/var/folders/zn/brkm752x5673zb89tjjqzzs00000gn/T/ipykernel_69441/3762146513.py:33: PydanticDeprecatedSince20: The `dict` method is deprecated; use `model_dump` instead. Deprecated in Pydantic V2.0 to be removed in V3.0. See Pydantic V2 Migration Guide at https://errors.pydantic.dev/2.5/migration/\n",
      "[Shard 0/1] map \"extract_company\" to \"('company',)\":  37%|███▋      | 444/1200 [15:49<09:39,  1.31it/s]/var/folders/zn/brkm752x5673zb89tjjqzzs00000gn/T/ipykernel_69441/3762146513.py:33: PydanticDeprecatedSince20: The `dict` method is deprecated; use `model_dump` instead. Deprecated in Pydantic V2.0 to be removed in V3.0. See Pydantic V2 Migration Guide at https://errors.pydantic.dev/2.5/migration/\n",
      "[Shard 0/1] map \"extract_company\" to \"('company',)\":  37%|███▋      | 445/1200 [15:49<08:47,  1.43it/s]/var/folders/zn/brkm752x5673zb89tjjqzzs00000gn/T/ipykernel_69441/3762146513.py:33: PydanticDeprecatedSince20: The `dict` method is deprecated; use `model_dump` instead. Deprecated in Pydantic V2.0 to be removed in V3.0. See Pydantic V2 Migration Guide at https://errors.pydantic.dev/2.5/migration/\n",
      "[Shard 0/1] map \"extract_company\" to \"('company',)\":  37%|███▋      | 446/1200 [15:50<09:09,  1.37it/s]/var/folders/zn/brkm752x5673zb89tjjqzzs00000gn/T/ipykernel_69441/3762146513.py:33: PydanticDeprecatedSince20: The `dict` method is deprecated; use `model_dump` instead. Deprecated in Pydantic V2.0 to be removed in V3.0. See Pydantic V2 Migration Guide at https://errors.pydantic.dev/2.5/migration/\n",
      "[Shard 0/1] map \"extract_company\" to \"('company',)\":  37%|███▋      | 447/1200 [15:51<10:07,  1.24it/s]/var/folders/zn/brkm752x5673zb89tjjqzzs00000gn/T/ipykernel_69441/3762146513.py:33: PydanticDeprecatedSince20: The `dict` method is deprecated; use `model_dump` instead. Deprecated in Pydantic V2.0 to be removed in V3.0. See Pydantic V2 Migration Guide at https://errors.pydantic.dev/2.5/migration/\n",
      "[Shard 0/1] map \"extract_company\" to \"('company',)\":  37%|███▋      | 448/1200 [15:52<10:07,  1.24it/s]/var/folders/zn/brkm752x5673zb89tjjqzzs00000gn/T/ipykernel_69441/3762146513.py:33: PydanticDeprecatedSince20: The `dict` method is deprecated; use `model_dump` instead. Deprecated in Pydantic V2.0 to be removed in V3.0. See Pydantic V2 Migration Guide at https://errors.pydantic.dev/2.5/migration/\n",
      "[Shard 0/1] map \"extract_company\" to \"('company',)\":  37%|███▋      | 449/1200 [15:53<10:10,  1.23it/s]/var/folders/zn/brkm752x5673zb89tjjqzzs00000gn/T/ipykernel_69441/3762146513.py:33: PydanticDeprecatedSince20: The `dict` method is deprecated; use `model_dump` instead. Deprecated in Pydantic V2.0 to be removed in V3.0. See Pydantic V2 Migration Guide at https://errors.pydantic.dev/2.5/migration/\n",
      "[Shard 0/1] map \"extract_company\" to \"('company',)\":  38%|███▊      | 450/1200 [15:53<09:16,  1.35it/s]/var/folders/zn/brkm752x5673zb89tjjqzzs00000gn/T/ipykernel_69441/3762146513.py:33: PydanticDeprecatedSince20: The `dict` method is deprecated; use `model_dump` instead. Deprecated in Pydantic V2.0 to be removed in V3.0. See Pydantic V2 Migration Guide at https://errors.pydantic.dev/2.5/migration/\n",
      "[Shard 0/1] map \"extract_company\" to \"('company',)\":  38%|███▊      | 451/1200 [15:55<11:12,  1.11it/s]/var/folders/zn/brkm752x5673zb89tjjqzzs00000gn/T/ipykernel_69441/3762146513.py:33: PydanticDeprecatedSince20: The `dict` method is deprecated; use `model_dump` instead. Deprecated in Pydantic V2.0 to be removed in V3.0. See Pydantic V2 Migration Guide at https://errors.pydantic.dev/2.5/migration/\n",
      "[Shard 0/1] map \"extract_company\" to \"('company',)\":  38%|███▊      | 452/1200 [15:55<10:08,  1.23it/s]/var/folders/zn/brkm752x5673zb89tjjqzzs00000gn/T/ipykernel_69441/3762146513.py:33: PydanticDeprecatedSince20: The `dict` method is deprecated; use `model_dump` instead. Deprecated in Pydantic V2.0 to be removed in V3.0. See Pydantic V2 Migration Guide at https://errors.pydantic.dev/2.5/migration/\n",
      "[Shard 0/1] map \"extract_company\" to \"('company',)\":  38%|███▊      | 453/1200 [15:56<10:38,  1.17it/s]/var/folders/zn/brkm752x5673zb89tjjqzzs00000gn/T/ipykernel_69441/3762146513.py:33: PydanticDeprecatedSince20: The `dict` method is deprecated; use `model_dump` instead. Deprecated in Pydantic V2.0 to be removed in V3.0. See Pydantic V2 Migration Guide at https://errors.pydantic.dev/2.5/migration/\n",
      "[Shard 0/1] map \"extract_company\" to \"('company',)\":  38%|███▊      | 454/1200 [15:57<10:00,  1.24it/s]/var/folders/zn/brkm752x5673zb89tjjqzzs00000gn/T/ipykernel_69441/3762146513.py:33: PydanticDeprecatedSince20: The `dict` method is deprecated; use `model_dump` instead. Deprecated in Pydantic V2.0 to be removed in V3.0. See Pydantic V2 Migration Guide at https://errors.pydantic.dev/2.5/migration/\n",
      "[Shard 0/1] map \"extract_company\" to \"('company',)\":  38%|███▊      | 455/1200 [15:58<09:10,  1.35it/s]/var/folders/zn/brkm752x5673zb89tjjqzzs00000gn/T/ipykernel_69441/3762146513.py:33: PydanticDeprecatedSince20: The `dict` method is deprecated; use `model_dump` instead. Deprecated in Pydantic V2.0 to be removed in V3.0. See Pydantic V2 Migration Guide at https://errors.pydantic.dev/2.5/migration/\n",
      "[Shard 0/1] map \"extract_company\" to \"('company',)\":  38%|███▊      | 456/1200 [15:58<08:47,  1.41it/s]/var/folders/zn/brkm752x5673zb89tjjqzzs00000gn/T/ipykernel_69441/3762146513.py:33: PydanticDeprecatedSince20: The `dict` method is deprecated; use `model_dump` instead. Deprecated in Pydantic V2.0 to be removed in V3.0. See Pydantic V2 Migration Guide at https://errors.pydantic.dev/2.5/migration/\n",
      "[Shard 0/1] map \"extract_company\" to \"('company',)\":  38%|███▊      | 457/1200 [15:59<09:28,  1.31it/s]/var/folders/zn/brkm752x5673zb89tjjqzzs00000gn/T/ipykernel_69441/3762146513.py:33: PydanticDeprecatedSince20: The `dict` method is deprecated; use `model_dump` instead. Deprecated in Pydantic V2.0 to be removed in V3.0. See Pydantic V2 Migration Guide at https://errors.pydantic.dev/2.5/migration/\n",
      "[Shard 0/1] map \"extract_company\" to \"('company',)\":  38%|███▊      | 458/1200 [16:00<10:10,  1.21it/s]/var/folders/zn/brkm752x5673zb89tjjqzzs00000gn/T/ipykernel_69441/3762146513.py:33: PydanticDeprecatedSince20: The `dict` method is deprecated; use `model_dump` instead. Deprecated in Pydantic V2.0 to be removed in V3.0. See Pydantic V2 Migration Guide at https://errors.pydantic.dev/2.5/migration/\n",
      "[Shard 0/1] map \"extract_company\" to \"('company',)\":  38%|███▊      | 459/1200 [16:01<10:07,  1.22it/s]/var/folders/zn/brkm752x5673zb89tjjqzzs00000gn/T/ipykernel_69441/3762146513.py:33: PydanticDeprecatedSince20: The `dict` method is deprecated; use `model_dump` instead. Deprecated in Pydantic V2.0 to be removed in V3.0. See Pydantic V2 Migration Guide at https://errors.pydantic.dev/2.5/migration/\n",
      "[Shard 0/1] map \"extract_company\" to \"('company',)\":  38%|███▊      | 460/1200 [16:01<09:21,  1.32it/s]/var/folders/zn/brkm752x5673zb89tjjqzzs00000gn/T/ipykernel_69441/3762146513.py:33: PydanticDeprecatedSince20: The `dict` method is deprecated; use `model_dump` instead. Deprecated in Pydantic V2.0 to be removed in V3.0. See Pydantic V2 Migration Guide at https://errors.pydantic.dev/2.5/migration/\n",
      "[Shard 0/1] map \"extract_company\" to \"('company',)\":  38%|███▊      | 461/1200 [16:02<09:32,  1.29it/s]/var/folders/zn/brkm752x5673zb89tjjqzzs00000gn/T/ipykernel_69441/3762146513.py:33: PydanticDeprecatedSince20: The `dict` method is deprecated; use `model_dump` instead. Deprecated in Pydantic V2.0 to be removed in V3.0. See Pydantic V2 Migration Guide at https://errors.pydantic.dev/2.5/migration/\n",
      "[Shard 0/1] map \"extract_company\" to \"('company',)\":  38%|███▊      | 462/1200 [16:03<09:42,  1.27it/s]/var/folders/zn/brkm752x5673zb89tjjqzzs00000gn/T/ipykernel_69441/3762146513.py:33: PydanticDeprecatedSince20: The `dict` method is deprecated; use `model_dump` instead. Deprecated in Pydantic V2.0 to be removed in V3.0. See Pydantic V2 Migration Guide at https://errors.pydantic.dev/2.5/migration/\n",
      "[Shard 0/1] map \"extract_company\" to \"('company',)\":  39%|███▊      | 463/1200 [16:04<09:37,  1.28it/s]/var/folders/zn/brkm752x5673zb89tjjqzzs00000gn/T/ipykernel_69441/3762146513.py:33: PydanticDeprecatedSince20: The `dict` method is deprecated; use `model_dump` instead. Deprecated in Pydantic V2.0 to be removed in V3.0. See Pydantic V2 Migration Guide at https://errors.pydantic.dev/2.5/migration/\n",
      "[Shard 0/1] map \"extract_company\" to \"('company',)\":  39%|███▊      | 464/1200 [16:04<08:47,  1.39it/s]/var/folders/zn/brkm752x5673zb89tjjqzzs00000gn/T/ipykernel_69441/3762146513.py:33: PydanticDeprecatedSince20: The `dict` method is deprecated; use `model_dump` instead. Deprecated in Pydantic V2.0 to be removed in V3.0. See Pydantic V2 Migration Guide at https://errors.pydantic.dev/2.5/migration/\n",
      "[Shard 0/1] map \"extract_company\" to \"('company',)\":  39%|███▉      | 465/1200 [16:05<08:25,  1.45it/s]/var/folders/zn/brkm752x5673zb89tjjqzzs00000gn/T/ipykernel_69441/3762146513.py:33: PydanticDeprecatedSince20: The `dict` method is deprecated; use `model_dump` instead. Deprecated in Pydantic V2.0 to be removed in V3.0. See Pydantic V2 Migration Guide at https://errors.pydantic.dev/2.5/migration/\n",
      "[Shard 0/1] map \"extract_company\" to \"('company',)\":  39%|███▉      | 466/1200 [16:06<08:47,  1.39it/s]/var/folders/zn/brkm752x5673zb89tjjqzzs00000gn/T/ipykernel_69441/3762146513.py:33: PydanticDeprecatedSince20: The `dict` method is deprecated; use `model_dump` instead. Deprecated in Pydantic V2.0 to be removed in V3.0. See Pydantic V2 Migration Guide at https://errors.pydantic.dev/2.5/migration/\n",
      "[Shard 0/1] map \"extract_company\" to \"('company',)\":  39%|███▉      | 467/1200 [16:06<08:28,  1.44it/s]/var/folders/zn/brkm752x5673zb89tjjqzzs00000gn/T/ipykernel_69441/3762146513.py:33: PydanticDeprecatedSince20: The `dict` method is deprecated; use `model_dump` instead. Deprecated in Pydantic V2.0 to be removed in V3.0. See Pydantic V2 Migration Guide at https://errors.pydantic.dev/2.5/migration/\n",
      "[Shard 0/1] map \"extract_company\" to \"('company',)\":  39%|███▉      | 468/1200 [16:07<08:00,  1.52it/s]/var/folders/zn/brkm752x5673zb89tjjqzzs00000gn/T/ipykernel_69441/3762146513.py:33: PydanticDeprecatedSince20: The `dict` method is deprecated; use `model_dump` instead. Deprecated in Pydantic V2.0 to be removed in V3.0. See Pydantic V2 Migration Guide at https://errors.pydantic.dev/2.5/migration/\n",
      "[Shard 0/1] map \"extract_company\" to \"('company',)\":  39%|███▉      | 469/1200 [16:08<07:50,  1.55it/s]/var/folders/zn/brkm752x5673zb89tjjqzzs00000gn/T/ipykernel_69441/3762146513.py:33: PydanticDeprecatedSince20: The `dict` method is deprecated; use `model_dump` instead. Deprecated in Pydantic V2.0 to be removed in V3.0. See Pydantic V2 Migration Guide at https://errors.pydantic.dev/2.5/migration/\n",
      "[Shard 0/1] map \"extract_company\" to \"('company',)\":  39%|███▉      | 470/1200 [16:08<08:15,  1.47it/s]/var/folders/zn/brkm752x5673zb89tjjqzzs00000gn/T/ipykernel_69441/3762146513.py:33: PydanticDeprecatedSince20: The `dict` method is deprecated; use `model_dump` instead. Deprecated in Pydantic V2.0 to be removed in V3.0. See Pydantic V2 Migration Guide at https://errors.pydantic.dev/2.5/migration/\n",
      "[Shard 0/1] map \"extract_company\" to \"('company',)\":  39%|███▉      | 471/1200 [16:09<08:48,  1.38it/s]/var/folders/zn/brkm752x5673zb89tjjqzzs00000gn/T/ipykernel_69441/3762146513.py:33: PydanticDeprecatedSince20: The `dict` method is deprecated; use `model_dump` instead. Deprecated in Pydantic V2.0 to be removed in V3.0. See Pydantic V2 Migration Guide at https://errors.pydantic.dev/2.5/migration/\n",
      "[Shard 0/1] map \"extract_company\" to \"('company',)\":  39%|███▉      | 472/1200 [16:10<08:43,  1.39it/s]/var/folders/zn/brkm752x5673zb89tjjqzzs00000gn/T/ipykernel_69441/3762146513.py:33: PydanticDeprecatedSince20: The `dict` method is deprecated; use `model_dump` instead. Deprecated in Pydantic V2.0 to be removed in V3.0. See Pydantic V2 Migration Guide at https://errors.pydantic.dev/2.5/migration/\n",
      "[Shard 0/1] map \"extract_company\" to \"('company',)\":  39%|███▉      | 473/1200 [16:11<09:17,  1.30it/s]/var/folders/zn/brkm752x5673zb89tjjqzzs00000gn/T/ipykernel_69441/3762146513.py:33: PydanticDeprecatedSince20: The `dict` method is deprecated; use `model_dump` instead. Deprecated in Pydantic V2.0 to be removed in V3.0. See Pydantic V2 Migration Guide at https://errors.pydantic.dev/2.5/migration/\n",
      "[Shard 0/1] map \"extract_company\" to \"('company',)\":  40%|███▉      | 474/1200 [16:13<12:43,  1.05s/it]/var/folders/zn/brkm752x5673zb89tjjqzzs00000gn/T/ipykernel_69441/3762146513.py:33: PydanticDeprecatedSince20: The `dict` method is deprecated; use `model_dump` instead. Deprecated in Pydantic V2.0 to be removed in V3.0. See Pydantic V2 Migration Guide at https://errors.pydantic.dev/2.5/migration/\n",
      "[Shard 0/1] map \"extract_company\" to \"('company',)\":  40%|███▉      | 475/1200 [16:13<12:08,  1.00s/it]/var/folders/zn/brkm752x5673zb89tjjqzzs00000gn/T/ipykernel_69441/3762146513.py:33: PydanticDeprecatedSince20: The `dict` method is deprecated; use `model_dump` instead. Deprecated in Pydantic V2.0 to be removed in V3.0. See Pydantic V2 Migration Guide at https://errors.pydantic.dev/2.5/migration/\n",
      "[Shard 0/1] map \"extract_company\" to \"('company',)\":  40%|███▉      | 476/1200 [16:14<10:53,  1.11it/s]/var/folders/zn/brkm752x5673zb89tjjqzzs00000gn/T/ipykernel_69441/3762146513.py:33: PydanticDeprecatedSince20: The `dict` method is deprecated; use `model_dump` instead. Deprecated in Pydantic V2.0 to be removed in V3.0. See Pydantic V2 Migration Guide at https://errors.pydantic.dev/2.5/migration/\n",
      "[Shard 0/1] map \"extract_company\" to \"('company',)\":  40%|███▉      | 477/1200 [16:15<09:45,  1.23it/s]/var/folders/zn/brkm752x5673zb89tjjqzzs00000gn/T/ipykernel_69441/3762146513.py:33: PydanticDeprecatedSince20: The `dict` method is deprecated; use `model_dump` instead. Deprecated in Pydantic V2.0 to be removed in V3.0. See Pydantic V2 Migration Guide at https://errors.pydantic.dev/2.5/migration/\n",
      "[Shard 0/1] map \"extract_company\" to \"('company',)\":  40%|███▉      | 478/1200 [16:16<09:56,  1.21it/s]/var/folders/zn/brkm752x5673zb89tjjqzzs00000gn/T/ipykernel_69441/3762146513.py:33: PydanticDeprecatedSince20: The `dict` method is deprecated; use `model_dump` instead. Deprecated in Pydantic V2.0 to be removed in V3.0. See Pydantic V2 Migration Guide at https://errors.pydantic.dev/2.5/migration/\n",
      "[Shard 0/1] map \"extract_company\" to \"('company',)\":  40%|███▉      | 479/1200 [16:16<10:06,  1.19it/s]/var/folders/zn/brkm752x5673zb89tjjqzzs00000gn/T/ipykernel_69441/3762146513.py:33: PydanticDeprecatedSince20: The `dict` method is deprecated; use `model_dump` instead. Deprecated in Pydantic V2.0 to be removed in V3.0. See Pydantic V2 Migration Guide at https://errors.pydantic.dev/2.5/migration/\n",
      "[Shard 0/1] map \"extract_company\" to \"('company',)\":  40%|████      | 480/1200 [16:17<09:21,  1.28it/s]/var/folders/zn/brkm752x5673zb89tjjqzzs00000gn/T/ipykernel_69441/3762146513.py:33: PydanticDeprecatedSince20: The `dict` method is deprecated; use `model_dump` instead. Deprecated in Pydantic V2.0 to be removed in V3.0. See Pydantic V2 Migration Guide at https://errors.pydantic.dev/2.5/migration/\n",
      "[Shard 0/1] map \"extract_company\" to \"('company',)\":  40%|████      | 481/1200 [16:18<09:54,  1.21it/s]/var/folders/zn/brkm752x5673zb89tjjqzzs00000gn/T/ipykernel_69441/3762146513.py:33: PydanticDeprecatedSince20: The `dict` method is deprecated; use `model_dump` instead. Deprecated in Pydantic V2.0 to be removed in V3.0. See Pydantic V2 Migration Guide at https://errors.pydantic.dev/2.5/migration/\n",
      "[Shard 0/1] map \"extract_company\" to \"('company',)\":  40%|████      | 482/1200 [16:19<09:21,  1.28it/s]/var/folders/zn/brkm752x5673zb89tjjqzzs00000gn/T/ipykernel_69441/3762146513.py:33: PydanticDeprecatedSince20: The `dict` method is deprecated; use `model_dump` instead. Deprecated in Pydantic V2.0 to be removed in V3.0. See Pydantic V2 Migration Guide at https://errors.pydantic.dev/2.5/migration/\n",
      "[Shard 0/1] map \"extract_company\" to \"('company',)\":  40%|████      | 483/1200 [16:20<09:43,  1.23it/s]/var/folders/zn/brkm752x5673zb89tjjqzzs00000gn/T/ipykernel_69441/3762146513.py:33: PydanticDeprecatedSince20: The `dict` method is deprecated; use `model_dump` instead. Deprecated in Pydantic V2.0 to be removed in V3.0. See Pydantic V2 Migration Guide at https://errors.pydantic.dev/2.5/migration/\n",
      "[Shard 0/1] map \"extract_company\" to \"('company',)\":  40%|████      | 484/1200 [16:21<12:43,  1.07s/it]/var/folders/zn/brkm752x5673zb89tjjqzzs00000gn/T/ipykernel_69441/3762146513.py:33: PydanticDeprecatedSince20: The `dict` method is deprecated; use `model_dump` instead. Deprecated in Pydantic V2.0 to be removed in V3.0. See Pydantic V2 Migration Guide at https://errors.pydantic.dev/2.5/migration/\n",
      "[Shard 0/1] map \"extract_company\" to \"('company',)\":  40%|████      | 485/1200 [16:22<11:57,  1.00s/it]/var/folders/zn/brkm752x5673zb89tjjqzzs00000gn/T/ipykernel_69441/3762146513.py:33: PydanticDeprecatedSince20: The `dict` method is deprecated; use `model_dump` instead. Deprecated in Pydantic V2.0 to be removed in V3.0. See Pydantic V2 Migration Guide at https://errors.pydantic.dev/2.5/migration/\n",
      "[Shard 0/1] map \"extract_company\" to \"('company',)\":  40%|████      | 486/1200 [16:23<10:51,  1.10it/s]/var/folders/zn/brkm752x5673zb89tjjqzzs00000gn/T/ipykernel_69441/3762146513.py:33: PydanticDeprecatedSince20: The `dict` method is deprecated; use `model_dump` instead. Deprecated in Pydantic V2.0 to be removed in V3.0. See Pydantic V2 Migration Guide at https://errors.pydantic.dev/2.5/migration/\n",
      "[Shard 0/1] map \"extract_company\" to \"('company',)\":  41%|████      | 487/1200 [16:23<09:57,  1.19it/s]/var/folders/zn/brkm752x5673zb89tjjqzzs00000gn/T/ipykernel_69441/3762146513.py:33: PydanticDeprecatedSince20: The `dict` method is deprecated; use `model_dump` instead. Deprecated in Pydantic V2.0 to be removed in V3.0. See Pydantic V2 Migration Guide at https://errors.pydantic.dev/2.5/migration/\n",
      "[Shard 0/1] map \"extract_company\" to \"('company',)\":  41%|████      | 488/1200 [16:24<10:07,  1.17it/s]/var/folders/zn/brkm752x5673zb89tjjqzzs00000gn/T/ipykernel_69441/3762146513.py:33: PydanticDeprecatedSince20: The `dict` method is deprecated; use `model_dump` instead. Deprecated in Pydantic V2.0 to be removed in V3.0. See Pydantic V2 Migration Guide at https://errors.pydantic.dev/2.5/migration/\n",
      "[Shard 0/1] map \"extract_company\" to \"('company',)\":  41%|████      | 489/1200 [16:25<10:31,  1.13it/s]/var/folders/zn/brkm752x5673zb89tjjqzzs00000gn/T/ipykernel_69441/3762146513.py:33: PydanticDeprecatedSince20: The `dict` method is deprecated; use `model_dump` instead. Deprecated in Pydantic V2.0 to be removed in V3.0. See Pydantic V2 Migration Guide at https://errors.pydantic.dev/2.5/migration/\n",
      "[Shard 0/1] map \"extract_company\" to \"('company',)\":  41%|████      | 490/1200 [16:26<10:40,  1.11it/s]/var/folders/zn/brkm752x5673zb89tjjqzzs00000gn/T/ipykernel_69441/3762146513.py:33: PydanticDeprecatedSince20: The `dict` method is deprecated; use `model_dump` instead. Deprecated in Pydantic V2.0 to be removed in V3.0. See Pydantic V2 Migration Guide at https://errors.pydantic.dev/2.5/migration/\n",
      "[Shard 0/1] map \"extract_company\" to \"('company',)\":  41%|████      | 491/1200 [16:27<10:19,  1.14it/s]/var/folders/zn/brkm752x5673zb89tjjqzzs00000gn/T/ipykernel_69441/3762146513.py:33: PydanticDeprecatedSince20: The `dict` method is deprecated; use `model_dump` instead. Deprecated in Pydantic V2.0 to be removed in V3.0. See Pydantic V2 Migration Guide at https://errors.pydantic.dev/2.5/migration/\n",
      "[Shard 0/1] map \"extract_company\" to \"('company',)\":  41%|████      | 492/1200 [16:28<09:35,  1.23it/s]/var/folders/zn/brkm752x5673zb89tjjqzzs00000gn/T/ipykernel_69441/3762146513.py:33: PydanticDeprecatedSince20: The `dict` method is deprecated; use `model_dump` instead. Deprecated in Pydantic V2.0 to be removed in V3.0. See Pydantic V2 Migration Guide at https://errors.pydantic.dev/2.5/migration/\n",
      "[Shard 0/1] map \"extract_company\" to \"('company',)\":  41%|████      | 493/1200 [16:29<09:45,  1.21it/s]/var/folders/zn/brkm752x5673zb89tjjqzzs00000gn/T/ipykernel_69441/3762146513.py:33: PydanticDeprecatedSince20: The `dict` method is deprecated; use `model_dump` instead. Deprecated in Pydantic V2.0 to be removed in V3.0. See Pydantic V2 Migration Guide at https://errors.pydantic.dev/2.5/migration/\n",
      "[Shard 0/1] map \"extract_company\" to \"('company',)\":  41%|████      | 494/1200 [16:30<10:05,  1.17it/s]/var/folders/zn/brkm752x5673zb89tjjqzzs00000gn/T/ipykernel_69441/3762146513.py:33: PydanticDeprecatedSince20: The `dict` method is deprecated; use `model_dump` instead. Deprecated in Pydantic V2.0 to be removed in V3.0. See Pydantic V2 Migration Guide at https://errors.pydantic.dev/2.5/migration/\n",
      "[Shard 0/1] map \"extract_company\" to \"('company',)\":  41%|████▏     | 495/1200 [16:30<10:03,  1.17it/s]/var/folders/zn/brkm752x5673zb89tjjqzzs00000gn/T/ipykernel_69441/3762146513.py:33: PydanticDeprecatedSince20: The `dict` method is deprecated; use `model_dump` instead. Deprecated in Pydantic V2.0 to be removed in V3.0. See Pydantic V2 Migration Guide at https://errors.pydantic.dev/2.5/migration/\n",
      "[Shard 0/1] map \"extract_company\" to \"('company',)\":  41%|████▏     | 496/1200 [16:31<09:13,  1.27it/s]/var/folders/zn/brkm752x5673zb89tjjqzzs00000gn/T/ipykernel_69441/3762146513.py:33: PydanticDeprecatedSince20: The `dict` method is deprecated; use `model_dump` instead. Deprecated in Pydantic V2.0 to be removed in V3.0. See Pydantic V2 Migration Guide at https://errors.pydantic.dev/2.5/migration/\n",
      "[Shard 0/1] map \"extract_company\" to \"('company',)\":  41%|████▏     | 497/1200 [16:32<11:18,  1.04it/s]/var/folders/zn/brkm752x5673zb89tjjqzzs00000gn/T/ipykernel_69441/3762146513.py:33: PydanticDeprecatedSince20: The `dict` method is deprecated; use `model_dump` instead. Deprecated in Pydantic V2.0 to be removed in V3.0. See Pydantic V2 Migration Guide at https://errors.pydantic.dev/2.5/migration/\n",
      "[Shard 0/1] map \"extract_company\" to \"('company',)\":  42%|████▏     | 498/1200 [16:33<10:03,  1.16it/s]/var/folders/zn/brkm752x5673zb89tjjqzzs00000gn/T/ipykernel_69441/3762146513.py:33: PydanticDeprecatedSince20: The `dict` method is deprecated; use `model_dump` instead. Deprecated in Pydantic V2.0 to be removed in V3.0. See Pydantic V2 Migration Guide at https://errors.pydantic.dev/2.5/migration/\n",
      "[Shard 0/1] map \"extract_company\" to \"('company',)\":  42%|████▏     | 499/1200 [16:34<09:46,  1.19it/s]/var/folders/zn/brkm752x5673zb89tjjqzzs00000gn/T/ipykernel_69441/3762146513.py:33: PydanticDeprecatedSince20: The `dict` method is deprecated; use `model_dump` instead. Deprecated in Pydantic V2.0 to be removed in V3.0. See Pydantic V2 Migration Guide at https://errors.pydantic.dev/2.5/migration/\n",
      "[Shard 0/1] map \"extract_company\" to \"('company',)\":  42%|████▏     | 500/1200 [16:35<09:49,  1.19it/s]/var/folders/zn/brkm752x5673zb89tjjqzzs00000gn/T/ipykernel_69441/3762146513.py:33: PydanticDeprecatedSince20: The `dict` method is deprecated; use `model_dump` instead. Deprecated in Pydantic V2.0 to be removed in V3.0. See Pydantic V2 Migration Guide at https://errors.pydantic.dev/2.5/migration/\n",
      "[Shard 0/1] map \"extract_company\" to \"('company',)\":  42%|████▏     | 501/1200 [16:35<09:10,  1.27it/s]/var/folders/zn/brkm752x5673zb89tjjqzzs00000gn/T/ipykernel_69441/3762146513.py:33: PydanticDeprecatedSince20: The `dict` method is deprecated; use `model_dump` instead. Deprecated in Pydantic V2.0 to be removed in V3.0. See Pydantic V2 Migration Guide at https://errors.pydantic.dev/2.5/migration/\n",
      "[Shard 0/1] map \"extract_company\" to \"('company',)\":  42%|████▏     | 502/1200 [16:36<08:19,  1.40it/s]/var/folders/zn/brkm752x5673zb89tjjqzzs00000gn/T/ipykernel_69441/3762146513.py:33: PydanticDeprecatedSince20: The `dict` method is deprecated; use `model_dump` instead. Deprecated in Pydantic V2.0 to be removed in V3.0. See Pydantic V2 Migration Guide at https://errors.pydantic.dev/2.5/migration/\n",
      "[Shard 0/1] map \"extract_company\" to \"('company',)\":  42%|████▏     | 503/1200 [16:37<08:44,  1.33it/s]/var/folders/zn/brkm752x5673zb89tjjqzzs00000gn/T/ipykernel_69441/3762146513.py:33: PydanticDeprecatedSince20: The `dict` method is deprecated; use `model_dump` instead. Deprecated in Pydantic V2.0 to be removed in V3.0. See Pydantic V2 Migration Guide at https://errors.pydantic.dev/2.5/migration/\n",
      "[Shard 0/1] map \"extract_company\" to \"('company',)\":  42%|████▏     | 504/1200 [16:37<08:06,  1.43it/s]/var/folders/zn/brkm752x5673zb89tjjqzzs00000gn/T/ipykernel_69441/3762146513.py:33: PydanticDeprecatedSince20: The `dict` method is deprecated; use `model_dump` instead. Deprecated in Pydantic V2.0 to be removed in V3.0. See Pydantic V2 Migration Guide at https://errors.pydantic.dev/2.5/migration/\n",
      "[Shard 0/1] map \"extract_company\" to \"('company',)\":  42%|████▏     | 505/1200 [16:38<08:40,  1.34it/s]/var/folders/zn/brkm752x5673zb89tjjqzzs00000gn/T/ipykernel_69441/3762146513.py:33: PydanticDeprecatedSince20: The `dict` method is deprecated; use `model_dump` instead. Deprecated in Pydantic V2.0 to be removed in V3.0. See Pydantic V2 Migration Guide at https://errors.pydantic.dev/2.5/migration/\n",
      "[Shard 0/1] map \"extract_company\" to \"('company',)\":  42%|████▏     | 506/1200 [16:39<09:14,  1.25it/s]/var/folders/zn/brkm752x5673zb89tjjqzzs00000gn/T/ipykernel_69441/3762146513.py:33: PydanticDeprecatedSince20: The `dict` method is deprecated; use `model_dump` instead. Deprecated in Pydantic V2.0 to be removed in V3.0. See Pydantic V2 Migration Guide at https://errors.pydantic.dev/2.5/migration/\n",
      "[Shard 0/1] map \"extract_company\" to \"('company',)\":  42%|████▏     | 507/1200 [16:40<09:23,  1.23it/s]/var/folders/zn/brkm752x5673zb89tjjqzzs00000gn/T/ipykernel_69441/3762146513.py:33: PydanticDeprecatedSince20: The `dict` method is deprecated; use `model_dump` instead. Deprecated in Pydantic V2.0 to be removed in V3.0. See Pydantic V2 Migration Guide at https://errors.pydantic.dev/2.5/migration/\n",
      "[Shard 0/1] map \"extract_company\" to \"('company',)\":  42%|████▏     | 508/1200 [16:41<08:53,  1.30it/s]/var/folders/zn/brkm752x5673zb89tjjqzzs00000gn/T/ipykernel_69441/3762146513.py:33: PydanticDeprecatedSince20: The `dict` method is deprecated; use `model_dump` instead. Deprecated in Pydantic V2.0 to be removed in V3.0. See Pydantic V2 Migration Guide at https://errors.pydantic.dev/2.5/migration/\n",
      "[Shard 0/1] map \"extract_company\" to \"('company',)\":  42%|████▏     | 509/1200 [16:41<09:06,  1.26it/s]/var/folders/zn/brkm752x5673zb89tjjqzzs00000gn/T/ipykernel_69441/3762146513.py:33: PydanticDeprecatedSince20: The `dict` method is deprecated; use `model_dump` instead. Deprecated in Pydantic V2.0 to be removed in V3.0. See Pydantic V2 Migration Guide at https://errors.pydantic.dev/2.5/migration/\n",
      "[Shard 0/1] map \"extract_company\" to \"('company',)\":  42%|████▎     | 510/1200 [16:42<09:02,  1.27it/s]/var/folders/zn/brkm752x5673zb89tjjqzzs00000gn/T/ipykernel_69441/3762146513.py:33: PydanticDeprecatedSince20: The `dict` method is deprecated; use `model_dump` instead. Deprecated in Pydantic V2.0 to be removed in V3.0. See Pydantic V2 Migration Guide at https://errors.pydantic.dev/2.5/migration/\n",
      "[Shard 0/1] map \"extract_company\" to \"('company',)\":  43%|████▎     | 511/1200 [16:43<09:02,  1.27it/s]/var/folders/zn/brkm752x5673zb89tjjqzzs00000gn/T/ipykernel_69441/3762146513.py:33: PydanticDeprecatedSince20: The `dict` method is deprecated; use `model_dump` instead. Deprecated in Pydantic V2.0 to be removed in V3.0. See Pydantic V2 Migration Guide at https://errors.pydantic.dev/2.5/migration/\n",
      "[Shard 0/1] map \"extract_company\" to \"('company',)\":  43%|████▎     | 512/1200 [16:44<09:23,  1.22it/s]/var/folders/zn/brkm752x5673zb89tjjqzzs00000gn/T/ipykernel_69441/3762146513.py:33: PydanticDeprecatedSince20: The `dict` method is deprecated; use `model_dump` instead. Deprecated in Pydantic V2.0 to be removed in V3.0. See Pydantic V2 Migration Guide at https://errors.pydantic.dev/2.5/migration/\n",
      "[Shard 0/1] map \"extract_company\" to \"('company',)\":  43%|████▎     | 513/1200 [16:44<08:40,  1.32it/s]/var/folders/zn/brkm752x5673zb89tjjqzzs00000gn/T/ipykernel_69441/3762146513.py:33: PydanticDeprecatedSince20: The `dict` method is deprecated; use `model_dump` instead. Deprecated in Pydantic V2.0 to be removed in V3.0. See Pydantic V2 Migration Guide at https://errors.pydantic.dev/2.5/migration/\n",
      "[Shard 0/1] map \"extract_company\" to \"('company',)\":  43%|████▎     | 514/1200 [16:45<08:50,  1.29it/s]/var/folders/zn/brkm752x5673zb89tjjqzzs00000gn/T/ipykernel_69441/3762146513.py:33: PydanticDeprecatedSince20: The `dict` method is deprecated; use `model_dump` instead. Deprecated in Pydantic V2.0 to be removed in V3.0. See Pydantic V2 Migration Guide at https://errors.pydantic.dev/2.5/migration/\n",
      "[Shard 0/1] map \"extract_company\" to \"('company',)\":  43%|████▎     | 515/1200 [16:46<08:23,  1.36it/s]/var/folders/zn/brkm752x5673zb89tjjqzzs00000gn/T/ipykernel_69441/3762146513.py:33: PydanticDeprecatedSince20: The `dict` method is deprecated; use `model_dump` instead. Deprecated in Pydantic V2.0 to be removed in V3.0. See Pydantic V2 Migration Guide at https://errors.pydantic.dev/2.5/migration/\n",
      "[Shard 0/1] map \"extract_company\" to \"('company',)\":  43%|████▎     | 516/1200 [16:47<07:52,  1.45it/s]/var/folders/zn/brkm752x5673zb89tjjqzzs00000gn/T/ipykernel_69441/3762146513.py:33: PydanticDeprecatedSince20: The `dict` method is deprecated; use `model_dump` instead. Deprecated in Pydantic V2.0 to be removed in V3.0. See Pydantic V2 Migration Guide at https://errors.pydantic.dev/2.5/migration/\n",
      "[Shard 0/1] map \"extract_company\" to \"('company',)\":  43%|████▎     | 517/1200 [16:48<10:32,  1.08it/s]/var/folders/zn/brkm752x5673zb89tjjqzzs00000gn/T/ipykernel_69441/3762146513.py:33: PydanticDeprecatedSince20: The `dict` method is deprecated; use `model_dump` instead. Deprecated in Pydantic V2.0 to be removed in V3.0. See Pydantic V2 Migration Guide at https://errors.pydantic.dev/2.5/migration/\n",
      "[Shard 0/1] map \"extract_company\" to \"('company',)\":  43%|████▎     | 518/1200 [16:49<11:26,  1.01s/it]"
     ]
    }
   ],
   "source": [
    "import instructor\n",
    "from openai import OpenAI\n",
    "from pydantic import BaseModel, Field\n",
    "\n",
    "# Enables `response_model`\n",
    "# client = instructor.patch(OpenAI())\n",
    "import lilac as ll\n",
    "\n",
    "\n",
    "dataset = ll.get_dataset('local', 'companies')\n",
    "\n",
    "if 'get_ipython' in globals():\n",
    "  del globals()['get_ipython']\n",
    "if 'exit' in globals():\n",
    "  del globals()['exit']\n",
    "if 'quit' in globals():\n",
    "  del globals()['quit']\n",
    "\n",
    "\n",
    "class CompanyDetail(BaseModel):\n",
    "  \"\"\"Details of a company.\"\"\"\n",
    "\n",
    "  name: str = Field(description='Company name')\n",
    "  age: int = Field(description='The estimated age of the company')\n",
    "\n",
    "\n",
    "def extract_company(text):\n",
    "  client = instructor.patch(OpenAI())\n",
    "  company = client.chat.completions.create(\n",
    "    model='gpt-3.5-turbo',\n",
    "    response_model=CompanyDetail,\n",
    "    messages=[\n",
    "      {'role': 'user', 'content': text},\n",
    "    ],\n",
    "  )\n",
    "  return company.model_dump()\n",
    "\n",
    "\n",
    "dataset.map(extract_company, input_path='statement', output_column='company')\n"
   ]
  },
  {
   "cell_type": "code",
   "execution_count": null,
   "metadata": {},
   "outputs": [],
   "source": []
  }
 ],
 "metadata": {
  "kernelspec": {
   "display_name": ".venv",
   "language": "python",
   "name": "python3"
  },
  "language_info": {
   "codemirror_mode": {
    "name": "ipython",
    "version": 3
   },
   "file_extension": ".py",
   "mimetype": "text/x-python",
   "name": "python",
   "nbconvert_exporter": "python",
   "pygments_lexer": "ipython3",
   "version": "3.11.4"
  }
 },
 "nbformat": 4,
 "nbformat_minor": 2
}
