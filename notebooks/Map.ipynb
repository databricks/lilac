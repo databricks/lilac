{
 "cells": [
  {
   "cell_type": "code",
   "execution_count": 14,
   "metadata": {},
   "outputs": [
    {
     "name": "stderr",
     "output_type": "stream",
     "text": [
      "Reading from source dict...: 100%|██████████| 3/3 [00:00<00:00, 837.97it/s]"
     ]
    },
    {
     "name": "stdout",
     "output_type": "stream",
     "text": [
      "Dataset \"tutorial2\" written to ./datasets/local/tutorial2\n"
     ]
    },
    {
     "name": "stderr",
     "output_type": "stream",
     "text": [
      "\n"
     ]
    },
    {
     "data": {
      "text/html": [
       "<div>\n",
       "<style scoped>\n",
       "    .dataframe tbody tr th:only-of-type {\n",
       "        vertical-align: middle;\n",
       "    }\n",
       "\n",
       "    .dataframe tbody tr th {\n",
       "        vertical-align: top;\n",
       "    }\n",
       "\n",
       "    .dataframe thead th {\n",
       "        text-align: right;\n",
       "    }\n",
       "</style>\n",
       "<table border=\"1\" class=\"dataframe\">\n",
       "  <thead>\n",
       "    <tr style=\"text-align: right;\">\n",
       "      <th></th>\n",
       "      <th>questions.*</th>\n",
       "    </tr>\n",
       "  </thead>\n",
       "  <tbody>\n",
       "    <tr>\n",
       "      <th>0</th>\n",
       "      <td>[A, B]</td>\n",
       "    </tr>\n",
       "    <tr>\n",
       "      <th>1</th>\n",
       "      <td>[C]</td>\n",
       "    </tr>\n",
       "    <tr>\n",
       "      <th>2</th>\n",
       "      <td>[D, E]</td>\n",
       "    </tr>\n",
       "  </tbody>\n",
       "</table>\n",
       "</div>"
      ],
      "text/plain": [
       "  questions.*\n",
       "0      [A, B]\n",
       "1         [C]\n",
       "2      [D, E]"
      ]
     },
     "execution_count": 14,
     "metadata": {},
     "output_type": "execute_result"
    }
   ],
   "source": [
    "import lilac as ll\n",
    "\n",
    "items = [\n",
    "  {'questions': ['A', 'B']},\n",
    "  {'questions': ['C']},\n",
    "  {'questions': ['D', 'E']},\n",
    "]\n",
    "config = ll.DatasetConfig(\n",
    "  namespace='local',\n",
    "  name='tutorial2',\n",
    "  source=ll.DictSource(items),\n",
    ")\n",
    "dataset = ll.create_dataset(config, overwrite=True)\n",
    "dataset.to_pandas()\n"
   ]
  },
  {
   "cell_type": "code",
   "execution_count": 16,
   "metadata": {},
   "outputs": [
    {
     "name": "stdout",
     "output_type": "stream",
     "text": [
      "Scheduling task \"0dbe18d9b6ed460c92b347258bd12344\": \"[local/tutorial2][1 shards] map \"add_prefix\" to \"questions_with_prefix\"\".\n",
      "Wrote map output to ./datasets/local/tutorial2/questions_with_prefix-00000-of-00001.parquet\n",
      "[]\n"
     ]
    },
    {
     "name": "stderr",
     "output_type": "stream",
     "text": [
      "[Shard 0/1] map \"add_prefix\" to \"('questions_with_prefix',)\": 100%|██████████| 3/3 [00:00<00:00, 420.47it/s]\n"
     ]
    },
    {
     "data": {
      "text/html": [
       "<div>\n",
       "<style scoped>\n",
       "    .dataframe tbody tr th:only-of-type {\n",
       "        vertical-align: middle;\n",
       "    }\n",
       "\n",
       "    .dataframe tbody tr th {\n",
       "        vertical-align: top;\n",
       "    }\n",
       "\n",
       "    .dataframe thead th {\n",
       "        text-align: right;\n",
       "    }\n",
       "</style>\n",
       "<table border=\"1\" class=\"dataframe\">\n",
       "  <thead>\n",
       "    <tr style=\"text-align: right;\">\n",
       "      <th></th>\n",
       "      <th>questions.*</th>\n",
       "      <th>questions_with_prefix.*</th>\n",
       "    </tr>\n",
       "  </thead>\n",
       "  <tbody>\n",
       "    <tr>\n",
       "      <th>0</th>\n",
       "      <td>[A, B]</td>\n",
       "      <td>[Q: A, Q: B]</td>\n",
       "    </tr>\n",
       "    <tr>\n",
       "      <th>1</th>\n",
       "      <td>[C]</td>\n",
       "      <td>[Q: C]</td>\n",
       "    </tr>\n",
       "    <tr>\n",
       "      <th>2</th>\n",
       "      <td>[D, E]</td>\n",
       "      <td>[Q: D, Q: E]</td>\n",
       "    </tr>\n",
       "  </tbody>\n",
       "</table>\n",
       "</div>"
      ],
      "text/plain": [
       "  questions.* questions_with_prefix.*\n",
       "0      [A, B]            [Q: A, Q: B]\n",
       "1         [C]                  [Q: C]\n",
       "2      [D, E]            [Q: D, Q: E]"
      ]
     },
     "execution_count": 16,
     "metadata": {},
     "output_type": "execute_result"
    },
    {
     "name": "stdout",
     "output_type": "stream",
     "text": [
      "Task finished \"0dbe18d9b6ed460c92b347258bd12344\": \"[local/tutorial2][1 shards] map \"add_prefix\" to \"questions_with_prefix\"\" in 4s.\n"
     ]
    }
   ],
   "source": [
    "def add_prefix(question):\n",
    "  return 'Q: ' + question\n",
    "\n",
    "\n",
    "res = dataset.map(\n",
    "  add_prefix, input_path=('questions', '*'), output_column='questions_with_prefix', overwrite=True\n",
    ")\n",
    "\n",
    "print(list(res))\n",
    "\n",
    "dataset.to_pandas()\n"
   ]
  },
  {
   "cell_type": "code",
   "execution_count": 10,
   "metadata": {},
   "outputs": [
    {
     "name": "stderr",
     "output_type": "stream",
     "text": [
      "Reading from source dict...: 100%|██████████| 2/2 [00:00<00:00, 1251.66it/s]"
     ]
    },
    {
     "name": "stderr",
     "output_type": "stream",
     "text": [
      "\n"
     ]
    },
    {
     "name": "stdout",
     "output_type": "stream",
     "text": [
      "Dataset \"tutorial3\" written to ./datasets/local/tutorial3\n",
      "Scheduling task \"22c95a8997ef490d8a28e56f9933cf94\": \"[local/tutorial3][1 shards] map \"extract_company_with_coordinates\" to \"company\"\".\n",
      "Wrote map output to ./datasets/local/tutorial3/company-00000-of-00001.parquet\n"
     ]
    },
    {
     "name": "stderr",
     "output_type": "stream",
     "text": [
      "[Shard 0/1] map \"extract_company_with_coordinates\" to \"('company',)\": 100%|██████████| 2/2 [00:00<00:00, 849.65it/s]\n"
     ]
    },
    {
     "data": {
      "text/plain": [
       "<lilac.data.dataset_duckdb.DuckDBMapOutput at 0x2cf6fbb10>"
      ]
     },
     "execution_count": 10,
     "metadata": {},
     "output_type": "execute_result"
    }
   ],
   "source": [
    "import lilac as ll\n",
    "\n",
    "items = [\n",
    "  {\n",
    "    'text': 'Apple Inc. is an American multinational technology company headquartered in Cupertino, California, (Company: Apple Inc.) that designs, develops, and sells consumer electronics, computer software, and online services.'\n",
    "  },\n",
    "  {\n",
    "    'text': 'Google LLC is an American multinational technology company (Company: Google LLC) that specializes in Internet-related services and products, which include online advertising technologies, a search engine, cloud computing, software, and hardware.'\n",
    "  },\n",
    "]\n",
    "config = ll.DatasetConfig(\n",
    "  namespace='local',\n",
    "  name='tutorial3',\n",
    "  source=ll.DictSource(items),\n",
    ")\n",
    "dataset = ll.create_dataset(config, overwrite=True)\n",
    "dataset.to_pandas()\n",
    "\n",
    "\n",
    "def extract_company_with_coordinates(text):\n",
    "  import re\n",
    "\n",
    "  pattern = r'\\(Company: ([^\\)]+)\\)'\n",
    "  matches = re.finditer(pattern, text)\n",
    "  return [ll.span(m.start(), m.end(), {'Company': m.group(1)}) for m in matches]\n",
    "\n",
    "\n",
    "dataset.map(\n",
    "  extract_company_with_coordinates, input_path='text', output_column='company', overwrite=True\n",
    ")\n"
   ]
  },
  {
   "cell_type": "code",
   "execution_count": 21,
   "metadata": {},
   "outputs": [
    {
     "name": "stdout",
     "output_type": "stream",
     "text": [
      "Index(['text', 'company.*', 'company.*.Company'], dtype='object')\n"
     ]
    }
   ],
   "source": [
    "df = dataset.to_pandas()\n",
    "print(df.columns)\n"
   ]
  },
  {
   "cell_type": "code",
   "execution_count": 18,
   "metadata": {},
   "outputs": [
    {
     "data": {
      "text/plain": [
       "0    [Apple Inc.]\n",
       "Name: company.*.Company, dtype: object"
      ]
     },
     "execution_count": 18,
     "metadata": {},
     "output_type": "execute_result"
    }
   ],
   "source": [
    "df[:1]['company.*.Company']\n"
   ]
  },
  {
   "cell_type": "code",
   "execution_count": null,
   "metadata": {},
   "outputs": [
    {
     "name": "stderr",
     "output_type": "stream",
     "text": [
      "INFO:     Started server process [65094]\n",
      "INFO:     Waiting for application startup.\n",
      "INFO:     Application startup complete.\n",
      "INFO:     Uvicorn running on http://127.0.0.1:5432 (Press CTRL+C to quit)\n"
     ]
    }
   ],
   "source": [
    "ll.start_server()\n"
   ]
  },
  {
   "cell_type": "code",
   "execution_count": null,
   "metadata": {},
   "outputs": [
    {
     "name": "stderr",
     "output_type": "stream",
     "text": [
      "INFO:     Started server process [65547]\n",
      "INFO:     Waiting for application startup.\n",
      "INFO:     Application startup complete.\n",
      "INFO:     Uvicorn running on http://127.0.0.1:5432 (Press CTRL+C to quit)\n"
     ]
    }
   ],
   "source": [
    "ll.start_server()\n"
   ]
  },
  {
   "cell_type": "code",
   "execution_count": 2,
   "metadata": {},
   "outputs": [
    {
     "name": "stderr",
     "output_type": "stream",
     "text": [
      "/Users/dsmilkov/code/lilac/.venv/lib/python3.11/site-packages/tqdm/auto.py:21: TqdmWarning: IProgress not found. Please update jupyter and ipywidgets. See https://ipywidgets.readthedocs.io/en/stable/user_install.html\n",
      "  from .autonotebook import tqdm as notebook_tqdm\n"
     ]
    },
    {
     "name": "stdout",
     "output_type": "stream",
     "text": [
      "Dataset \"companies\" written to ./data/datasets/local/companies\n"
     ]
    },
    {
     "data": {
      "text/html": [
       "<div>\n",
       "<style scoped>\n",
       "    .dataframe tbody tr th:only-of-type {\n",
       "        vertical-align: middle;\n",
       "    }\n",
       "\n",
       "    .dataframe tbody tr th {\n",
       "        vertical-align: top;\n",
       "    }\n",
       "\n",
       "    .dataframe thead th {\n",
       "        text-align: right;\n",
       "    }\n",
       "</style>\n",
       "<table border=\"1\" class=\"dataframe\">\n",
       "  <thead>\n",
       "    <tr style=\"text-align: right;\">\n",
       "      <th></th>\n",
       "      <th>statement</th>\n",
       "      <th>label</th>\n",
       "      <th>__hfsplit__</th>\n",
       "      <th>__rowid__</th>\n",
       "      <th>overview.sbert.*</th>\n",
       "      <th>overview.openai.*</th>\n",
       "      <th>overview.sbert.*.embedding</th>\n",
       "      <th>overview.openai.*.embedding</th>\n",
       "    </tr>\n",
       "  </thead>\n",
       "  <tbody>\n",
       "    <tr>\n",
       "      <th>0</th>\n",
       "      <td>Shell operates in the industry of oil &amp; gas op...</td>\n",
       "      <td>true</td>\n",
       "      <td>train</td>\n",
       "      <td>a151a69e-3efe-4fa8-a0a9-302f8c9a9fe0</td>\n",
       "      <td>None</td>\n",
       "      <td>None</td>\n",
       "      <td>None</td>\n",
       "      <td>None</td>\n",
       "    </tr>\n",
       "    <tr>\n",
       "      <th>1</th>\n",
       "      <td>Nestle operates in the industry of Banking.</td>\n",
       "      <td>false</td>\n",
       "      <td>train</td>\n",
       "      <td>cd9f8dd0-3ff0-4d45-a8ff-39bcd6a87e9d</td>\n",
       "      <td>None</td>\n",
       "      <td>None</td>\n",
       "      <td>None</td>\n",
       "      <td>None</td>\n",
       "    </tr>\n",
       "    <tr>\n",
       "      <th>2</th>\n",
       "      <td>Itau Unibanco Holding operates in the industry...</td>\n",
       "      <td>true</td>\n",
       "      <td>train</td>\n",
       "      <td>602ceff5-1973-44fd-911c-fc83a1096948</td>\n",
       "      <td>None</td>\n",
       "      <td>None</td>\n",
       "      <td>None</td>\n",
       "      <td>None</td>\n",
       "    </tr>\n",
       "    <tr>\n",
       "      <th>3</th>\n",
       "      <td>Raytheon Technologies operates in the industry...</td>\n",
       "      <td>true</td>\n",
       "      <td>train</td>\n",
       "      <td>7990194a-6e50-45b5-97e6-bc2793b95ede</td>\n",
       "      <td>None</td>\n",
       "      <td>None</td>\n",
       "      <td>None</td>\n",
       "      <td>None</td>\n",
       "    </tr>\n",
       "    <tr>\n",
       "      <th>4</th>\n",
       "      <td>Manulife operates in the industry of insurance.</td>\n",
       "      <td>true</td>\n",
       "      <td>train</td>\n",
       "      <td>8de5f7d2-9d63-42cd-bb64-19f911357166</td>\n",
       "      <td>None</td>\n",
       "      <td>None</td>\n",
       "      <td>None</td>\n",
       "      <td>None</td>\n",
       "    </tr>\n",
       "    <tr>\n",
       "      <th>...</th>\n",
       "      <td>...</td>\n",
       "      <td>...</td>\n",
       "      <td>...</td>\n",
       "      <td>...</td>\n",
       "      <td>...</td>\n",
       "      <td>...</td>\n",
       "      <td>...</td>\n",
       "      <td>...</td>\n",
       "    </tr>\n",
       "    <tr>\n",
       "      <th>1195</th>\n",
       "      <td>Alphabet has headquarters in South Korea.</td>\n",
       "      <td>false</td>\n",
       "      <td>test</td>\n",
       "      <td>aee1baa1-79d5-49cc-8a7a-45199421872a</td>\n",
       "      <td>None</td>\n",
       "      <td>None</td>\n",
       "      <td>None</td>\n",
       "      <td>None</td>\n",
       "    </tr>\n",
       "    <tr>\n",
       "      <th>1196</th>\n",
       "      <td>Iberdrola is a holding company, which engages ...</td>\n",
       "      <td>false</td>\n",
       "      <td>test</td>\n",
       "      <td>0e31deea-2000-46ce-9579-50991f953257</td>\n",
       "      <td>None</td>\n",
       "      <td>None</td>\n",
       "      <td>None</td>\n",
       "      <td>None</td>\n",
       "    </tr>\n",
       "    <tr>\n",
       "      <th>1197</th>\n",
       "      <td>Dow has headquarters in Italy.</td>\n",
       "      <td>false</td>\n",
       "      <td>test</td>\n",
       "      <td>b72e5655-7933-4282-b743-4e405defc58f</td>\n",
       "      <td>None</td>\n",
       "      <td>None</td>\n",
       "      <td>None</td>\n",
       "      <td>None</td>\n",
       "    </tr>\n",
       "    <tr>\n",
       "      <th>1198</th>\n",
       "      <td>Merck &amp; Co. engages in the provision of health...</td>\n",
       "      <td>true</td>\n",
       "      <td>test</td>\n",
       "      <td>6b39b493-1857-47df-9485-55b21cb9bd1c</td>\n",
       "      <td>None</td>\n",
       "      <td>None</td>\n",
       "      <td>None</td>\n",
       "      <td>None</td>\n",
       "    </tr>\n",
       "    <tr>\n",
       "      <th>1199</th>\n",
       "      <td>AT&amp;T has headquarters in United States.</td>\n",
       "      <td>true</td>\n",
       "      <td>test</td>\n",
       "      <td>2b043ab0-8e3a-4587-9c9b-4c027b5fa36f</td>\n",
       "      <td>None</td>\n",
       "      <td>None</td>\n",
       "      <td>None</td>\n",
       "      <td>None</td>\n",
       "    </tr>\n",
       "  </tbody>\n",
       "</table>\n",
       "<p>1200 rows × 8 columns</p>\n",
       "</div>"
      ],
      "text/plain": [
       "                                              statement  label __hfsplit__  \\\n",
       "0     Shell operates in the industry of oil & gas op...   true       train   \n",
       "1           Nestle operates in the industry of Banking.  false       train   \n",
       "2     Itau Unibanco Holding operates in the industry...   true       train   \n",
       "3     Raytheon Technologies operates in the industry...   true       train   \n",
       "4       Manulife operates in the industry of insurance.   true       train   \n",
       "...                                                 ...    ...         ...   \n",
       "1195          Alphabet has headquarters in South Korea.  false        test   \n",
       "1196  Iberdrola is a holding company, which engages ...  false        test   \n",
       "1197                     Dow has headquarters in Italy.  false        test   \n",
       "1198  Merck & Co. engages in the provision of health...   true        test   \n",
       "1199            AT&T has headquarters in United States.   true        test   \n",
       "\n",
       "                                 __rowid__ overview.sbert.* overview.openai.*  \\\n",
       "0     a151a69e-3efe-4fa8-a0a9-302f8c9a9fe0             None              None   \n",
       "1     cd9f8dd0-3ff0-4d45-a8ff-39bcd6a87e9d             None              None   \n",
       "2     602ceff5-1973-44fd-911c-fc83a1096948             None              None   \n",
       "3     7990194a-6e50-45b5-97e6-bc2793b95ede             None              None   \n",
       "4     8de5f7d2-9d63-42cd-bb64-19f911357166             None              None   \n",
       "...                                    ...              ...               ...   \n",
       "1195  aee1baa1-79d5-49cc-8a7a-45199421872a             None              None   \n",
       "1196  0e31deea-2000-46ce-9579-50991f953257             None              None   \n",
       "1197  b72e5655-7933-4282-b743-4e405defc58f             None              None   \n",
       "1198  6b39b493-1857-47df-9485-55b21cb9bd1c             None              None   \n",
       "1199  2b043ab0-8e3a-4587-9c9b-4c027b5fa36f             None              None   \n",
       "\n",
       "     overview.sbert.*.embedding overview.openai.*.embedding  \n",
       "0                          None                        None  \n",
       "1                          None                        None  \n",
       "2                          None                        None  \n",
       "3                          None                        None  \n",
       "4                          None                        None  \n",
       "...                         ...                         ...  \n",
       "1195                       None                        None  \n",
       "1196                       None                        None  \n",
       "1197                       None                        None  \n",
       "1198                       None                        None  \n",
       "1199                       None                        None  \n",
       "\n",
       "[1200 rows x 8 columns]"
      ]
     },
     "execution_count": 2,
     "metadata": {},
     "output_type": "execute_result"
    }
   ],
   "source": [
    "import lilac as ll\n",
    "\n",
    "config = ll.DatasetConfig(\n",
    "  namespace='local',\n",
    "  name='companies',\n",
    "  source=ll.HuggingFaceSource(dataset_name='atmallen/companies_azaria_mitchell'),\n",
    ")\n",
    "dataset = ll.create_dataset(config, overwrite=True)\n",
    "dataset.to_pandas()\n"
   ]
  },
  {
   "cell_type": "code",
   "execution_count": null,
   "metadata": {},
   "outputs": [
    {
     "name": "stderr",
     "output_type": "stream",
     "text": [
      "INFO:     Started server process [69441]\n",
      "INFO:     Waiting for application startup.\n",
      "INFO:     Application startup complete.\n",
      "INFO:     Uvicorn running on http://127.0.0.1:5432 (Press CTRL+C to quit)\n",
      "[Shard 0/1] map \"extract_company\" to \"('company',)\":  53%|█████▎    | 636/1200 [18:29<06:22,  1.47it/s]/var/folders/zn/brkm752x5673zb89tjjqzzs00000gn/T/ipykernel_69441/3762146513.py:33: PydanticDeprecatedSince20: The `dict` method is deprecated; use `model_dump` instead. Deprecated in Pydantic V2.0 to be removed in V3.0. See Pydantic V2 Migration Guide at https://errors.pydantic.dev/2.5/migration/\n",
      "[Shard 0/1] map \"extract_company\" to \"('company',)\":  67%|██████▋   | 803/1200 [20:44<06:13,  1.06it/s]/it]"
     ]
    }
   ],
   "source": [
    "ll.start_server()\n"
   ]
  },
  {
   "cell_type": "code",
   "execution_count": 4,
   "metadata": {},
   "outputs": [
    {
     "name": "stdout",
     "output_type": "stream",
     "text": [
      "Scheduling task \"8606711d2a0a4ed99ad59bddd2697f07\": \"[local/companies][1 shards] map \"extract_company\" to \"company\"\".\n"
     ]
    },
    {
     "name": "stderr",
     "output_type": "stream",
     "text": [
      "/var/folders/zn/brkm752x5673zb89tjjqzzs00000gn/T/ipykernel_69441/3762146513.py:33: PydanticDeprecatedSince20: The `dict` method is deprecated; use `model_dump` instead. Deprecated in Pydantic V2.0 to be removed in V3.0. See Pydantic V2 Migration Guide at https://errors.pydantic.dev/2.5/migration/\n",
      "[Shard 0/1] map \"extract_company\" to \"('company',)\":  50%|████▉     | 594/1200 [17:48<07:53,  1.28it/s]/var/folders/zn/brkm752x5673zb89tjjqzzs00000gn/T/ipykernel_69441/3762146513.py:33: PydanticDeprecatedSince20: The `dict` method is deprecated; use `model_dump` instead. Deprecated in Pydantic V2.0 to be removed in V3.0. See Pydantic V2 Migration Guide at https://errors.pydantic.dev/2.5/migration/\n",
      "[Shard 0/1] map \"extract_company\" to \"('company',)\":  50%|████▉     | 595/1200 [17:48<07:59,  1.26it/s]/var/folders/zn/brkm752x5673zb89tjjqzzs00000gn/T/ipykernel_69441/3762146513.py:33: PydanticDeprecatedSince20: The `dict` method is deprecated; use `model_dump` instead. Deprecated in Pydantic V2.0 to be removed in V3.0. See Pydantic V2 Migration Guide at https://errors.pydantic.dev/2.5/migration/\n",
      "[Shard 0/1] map \"extract_company\" to \"('company',)\":  50%|████▉     | 596/1200 [17:49<07:45,  1.30it/s]/var/folders/zn/brkm752x5673zb89tjjqzzs00000gn/T/ipykernel_69441/3762146513.py:33: PydanticDeprecatedSince20: The `dict` method is deprecated; use `model_dump` instead. Deprecated in Pydantic V2.0 to be removed in V3.0. See Pydantic V2 Migration Guide at https://errors.pydantic.dev/2.5/migration/\n",
      "[Shard 0/1] map \"extract_company\" to \"('company',)\":  50%|████▉     | 597/1200 [17:50<07:50,  1.28it/s]/var/folders/zn/brkm752x5673zb89tjjqzzs00000gn/T/ipykernel_69441/3762146513.py:33: PydanticDeprecatedSince20: The `dict` method is deprecated; use `model_dump` instead. Deprecated in Pydantic V2.0 to be removed in V3.0. See Pydantic V2 Migration Guide at https://errors.pydantic.dev/2.5/migration/\n",
      "[Shard 0/1] map \"extract_company\" to \"('company',)\":  50%|████▉     | 598/1200 [17:51<08:03,  1.24it/s]/var/folders/zn/brkm752x5673zb89tjjqzzs00000gn/T/ipykernel_69441/3762146513.py:33: PydanticDeprecatedSince20: The `dict` method is deprecated; use `model_dump` instead. Deprecated in Pydantic V2.0 to be removed in V3.0. See Pydantic V2 Migration Guide at https://errors.pydantic.dev/2.5/migration/\n",
      "[Shard 0/1] map \"extract_company\" to \"('company',)\":  50%|████▉     | 599/1200 [17:52<07:53,  1.27it/s]/var/folders/zn/brkm752x5673zb89tjjqzzs00000gn/T/ipykernel_69441/3762146513.py:33: PydanticDeprecatedSince20: The `dict` method is deprecated; use `model_dump` instead. Deprecated in Pydantic V2.0 to be removed in V3.0. See Pydantic V2 Migration Guide at https://errors.pydantic.dev/2.5/migration/\n",
      "[Shard 0/1] map \"extract_company\" to \"('company',)\":  50%|█████     | 600/1200 [17:52<07:31,  1.33it/s]/var/folders/zn/brkm752x5673zb89tjjqzzs00000gn/T/ipykernel_69441/3762146513.py:33: PydanticDeprecatedSince20: The `dict` method is deprecated; use `model_dump` instead. Deprecated in Pydantic V2.0 to be removed in V3.0. See Pydantic V2 Migration Guide at https://errors.pydantic.dev/2.5/migration/\n",
      "[Shard 0/1] map \"extract_company\" to \"('company',)\":  50%|█████     | 601/1200 [17:53<07:03,  1.42it/s]"
     ]
    },
    {
     "name": "stdout",
     "output_type": "stream",
     "text": [
      "Wrote map output to ./data/datasets/local/companies/company-00000-of-00001.parquet\n"
     ]
    },
    {
     "name": "stderr",
     "output_type": "stream",
     "text": [
      "[Shard 0/1] map \"extract_company\" to \"('company',)\": 1201it [00:00, 13499.72it/s]              \n"
     ]
    },
    {
     "data": {
      "text/plain": [
       "<lilac.data.dataset_duckdb.DuckDBMapOutput at 0x2c23eedd0>"
      ]
     },
     "execution_count": 4,
     "metadata": {},
     "output_type": "execute_result"
    },
    {
     "name": "stdout",
     "output_type": "stream",
     "text": [
      "Task finished \"8606711d2a0a4ed99ad59bddd2697f07\": \"[local/companies][1 shards] map \"extract_company\" to \"company\"\" in 6s.\n"
     ]
    },
    {
     "name": "stderr",
     "output_type": "stream",
     "text": [
      "/var/folders/zn/brkm752x5673zb89tjjqzzs00000gn/T/ipykernel_69441/3762146513.py:33: PydanticDeprecatedSince20: The `dict` method is deprecated; use `model_dump` instead. Deprecated in Pydantic V2.0 to be removed in V3.0. See Pydantic V2 Migration Guide at https://errors.pydantic.dev/2.5/migration/\n",
      "[Shard 0/1] map \"extract_company\" to \"('company',)\":  50%|█████     | 602/1200 [17:54<07:24,  1.35it/s]/var/folders/zn/brkm752x5673zb89tjjqzzs00000gn/T/ipykernel_69441/3762146513.py:33: PydanticDeprecatedSince20: The `dict` method is deprecated; use `model_dump` instead. Deprecated in Pydantic V2.0 to be removed in V3.0. See Pydantic V2 Migration Guide at https://errors.pydantic.dev/2.5/migration/\n",
      "[Shard 0/1] map \"extract_company\" to \"('company',)\":  50%|█████     | 603/1200 [17:54<07:02,  1.41it/s]/var/folders/zn/brkm752x5673zb89tjjqzzs00000gn/T/ipykernel_69441/3762146513.py:33: PydanticDeprecatedSince20: The `dict` method is deprecated; use `model_dump` instead. Deprecated in Pydantic V2.0 to be removed in V3.0. See Pydantic V2 Migration Guide at https://errors.pydantic.dev/2.5/migration/\n",
      "[Shard 0/1] map \"extract_company\" to \"('company',)\":  50%|█████     | 604/1200 [17:55<07:38,  1.30it/s]/var/folders/zn/brkm752x5673zb89tjjqzzs00000gn/T/ipykernel_69441/3762146513.py:33: PydanticDeprecatedSince20: The `dict` method is deprecated; use `model_dump` instead. Deprecated in Pydantic V2.0 to be removed in V3.0. See Pydantic V2 Migration Guide at https://errors.pydantic.dev/2.5/migration/\n",
      "[Shard 0/1] map \"extract_company\" to \"('company',)\":  50%|█████     | 605/1200 [17:56<07:18,  1.36it/s]/var/folders/zn/brkm752x5673zb89tjjqzzs00000gn/T/ipykernel_69441/3762146513.py:33: PydanticDeprecatedSince20: The `dict` method is deprecated; use `model_dump` instead. Deprecated in Pydantic V2.0 to be removed in V3.0. See Pydantic V2 Migration Guide at https://errors.pydantic.dev/2.5/migration/\n",
      "[Shard 0/1] map \"extract_company\" to \"('company',)\":  50%|█████     | 606/1200 [17:56<06:46,  1.46it/s]/var/folders/zn/brkm752x5673zb89tjjqzzs00000gn/T/ipykernel_69441/3762146513.py:33: PydanticDeprecatedSince20: The `dict` method is deprecated; use `model_dump` instead. Deprecated in Pydantic V2.0 to be removed in V3.0. See Pydantic V2 Migration Guide at https://errors.pydantic.dev/2.5/migration/\n",
      "[Shard 0/1] map \"extract_company\" to \"('company',)\":  51%|█████     | 607/1200 [17:57<07:03,  1.40it/s]"
     ]
    }
   ],
   "source": [
    "import instructor\n",
    "from openai import OpenAI\n",
    "from pydantic import BaseModel, Field\n",
    "\n",
    "# Enables `response_model`\n",
    "# client = instructor.patch(OpenAI())\n",
    "import lilac as ll\n",
    "\n",
    "\n",
    "dataset = ll.get_dataset('local', 'companies')\n",
    "\n",
    "if 'get_ipython' in globals():\n",
    "  del globals()['get_ipython']\n",
    "if 'exit' in globals():\n",
    "  del globals()['exit']\n",
    "if 'quit' in globals():\n",
    "  del globals()['quit']\n",
    "\n",
    "\n",
    "class CompanyDetail(BaseModel):\n",
    "  \"\"\"Details of a company.\"\"\"\n",
    "\n",
    "  name: str = Field(description='Company name')\n",
    "  age: int = Field(description='The estimated age of the company')\n",
    "\n",
    "\n",
    "def extract_company(text):\n",
    "  # client = instructor.patch(OpenAI())\n",
    "  # company = client.chat.completions.create(\n",
    "  #   model='gpt-3.5-turbo',\n",
    "  #   response_model=CompanyDetail,\n",
    "  #   messages=[\n",
    "  #     {'role': 'user', 'content': text},\n",
    "  #   ],\n",
    "  # )\n",
    "  # return company.model_dump()\n",
    "  return None\n",
    "\n",
    "\n",
    "dataset.map(extract_company, input_path='statement', output_column='company')\n"
   ]
  }
 ],
 "metadata": {
  "kernelspec": {
   "display_name": ".venv",
   "language": "python",
   "name": "python3"
  },
  "language_info": {
   "codemirror_mode": {
    "name": "ipython",
    "version": 3
   },
   "file_extension": ".py",
   "mimetype": "text/x-python",
   "name": "python",
   "nbconvert_exporter": "python",
   "pygments_lexer": "ipython3",
   "version": "3.11.4"
  }
 },
 "nbformat": 4,
 "nbformat_minor": 2
}
