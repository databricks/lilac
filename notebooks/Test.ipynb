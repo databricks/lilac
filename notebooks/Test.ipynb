{
 "cells": [
  {
   "cell_type": "code",
   "execution_count": 52,
   "metadata": {},
   "outputs": [
    {
     "ename": "BinderException",
     "evalue": "Binder Error: read_json \"columns\" parameter requires a struct as input.",
     "output_type": "error",
     "traceback": [
      "\u001b[0;31m---------------------------------------------------------------------------\u001b[0m",
      "\u001b[0;31mBinderException\u001b[0m                           Traceback (most recent call last)",
      "\u001b[1;32m/Users/dsmilkov/code/lilac/notebooks/Test.ipynb Cell 1\u001b[0m line \u001b[0;36m1\n\u001b[1;32m     <a href='vscode-notebook-cell:/Users/dsmilkov/code/lilac/notebooks/Test.ipynb#W0sZmlsZQ%3D%3D?line=9'>10</a>\u001b[0m   \u001b[39mfor\u001b[39;00m item \u001b[39min\u001b[39;00m items:\n\u001b[1;32m     <a href='vscode-notebook-cell:/Users/dsmilkov/code/lilac/notebooks/Test.ipynb#W0sZmlsZQ%3D%3D?line=10'>11</a>\u001b[0m     f\u001b[39m.\u001b[39mwrite(json\u001b[39m.\u001b[39mdumps(item) \u001b[39m+\u001b[39m \u001b[39m'\u001b[39m\u001b[39m\\n\u001b[39;00m\u001b[39m'\u001b[39m)\n\u001b[0;32m---> <a href='vscode-notebook-cell:/Users/dsmilkov/code/lilac/notebooks/Test.ipynb#W0sZmlsZQ%3D%3D?line=12'>13</a>\u001b[0m duckdb\u001b[39m.\u001b[39;49msql(\u001b[39m\"\"\"\u001b[39;49m\u001b[39mSELECT * FROM read_json(\u001b[39;49m\n\u001b[1;32m     <a href='vscode-notebook-cell:/Users/dsmilkov/code/lilac/notebooks/Test.ipynb#W0sZmlsZQ%3D%3D?line=13'>14</a>\u001b[0m \u001b[39m  \u001b[39;49m\u001b[39m'\u001b[39;49m\u001b[39m/tmp/lilac.jsonl\u001b[39;49m\u001b[39m'\u001b[39;49m\u001b[39m,\u001b[39;49m\n\u001b[1;32m     <a href='vscode-notebook-cell:/Users/dsmilkov/code/lilac/notebooks/Test.ipynb#W0sZmlsZQ%3D%3D?line=14'>15</a>\u001b[0m \u001b[39m  format=\u001b[39;49m\u001b[39m'\u001b[39;49m\u001b[39mnewline_delimited\u001b[39;49m\u001b[39m'\u001b[39;49m\u001b[39m,\u001b[39;49m\n\u001b[1;32m     <a href='vscode-notebook-cell:/Users/dsmilkov/code/lilac/notebooks/Test.ipynb#W0sZmlsZQ%3D%3D?line=15'>16</a>\u001b[0m \u001b[39m  columns=\u001b[39;49m\u001b[39m'\u001b[39;49m\u001b[39mSTRUCT(people STRUCT(name VARCHAR, age UBIGINT)[])\u001b[39;49m\u001b[39m'\u001b[39;49m\u001b[39m)\u001b[39;49m\n\u001b[1;32m     <a href='vscode-notebook-cell:/Users/dsmilkov/code/lilac/notebooks/Test.ipynb#W0sZmlsZQ%3D%3D?line=16'>17</a>\u001b[0m \u001b[39m\"\"\"\u001b[39;49m)\n",
      "\u001b[0;31mBinderException\u001b[0m: Binder Error: read_json \"columns\" parameter requires a struct as input."
     ]
    }
   ],
   "source": [
    "import duckdb\n",
    "import json\n",
    "from typing import Union, Optional\n",
    "from lilac import Schema, Field, DataType\n",
    "\n",
    "\n",
    "items = [\n",
    "  {'people': [{'name': 'John', 'age': 30}, {'name': 'Mary', 'age': 25}]},\n",
    "  {'people': [{'name': 'Peter', 'age': 45}, {'name': 'Jane', 'age': 35}]},\n",
    "]\n",
    "\n",
    "\n",
    "with open('/tmp/lilac.jsonl', 'w') as f:\n",
    "  for item in items:\n",
    "    f.write(json.dumps(item) + '\\n')\n",
    "\n",
    "schema = Schema(fields=)\n",
    "\n",
    "duckdb.sql(\n",
    "  \"\"\"SELECT * FROM read_json(\n",
    "  '/tmp/lilac.jsonl',\n",
    "  format='newline_delimited',\n",
    "  columns='STRUCT(people STRUCT(name VARCHAR, age UBIGINT)[])')\n",
    "\"\"\"\n",
    ")\n"
   ]
  },
  {
   "cell_type": "code",
   "execution_count": null,
   "metadata": {},
   "outputs": [],
   "source": []
  }
 ],
 "metadata": {
  "kernelspec": {
   "display_name": ".venv",
   "language": "python",
   "name": "python3"
  },
  "language_info": {
   "codemirror_mode": {
    "name": "ipython",
    "version": 3
   },
   "file_extension": ".py",
   "mimetype": "text/x-python",
   "name": "python",
   "nbconvert_exporter": "python",
   "pygments_lexer": "ipython3",
   "version": "3.11.4"
  }
 },
 "nbformat": 4,
 "nbformat_minor": 2
}
