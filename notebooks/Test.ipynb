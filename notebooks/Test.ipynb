{
 "cells": [
  {
   "cell_type": "code",
   "execution_count": 4,
   "metadata": {},
   "outputs": [],
   "source": [
    "import lilac as ll\n",
    "\n",
    "ll.set_project_dir('./data')\n",
    "\n",
    "#ll.start_server()\n"
   ]
  },
  {
   "cell_type": "code",
   "execution_count": 5,
   "metadata": {},
   "outputs": [
    {
     "name": "stderr",
     "output_type": "stream",
     "text": [
      "2023-10-18 22:57:32,801 - distributed.protocol.pickle - ERROR - Failed to serialize <ToPickle: HighLevelGraph with 1 layers.\n",
      "<dask.highlevelgraph.HighLevelGraph object at 0x2b51c2b50>\n",
      " 0. 11628714688\n",
      ">.\n",
      "Traceback (most recent call last):\n",
      "  File \"/Users/nikhil/Code/lilac/.venv/lib/python3.9/site-packages/distributed/protocol/pickle.py\", line 63, in dumps\n",
      "    result = pickle.dumps(x, **dump_kwargs)\n",
      "TypeError: cannot pickle 'duckdb.duckdb.DuckDBPyConnection' object\n",
      "\n",
      "During handling of the above exception, another exception occurred:\n",
      "\n",
      "Traceback (most recent call last):\n",
      "  File \"/Users/nikhil/Code/lilac/.venv/lib/python3.9/site-packages/distributed/protocol/pickle.py\", line 68, in dumps\n",
      "    pickler.dump(x)\n",
      "TypeError: cannot pickle 'duckdb.duckdb.DuckDBPyConnection' object\n",
      "\n",
      "During handling of the above exception, another exception occurred:\n",
      "\n",
      "Traceback (most recent call last):\n",
      "  File \"/Users/nikhil/Code/lilac/.venv/lib/python3.9/site-packages/distributed/protocol/pickle.py\", line 81, in dumps\n",
      "    result = cloudpickle.dumps(x, **dump_kwargs)\n",
      "  File \"/Users/nikhil/Code/lilac/.venv/lib/python3.9/site-packages/cloudpickle/cloudpickle_fast.py\", line 73, in dumps\n",
      "    cp.dump(obj)\n",
      "  File \"/Users/nikhil/Code/lilac/.venv/lib/python3.9/site-packages/cloudpickle/cloudpickle_fast.py\", line 632, in dump\n",
      "    return Pickler.dump(self, obj)\n",
      "TypeError: cannot pickle 'duckdb.duckdb.DuckDBPyConnection' object\n"
     ]
    },
    {
     "name": "stdout",
     "output_type": "stream",
     "text": [
      "Scheduling task \"41c6f273dbdc42b0ada70d63537c1e7f\": \"Map _map_fn\".\n"
     ]
    },
    {
     "ename": "TypeError",
     "evalue": "('Could not serialize object of type HighLevelGraph', '<ToPickle: HighLevelGraph with 1 layers.\\n<dask.highlevelgraph.HighLevelGraph object at 0x2b51c2b50>\\n 0. 11628714688\\n>')",
     "output_type": "error",
     "traceback": [
      "\u001b[0;31m---------------------------------------------------------------------------\u001b[0m",
      "\u001b[0;31mTypeError\u001b[0m                                 Traceback (most recent call last)",
      "File \u001b[0;32m~/Code/lilac/.venv/lib/python3.9/site-packages/distributed/protocol/pickle.py:63\u001b[0m, in \u001b[0;36mdumps\u001b[0;34m(x, buffer_callback, protocol)\u001b[0m\n\u001b[1;32m     62\u001b[0m \u001b[39mtry\u001b[39;00m:\n\u001b[0;32m---> 63\u001b[0m     result \u001b[39m=\u001b[39m pickle\u001b[39m.\u001b[39;49mdumps(x, \u001b[39m*\u001b[39;49m\u001b[39m*\u001b[39;49mdump_kwargs)\n\u001b[1;32m     64\u001b[0m \u001b[39mexcept\u001b[39;00m \u001b[39mException\u001b[39;00m:\n",
      "\u001b[0;31mTypeError\u001b[0m: cannot pickle 'duckdb.duckdb.DuckDBPyConnection' object",
      "\nDuring handling of the above exception, another exception occurred:\n",
      "\u001b[0;31mTypeError\u001b[0m                                 Traceback (most recent call last)",
      "File \u001b[0;32m~/Code/lilac/.venv/lib/python3.9/site-packages/distributed/protocol/pickle.py:68\u001b[0m, in \u001b[0;36mdumps\u001b[0;34m(x, buffer_callback, protocol)\u001b[0m\n\u001b[1;32m     67\u001b[0m buffers\u001b[39m.\u001b[39mclear()\n\u001b[0;32m---> 68\u001b[0m pickler\u001b[39m.\u001b[39;49mdump(x)\n\u001b[1;32m     69\u001b[0m result \u001b[39m=\u001b[39m f\u001b[39m.\u001b[39mgetvalue()\n",
      "\u001b[0;31mTypeError\u001b[0m: cannot pickle 'duckdb.duckdb.DuckDBPyConnection' object",
      "\nDuring handling of the above exception, another exception occurred:\n",
      "\u001b[0;31mTypeError\u001b[0m                                 Traceback (most recent call last)",
      "File \u001b[0;32m~/Code/lilac/.venv/lib/python3.9/site-packages/distributed/protocol/serialize.py:352\u001b[0m, in \u001b[0;36mserialize\u001b[0;34m(x, serializers, on_error, context, iterate_collection)\u001b[0m\n\u001b[1;32m    351\u001b[0m \u001b[39mtry\u001b[39;00m:\n\u001b[0;32m--> 352\u001b[0m     header, frames \u001b[39m=\u001b[39m dumps(x, context\u001b[39m=\u001b[39;49mcontext) \u001b[39mif\u001b[39;00m wants_context \u001b[39melse\u001b[39;00m dumps(x)\n\u001b[1;32m    353\u001b[0m     header[\u001b[39m\"\u001b[39m\u001b[39mserializer\u001b[39m\u001b[39m\"\u001b[39m] \u001b[39m=\u001b[39m name\n",
      "File \u001b[0;32m~/Code/lilac/.venv/lib/python3.9/site-packages/distributed/protocol/serialize.py:75\u001b[0m, in \u001b[0;36mpickle_dumps\u001b[0;34m(x, context)\u001b[0m\n\u001b[1;32m     73\u001b[0m     writeable\u001b[39m.\u001b[39mappend(\u001b[39mnot\u001b[39;00m f\u001b[39m.\u001b[39mreadonly)\n\u001b[0;32m---> 75\u001b[0m frames[\u001b[39m0\u001b[39m] \u001b[39m=\u001b[39m pickle\u001b[39m.\u001b[39;49mdumps(\n\u001b[1;32m     76\u001b[0m     x,\n\u001b[1;32m     77\u001b[0m     buffer_callback\u001b[39m=\u001b[39;49mbuffer_callback,\n\u001b[1;32m     78\u001b[0m     protocol\u001b[39m=\u001b[39;49mcontext\u001b[39m.\u001b[39;49mget(\u001b[39m\"\u001b[39;49m\u001b[39mpickle-protocol\u001b[39;49m\u001b[39m\"\u001b[39;49m, \u001b[39mNone\u001b[39;49;00m) \u001b[39mif\u001b[39;49;00m context \u001b[39melse\u001b[39;49;00m \u001b[39mNone\u001b[39;49;00m,\n\u001b[1;32m     79\u001b[0m )\n\u001b[1;32m     80\u001b[0m header \u001b[39m=\u001b[39m {\n\u001b[1;32m     81\u001b[0m     \u001b[39m\"\u001b[39m\u001b[39mserializer\u001b[39m\u001b[39m\"\u001b[39m: \u001b[39m\"\u001b[39m\u001b[39mpickle\u001b[39m\u001b[39m\"\u001b[39m,\n\u001b[1;32m     82\u001b[0m     \u001b[39m\"\u001b[39m\u001b[39mwriteable\u001b[39m\u001b[39m\"\u001b[39m: \u001b[39mtuple\u001b[39m(writeable),\n\u001b[1;32m     83\u001b[0m }\n",
      "File \u001b[0;32m~/Code/lilac/.venv/lib/python3.9/site-packages/distributed/protocol/pickle.py:81\u001b[0m, in \u001b[0;36mdumps\u001b[0;34m(x, buffer_callback, protocol)\u001b[0m\n\u001b[1;32m     80\u001b[0m     buffers\u001b[39m.\u001b[39mclear()\n\u001b[0;32m---> 81\u001b[0m     result \u001b[39m=\u001b[39m cloudpickle\u001b[39m.\u001b[39;49mdumps(x, \u001b[39m*\u001b[39;49m\u001b[39m*\u001b[39;49mdump_kwargs)\n\u001b[1;32m     82\u001b[0m \u001b[39mexcept\u001b[39;00m \u001b[39mException\u001b[39;00m:\n",
      "File \u001b[0;32m~/Code/lilac/.venv/lib/python3.9/site-packages/cloudpickle/cloudpickle_fast.py:73\u001b[0m, in \u001b[0;36mdumps\u001b[0;34m(obj, protocol, buffer_callback)\u001b[0m\n\u001b[1;32m     70\u001b[0m cp \u001b[39m=\u001b[39m CloudPickler(\n\u001b[1;32m     71\u001b[0m     file, protocol\u001b[39m=\u001b[39mprotocol, buffer_callback\u001b[39m=\u001b[39mbuffer_callback\n\u001b[1;32m     72\u001b[0m )\n\u001b[0;32m---> 73\u001b[0m cp\u001b[39m.\u001b[39;49mdump(obj)\n\u001b[1;32m     74\u001b[0m \u001b[39mreturn\u001b[39;00m file\u001b[39m.\u001b[39mgetvalue()\n",
      "File \u001b[0;32m~/Code/lilac/.venv/lib/python3.9/site-packages/cloudpickle/cloudpickle_fast.py:632\u001b[0m, in \u001b[0;36mCloudPickler.dump\u001b[0;34m(self, obj)\u001b[0m\n\u001b[1;32m    631\u001b[0m \u001b[39mtry\u001b[39;00m:\n\u001b[0;32m--> 632\u001b[0m     \u001b[39mreturn\u001b[39;00m Pickler\u001b[39m.\u001b[39;49mdump(\u001b[39mself\u001b[39;49m, obj)\n\u001b[1;32m    633\u001b[0m \u001b[39mexcept\u001b[39;00m \u001b[39mRuntimeError\u001b[39;00m \u001b[39mas\u001b[39;00m e:\n",
      "\u001b[0;31mTypeError\u001b[0m: cannot pickle 'duckdb.duckdb.DuckDBPyConnection' object",
      "\nThe above exception was the direct cause of the following exception:\n",
      "\u001b[0;31mTypeError\u001b[0m                                 Traceback (most recent call last)",
      "\u001b[1;32m/Users/nikhil/Code/lilac/notebooks/Test.ipynb Cell 2\u001b[0m line \u001b[0;36m9\n\u001b[1;32m      <a href='vscode-notebook-cell:/Users/nikhil/Code/lilac/notebooks/Test.ipynb#W1sZmlsZQ%3D%3D?line=4'>5</a>\u001b[0m   \u001b[39mprint\u001b[39m(item[\u001b[39m'\u001b[39m\u001b[39m__rowid__\u001b[39m\u001b[39m'\u001b[39m])\n\u001b[1;32m      <a href='vscode-notebook-cell:/Users/nikhil/Code/lilac/notebooks/Test.ipynb#W1sZmlsZQ%3D%3D?line=5'>6</a>\u001b[0m   \u001b[39mreturn\u001b[39;00m \u001b[39m'\u001b[39m\u001b[39m,\u001b[39m\u001b[39m'\u001b[39m\u001b[39m.\u001b[39mjoin(item[\u001b[39m'\u001b[39m\u001b[39mpremise\u001b[39m\u001b[39m'\u001b[39m]\u001b[39m.\u001b[39msplit())\n\u001b[0;32m----> <a href='vscode-notebook-cell:/Users/nikhil/Code/lilac/notebooks/Test.ipynb#W1sZmlsZQ%3D%3D?line=8'>9</a>\u001b[0m glue\u001b[39m.\u001b[39;49mmap(_map_fn, output_path\u001b[39m=\u001b[39;49m\u001b[39m'\u001b[39;49m\u001b[39m2com\u001b[39;49m\u001b[39m'\u001b[39;49m, disable_output\u001b[39m=\u001b[39;49m\u001b[39mTrue\u001b[39;49;00m)\n\u001b[1;32m     <a href='vscode-notebook-cell:/Users/nikhil/Code/lilac/notebooks/Test.ipynb#W1sZmlsZQ%3D%3D?line=10'>11</a>\u001b[0m \u001b[39mlist\u001b[39m(glue\u001b[39m.\u001b[39mselect_rows(limit\u001b[39m=\u001b[39m\u001b[39m1\u001b[39m))\n",
      "File \u001b[0;32m~/Code/lilac/lilac/data/dataset_duckdb.py:1863\u001b[0m, in \u001b[0;36mDatasetDuckDB.map\u001b[0;34m(self, map_fn, output_path, input_paths, combine_columns, resolve_span, disable_tasks, disable_output)\u001b[0m\n\u001b[1;32m   1861\u001b[0m   task_manager \u001b[39m=\u001b[39m get_task_manager()\n\u001b[1;32m   1862\u001b[0m   task_id \u001b[39m=\u001b[39m task_manager\u001b[39m.\u001b[39mtask_id(\u001b[39mf\u001b[39m\u001b[39m'\u001b[39m\u001b[39mMap \u001b[39m\u001b[39m{\u001b[39;00mmap_fn\u001b[39m.\u001b[39m\u001b[39m__name__\u001b[39m\u001b[39m}\u001b[39;00m\u001b[39m'\u001b[39m)\n\u001b[0;32m-> 1863\u001b[0m   task_manager\u001b[39m.\u001b[39;49mexecute(task_id, \u001b[39mself\u001b[39;49m\u001b[39m.\u001b[39;49m_map, output_path, input_paths, combine_columns,\n\u001b[1;32m   1864\u001b[0m                        resolve_span, (task_id, \u001b[39m0\u001b[39;49m), disable_output)\n\u001b[1;32m   1865\u001b[0m \u001b[39melse\u001b[39;00m:\n\u001b[1;32m   1866\u001b[0m   \u001b[39mself\u001b[39m\u001b[39m.\u001b[39m_map(\n\u001b[1;32m   1867\u001b[0m     map_fn\u001b[39m=\u001b[39mmap_fn,\n\u001b[1;32m   1868\u001b[0m     output_path\u001b[39m=\u001b[39moutput_path,\n\u001b[0;32m   (...)\u001b[0m\n\u001b[1;32m   1871\u001b[0m     resolve_span\u001b[39m=\u001b[39mresolve_span,\n\u001b[1;32m   1872\u001b[0m     task_step_id\u001b[39m=\u001b[39m\u001b[39mNone\u001b[39;00m)\n",
      "File \u001b[0;32m~/Code/lilac/lilac/tasks.py:216\u001b[0m, in \u001b[0;36mTaskManager.execute\u001b[0;34m(self, task_id, task, *args)\u001b[0m\n\u001b[1;32m    213\u001b[0m log(\u001b[39mf\u001b[39m\u001b[39m'\u001b[39m\u001b[39mScheduling task \u001b[39m\u001b[39m\"\u001b[39m\u001b[39m{\u001b[39;00mtask_id\u001b[39m}\u001b[39;00m\u001b[39m\"\u001b[39m\u001b[39m: \u001b[39m\u001b[39m\"\u001b[39m\u001b[39m{\u001b[39;00m\u001b[39mself\u001b[39m\u001b[39m.\u001b[39m_tasks[task_id]\u001b[39m.\u001b[39mname\u001b[39m}\u001b[39;00m\u001b[39m\"\u001b[39m\u001b[39m.\u001b[39m\u001b[39m'\u001b[39m)\n\u001b[1;32m    215\u001b[0m task_info \u001b[39m=\u001b[39m \u001b[39mself\u001b[39m\u001b[39m.\u001b[39m_tasks[task_id]\n\u001b[0;32m--> 216\u001b[0m task_future \u001b[39m=\u001b[39m \u001b[39mself\u001b[39;49m\u001b[39m.\u001b[39;49m_dask_client\u001b[39m.\u001b[39;49msubmit(\n\u001b[1;32m    217\u001b[0m   functools\u001b[39m.\u001b[39;49mpartial(_execute_task, task, task_info, task_id), \u001b[39m*\u001b[39;49margs, key\u001b[39m=\u001b[39;49mtask_id)\n\u001b[1;32m    218\u001b[0m task_future\u001b[39m.\u001b[39madd_done_callback(\n\u001b[1;32m    219\u001b[0m   \u001b[39mlambda\u001b[39;00m task_future: \u001b[39mself\u001b[39m\u001b[39m.\u001b[39m_set_task_completed(task_id, task_future))\n\u001b[1;32m    221\u001b[0m \u001b[39mself\u001b[39m\u001b[39m.\u001b[39m_futures[task_id] \u001b[39m=\u001b[39m task_future\n",
      "File \u001b[0;32m~/Code/lilac/.venv/lib/python3.9/site-packages/distributed/client.py:1961\u001b[0m, in \u001b[0;36mClient.submit\u001b[0;34m(self, func, key, workers, resources, retries, priority, fifo_timeout, allow_other_workers, actor, actors, pure, *args, **kwargs)\u001b[0m\n\u001b[1;32m   1958\u001b[0m \u001b[39melse\u001b[39;00m:\n\u001b[1;32m   1959\u001b[0m     dsk \u001b[39m=\u001b[39m {key: (func,) \u001b[39m+\u001b[39m \u001b[39mtuple\u001b[39m(args)}\n\u001b[0;32m-> 1961\u001b[0m futures \u001b[39m=\u001b[39m \u001b[39mself\u001b[39;49m\u001b[39m.\u001b[39;49m_graph_to_futures(\n\u001b[1;32m   1962\u001b[0m     dsk,\n\u001b[1;32m   1963\u001b[0m     [key],\n\u001b[1;32m   1964\u001b[0m     workers\u001b[39m=\u001b[39;49mworkers,\n\u001b[1;32m   1965\u001b[0m     allow_other_workers\u001b[39m=\u001b[39;49mallow_other_workers,\n\u001b[1;32m   1966\u001b[0m     internal_priority\u001b[39m=\u001b[39;49m{key: \u001b[39m0\u001b[39;49m},\n\u001b[1;32m   1967\u001b[0m     user_priority\u001b[39m=\u001b[39;49mpriority,\n\u001b[1;32m   1968\u001b[0m     resources\u001b[39m=\u001b[39;49mresources,\n\u001b[1;32m   1969\u001b[0m     retries\u001b[39m=\u001b[39;49mretries,\n\u001b[1;32m   1970\u001b[0m     fifo_timeout\u001b[39m=\u001b[39;49mfifo_timeout,\n\u001b[1;32m   1971\u001b[0m     actors\u001b[39m=\u001b[39;49mactor,\n\u001b[1;32m   1972\u001b[0m )\n\u001b[1;32m   1974\u001b[0m logger\u001b[39m.\u001b[39mdebug(\u001b[39m\"\u001b[39m\u001b[39mSubmit \u001b[39m\u001b[39m%s\u001b[39;00m\u001b[39m(...), \u001b[39m\u001b[39m%s\u001b[39;00m\u001b[39m\"\u001b[39m, funcname(func), key)\n\u001b[1;32m   1976\u001b[0m \u001b[39mreturn\u001b[39;00m futures[key]\n",
      "File \u001b[0;32m~/Code/lilac/.venv/lib/python3.9/site-packages/distributed/client.py:3158\u001b[0m, in \u001b[0;36mClient._graph_to_futures\u001b[0;34m(self, dsk, keys, workers, allow_other_workers, internal_priority, user_priority, resources, retries, fifo_timeout, actors)\u001b[0m\n\u001b[1;32m   3155\u001b[0m \u001b[39mfrom\u001b[39;00m \u001b[39mdistributed\u001b[39;00m\u001b[39m.\u001b[39;00m\u001b[39mprotocol\u001b[39;00m \u001b[39mimport\u001b[39;00m serialize\n\u001b[1;32m   3156\u001b[0m \u001b[39mfrom\u001b[39;00m \u001b[39mdistributed\u001b[39;00m\u001b[39m.\u001b[39;00m\u001b[39mprotocol\u001b[39;00m\u001b[39m.\u001b[39;00m\u001b[39mserialize\u001b[39;00m \u001b[39mimport\u001b[39;00m ToPickle\n\u001b[0;32m-> 3158\u001b[0m header, frames \u001b[39m=\u001b[39m serialize(ToPickle(dsk), on_error\u001b[39m=\u001b[39;49m\u001b[39m\"\u001b[39;49m\u001b[39mraise\u001b[39;49m\u001b[39m\"\u001b[39;49m)\n\u001b[1;32m   3159\u001b[0m nbytes \u001b[39m=\u001b[39m \u001b[39mlen\u001b[39m(header) \u001b[39m+\u001b[39m \u001b[39msum\u001b[39m(\u001b[39mmap\u001b[39m(\u001b[39mlen\u001b[39m, frames))\n\u001b[1;32m   3160\u001b[0m \u001b[39mif\u001b[39;00m nbytes \u001b[39m>\u001b[39m \u001b[39m10_000_000\u001b[39m:\n",
      "File \u001b[0;32m~/Code/lilac/.venv/lib/python3.9/site-packages/distributed/protocol/serialize.py:374\u001b[0m, in \u001b[0;36mserialize\u001b[0;34m(x, serializers, on_error, context, iterate_collection)\u001b[0m\n\u001b[1;32m    372\u001b[0m     \u001b[39mreturn\u001b[39;00m {\u001b[39m\"\u001b[39m\u001b[39mserializer\u001b[39m\u001b[39m\"\u001b[39m: \u001b[39m\"\u001b[39m\u001b[39merror\u001b[39m\u001b[39m\"\u001b[39m}, frames\n\u001b[1;32m    373\u001b[0m \u001b[39melif\u001b[39;00m on_error \u001b[39m==\u001b[39m \u001b[39m\"\u001b[39m\u001b[39mraise\u001b[39m\u001b[39m\"\u001b[39m:\n\u001b[0;32m--> 374\u001b[0m     \u001b[39mraise\u001b[39;00m \u001b[39mTypeError\u001b[39;00m(msg, \u001b[39mstr\u001b[39m(x)[:\u001b[39m10000\u001b[39m]) \u001b[39mfrom\u001b[39;00m \u001b[39mexc\u001b[39;00m\n\u001b[1;32m    375\u001b[0m \u001b[39melse\u001b[39;00m:  \u001b[39m# pragma: nocover\u001b[39;00m\n\u001b[1;32m    376\u001b[0m     \u001b[39mraise\u001b[39;00m \u001b[39mValueError\u001b[39;00m(\u001b[39mf\u001b[39m\u001b[39m\"\u001b[39m\u001b[39m{\u001b[39;00mon_error\u001b[39m=}\u001b[39;00m\u001b[39m; expected \u001b[39m\u001b[39m'\u001b[39m\u001b[39mmessage\u001b[39m\u001b[39m'\u001b[39m\u001b[39m or \u001b[39m\u001b[39m'\u001b[39m\u001b[39mraise\u001b[39m\u001b[39m'\u001b[39m\u001b[39m\"\u001b[39m)\n",
      "\u001b[0;31mTypeError\u001b[0m: ('Could not serialize object of type HighLevelGraph', '<ToPickle: HighLevelGraph with 1 layers.\\n<dask.highlevelgraph.HighLevelGraph object at 0x2b51c2b50>\\n 0. 11628714688\\n>')"
     ]
    }
   ],
   "source": [
    "glue = ll.get_dataset('local', 'glue_ax')\n",
    "\n",
    "\n",
    "def _map_fn(item):\n",
    "  print(item['__rowid__'])\n",
    "  return ','.join(item['premise'].split())\n",
    "\n",
    "\n",
    "glue.map(_map_fn, output_path='2com', disable_output=True, disable_tasks=True)\n",
    "\n",
    "list(glue.select_rows(limit=1))\n"
   ]
  },
  {
   "cell_type": "code",
   "execution_count": null,
   "metadata": {},
   "outputs": [],
   "source": []
  }
 ],
 "metadata": {
  "kernelspec": {
   "display_name": ".venv",
   "language": "python",
   "name": "python3"
  },
  "language_info": {
   "codemirror_mode": {
    "name": "ipython",
    "version": 3
   },
   "file_extension": ".py",
   "mimetype": "text/x-python",
   "name": "python",
   "nbconvert_exporter": "python",
   "pygments_lexer": "ipython3",
   "version": "3.9.17"
  }
 },
 "nbformat": 4,
 "nbformat_minor": 2
}
