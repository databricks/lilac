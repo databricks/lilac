{
 "cells": [
  {
   "cell_type": "code",
   "execution_count": 1,
   "metadata": {},
   "outputs": [
    {
     "name": "stderr",
     "output_type": "stream",
     "text": [
      "/Users/nikhil/Code/lilac/.venv/lib/python3.9/site-packages/tqdm/auto.py:21: TqdmWarning: IProgress not found. Please update jupyter and ipywidgets. See https://ipywidgets.readthedocs.io/en/stable/user_install.html\n",
      "  from .autonotebook import tqdm as notebook_tqdm\n"
     ]
    }
   ],
   "source": [
    "import lilac as ll\n",
    "\n",
    "ll.set_project_dir('./data')\n"
   ]
  },
  {
   "cell_type": "code",
   "execution_count": 4,
   "metadata": {},
   "outputs": [
    {
     "ename": "ParserException",
     "evalue": "Parser Error: syntax error at or near \",\"\nLINE 2: ... \"premise.pii\"['pii'] AS 'premise.pii', , , \"premise.text_statistics\"['text_st...\n                                                  ^",
     "output_type": "error",
     "traceback": [
      "\u001b[0;31m---------------------------------------------------------------------------\u001b[0m",
      "\u001b[0;31mParserException\u001b[0m                           Traceback (most recent call last)",
      "\u001b[1;32m/Users/nikhil/Code/lilac/notebooks/Test.ipynb Cell 2\u001b[0m line \u001b[0;36m5\n\u001b[1;32m      <a href='vscode-notebook-cell:/Users/nikhil/Code/lilac/notebooks/Test.ipynb#W1sZmlsZQ%3D%3D?line=0'>1</a>\u001b[0m glue \u001b[39m=\u001b[39m ll\u001b[39m.\u001b[39mget_dataset(\u001b[39m'\u001b[39m\u001b[39mlocal\u001b[39m\u001b[39m'\u001b[39m, \u001b[39m'\u001b[39m\u001b[39mglue\u001b[39m\u001b[39m'\u001b[39m)\n\u001b[1;32m      <a href='vscode-notebook-cell:/Users/nikhil/Code/lilac/notebooks/Test.ipynb#W1sZmlsZQ%3D%3D?line=2'>3</a>\u001b[0m \u001b[39m#list(glue.select_rows(limit=1))\u001b[39;00m\n\u001b[0;32m----> <a href='vscode-notebook-cell:/Users/nikhil/Code/lilac/notebooks/Test.ipynb#W1sZmlsZQ%3D%3D?line=4'>5</a>\u001b[0m glue\u001b[39m.\u001b[39;49mmap(\u001b[39mlambda\u001b[39;49;00m x: \u001b[39m'\u001b[39;49m\u001b[39mNikhil \u001b[39;49m\u001b[39m'\u001b[39;49m \u001b[39m+\u001b[39;49m x[\u001b[39m'\u001b[39;49m\u001b[39mpremise\u001b[39;49m\u001b[39m'\u001b[39;49m], output_path\u001b[39m=\u001b[39;49m\u001b[39m'\u001b[39;49m\u001b[39mnikhil_premise\u001b[39;49m\u001b[39m'\u001b[39;49m)\n\u001b[1;32m      <a href='vscode-notebook-cell:/Users/nikhil/Code/lilac/notebooks/Test.ipynb#W1sZmlsZQ%3D%3D?line=6'>7</a>\u001b[0m \u001b[39mlist\u001b[39m(glue\u001b[39m.\u001b[39mselect_rows(limit\u001b[39m=\u001b[39m\u001b[39m1\u001b[39m))\n",
      "File \u001b[0;32m~/Code/lilac/lilac/data/dataset_duckdb.py:1921\u001b[0m, in \u001b[0;36mDatasetDuckDB.map\u001b[0;34m(self, map_fn, output_path, input_paths, combine_columns, resolve_span, task_step_id)\u001b[0m\n\u001b[1;32m   1919\u001b[0m tmp_json_filename \u001b[39m=\u001b[39m \u001b[39m'\u001b[39m\u001b[39mtmp.jsonl\u001b[39m\u001b[39m'\u001b[39m\n\u001b[1;32m   1920\u001b[0m \u001b[39mwith\u001b[39;00m fs\u001b[39m.\u001b[39mopen(tmp_json_filename, \u001b[39m'\u001b[39m\u001b[39mw\u001b[39m\u001b[39m'\u001b[39m) \u001b[39mas\u001b[39;00m file:\n\u001b[0;32m-> 1921\u001b[0m   \u001b[39mfor\u001b[39;00m item \u001b[39min\u001b[39;00m json_outputs:\n\u001b[1;32m   1922\u001b[0m     json\u001b[39m.\u001b[39mdump(item, file)\n\u001b[1;32m   1923\u001b[0m     file\u001b[39m.\u001b[39mwrite(\u001b[39m'\u001b[39m\u001b[39m\\n\u001b[39;00m\u001b[39m'\u001b[39m)\n",
      "File \u001b[0;32m~/Code/lilac/lilac/data/dataset_duckdb.py:1913\u001b[0m, in \u001b[0;36m<genexpr>\u001b[0;34m(.0)\u001b[0m\n\u001b[1;32m   1910\u001b[0m       df_chunk \u001b[39m=\u001b[39m pd\u001b[39m.\u001b[39mDataFrame\u001b[39m.\u001b[39mfrom_records(df_chunk[\u001b[39m'\u001b[39m\u001b[39m*\u001b[39m\u001b[39m'\u001b[39m])\n\u001b[1;32m   1911\u001b[0m     \u001b[39myield from\u001b[39;00m df_chunk\u001b[39m.\u001b[39mto_dict(\u001b[39m'\u001b[39m\u001b[39mrecords\u001b[39m\u001b[39m'\u001b[39m)\n\u001b[0;32m-> 1913\u001b[0m outputs \u001b[39m=\u001b[39m ({ROWID: row[ROWID], output_column: map_fn(row)} \u001b[39mfor\u001b[39;00m row \u001b[39min\u001b[39;00m _rows())\n\u001b[1;32m   1915\u001b[0m json_outputs, parquet_outputs \u001b[39m=\u001b[39m itertools\u001b[39m.\u001b[39mtee(outputs, \u001b[39m2\u001b[39m)\n\u001b[1;32m   1917\u001b[0m \u001b[39m# Write the output rows to a temporary file to infer the schema from duckdb.\u001b[39;00m\n",
      "File \u001b[0;32m~/Code/lilac/lilac/data/dataset_duckdb.py:1880\u001b[0m, in \u001b[0;36mDatasetDuckDB.map.<locals>._rows\u001b[0;34m()\u001b[0m\n\u001b[1;32m   1878\u001b[0m \u001b[39mdef\u001b[39;00m \u001b[39m_rows\u001b[39m() \u001b[39m-\u001b[39m\u001b[39m>\u001b[39m Iterable[Item]:\n\u001b[1;32m   1879\u001b[0m   \u001b[39mnonlocal\u001b[39;00m select_queries\n\u001b[0;32m-> 1880\u001b[0m   result \u001b[39m=\u001b[39m con\u001b[39m.\u001b[39;49mexecute(\u001b[39mf\u001b[39;49m\u001b[39m\"\"\"\u001b[39;49m\n\u001b[1;32m   1881\u001b[0m \u001b[39m    SELECT \u001b[39;49m\u001b[39m{\u001b[39;49;00mROWID\u001b[39m}\u001b[39;49;00m\u001b[39m, \u001b[39;49m\u001b[39m{\u001b[39;49;00m\u001b[39m'\u001b[39;49m\u001b[39m, \u001b[39;49m\u001b[39m'\u001b[39;49m\u001b[39m.\u001b[39;49mjoin(select_queries)\u001b[39m}\u001b[39;49;00m\u001b[39m FROM t\u001b[39;49m\n\u001b[1;32m   1882\u001b[0m \u001b[39m  \u001b[39;49m\u001b[39m\"\"\"\u001b[39;49m)\n\u001b[1;32m   1883\u001b[0m   \u001b[39mwhile\u001b[39;00m \u001b[39mTrue\u001b[39;00m:\n\u001b[1;32m   1884\u001b[0m     df_chunk \u001b[39m=\u001b[39m result\u001b[39m.\u001b[39mfetch_df_chunk()\n",
      "\u001b[0;31mParserException\u001b[0m: Parser Error: syntax error at or near \",\"\nLINE 2: ... \"premise.pii\"['pii'] AS 'premise.pii', , , \"premise.text_statistics\"['text_st...\n                                                  ^"
     ]
    }
   ],
   "source": [
    "glue = ll.get_dataset('local', 'glue')\n",
    "\n",
    "#list(glue.select_rows(limit=1))\n",
    "\n",
    "glue.map(lambda x: 'Nikhil ' + x['premise'], output_path='nikhil_premise')\n",
    "\n",
    "list(glue.select_rows(limit=1))\n"
   ]
  },
  {
   "cell_type": "code",
   "execution_count": null,
   "metadata": {},
   "outputs": [],
   "source": []
  }
 ],
 "metadata": {
  "kernelspec": {
   "display_name": ".venv",
   "language": "python",
   "name": "python3"
  },
  "language_info": {
   "codemirror_mode": {
    "name": "ipython",
    "version": 3
   },
   "file_extension": ".py",
   "mimetype": "text/x-python",
   "name": "python",
   "nbconvert_exporter": "python",
   "pygments_lexer": "ipython3",
   "version": "3.9.17"
  }
 },
 "nbformat": 4,
 "nbformat_minor": 2
}
