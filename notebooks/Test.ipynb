{
 "cells": [
  {
   "cell_type": "code",
   "execution_count": 4,
   "metadata": {},
   "outputs": [
    {
     "name": "stdout",
     "output_type": "stream",
     "text": [
      "('0', None, 0.7)\n",
      "('1', 0.7, 1.4)\n",
      "('2', 1.4, 2.0999999999999996)\n",
      "('3', 2.0999999999999996, 2.8)\n",
      "('4', 2.8, 3.5)\n",
      "('5', 3.5, 4.199999999999999)\n",
      "('6', 4.199999999999999, 4.8999999999999995)\n",
      "('7', 4.8999999999999995, 5.6)\n",
      "('8', 5.6, 6.3)\n",
      "('9', 6.3, None)\n"
     ]
    }
   ],
   "source": [
    "def _old_auto_bins(min_val: float, max_val: float, num_bins: int) -> list:\n",
    "  bin_width = (max_val - min_val) / num_bins\n",
    "  bins: list = []\n",
    "  for i in range(num_bins):\n",
    "    start = None if i == 0 else min_val + i * bin_width\n",
    "    end = None if i == num_bins - 1 else min_val + (i + 1) * bin_width\n",
    "    bins.append((str(i), start, end))\n",
    "  return bins\n",
    "\n",
    "\n",
    "auto_bins = _old_auto_bins(0, 7, 10)\n",
    "for bin in auto_bins:\n",
    "  print(bin)"
   ]
  },
  {
   "cell_type": "code",
   "execution_count": 74,
   "metadata": {},
   "outputs": [
    {
     "name": "stdout",
     "output_type": "stream",
     "text": [
      "0.07 => 3\n",
      "('0', None, 0.004)\n",
      "('1', 0.004, 0.007)\n",
      "('2', 0.007, 0.011)\n",
      "('3', 0.011, 0.014)\n",
      "('4', 0.014, 0.018)\n",
      "('5', 0.018, 0.021)\n",
      "('6', 0.021, 0.025)\n",
      "('7', 0.025, 0.028)\n",
      "('8', 0.028, 0.032)\n",
      "('9', 0.032, 0.035)\n",
      "('10', 0.035, 0.039)\n",
      "('11', 0.039, 0.042)\n",
      "('12', 0.042, 0.046)\n",
      "('13', 0.046, 0.049)\n",
      "('14', 0.049, 0.053)\n",
      "('15', 0.053, 0.056)\n",
      "('16', 0.056, 0.06)\n",
      "('17', 0.06, 0.063)\n",
      "('18', 0.063, 0.067)\n",
      "('19', 0.067, None)\n"
     ]
    }
   ],
   "source": [
    "from math import ceil, log10\n",
    "\n",
    "\n",
    "def new_auto_bins(min_val: float, max_val: float, num_bins: int) -> list:\n",
    "  value_range = max_val - min_val\n",
    "  round_ndigits = max(0, -1 * round(log10(value_range)) + 2)\n",
    "  print(value_range, '=>', round_ndigits)\n",
    "  bin_width = (max_val - min_val) / num_bins\n",
    "  bins: list = []\n",
    "  last_end_val = None\n",
    "  for i in range(num_bins):\n",
    "    end = None if i == num_bins - 1 else min_val + (i + 1) * bin_width\n",
    "    if end:\n",
    "      end = round(end, round_ndigits)\n",
    "    start = last_end_val\n",
    "    last_end_val = end\n",
    "    bins.append((str(i), start, end))\n",
    "  return bins\n",
    "\n",
    "\n",
    "def tbin(min, max, bins):\n",
    "  auto_bins = new_auto_bins(min, max, bins)\n",
    "  print(f'==({min}, {max}, {bins})==')\n",
    "  for bin in auto_bins:\n",
    "    print(bin)\n",
    "\n",
    "\n",
    "auto_bins = new_auto_bins(0, 0.07, 20)\n",
    "for bin in auto_bins:\n",
    "  print(bin)"
   ]
  },
  {
   "cell_type": "code",
   "execution_count": null,
   "metadata": {},
   "outputs": [],
   "source": []
  }
 ],
 "metadata": {
  "language_info": {
   "name": "python"
  }
 },
 "nbformat": 4,
 "nbformat_minor": 2
}
