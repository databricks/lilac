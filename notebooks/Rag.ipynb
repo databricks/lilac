{
 "cells": [
  {
   "cell_type": "code",
   "execution_count": 1,
   "metadata": {},
   "outputs": [
    {
     "name": "stderr",
     "output_type": "stream",
     "text": [
      "/Users/nikhil/Code/lilac/.venv/lib/python3.11/site-packages/tqdm/auto.py:21: TqdmWarning: IProgress not found. Please update jupyter and ipywidgets. See https://ipywidgets.readthedocs.io/en/stable/user_install.html\n",
      "  from .autonotebook import tqdm as notebook_tqdm\n"
     ]
    }
   ],
   "source": [
    "%load_ext autoreload\n",
    "%autoreload 2\n",
    "import lilac as ll\n",
    "\n",
    "ll.set_project_dir('./data')"
   ]
  },
  {
   "cell_type": "code",
   "execution_count": 5,
   "metadata": {},
   "outputs": [
    {
     "name": "stdout",
     "output_type": "stream",
     "text": [
      "Computing topk on local/ableton:('text',) with embedding \"gte-small\" and vector store \"hnsw\" took 0.085s.\n",
      "Computing signal \"semantic_similarity\" on local/ableton:('text',) took 0.060s.\n",
      "To automate a knob in Ableton, you can follow these steps:\n",
      "\n",
      "1. Select the track or device that contains the knob you want to automate.\n",
      "2. Click on the 'Automation Mode' button in the top toolbar to enable automation mode.\n",
      "3. Locate the knob you want to automate and right-click on it.\n",
      "4. From the context menu, select 'Show Automation'.\n",
      "5. This will open the automation lane for the selected knob.\n",
      "6. Click on the 'Draw Mode' button in the automation lane to enable drawing mode.\n",
      "7. Use your mouse or a MIDI controller to adjust the knob and create automation points.\n",
      "8. You can also manually create automation points by clicking on the automation lane.\n",
      "9. Adjust the position and value of the automation points to create the desired automation curve.\n",
      "10. To refine the automation, you can use the various automation editing tools available in Ableton.\n",
      "11. Once you have finished automating the knob, you can disable automation mode by clicking on the 'Automation Mode' button again.\n",
      "\n",
      "Note: The exact steps may vary depending on the version of Ableton Live you are using. Please refer to the Ableton Live documentation for more detailed instructions.\n"
     ]
    }
   ],
   "source": [
    "ds = ll.get_dataset('local', 'ableton')\n",
    "\n",
    "query = 'How do I automate a knob in ableton?'\n",
    "r = ll.rag.get_rag_retrieval(\n",
    "  path='text',\n",
    "  dataset=ds,\n",
    "  embedding='gte-small',\n",
    "  query=query,\n",
    "  top_k=5,\n",
    "  chunk_window=1,\n",
    ")\n",
    "\n",
    "response = ll.rag.get_rag_response(query=query, retrieval_results=r)\n",
    "\n",
    "print(response)"
   ]
  },
  {
   "cell_type": "code",
   "execution_count": null,
   "metadata": {},
   "outputs": [],
   "source": []
  }
 ],
 "metadata": {
  "kernelspec": {
   "display_name": ".venv",
   "language": "python",
   "name": "python3"
  },
  "language_info": {
   "codemirror_mode": {
    "name": "ipython",
    "version": 3
   },
   "file_extension": ".py",
   "mimetype": "text/x-python",
   "name": "python",
   "nbconvert_exporter": "python",
   "pygments_lexer": "ipython3",
   "version": "3.11.4"
  }
 },
 "nbformat": 4,
 "nbformat_minor": 2
}
