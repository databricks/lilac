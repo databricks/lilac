{
 "cells": [
  {
   "cell_type": "code",
   "execution_count": 1,
   "metadata": {},
   "outputs": [
    {
     "name": "stderr",
     "output_type": "stream",
     "text": [
      "/Users/nikhil/Code/lilac/.venv/lib/python3.11/site-packages/tqdm/auto.py:21: TqdmWarning: IProgress not found. Please update jupyter and ipywidgets. See https://ipywidgets.readthedocs.io/en/stable/user_install.html\n",
      "  from .autonotebook import tqdm as notebook_tqdm\n"
     ]
    }
   ],
   "source": [
    "%load_ext autoreload\n",
    "%autoreload 2\n",
    "import lilac as ll\n",
    "\n",
    "ll.set_project_dir('./data')"
   ]
  },
  {
   "cell_type": "code",
   "execution_count": 2,
   "metadata": {},
   "outputs": [
    {
     "name": "stdout",
     "output_type": "stream",
     "text": [
      "Loading vector store \"hnsw\" for local/ableton:('text',) with embedding \"gte-small\" took 0.052s.\n",
      "Computing topk on local/ableton:('text',) with embedding \"gte-small\" and vector store \"hnsw\" took 0.693s.\n",
      "Computing signal \"semantic_similarity\" on local/ableton:('text',) took 0.070s.\n",
      "huggingface/tokenizers: The current process just got forked, after parallelism has already been used. Disabling parallelism to avoid deadlocks...\n",
      "To disable this warning, you can either:\n",
      "\t- Avoid using `tokenizers` before the fork if possible\n",
      "\t- Explicitly set the environment variable TOKENIZERS_PARALLELISM=(true | false)\n",
      "To automate a knob in Ableton, you can follow these steps:\n",
      "\n",
      "1. Open the Ableton Live software.\n",
      "2. Load a track or create a new project.\n",
      "3. Find the knob you want to automate. This can be a parameter on a device or a mixer control.\n",
      "4. Right-click on the knob and select 'Show Automation'.\n",
      "5. This will open the automation lane for the selected parameter.\n",
      "6. Click on the 'Automation Arm' button to enable automation recording.\n",
      "7. Move the knob to the desired position during playback or recording.\n",
      "8. Ableton will record and display the automation data in the automation lane.\n",
      "9. You can edit the automation curve by clicking and dragging the control points.\n",
      "10. To disable automation recording, click on the 'Automation Arm' button again.\n",
      "11. You can also adjust the automation curve by adding, deleting, or moving control points.\n",
      "12. Once you're satisfied with the automation, you can play back the track to hear the automated knob.\n",
      "\n",
      "Note: The specific steps may vary depending on the version of Ableton Live you are using. Please consult the Ableton Live manual or documentation for more detailed instructions.\n"
     ]
    }
   ],
   "source": [
    "ds = ll.get_dataset('local', 'ableton')\n",
    "\n",
    "query = 'How do I automate a knob in ableton'\n",
    "r = ll.rag.get_rag_retrieval(\n",
    "  path='text',\n",
    "  dataset=ds,\n",
    "  embedding='gte-small',\n",
    "  query=query,\n",
    "  top_k=5,\n",
    "  chunk_window=1,\n",
    ")\n",
    "\n",
    "response = ll.rag.get_rag_response(query=query, retrieval_results=r)\n",
    "\n",
    "print(response)"
   ]
  },
  {
   "cell_type": "code",
   "execution_count": null,
   "metadata": {},
   "outputs": [],
   "source": []
  }
 ],
 "metadata": {
  "kernelspec": {
   "display_name": ".venv",
   "language": "python",
   "name": "python3"
  },
  "language_info": {
   "codemirror_mode": {
    "name": "ipython",
    "version": 3
   },
   "file_extension": ".py",
   "mimetype": "text/x-python",
   "name": "python",
   "nbconvert_exporter": "python",
   "pygments_lexer": "ipython3",
   "version": "3.11.4"
  }
 },
 "nbformat": 4,
 "nbformat_minor": 2
}
