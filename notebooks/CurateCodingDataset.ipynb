{
 "cells": [
  {
   "cell_type": "code",
   "execution_count": null,
   "metadata": {},
   "outputs": [],
   "source": [
    "import lilac as ll\n",
    "\n",
    "config = ll.DatasetConfig(\n",
    "  namespace='local',\n",
    "  name='glaive',\n",
    "  source=ll.HuggingFaceSource(dataset_name='glaiveai/glaive-code-assistant'),\n",
    ")\n",
    "dataset = ll.create_dataset(config)\n"
   ]
  },
  {
   "cell_type": "code",
   "execution_count": 1,
   "metadata": {},
   "outputs": [
    {
     "name": "stderr",
     "output_type": "stream",
     "text": [
      "/Users/dsmilkov/code/lilac/.venv/lib/python3.11/site-packages/tqdm/auto.py:21: TqdmWarning: IProgress not found. Please update jupyter and ipywidgets. See https://ipywidgets.readthedocs.io/en/stable/user_install.html\n",
      "  from .autonotebook import tqdm as notebook_tqdm\n"
     ]
    },
    {
     "name": "stderr",
     "output_type": "stream",
     "text": [
      "INFO:     Started server process [70417]\n",
      "INFO:     Waiting for application startup.\n",
      "INFO:     Application startup complete.\n",
      "INFO:     Uvicorn running on http://127.0.0.1:5432 (Press CTRL+C to quit)\n"
     ]
    }
   ],
   "source": [
    "ll.start_server()\n"
   ]
  },
  {
   "cell_type": "code",
   "execution_count": null,
   "metadata": {},
   "outputs": [],
   "source": [
    "import re\n",
    "import subprocess\n",
    "import lilac as ll\n",
    "\n",
    "code_block_re = re.compile('```(py|python)\\n(.*)?\\n```', re.MULTILINE | re.DOTALL)\n",
    "\n",
    "\n",
    "# Format the code blocks of the \"answer\" column using the `ruff`` formatter.\n",
    "def format_code(item):\n",
    "  text = item['answer']\n",
    "  if not text:\n",
    "    return None\n",
    "\n",
    "  new_text = text\n",
    "  has_edit = False\n",
    "  for _, code_block in code_block_re.findall(text):\n",
    "    if not code_block:\n",
    "      continue\n",
    "    try:\n",
    "      # Call the ruff binary to format the current code block.\n",
    "      formatted_code_block = subprocess.check_output(\n",
    "        ['ruff', 'format', '-'], input=code_block, encoding='utf-8', stderr=subprocess.DEVNULL\n",
    "      )\n",
    "      new_text = new_text.replace(code_block, formatted_code_block)\n",
    "      has_edit = True\n",
    "    except subprocess.CalledProcessError:\n",
    "      continue\n",
    "  return {'answer': new_text, 'has_edit': has_edit}\n",
    "\n",
    "\n",
    "ds = ll.get_dataset('local', 'glaive')\n",
    "ds.map(format_code, output_column='answer_formatted', num_jobs=-1, execution_type='processes')\n"
   ]
  }
 ],
 "metadata": {
  "kernelspec": {
   "display_name": ".venv",
   "language": "python",
   "name": "python3"
  },
  "language_info": {
   "codemirror_mode": {
    "name": "ipython",
    "version": 3
   },
   "file_extension": ".py",
   "mimetype": "text/x-python",
   "name": "python",
   "nbconvert_exporter": "python",
   "pygments_lexer": "ipython3",
   "version": "3.11.4"
  }
 },
 "nbformat": 4,
 "nbformat_minor": 2
}
