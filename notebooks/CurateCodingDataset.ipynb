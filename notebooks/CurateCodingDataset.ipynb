{
 "cells": [
  {
   "cell_type": "markdown",
   "metadata": {},
   "source": [
    "# Curating a coding dataset with Lilac\n",
    "\n",
    "This is the accompanying notebook for the [blog post](https://docs.lilacml.com/blog/curate-coding-dataset.html) on curating a coding dataset with Lilac.\n",
    "\n",
    "Check out the [live demo](https://lilacai-lilac.hf.space/datasets#lilac/glaive&expandedStats=%7B%22answer_formatted.has_edit%22%3Atrue%7D&query=%7B%22filters%22%3A%5B%7B%22path%22%3A%5B%22answer_formatted%22%2C%22has_edit%22%5D%2C%22op%22%3A%22equals%22%2C%22value%22%3A1%7D%5D%7D&compareColumns=%5B%7B%22column%22%3A%5B%22answer%22%5D%2C%22compareToColumn%22%3A%5B%22answer_formatted%22%2C%22answer%22%5D%2C%22swapDirection%22%3Afalse%7D%5D&rowId=%22fffc265c-845e-4a2b-b3ce-2caa61fed0f4%22).\n"
   ]
  },
  {
   "cell_type": "code",
   "execution_count": 1,
   "metadata": {},
   "outputs": [
    {
     "name": "stderr",
     "output_type": "stream",
     "text": [
      "/Users/nikhil/Code/lilac/.venv/lib/python3.11/site-packages/tqdm/auto.py:21: TqdmWarning: IProgress not found. Please update jupyter and ipywidgets. See https://ipywidgets.readthedocs.io/en/stable/user_install.html\n",
      "  from .autonotebook import tqdm as notebook_tqdm\n"
     ]
    }
   ],
   "source": [
    "import lilac as ll\n",
    "\n",
    "ll.set_project_dir('./demo_data')\n",
    "\n",
    "try:\n",
    "  ds = ll.get_dataset('lilac', 'glaive')\n",
    "except Exception:\n",
    "  # Create the dataset.\n",
    "  config = ll.DatasetConfig(\n",
    "    namespace='lilac',\n",
    "    name='glaive',\n",
    "    source=ll.HuggingFaceSource(dataset_name='glaiveai/glaive-code-assistant'),\n",
    "  )\n",
    "  ds = ll.create_dataset(config)"
   ]
  },
  {
   "cell_type": "code",
   "execution_count": null,
   "metadata": {},
   "outputs": [
    {
     "name": "stderr",
     "output_type": "stream",
     "text": [
      "INFO:     Started server process [70330]\n",
      "INFO:     Waiting for application startup.\n",
      "INFO:     Application startup complete.\n",
      "INFO:     Uvicorn running on http://127.0.0.1:5432 (Press CTRL+C to quit)\n"
     ]
    },
    {
     "name": "stderr",
     "output_type": "stream",
     "text": [
      "/Users/nikhil/Code/lilac/.venv/lib/python3.11/site-packages/distributed/node.py:182: UserWarning: Port 8787 is already in use.\n",
      "Perhaps you already have a cluster running?\n",
      "Hosting the HTTP server on port 52328 instead\n",
      "  warnings.warn(\n"
     ]
    }
   ],
   "source": [
    "# Start the lilac webserver.\n",
    "ll.start_server()"
   ]
  },
  {
   "cell_type": "code",
   "execution_count": 18,
   "metadata": {},
   "outputs": [
    {
     "name": "stderr",
     "output_type": "stream",
     "text": [
      "[lilac/glaive][1 shards] map \"format_code\" to \"format_code\":   0%|          | 0/136109 [00:00<?, ?it/s]"
     ]
    },
    {
     "name": "stdout",
     "output_type": "stream",
     "text": [
      "[{'answer': \"You can achieve this by using the numpy library in Python. Here's \"\n",
      "            'an example code snippet:\\n'\n",
      "            '\\n'\n",
      "            '```\\n'\n",
      "            'import numpy as np\\n'\n",
      "            '\\n'\n",
      "            'def generate_gaussian_noise(mean=0, std=0.1):\\n'\n",
      "            '    noise = np.random.normal(mean, std, 1000)\\n'\n",
      "            '    return noise\\n'\n",
      "            '```\\n'\n",
      "            '\\n'\n",
      "            'In this code, we first import the numpy library using `import '\n",
      "            'numpy as np`. Then, we define a function called '\n",
      "            '`generate_gaussian_noise` which takes two optional parameters: '\n",
      "            '`mean` (default value is 0) and `std` (default value is 0.1). \\n'\n",
      "            '\\n'\n",
      "            'Inside the function, we use `np.random.normal(mean, std, 1000)` '\n",
      "            'to generate an array of 1000 random numbers that follow a '\n",
      "            'Gaussian distribution with the given mean and standard deviation. '\n",
      "            'This is done using the `normal` function in the numpy.random '\n",
      "            'module. \\n'\n",
      "            '\\n'\n",
      "            'Finally, we return the generated noise array. You can adjust the '\n",
      "            'size of the array by changing the value passed as the third '\n",
      "            'argument to `np.random.normal()`.',\n",
      "  'has_edit': False},\n",
      " {'answer': 'To create a program that predicts the label of a data point using '\n",
      "            'AI, you can use the following code:\\n'\n",
      "            '\\n'\n",
      "            '```python\\n'\n",
      "            'def predict(X):\\n'\n",
      "            '  \"\"\"Predict the label of a given data point.\"\"\"\\n'\n",
      "            '  # assumptions:\\n'\n",
      "            '  # X is a row vector\\n'\n",
      "            '  # Y has two classes {0, 1}\\n'\n",
      "            '\\n'\n",
      "            '  # your model goes here\\n'\n",
      "            '  # for example:\\n'\n",
      "            '  prediction = 0 if X[0] < X[1] else 1\\n'\n",
      "            '  return prediction\\n'\n",
      "            '\\n'\n",
      "            '\\n'\n",
      "            \"if __name__ == '__main__':\\n\"\n",
      "            '  point = [1, 2, 3]\\n'\n",
      "            '  print(predict(point))\\n'\n",
      "            '\\n'\n",
      "            '```\\n'\n",
      "            '\\n'\n",
      "            'In this code, the `predict` function takes a data point (`X`) as '\n",
      "            'input and returns the predicted label. The assumption is that `X` '\n",
      "            'is a row vector and the labels have two classes, either 0 or 1.\\n'\n",
      "            '\\n'\n",
      "            'The actual prediction logic can vary depending on the AI model '\n",
      "            'you want to use. In the given code example, the prediction is '\n",
      "            'made based on a simple condition: if the first element of `X` is '\n",
      "            'less than the second element, the label is predicted as 0, '\n",
      "            'otherwise as 1.\\n'\n",
      "            '\\n'\n",
      "            'To test the program, you can call the `predict` function with a '\n",
      "            'specific data point, such as `[1, 2, 3]`, and print the result.',\n",
      "  'has_edit': True},\n",
      " {'answer': 'You can achieve this by using the provided function called '\n",
      "            '\"classify_quadrant\". This function takes two parameters, x and y, '\n",
      "            'which represent the coordinates of a data point on a plane. The '\n",
      "            'function uses a series of if-elif-else statements to determine '\n",
      "            'the quadrant the data point falls into.\\n'\n",
      "            '\\n'\n",
      "            'In the code example, the first condition checks if both x and y '\n",
      "            'are greater than or equal to 0. If this condition is true, it '\n",
      "            'means the data point lies in the first quadrant, and the function '\n",
      "            'returns 1.\\n'\n",
      "            '\\n'\n",
      "            'The second condition checks if x is less than 0 and y is greater '\n",
      "            'than or equal to 0. If true, the data point is in the second '\n",
      "            'quadrant, and the function returns 2.\\n'\n",
      "            '\\n'\n",
      "            'The third condition checks if both x and y are less than 0. If '\n",
      "            'this condition is true, the data point is in the third quadrant, '\n",
      "            'and the function returns 3.\\n'\n",
      "            '\\n'\n",
      "            'If none of the previous conditions are met, it means the data '\n",
      "            'point lies in the fourth quadrant, and the function returns 4.\\n'\n",
      "            '\\n'\n",
      "            'To use this function, you can call it with the desired x and y '\n",
      "            'coordinates as arguments. For example, classify_quadrant(2,3) '\n",
      "            'will return 1, indicating that the data point (2,3) falls into '\n",
      "            'the first quadrant.',\n",
      "  'has_edit': False}]\n"
     ]
    },
    {
     "name": "stderr",
     "output_type": "stream",
     "text": [
      "\n"
     ]
    }
   ],
   "source": [
    "import re\n",
    "import subprocess\n",
    "import lilac as ll\n",
    "from pprint import pprint\n",
    "\n",
    "code_block_re = re.compile('```(py|python)\\n(.*)?\\n```', re.MULTILINE | re.DOTALL)\n",
    "\n",
    "\n",
    "# Format the code blocks of the \"answer\" column using the `ruff`` formatter.\n",
    "def format_code(item):\n",
    "  text = item['answer']\n",
    "  if not text:\n",
    "    return None\n",
    "\n",
    "  new_text = text\n",
    "  has_edit = False\n",
    "  for _, code_block in code_block_re.findall(text):\n",
    "    if not code_block:\n",
    "      continue\n",
    "    try:\n",
    "      # Call the ruff binary to format the current code block.\n",
    "      formatted_code_block = subprocess.check_output(\n",
    "        ['ruff', 'format', '-'], input=code_block, encoding='utf-8', stderr=subprocess.DEVNULL\n",
    "      )\n",
    "      new_text = new_text.replace(code_block, formatted_code_block)\n",
    "      has_edit = True\n",
    "    except subprocess.CalledProcessError:\n",
    "      continue\n",
    "  return {'answer': new_text, 'has_edit': has_edit}\n",
    "\n",
    "\n",
    "# Run over a sample to print the output to make sure our formatter is what we want. We emit the output_column to\n",
    "# avoid writing to the dataset.\n",
    "sample_output = ds.map(format_code, limit=3)\n",
    "pprint(list(sample_output))"
   ]
  },
  {
   "cell_type": "code",
   "execution_count": 19,
   "metadata": {},
   "outputs": [
    {
     "name": "stderr",
     "output_type": "stream",
     "text": [
      "[lilac/glaive][12 shards] map \"format_code\" to \"answer_formatted\": 100%|██████████| 136109/136109 [02:15<00:00, 1004.39it/s]\n"
     ]
    },
    {
     "name": "stdout",
     "output_type": "stream",
     "text": [
      "Wrote map output to ./demo_data/datasets/lilac/glaive/answer_formatted-00000-of-00001.parquet\n"
     ]
    },
    {
     "data": {
      "text/plain": [
       "<lilac.data.dataset_duckdb.DuckDBMapOutput at 0x2c748da90>"
      ]
     },
     "execution_count": 19,
     "metadata": {},
     "output_type": "execute_result"
    }
   ],
   "source": [
    "# Run over the whole dataset.\n",
    "ds.map(\n",
    "  format_code,\n",
    "  output_column='answer_formatted',\n",
    "  num_jobs=-1,  # Use all available CPU cores.\n",
    "  execution_type='processes',  # Run on multiple processes.\n",
    "  overwrite=True,\n",
    ")"
   ]
  },
  {
   "cell_type": "code",
   "execution_count": null,
   "metadata": {},
   "outputs": [],
   "source": []
  }
 ],
 "metadata": {
  "kernelspec": {
   "display_name": ".venv",
   "language": "python",
   "name": "python3"
  },
  "language_info": {
   "codemirror_mode": {
    "name": "ipython",
    "version": 3
   },
   "file_extension": ".py",
   "mimetype": "text/x-python",
   "name": "python",
   "nbconvert_exporter": "python",
   "pygments_lexer": "ipython3",
   "version": "3.11.4"
  }
 },
 "nbformat": 4,
 "nbformat_minor": 2
}
