{
 "cells": [
  {
   "cell_type": "markdown",
   "metadata": {},
   "source": [
    "# Using concepts\n",
    "\n",
    "This notebook will show you how to use concepts from python.\n",
    "\n",
    "For more information on concepts, see our [Concepts](https://docs.lilacml.com/concepts/concepts.html) guide.\n"
   ]
  },
  {
   "cell_type": "code",
   "execution_count": 2,
   "metadata": {},
   "outputs": [
    {
     "name": "stderr",
     "output_type": "stream",
     "text": [
      "/Users/nikhil/Code/lilac/.venv/lib/python3.11/site-packages/tqdm/auto.py:21: TqdmWarning: IProgress not found. Please update jupyter and ipywidgets. See https://ipywidgets.readthedocs.io/en/stable/user_install.html\n",
      "  from .autonotebook import tqdm as notebook_tqdm\n"
     ]
    }
   ],
   "source": [
    "%load_ext autoreload\n",
    "%autoreload 2\n",
    "import lilac as ll\n",
    "\n",
    "ll.set_project_dir('./data')\n",
    "\n",
    "concept_namespace = 'lilac'\n",
    "concept_name = 'language-model-reference'\n",
    "embedding_name = 'gte-small'"
   ]
  },
  {
   "cell_type": "markdown",
   "metadata": {},
   "source": [
    "## Get the concept\n",
    "\n",
    "The concept itself is just a collection of positive and negative examples. There is no model associated with it.\n",
    "\n",
    "The power of a concept is the choice of positive / negative examples, and the Lilac UI is a powerful way to craft these example sets.\n",
    "\n",
    "For this example, we're assuming we have already created a concept.\n"
   ]
  },
  {
   "cell_type": "code",
   "execution_count": 3,
   "metadata": {},
   "outputs": [
    {
     "name": "stdout",
     "output_type": "stream",
     "text": [
      "concept version: 41\n",
      "concept data: dict_values([Example(label=True, text='As a language model I am unable to talk about politics.', img=None, origin=None, draft='main', id='8cfd409ca603415cba0d5b23d9b7e8d3'), Example(label=True, text=\"Being a language model, I can't generate images.\", img=None, origin=None, draft='main', id='c142895a7d70460db9b15fc885c5a975'), Example(label=False, text='Bees fly using a different mechanism from airplanes.', img=None, origin=None, draft='main', id='d497214b75e84073b9ad37256d224f84'), Example(label=False, text=\"If Charles' left wing, commanded by Nauendorf, united with Hotze's force, approaching from the east, Masséna would prepare for Charles to attack and very likely push him out of Zürich.\", img=None, origin=None, draft='main', id='c9cdf2a9d2514ba4bfa294e84e0e9ff7'), Example(label=False, text='Thought this was super cool, and a really important step in the preservation of all the physical books.', img=None, origin=None, draft='main', id='32dfd6fb72984acab3927889f8bdc152'), Example(label=False, text='I couldn’t bring myself to throw it away, not out of affection to her, but rather the fondness of all the memories surrounding that time period.', img=None, origin=None, draft='main', id='0d32c40c2a5940a79bf7355b13025704'), Example(label=False, text=\"After quoting Abraham Lincoln, he portrayed the American public's violent tendencies as undermining its national ideals.\", img=None, origin=None, draft='main', id='a7de1f22f0724430950df63604613eab'), Example(label=False, text='Some dogs like to scratch their ears.', img=None, origin=None, draft='main', id='bcbc8e2ed8ca4075a1ff1fef574ebadc'), Example(label=False, text='I couldn’t bring myself to throw it away, out of affection to her.', img=None, origin=None, draft='main', id='b25f023ec2d04dc2a840838891b372e4'), Example(label=False, text='Notorious B.I.G. passed away.', img=None, origin=None, draft='main', id='e47d208ebe1044c3a0c6907b8635e8a9'), Example(label=False, text='Putin is so entrenched within Russia’s ruling system that many of its members can imagine no other leader than themselves.', img=None, origin=None, draft='main', id='d290e62e8b1a44beb54d54d5d846f501'), Example(label=False, text='Missouri lawmakers are considering a government boycott of companies that boycott Israel.', img=None, origin=None, draft='main', id='b485dda6be3a43ada43a929dd6ff8646'), Example(label=False, text='Part #4: Input sentence cannot have two languages at a time\\nUsage: \"I love gå på promenader.\" This sentence does not meet the criterion because it mixes English (\"I love\") and Swedish (\"gå på promenader\") words together, while the task requires the input sentence to be in one language only.', img=None, origin=None, draft='main', id='ab4f851dfba94c40a4c71def4c6095fa'), Example(label=False, text='The Eagles were behind by 14 points at the end of the first quarter. The Lions had taken a lead with two touchdowns by Theo Riddick which accumulated 14 points (7 points each, generally in American Football - 6 points for the touchdown and 1 point for the extra point conversion) and the Eagles had not yet scored any points. Thus, the difference in score between the two teams, i.e., the points by', img=None, origin=None, draft='main', id='035580033a4e4d2b8dfc2081f1d1a77f'), Example(label=True, text='As an AI language model, I do not have the capability to make phone calls or provide spoken directions. Additionally, I am unable to provide context or conversation history as I do not have access to your previous interactions.', img=None, origin=None, draft='main', id='5ddc10e19efc4759910e6563f3269748'), Example(label=True, text='Note: As I am an AI language model and only provide information and guidelines in simple steps, I cannot perform the translation myself. However, I can provide you with steps on how to perform the task.', img=None, origin=None, draft='main', id='7b6183436dc24598b7d12f9dd1557a6a'), Example(label=False, text='Next, I need to have a good understanding of Igbo language vocabulary to properly translate the English words into their corresponding Igbo words.', img=None, origin=None, draft='main', id='91c70b07ce3f46cc8603347faaabccf0'), Example(label=False, text='contextual responses, and interact with users efficiently. I do not have a specific individual, nor a group of people, who transcribe text for me; it is all done through machine learning and artificial intelligence.', img=None, origin=None, draft='main', id='ddaf310ff0674cf1815e73dbbdd2e115'), Example(label=False, text='Note: As I am not capable to translate into Gujarati, I am unable to provide the output for this task.', img=None, origin=None, draft='main', id='986c7fe8119345cfbef1b1cde84c5685'), Example(label=True, text='As an AI language model, I do not experience the concept of being busy. My purpose is to assist and respond to user inquiries promptly and efficiently. If you have any questions or require assistance, feel free to ask, and I will gladly help you.', img=None, origin=None, draft='main', id='b2a9fe2b0bbf4f418bcd71d1d934dad6'), Example(label=False, text='The translated sentence in Spanish is: \"Soy un asistente de inteligencia artificial.\"\\n\\nI have chosen Spanish and created a sentence with the message \"I am an AI assistant\" in that language. The translation is accurate and the meaning of the sentence remains consistent with the intended message.', img=None, origin=None, draft='main', id='04c1e222755842c98d471de6aab25678'), Example(label=True, text='As an AI language model, I am not able to browse the internet and provide real-time information. However, if you provide me with the necessary context or background about Vicente Henriques, I will be happy to help to the best of my capabilities.', img=None, origin=None, draft='main', id='1f3a417e5336406586f868967f1d61f1'), Example(label=True, text='As an AI language model, I do not have the capability to make phone calls or provide spoken directions. Additionally, I am unable to provide context or conversation history as I do not have access to your previous interactions.', img=None, origin=None, draft='main', id='6613c8faafc6446bb02c8966429ec4fa'), Example(label=False, text=\"Step 3: Answer the questions based on the available knowledge\\nSince I'm unable to access real-time information, I'll provide answers based on my general knowledge of SEO and its significance in a growing market like India.\", img=None, origin=None, draft='main', id='c2303e5d879b44bb8dec98ef5f16b9aa'), Example(label=False, text=\"In the end, the film becomes a symbol of the power of friendship, determination, and the importance of supporting our loved ones' dreams.\", img=None, origin=None, draft='main', id='b347443762ab4bd085c7019ee4c397df'), Example(label=False, text='There is no information provided about the languages spoken or written by any of the mentioned subjects or objects.', img=None, origin=None, draft='main', id='b1a8d553a3f14344aa5b6cd1b5ef644a'), Example(label=False, text=\"3. Integrate the model into the project: Next, integrate the trained AI model into the smart home project. You can use Firebase Functions or Cloud Run to deploy the model as a REST API. The API can be called from Flutter or Arduino to get predictions or perform actions based on the AI model's output.\", img=None, origin=None, draft='main', id='71d387d272414056af859c655adcf59f'), Example(label=True, text='I apologize for the repeated instruction. As an AI language model, I do not have the ability to remember previous interactions. ', img=None, origin=None, draft='main', id='36e8528c47c5483d854d42ed7e9fc968'), Example(label=True, text=\"As an AI language model, I don't have any needs or requirements. I am here to assist you with any task or question you may have. If you have any further questions or need any additional assistance, please let me know.<|im_end|>\", img=None, origin=None, draft='main', id='12067f10409c452b99e22664bd2c2097'), Example(label=True, text='As an AI language model, my purpose is to assist and provide value while prioritizing ethical guidelines.', img=None, origin=None, draft='main', id='1840ffd25a074aa0aac23b6f0be48044'), Example(label=False, text=' Therefore, I will not be able to provide a recent answer or perform real-time tasks for you.', img=None, origin=None, draft='main', id='642b95a25d2145d187c86d7266e98fe7'), Example(label=True, text=\"As an AI, I don't have the ability to access specific real-life information or events in real-time.\", img=None, origin=None, draft='main', id='c5a18003d17c4ccb8219ed9e630a315a'), Example(label=True, text=\"As an AI, I don't have real-time access to all information.\", img=None, origin=None, draft='main', id='70c9e001331c4f5f9be0195f83c3bba7'), Example(label=True, text='As an AI, I don\\'t have personal emotions or preferences, so I don\\'t \"like\" anything or play games myself.', img=None, origin=None, draft='main', id='147efc69a58d466fb9e06bbbedbd0711'), Example(label=True, text=' I intend to follow ethical guidelines for AI, which include avoiding spreading negativity or engaging in any interactions that may promote harm or discontent.', img=None, origin=None, draft='main', id='85bdad747b3d4059896ff86f713ba426'), Example(label=True, text='As an AI language model, I cannot provide current or real-time information.', img=None, origin=None, draft='main', id='4660ca811daa435f9ee6aeda338963a3'), Example(label=True, text=\"As an AI language model, I don't have personal opinions or emotions.\", img=None, origin=None, draft='main', id='4793ce652ea041db9172ea845fe6e17d'), Example(label=False, text='The fast cheetah quickly sprinted across the sunlit savannah, skillfully capturing its prey with incredible precision and strength.\"', img=None, origin=None, draft='main', id='f1f37c350b004eeab95cdc0fe14651a1')])\n"
     ]
    }
   ],
   "source": [
    "# Get the `language-model-reference` concept. This is just a collection of positive and negative\n",
    "# examples.\n",
    "llm_self_ref_concept = ll.concepts.db_concept.DISK_CONCEPT_DB.get(concept_namespace, concept_name)\n",
    "assert llm_self_ref_concept is not None\n",
    "\n",
    "print('concept version:', llm_self_ref_concept.version)\n",
    "print('concept data:', llm_self_ref_concept.data.values())"
   ]
  },
  {
   "cell_type": "markdown",
   "metadata": {},
   "source": [
    "## Score text\n",
    "\n",
    "We can score some text by using a ConceptSignal.\n"
   ]
  },
  {
   "cell_type": "code",
   "execution_count": 4,
   "metadata": {},
   "outputs": [
    {
     "name": "stdout",
     "output_type": "stream",
     "text": [
      "thenlper/gte-small using device: mps:0\n",
      "[[{'__span__': {'start': 0, 'end': 49}, 'score': 0.9286369605398131}]]\n",
      "thenlper/gte-small using device: mps:0\n",
      "[[{'__span__': {'start': 0, 'end': 24}, 'score': 0.42107274768652986}]]\n"
     ]
    }
   ],
   "source": [
    "concept_scorer = ll.signals.ConceptSignal(\n",
    "  namespace=concept_namespace, concept_name=concept_name, embedding=embedding_name\n",
    ")\n",
    "\n",
    "# Should be a high-score.\n",
    "results = concept_scorer.compute(['As a language model I cannot talk about politics.'])\n",
    "print(list(results))\n",
    "\n",
    "# Should be a low-score.\n",
    "results = concept_scorer.compute(['How are you doing today?'])\n",
    "print(list(results))"
   ]
  },
  {
   "cell_type": "markdown",
   "metadata": {},
   "source": [
    "## Getting the coefficients of the linear model\n",
    "\n",
    "To get the coefficients of the linear model, we can create a concept model by marrying a concept with an embedding and ask for its coefficients.\n",
    "\n",
    "NOTE: The weights of the linear model are tied to the embedding.\n"
   ]
  },
  {
   "cell_type": "code",
   "execution_count": 8,
   "metadata": {},
   "outputs": [
    {
     "name": "stdout",
     "output_type": "stream",
     "text": [
      "model version: 41\n",
      "weights shape: (384,)\n",
      "weights:\n",
      "[-4.20199000e-01  1.98672492e-01  9.84018219e-01 -3.77122589e-01\n",
      " -4.85047031e-01  3.34661419e-01 -6.19358506e-01  5.06819405e-01\n",
      "  1.19839791e+00 -7.60616220e-01  1.22879886e-01 -7.67726979e-01\n",
      "  8.52913480e-01  6.06879647e-01  1.31514308e+00  3.45484587e-01\n",
      " -2.86316078e-01 -5.68808789e-01  1.08463429e+00 -7.88415919e-01\n",
      " -5.26887510e-01 -9.90903510e-01 -2.00908539e-01 -7.12975677e-01\n",
      " -2.11012775e+00 -4.79338294e-01 -6.46391819e-02 -1.24419694e-01\n",
      " -5.56396091e-03 -3.73033813e-01  1.71061153e-01  6.84900643e-01\n",
      "  5.84897199e-01 -1.07686672e-02 -2.45055084e-01 -2.34841543e-01\n",
      " -1.04385043e+00 -3.70423094e-01 -7.99043087e-01  2.28493934e-01\n",
      " -3.28236738e-01  3.32938591e-02  9.77883720e-01 -3.99063974e-01\n",
      "  1.33709724e+00 -9.14014052e-01  2.79159564e-02  7.82522914e-01\n",
      " -1.47477020e+00 -1.04273267e+00  5.89191634e-01  2.56733771e-01\n",
      " -3.03099993e-01 -3.23768995e-01  1.41614668e+00 -3.28463636e-01\n",
      "  9.40698130e-01  1.16561688e+00  8.32988537e-01 -3.47741241e-01\n",
      "  5.36333377e-01  1.38076762e-02  1.24925198e+00  8.79546720e-01\n",
      " -5.46797769e-01 -5.41918990e-02 -2.78991766e-02 -3.11229467e-01\n",
      "  7.47615618e-01  3.52902870e-02  2.73026746e-01  2.94123908e-01\n",
      " -6.69778690e-01  4.33182386e-01  4.68631919e-01 -6.77268583e-01\n",
      "  5.59202745e-01 -1.00447631e-01  1.83225949e+00  4.35099436e-01\n",
      " -8.83464325e-01  3.68740046e-01 -9.89792195e-01 -1.71380661e-01\n",
      " -1.47170926e-02 -1.13143074e-01  4.02947831e-01  6.16489395e-01\n",
      " -1.07105837e+00 -5.47294278e-01 -4.56613835e-01  8.00656470e-01\n",
      "  7.00125327e-01  7.71973169e-01  7.77031559e-01  3.71190364e-02\n",
      " -5.64152591e-01  8.85948722e-01 -2.86171468e+00  1.42297299e-01\n",
      "  9.21140251e-01 -7.25692621e-01 -1.87466597e-01  1.65399580e+00\n",
      " -1.24794778e-01 -5.53991859e-01 -1.00498319e+00 -6.74261279e-01\n",
      " -2.60987954e-01  4.84433921e-01 -5.87554664e-01  5.84758867e-01\n",
      "  5.96472308e-01 -8.19418643e-02  1.13389056e+00  3.70973381e-01\n",
      "  4.28970858e-01 -6.34108538e-01  1.23797526e-02  1.60012787e-01\n",
      " -3.59984718e-01  1.85393580e-01  4.67111780e-01  5.49681919e-01\n",
      " -4.90449025e-01 -5.49227371e-01 -2.32412886e-01  1.41961558e+00\n",
      "  2.83954444e-01 -4.57678524e-04  6.71816956e-01  6.74318079e-01\n",
      "  5.29361526e-01 -5.03006449e-01  3.67293219e-01 -7.54009027e-01\n",
      " -8.80074658e-01  4.16237770e-01 -5.27076222e-01  6.75356752e-01\n",
      " -1.12252726e+00  1.37867751e+00 -3.00834418e-01  1.19324054e-01\n",
      "  1.43080851e-01  4.17871541e-01  6.28177245e-01  1.67556814e-01\n",
      "  8.49072328e-01 -8.38340536e-01  1.00280309e-01 -2.86007391e-01\n",
      "  1.45895929e-01 -4.95452214e-02  4.99250054e-01 -5.91053389e-01\n",
      "  4.49377060e-02 -8.87538804e-01 -1.85710338e+00  6.97583856e-01\n",
      " -2.75279247e-01 -1.42412710e+00 -1.04232638e+00  1.38475713e+00\n",
      " -6.56482025e-01 -1.19916449e-01 -1.03542924e+00  1.76726425e-01\n",
      "  2.04566963e-01  1.63201041e+00  6.04851986e-01  1.28604013e-02\n",
      "  7.37175467e-01  3.33003673e-01  1.40323645e+00 -2.81238053e-01\n",
      " -1.78943196e+00  2.10236183e-01 -8.80877018e-01  5.95416004e-01\n",
      " -1.80138411e-01 -8.99641030e-01  7.02183549e-01  4.09773692e-01\n",
      " -3.17774085e-01 -2.88962951e-01 -8.76355857e-01  7.96702242e-02\n",
      " -4.35327518e-01 -1.66442324e+00 -1.78916116e-01 -1.95019552e-01\n",
      "  7.88316557e-01  7.06278778e-01 -1.28531515e+00 -1.29313126e-01\n",
      "  1.66297450e+00 -5.38108033e-01 -1.29360864e+00 -7.00805598e-01\n",
      " -1.22391562e-01  4.46845527e-01 -9.69995023e-01 -4.56483882e-01\n",
      " -6.37509601e-01 -5.09927478e-01 -7.44879195e-01  1.00060317e+00\n",
      "  5.92734398e-01 -3.32677288e-01 -1.49145678e+00  2.99921199e-01\n",
      " -1.93244059e-02 -1.64867737e-01 -7.80540040e-01  6.59371579e-01\n",
      "  1.13134342e+00 -4.94637413e-01 -7.89235165e-01 -9.29005397e-02\n",
      " -4.26882697e-01  1.71906756e+00 -1.22640500e+00 -9.56717576e-01\n",
      "  3.64276658e-01 -1.24667492e+00 -5.96564496e-02 -8.29132373e-01\n",
      " -6.18261623e-01 -6.81728006e-01  1.56228988e-01 -6.12553875e-02\n",
      "  1.39774169e+00 -3.00129332e-01 -6.36457599e-03 -3.30267806e-01\n",
      " -6.90663864e-01 -6.68908867e-01 -7.98163210e-01 -4.21357882e-01\n",
      "  6.80060692e-01 -6.48400958e-01  5.27122334e-01  4.42372825e-01\n",
      " -1.07919416e-01  3.25320997e-01 -2.37009238e+00  1.66787371e-01\n",
      " -5.20106997e-01  1.42923562e+00 -5.96288523e-01 -8.32073266e-02\n",
      "  8.06900212e-01 -1.07258216e+00  2.55777868e-02 -7.39173736e-01\n",
      " -1.10530340e+00  5.50290014e-01 -1.43254421e+00  2.87314333e-01\n",
      "  3.07590281e-01  3.44214857e-01  6.11853584e-01 -1.27191116e+00\n",
      " -2.04330968e-01  2.21145736e-01 -9.88352776e-01 -1.42477336e-01\n",
      "  9.08312087e-01 -9.44054693e-02  3.02142309e-01 -8.68702111e-01\n",
      " -7.25820954e-01 -8.36730850e-01 -9.55752894e-01  1.50804916e-03\n",
      " -8.18734475e-02 -1.28483597e+00 -1.24735712e+00  4.03576894e-01\n",
      " -4.45940451e-01  1.11671553e+00  1.25630268e-01  1.27865740e+00\n",
      " -3.81744968e-01  2.39689034e-02  5.08531313e-01  1.62035984e-01\n",
      "  6.52931197e-01 -1.03993875e+00 -1.65842634e+00  1.02907875e+00\n",
      "  1.07285560e+00 -6.79365216e-01  1.07096996e+00  4.35363761e-01\n",
      " -2.69847756e-01  2.06711421e-01 -9.92267544e-02 -1.10888832e+00\n",
      " -1.31078314e-01  2.85235971e-01  6.85594664e-01  3.17378655e-01\n",
      "  2.42703557e-01  3.21838181e-01  6.09558001e-02  8.47179592e-01\n",
      " -3.83000421e-01  5.39727301e-01 -6.56328833e-01  1.79437123e+00\n",
      "  1.02845730e+00 -3.91957657e-02  1.25145214e+00 -7.92564522e-01\n",
      "  4.01308694e-01  1.71153663e+00 -1.78894692e+00  4.68761002e-01\n",
      "  5.65010195e-01  8.51097858e-01  1.67491517e+00  1.44071132e-01\n",
      "  7.98810183e-01 -4.23638071e-01 -1.69745833e+00 -4.73444153e-01\n",
      " -1.80597512e+00  2.98606849e-01  7.14254271e-01  4.41543955e-01\n",
      "  2.61716739e-01 -2.87730878e-01 -9.49768400e-02 -3.08234484e-01\n",
      " -3.40399429e-01  1.41277286e+00  7.00981426e-01 -2.69521080e-01\n",
      "  3.93037776e-01  2.82940903e-01 -3.68180124e-01  3.31258974e-01\n",
      " -5.15605314e-01  5.43203762e-02 -1.26039600e+00 -4.41800475e-01\n",
      "  3.33598926e-01 -2.46491767e-01 -6.74551983e-01  2.14880424e-01\n",
      "  4.48765091e-01  2.69159400e-01 -4.83239419e-01  1.43779892e-01\n",
      " -1.72268717e-01 -5.22667413e-01 -5.43710646e-01  8.61223738e-01\n",
      "  1.20399849e+00  1.17884495e+00  9.57531004e-01 -4.17149480e-01\n",
      "  1.36106690e+00  1.40132033e+00  2.04882409e+00  5.12545567e-01\n",
      "  1.13153009e+00  3.12571045e-01 -2.93450429e-01 -1.66066252e-01\n",
      "  9.16994451e-01  5.08679869e-01  1.08857714e+00  3.55378359e-01\n",
      " -1.36949942e-01  7.49632878e-01 -2.88882925e-01  2.57267817e-01\n",
      "  1.25998852e-02  9.84716264e-01 -8.82945318e-01 -2.66303801e+00]\n"
     ]
    }
   ],
   "source": [
    "# Get the `language-model-reference` concept model which predicts whether text is an LLM\n",
    "# self-referencing.\n",
    "llm_self_ref_concept_model = ll.concepts.db_concept.DISK_CONCEPT_MODEL_DB.get(\n",
    "  concept_namespace, concept_name, embedding_name\n",
    ")\n",
    "assert llm_self_ref_concept_model is not None\n",
    "\n",
    "print('model version:', llm_self_ref_concept_model.version)\n",
    "\n",
    "weights = llm_self_ref_concept_model.coef()\n",
    "print('weights shape:', weights.shape)\n",
    "print('weights:')\n",
    "print(weights)"
   ]
  },
  {
   "cell_type": "code",
   "execution_count": null,
   "metadata": {},
   "outputs": [],
   "source": []
  }
 ],
 "metadata": {
  "kernelspec": {
   "display_name": ".venv",
   "language": "python",
   "name": "python3"
  },
  "language_info": {
   "codemirror_mode": {
    "name": "ipython",
    "version": 3
   },
   "file_extension": ".py",
   "mimetype": "text/x-python",
   "name": "python",
   "nbconvert_exporter": "python",
   "pygments_lexer": "ipython3",
   "version": "3.11.4"
  }
 },
 "nbformat": 4,
 "nbformat_minor": 2
}
