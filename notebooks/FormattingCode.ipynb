{
 "cells": [
  {
   "cell_type": "code",
   "execution_count": 4,
   "metadata": {},
   "outputs": [
    {
     "name": "stdout",
     "output_type": "stream",
     "text": [
      "Dataset \"glaive\" written to ./data/datasets/local/glaive\n"
     ]
    }
   ],
   "source": [
    "import lilac as ll\n",
    "\n",
    "config = ll.DatasetConfig(\n",
    "  namespace='local',\n",
    "  name='glaive',\n",
    "  source=ll.HuggingFaceSource(dataset_name='glaiveai/glaive-code-assistant'),\n",
    ")\n",
    "dataset = ll.create_dataset(config, overwrite=True)\n"
   ]
  },
  {
   "cell_type": "code",
   "execution_count": 2,
   "metadata": {},
   "outputs": [
    {
     "name": "stderr",
     "output_type": "stream",
     "text": [
      "/Users/dsmilkov/code/lilac/.venv/lib/python3.11/site-packages/tqdm/auto.py:21: TqdmWarning: IProgress not found. Please update jupyter and ipywidgets. See https://ipywidgets.readthedocs.io/en/stable/user_install.html\n",
      "  from .autonotebook import tqdm as notebook_tqdm\n"
     ]
    },
    {
     "name": "stderr",
     "output_type": "stream",
     "text": [
      "INFO:     Started server process [52411]\n",
      "INFO:     Waiting for application startup.\n",
      "INFO:     Application startup complete.\n",
      "INFO:     Uvicorn running on http://127.0.0.1:5432 (Press CTRL+C to quit)\n"
     ]
    }
   ],
   "source": [
    "import lilac as ll\n",
    "\n",
    "ll.start_server()\n"
   ]
  },
  {
   "cell_type": "code",
   "execution_count": 5,
   "metadata": {},
   "outputs": [
    {
     "name": "stdout",
     "output_type": "stream",
     "text": [
      "Scheduling task \"64c60e46150e4ccab0b40e89ce8872e8\": \"[local/glaive][shard 0/8] map \"format_code\" to \"answer_formatted\"\".\n",
      "Scheduling task \"6ffa24216e7245889315d5d9145bc070\": \"[local/glaive][shard 1/8] map \"format_code\" to \"answer_formatted\"\".\n",
      "Scheduling task \"806bf7c2e9494ec7a5a84c0bb2d56d41\": \"[local/glaive][shard 2/8] map \"format_code\" to \"answer_formatted\"\".\n",
      "Scheduling task \"2bc4872d31604dce87ebba9306788dc0\": \"[local/glaive][shard 3/8] map \"format_code\" to \"answer_formatted\"\".\n",
      "Scheduling task \"2e7d2d29a4794cce9589b8b4b6017d7d\": \"[local/glaive][shard 4/8] map \"format_code\" to \"answer_formatted\"\".\n",
      "Scheduling task \"6baa0c3fe3844800b8ca61bbb551372c\": \"[local/glaive][shard 5/8] map \"format_code\" to \"answer_formatted\"\".\n",
      "Scheduling task \"4d00334e79b4447693ca4159f5e317b7\": \"[local/glaive][shard 6/8] map \"format_code\" to \"answer_formatted\"\".\n",
      "Scheduling task \"50f67bc965c3417ebf0f8f921d5101a2\": \"[local/glaive][shard 7/8] map \"format_code\" to \"answer_formatted\"\".\n"
     ]
    },
    {
     "name": "stderr",
     "output_type": "stream",
     "text": [
      "[local/glaive][shard 0/8] map \"format_code\" to \"answer_formatted\":  13%|█▎        | 17014/136109 [02:17<16:00, 124.01it/s]\n",
      "[local/glaive][shard 4/8] map \"format_code\" to \"answer_formatted\":  11%|█         | 15289/136109 [02:14<14:15, 141.21it/s]"
     ]
    },
    {
     "name": "stdout",
     "output_type": "stream",
     "text": [
      "Task finished \"64c60e46150e4ccab0b40e89ce8872e8\": \"[local/glaive][shard 0/8] map \"format_code\" to \"answer_formatted\"\" in 2m24s.\n"
     ]
    },
    {
     "name": "stderr",
     "output_type": "stream",
     "text": [
      "[local/glaive][shard 2/8] map \"format_code\" to \"answer_formatted\":  13%|█▎        | 17014/136109 [02:25<16:58, 116.91it/s]\n",
      "[local/glaive][shard 1/8] map \"format_code\" to \"answer_formatted\":  12%|█▏        | 16282/136109 [02:23<15:34, 128.26it/s]"
     ]
    },
    {
     "name": "stdout",
     "output_type": "stream",
     "text": [
      "Task finished \"806bf7c2e9494ec7a5a84c0bb2d56d41\": \"[local/glaive][shard 2/8] map \"format_code\" to \"answer_formatted\"\" in 2m32s.\n"
     ]
    },
    {
     "name": "stderr",
     "output_type": "stream",
     "text": [
      "[local/glaive][shard 5/8] map \"format_code\" to \"answer_formatted\":  13%|█▎        | 17014/136109 [02:24<16:50, 117.90it/s]\n"
     ]
    },
    {
     "name": "stdout",
     "output_type": "stream",
     "text": [
      "Task finished \"6baa0c3fe3844800b8ca61bbb551372c\": \"[local/glaive][shard 5/8] map \"format_code\" to \"answer_formatted\"\" in 2m33s.\n"
     ]
    },
    {
     "name": "stderr",
     "output_type": "stream",
     "text": [
      "[local/glaive][shard 3/8] map \"format_code\" to \"answer_formatted\":  13%|█▎        | 17014/136109 [02:24<16:50, 117.91it/s]\n",
      "[local/glaive][shard 1/8] map \"format_code\" to \"answer_formatted\":  12%|█▏        | 16473/136109 [02:24<10:12, 195.35it/s]"
     ]
    },
    {
     "name": "stdout",
     "output_type": "stream",
     "text": [
      "Task finished \"2bc4872d31604dce87ebba9306788dc0\": \"[local/glaive][shard 3/8] map \"format_code\" to \"answer_formatted\"\" in 2m33s.\n"
     ]
    },
    {
     "name": "stderr",
     "output_type": "stream",
     "text": [
      "[local/glaive][shard 6/8] map \"format_code\" to \"answer_formatted\":  13%|█▎        | 17014/136109 [02:24<16:49, 117.98it/s]\n",
      "[local/glaive][shard 1/8] map \"format_code\" to \"answer_formatted\":  12%|█▏        | 16575/136109 [02:25<08:22, 237.71it/s]"
     ]
    },
    {
     "name": "stdout",
     "output_type": "stream",
     "text": [
      "Task finished \"4d00334e79b4447693ca4159f5e317b7\": \"[local/glaive][shard 6/8] map \"format_code\" to \"answer_formatted\"\" in 2m34s.\n"
     ]
    },
    {
     "name": "stderr",
     "output_type": "stream",
     "text": [
      "[local/glaive][shard 4/8] map \"format_code\" to \"answer_formatted\":  13%|█▎        | 17014/136109 [02:25<16:58, 116.96it/s]\n",
      "[local/glaive][shard 1/8] map \"format_code\" to \"answer_formatted\":  12%|█▏        | 16850/136109 [02:26<07:50, 253.56it/s]"
     ]
    },
    {
     "name": "stdout",
     "output_type": "stream",
     "text": [
      "Task finished \"2e7d2d29a4794cce9589b8b4b6017d7d\": \"[local/glaive][shard 4/8] map \"format_code\" to \"answer_formatted\"\" in 2m35s.\n"
     ]
    },
    {
     "name": "stderr",
     "output_type": "stream",
     "text": [
      "[local/glaive][shard 1/8] map \"format_code\" to \"answer_formatted\":  13%|█▎        | 17014/136109 [02:26<17:08, 115.75it/s]\n"
     ]
    },
    {
     "name": "stdout",
     "output_type": "stream",
     "text": [
      "Task finished \"6ffa24216e7245889315d5d9145bc070\": \"[local/glaive][shard 1/8] map \"format_code\" to \"answer_formatted\"\" in 2m36s.\n"
     ]
    },
    {
     "name": "stderr",
     "output_type": "stream",
     "text": [
      "[local/glaive][shard 7/8] map \"format_code\" to \"answer_formatted\":  12%|█▏        | 17011/136109 [02:26<17:05, 116.16it/s]\n"
     ]
    },
    {
     "name": "stdout",
     "output_type": "stream",
     "text": [
      "Wrote map output to ./data/datasets/local/glaive/./data/datasets/local/glaive/answer_formatted-00000-of-00001.parquet\n"
     ]
    },
    {
     "data": {
      "text/plain": [
       "<lilac.data.dataset_duckdb.DuckDBMapOutput at 0x2bcc694d0>"
      ]
     },
     "execution_count": 5,
     "metadata": {},
     "output_type": "execute_result"
    },
    {
     "name": "stdout",
     "output_type": "stream",
     "text": [
      "Task finished \"50f67bc965c3417ebf0f8f921d5101a2\": \"[local/glaive][shard 7/8] map \"format_code\" to \"answer_formatted\"\" in 2m36s.\n"
     ]
    }
   ],
   "source": [
    "import re\n",
    "import subprocess\n",
    "import lilac as ll\n",
    "\n",
    "code_block_re = re.compile('```(py|python)\\n(.*)?\\n```', re.MULTILINE | re.DOTALL)\n",
    "\n",
    "\n",
    "# Format the code blocks of the \"answer\" column using the `ruff`` formatter.\n",
    "def format_code(item):\n",
    "  text = item['answer']\n",
    "  if not text:\n",
    "    return None\n",
    "\n",
    "  new_text = text\n",
    "  has_edit = False\n",
    "  for _, code_block in code_block_re.findall(text):\n",
    "    if not code_block:\n",
    "      continue\n",
    "    try:\n",
    "      # Call the ruff binary to format the current code block.\n",
    "      formatted_code_block = subprocess.check_output(\n",
    "        ['ruff', 'format', '-'], input=code_block, encoding='utf-8', stderr=subprocess.DEVNULL\n",
    "      )\n",
    "      new_text = new_text.replace(code_block, formatted_code_block)\n",
    "      has_edit = True\n",
    "    except subprocess.CalledProcessError:\n",
    "      continue\n",
    "  return {'answer': new_text, 'has_edit': has_edit}\n",
    "\n",
    "\n",
    "ds = ll.get_dataset('local', 'glaive')\n",
    "ds.map(format_code, output_column='answer_formatted', num_jobs=-1)\n",
    "ds.add_media_field('answer_formatted', markdown=True)\n"
   ]
  },
  {
   "cell_type": "code",
   "execution_count": null,
   "metadata": {},
   "outputs": [],
   "source": []
  }
 ],
 "metadata": {
  "kernelspec": {
   "display_name": ".venv",
   "language": "python",
   "name": "python3"
  },
  "language_info": {
   "codemirror_mode": {
    "name": "ipython",
    "version": 3
   },
   "file_extension": ".py",
   "mimetype": "text/x-python",
   "name": "python",
   "nbconvert_exporter": "python",
   "pygments_lexer": "ipython3",
   "version": "3.11.4"
  }
 },
 "nbformat": 4,
 "nbformat_minor": 2
}
