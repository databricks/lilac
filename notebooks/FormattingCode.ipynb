{
 "cells": [
  {
   "cell_type": "code",
   "execution_count": 4,
   "metadata": {},
   "outputs": [
    {
     "name": "stdout",
     "output_type": "stream",
     "text": [
      "Dataset \"glaive\" written to ./data/datasets/local/glaive\n"
     ]
    }
   ],
   "source": [
    "import lilac as ll\n",
    "\n",
    "config = ll.DatasetConfig(\n",
    "  namespace='local',\n",
    "  name='glaive',\n",
    "  source=ll.HuggingFaceSource(dataset_name='glaiveai/glaive-code-assistant'),\n",
    ")\n",
    "dataset = ll.create_dataset(config, overwrite=True)\n"
   ]
  },
  {
   "cell_type": "code",
   "execution_count": null,
   "metadata": {},
   "outputs": [
    {
     "name": "stderr",
     "output_type": "stream",
     "text": [
      "INFO:     Started server process [63957]\n",
      "INFO:     Waiting for application startup.\n",
      "INFO:     Application startup complete.\n",
      "INFO:     Uvicorn running on http://127.0.0.1:5432 (Press CTRL+C to quit)\n"
     ]
    }
   ],
   "source": [
    "import lilac as ll\n",
    "\n",
    "ll.start_server()\n"
   ]
  },
  {
   "cell_type": "code",
   "execution_count": 3,
   "metadata": {},
   "outputs": [
    {
     "name": "stdout",
     "output_type": "stream",
     "text": [
      "Scheduling task \"9cde93f95d014498944ca8b496bc0de9\": \"[local/glaive][shard 0/8] map \"format_code\" to \"answer_formatted2\"\".\n",
      "Scheduling task \"d16fd9b65a174bef9a997471143903cb\": \"[local/glaive][shard 1/8] map \"format_code\" to \"answer_formatted2\"\".\n",
      "Scheduling task \"98d1d909bd304749b4f43272b913767b\": \"[local/glaive][shard 2/8] map \"format_code\" to \"answer_formatted2\"\".\n",
      "Scheduling task \"67ea8effc3da423488040d054d4c1183\": \"[local/glaive][shard 3/8] map \"format_code\" to \"answer_formatted2\"\".\n",
      "Scheduling task \"1f962dddedb749e19822e91c7e7fad4e\": \"[local/glaive][shard 4/8] map \"format_code\" to \"answer_formatted2\"\".\n",
      "Scheduling task \"e651db937e9c442cb31e2426033f63cd\": \"[local/glaive][shard 5/8] map \"format_code\" to \"answer_formatted2\"\".\n",
      "Scheduling task \"62281e64571146ef9e79cbf756aff69d\": \"[local/glaive][shard 6/8] map \"format_code\" to \"answer_formatted2\"\".\n",
      "Scheduling task \"56a7e8481fac4852afb34867cb1c1dea\": \"[local/glaive][shard 7/8] map \"format_code\" to \"answer_formatted2\"\".\n"
     ]
    },
    {
     "name": "stderr",
     "output_type": "stream",
     "text": [
      "[local/glaive][shard 0/8] map \"format_code\" to \"answer_formatted2\":  13%|█▎        | 17014/136109 [02:19<16:19, 121.64it/s] \n",
      "[local/glaive][shard 6/8] map \"format_code\" to \"answer_formatted2\":  12%|█▏        | 16480/136109 [02:18<13:26, 148.36it/s]"
     ]
    },
    {
     "name": "stdout",
     "output_type": "stream",
     "text": [
      "Task finished \"9cde93f95d014498944ca8b496bc0de9\": \"[local/glaive][shard 0/8] map \"format_code\" to \"answer_formatted2\"\" in 2m27s.\n"
     ]
    },
    {
     "name": "stderr",
     "output_type": "stream",
     "text": [
      "[local/glaive][shard 3/8] map \"format_code\" to \"answer_formatted2\":  13%|█▎        | 17014/136109 [02:20<16:22, 121.21it/s]\n",
      "[local/glaive][shard 7/8] map \"format_code\" to \"answer_formatted2\":  12%|█▏        | 16368/136109 [02:19<12:08, 164.38it/s]"
     ]
    },
    {
     "name": "stdout",
     "output_type": "stream",
     "text": [
      "Task finished \"67ea8effc3da423488040d054d4c1183\": \"[local/glaive][shard 3/8] map \"format_code\" to \"answer_formatted2\"\" in 2m28s.\n"
     ]
    },
    {
     "name": "stderr",
     "output_type": "stream",
     "text": [
      "[local/glaive][shard 1/8] map \"format_code\" to \"answer_formatted2\":  13%|█▎        | 17014/136109 [02:21<16:28, 120.42it/s]\n",
      "[local/glaive][shard 7/8] map \"format_code\" to \"answer_formatted2\":  12%|█▏        | 16403/136109 [02:19<13:25, 148.69it/s]"
     ]
    },
    {
     "name": "stdout",
     "output_type": "stream",
     "text": [
      "Task finished \"d16fd9b65a174bef9a997471143903cb\": \"[local/glaive][shard 1/8] map \"format_code\" to \"answer_formatted2\"\" in 2m28s.\n",
      "Task finished \"1f962dddedb749e19822e91c7e7fad4e\": \"[local/glaive][shard 4/8] map \"format_code\" to \"answer_formatted2\"\" in 2m28s.\n"
     ]
    },
    {
     "name": "stderr",
     "output_type": "stream",
     "text": [
      "[local/glaive][shard 4/8] map \"format_code\" to \"answer_formatted2\":  13%|█▎        | 17014/136109 [02:20<16:24, 121.00it/s]\n",
      "[local/glaive][shard 5/8] map \"format_code\" to \"answer_formatted2\":  13%|█▎        | 17014/136109 [02:19<16:19, 121.55it/s]\n",
      "[local/glaive][shard 7/8] map \"format_code\" to \"answer_formatted2\":  12%|█▏        | 16481/136109 [02:19<11:22, 175.18it/s]"
     ]
    },
    {
     "name": "stdout",
     "output_type": "stream",
     "text": [
      "Task finished \"e651db937e9c442cb31e2426033f63cd\": \"[local/glaive][shard 5/8] map \"format_code\" to \"answer_formatted2\"\" in 2m28s.\n"
     ]
    },
    {
     "name": "stderr",
     "output_type": "stream",
     "text": [
      "[local/glaive][shard 6/8] map \"format_code\" to \"answer_formatted2\":  13%|█▎        | 17014/136109 [02:21<16:27, 120.61it/s]\n",
      "[local/glaive][shard 7/8] map \"format_code\" to \"answer_formatted2\":  12%|█▏        | 16805/136109 [02:21<07:44, 256.64it/s]"
     ]
    },
    {
     "name": "stdout",
     "output_type": "stream",
     "text": [
      "Task finished \"62281e64571146ef9e79cbf756aff69d\": \"[local/glaive][shard 6/8] map \"format_code\" to \"answer_formatted2\"\" in 2m30s.\n"
     ]
    },
    {
     "name": "stderr",
     "output_type": "stream",
     "text": [
      "[local/glaive][shard 2/8] map \"format_code\" to \"answer_formatted2\":  13%|█▎        | 17014/136109 [02:23<16:41, 118.87it/s]\n",
      "[local/glaive][shard 7/8] map \"format_code\" to \"answer_formatted2\":  12%|█▏        | 16909/136109 [02:21<09:09, 216.92it/s]"
     ]
    },
    {
     "name": "stdout",
     "output_type": "stream",
     "text": [
      "Task finished \"98d1d909bd304749b4f43272b913767b\": \"[local/glaive][shard 2/8] map \"format_code\" to \"answer_formatted2\"\" in 2m30s.\n"
     ]
    },
    {
     "name": "stderr",
     "output_type": "stream",
     "text": [
      "[local/glaive][shard 7/8] map \"format_code\" to \"answer_formatted2\":  12%|█▏        | 17011/136109 [02:22<16:34, 119.71it/s]\n"
     ]
    },
    {
     "name": "stdout",
     "output_type": "stream",
     "text": [
      "Wrote map output to ./data/datasets/local/glaive/./data/datasets/local/glaive/answer_formatted2-00000-of-00001.parquet\n"
     ]
    },
    {
     "data": {
      "text/plain": [
       "<lilac.data.dataset_duckdb.DuckDBMapOutput at 0x2ab503fd0>"
      ]
     },
     "execution_count": 3,
     "metadata": {},
     "output_type": "execute_result"
    },
    {
     "name": "stdout",
     "output_type": "stream",
     "text": [
      "Task finished \"56a7e8481fac4852afb34867cb1c1dea\": \"[local/glaive][shard 7/8] map \"format_code\" to \"answer_formatted2\"\" in 2m31s.\n"
     ]
    }
   ],
   "source": [
    "import re\n",
    "import subprocess\n",
    "import lilac as ll\n",
    "\n",
    "code_block_re = re.compile('```(py|python)\\n(.*)?\\n```', re.MULTILINE | re.DOTALL)\n",
    "\n",
    "\n",
    "# Format the code blocks of the \"answer\" column using the `ruff`` formatter.\n",
    "def format_code(item):\n",
    "  text = item['answer']\n",
    "  if not text:\n",
    "    return None\n",
    "\n",
    "  new_text = text\n",
    "  has_edit = False\n",
    "  for _, code_block in code_block_re.findall(text):\n",
    "    if not code_block:\n",
    "      continue\n",
    "    try:\n",
    "      # Call the ruff binary to format the current code block.\n",
    "      formatted_code_block = subprocess.check_output(\n",
    "        ['ruff', 'format', '-'], input=code_block, encoding='utf-8', stderr=subprocess.DEVNULL\n",
    "      )\n",
    "      new_text = new_text.replace(code_block, formatted_code_block)\n",
    "      has_edit = True\n",
    "    except subprocess.CalledProcessError:\n",
    "      continue\n",
    "  return {'answer': new_text, 'has_edit': has_edit}\n",
    "\n",
    "\n",
    "ds = ll.get_dataset('local', 'glaive')\n",
    "ds.map(format_code, output_column='answer_formatted2', num_jobs=-1)\n"
   ]
  },
  {
   "cell_type": "code",
   "execution_count": null,
   "metadata": {},
   "outputs": [],
   "source": []
  }
 ],
 "metadata": {
  "kernelspec": {
   "display_name": ".venv",
   "language": "python",
   "name": "python3"
  },
  "language_info": {
   "codemirror_mode": {
    "name": "ipython",
    "version": 3
   },
   "file_extension": ".py",
   "mimetype": "text/x-python",
   "name": "python",
   "nbconvert_exporter": "python",
   "pygments_lexer": "ipython3",
   "version": "3.11.4"
  }
 },
 "nbformat": 4,
 "nbformat_minor": 2
}
