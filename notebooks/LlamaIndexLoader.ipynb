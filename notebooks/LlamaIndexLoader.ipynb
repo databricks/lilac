{
 "cells": [
  {
   "cell_type": "markdown",
   "metadata": {},
   "source": [
    "# Use a LlamaIndex loader with Lilac\n",
    "\n",
    "This notebook will show you how to load any LlamaIndex loader and load the data into Lilac.\n",
    "\n",
    "LlamaIndex loaders [can be found on LlamaHub](https://llamahub.ai/).\n",
    "\n",
    "In this example, we'll use the [ArxivReader loader from LlamaHub](https://llamahub.ai/l/papers-arxiv), and load arxiv papers into Lilac.\n"
   ]
  },
  {
   "cell_type": "code",
   "execution_count": 1,
   "metadata": {
    "vscode": {
     "languageId": "bat"
    }
   },
   "outputs": [
    {
     "name": "stdout",
     "output_type": "stream",
     "text": [
      "Requirement already satisfied: pypdf in ./.venv/lib/python3.9/site-packages (3.16.2)\n",
      "Requirement already satisfied: typing_extensions>=3.7.4.3 in ./.venv/lib/python3.9/site-packages (from pypdf) (4.8.0)\n"
     ]
    }
   ],
   "source": [
    "!pip install pypdf"
   ]
  },
  {
   "cell_type": "code",
   "execution_count": 2,
   "metadata": {},
   "outputs": [],
   "source": [
    "from llama_index import download_loader\n",
    "\n",
    "# See: https://llamahub.ai/l/papers-arxiv\n",
    "ArxivReader = download_loader(\"ArxivReader\")\n",
    "\n",
    "loader = ArxivReader()\n",
    "documents = loader.load_data(search_query='au:Karpathy')"
   ]
  },
  {
   "cell_type": "code",
   "execution_count": 3,
   "metadata": {},
   "outputs": [
    {
     "name": "stderr",
     "output_type": "stream",
     "text": [
      "/Users/nikhil/Code/lilac/.venv/lib/python3.9/site-packages/tqdm/auto.py:21: TqdmWarning: IProgress not found. Please update jupyter and ipywidgets. See https://ipywidgets.readthedocs.io/en/stable/user_install.html\n",
      "  from .autonotebook import tqdm as notebook_tqdm\n"
     ]
    }
   ],
   "source": [
    "import lilac as ll\n",
    "\n",
    "# Set the project directory for Lilac.\n",
    "ll.set_project_dir('./data')"
   ]
  },
  {
   "cell_type": "code",
   "execution_count": 4,
   "metadata": {},
   "outputs": [
    {
     "name": "stderr",
     "output_type": "stream",
     "text": [
      "Reading from source llama_index_docs...: 100%|██████████| 107/107 [00:00<00:00, 10133.46it/s]\n"
     ]
    },
    {
     "name": "stdout",
     "output_type": "stream",
     "text": [
      "Executing:\n",
      "SELECT COUNT() as count FROM t\n",
      "Query took 0.001s.\n",
      "Executing:\n",
      "\n",
      "        SELECT avg(length(val))\n",
      "        FROM (SELECT \"doc_id\" AS val FROM t) USING SAMPLE 1000;\n",
      "      \n",
      "Executing:\n",
      "\n",
      "        SELECT avg(length(val))\n",
      "        FROM (SELECT \"text\" AS val FROM t) USING SAMPLE 1000;\n",
      "      \n",
      "Executing:\n",
      "\n",
      "        SELECT avg(length(val))\n",
      "        FROM (SELECT \"page_label\" AS val FROM t) USING SAMPLE 1000;\n",
      "      \n",
      "Executing:\n",
      "\n",
      "        SELECT avg(length(val))\n",
      "        FROM (SELECT \"file_name\" AS val FROM t) USING SAMPLE 1000;\n",
      "      \n",
      "Executing:\n",
      "\n",
      "        SELECT avg(length(val))\n",
      "        FROM (SELECT \"Title of this paper\" AS val FROM t) USING SAMPLE 1000;\n",
      "      \n",
      "Executing:\n",
      "\n",
      "        SELECT avg(length(val))\n",
      "        FROM (SELECT \"Authors\" AS val FROM t) USING SAMPLE 1000;\n",
      "      \n",
      "Query took 0.001s.\n",
      "Executing:\n",
      "\n",
      "        SELECT avg(length(val))\n",
      "        FROM (SELECT \"Date published\" AS val FROM t) USING SAMPLE 1000;\n",
      "      \n",
      "Executing:\n",
      "SELECT count(val) FROM (SELECT \"doc_id\" as val FROM t)\n",
      "Query took 0.001s.\n",
      "Query took 0.001s.\n",
      "Query took 0.001s.\n",
      "Executing:\n",
      "SELECT count(val) FROM (SELECT \"file_name\" as val FROM t)\n",
      "Executing:\n",
      "SELECT count(val) FROM (SELECT \"Title of this paper\" as val FROM t)\n",
      "Executing:\n",
      "SELECT count(val) FROM (SELECT \"page_label\" as val FROM t)\n",
      "Executing:\n",
      "\n",
      "        SELECT avg(length(val))\n",
      "        FROM (SELECT \"URL\" AS val FROM t) USING SAMPLE 1000;\n",
      "      \n",
      "Query took 0.001s.\n",
      "Query took 0.001s.\n",
      "Executing:\n",
      "SELECT count(val) FROM (SELECT \"Date published\" as val FROM t)\n",
      "Query took 0.002s.\n",
      "Query took 0.001s.\n",
      "Executing:\n",
      "SELECT count(val) FROM (SELECT \"Authors\" as val FROM t)\n",
      "Executing:\n",
      "SELECT count(val) FROM (SELECT \"text\" as val FROM t)\n",
      "Executing:\n",
      "\n",
      "        SELECT approx_count_distinct(val) as approxCountDistinct\n",
      "        FROM (SELECT \"doc_id\" AS val FROM t) USING SAMPLE 500000;\n",
      "      \n",
      "Query took 0.001s.\n",
      "Query took 0.001s.\n",
      "Query took 0.001s.\n",
      "Executing:\n",
      "\n",
      "        SELECT approx_count_distinct(val) as approxCountDistinct\n",
      "        FROM (SELECT \"file_name\" AS val FROM t) USING SAMPLE 500000;\n",
      "      \n",
      "Executing:\n",
      "\n",
      "        SELECT approx_count_distinct(val) as approxCountDistinct\n",
      "        FROM (SELECT \"Title of this paper\" AS val FROM t) USING SAMPLE 500000;\n",
      "      \n",
      "Query took 0.001s.\n",
      "Executing:\n",
      "\n",
      "        SELECT approx_count_distinct(val) as approxCountDistinct\n",
      "        FROM (SELECT \"page_label\" AS val FROM t) USING SAMPLE 500000;\n",
      "      \n",
      "Query took 0.001s.\n",
      "Executing:\n",
      "SELECT count(val) FROM (SELECT \"URL\" as val FROM t)\n",
      "Executing:\n",
      "\n",
      "        SELECT approx_count_distinct(val) as approxCountDistinct\n",
      "        FROM (SELECT \"Date published\" AS val FROM t) USING SAMPLE 500000;\n",
      "      \n",
      "Query took 0.001s.\n",
      "Executing:\n",
      "\n",
      "        SELECT approx_count_distinct(val) as approxCountDistinct\n",
      "        FROM (SELECT \"Authors\" AS val FROM t) USING SAMPLE 500000;\n",
      "      \n",
      "Query took 0.001s.\n",
      "Query took 0.001s.\n",
      "Query took 0.001s.\n",
      "Query took 0.001s.\n",
      "Query took 0.001s.\n",
      "Query took 0.001s.\n",
      "Query took 0.001s.\n",
      "Query took 0.001s.\n",
      "Executing:\n",
      "\n",
      "        SELECT approx_count_distinct(val) as approxCountDistinct\n",
      "        FROM (SELECT \"URL\" AS val FROM t) USING SAMPLE 500000;\n",
      "      \n",
      "Query took 0.000s.\n",
      "Dataset \"arxiv-karpathy\" written to ./data/datasets/local/arxiv-karpathy\n"
     ]
    },
    {
     "data": {
      "text/plain": [
       "<lilac.data.dataset_duckdb.DatasetDuckDB at 0x2a843ff10>"
      ]
     },
     "execution_count": 4,
     "metadata": {},
     "output_type": "execute_result"
    }
   ],
   "source": [
    "# This assumes you already have a lilac project set up.\n",
    "# If you don't, use ll.init(project_dir='./data')\n",
    "ll.create_dataset(\n",
    "  config=ll.DatasetConfig(\n",
    "    namespace='local',\n",
    "    name='arxiv-karpathy',\n",
    "    source=ll.LlamaIndexDocsSource(\n",
    "      # documents comes from the loader.load_data call in the previous cell.\n",
    "      documents=documents,)))"
   ]
  },
  {
   "cell_type": "code",
   "execution_count": 5,
   "metadata": {},
   "outputs": [
    {
     "name": "stdout",
     "output_type": "stream",
     "text": [
      "Executing:\n",
      "SELECT COUNT() as count FROM t\n",
      "Query took 0.038s.\n",
      "{'text': \"My interest in Dorothy Stratten caused me to purchase this video. Although it had great actors/actresses, there were just too many subplots going on to retain interest. Plus it just wasn't that interesting. Dialogue was stiff and confusing and the story just flipped around too much to be believable. I was pretty disappointed in what I believe was one of Audrey Hepburn's last movies. I'll always love John Ritter best in slapstick. He was just too pathetic here.\", 'label': 'neg', '__hfsplit__': 'train', 'short': {'label': 'true', 'created': datetime.datetime(2023, 9, 19, 16, 5, 17, 185334)}, 'good': None, 'new_label': None, 'new_one': None, 'text.pii': {'emails': [], 'ip_addresses': [], 'secrets': []}, 'text.text_statistics': {'num_characters': 464, 'readability': 6.13909387588501, 'log(type_token_ratio)': 0.9437595009803772, 'frac_non_ascii': 0.0}}\n",
      "{'text': \"Really, I can't believe that I spent $5 on this movie. I am a huge zombie fanatic and thought the movie couldn't be that bad. It had zombies in it right? Was I wrong! To be honest the movie had it's moments...I thought it was cool when the guy got his head ripped off but that was about it. Overall I think that it would be more enjoyable to slide down a razorblade slide on my bare nutsack into a vat of vinegar then watch this movie again. The movie could have been better if we could see some boob but I had to watch the trailers for the other movies produced by this company to see that. Buyer beware...unless you are into masochism.\", 'label': 'neg', '__hfsplit__': 'train', 'short': {'label': 'true', 'created': datetime.datetime(2023, 9, 19, 16, 5, 17, 185334)}, 'good': None, 'new_label': None, 'new_one': None, 'text.pii': {'emails': [], 'ip_addresses': [], 'secrets': []}, 'text.text_statistics': {'num_characters': 637, 'readability': 4.774153709411621, 'log(type_token_ratio)': 0.9078190922737122, 'frac_non_ascii': 0.0}}\n",
      "{'text': \"This is a terrible movie, terrible script, bad direction and nonsensical ending. Also, bad performances, except from Clancy Brown who is criminally underused here, and Michael Pollard. Watching this movie was purgatory--you do it to unload enough bad movie karma to actually see a good one further down the line.<br /><br />The movie presents a father and son who look like they couldn't every possibly have been related. The part of the male lead is not well written and seems uncharismatic in this role. You can see the plot points a mile away. The actions of the female lead and that of her brother, the cop, also make no sense. So, a major action on her part at the end of the movie makes no sense script-wise.\", 'label': 'neg', '__hfsplit__': 'train', 'short': {'label': 'true', 'created': datetime.datetime(2023, 9, 19, 16, 5, 17, 185334)}, 'good': None, 'new_label': None, 'new_one': None, 'text.pii': {'emails': [], 'ip_addresses': [], 'secrets': []}, 'text.text_statistics': {'num_characters': 714, 'readability': 8.50725269317627, 'log(type_token_ratio)': 0.9221581220626831, 'frac_non_ascii': 0.0}}\n",
      "{'text': \"This movie was rented by a friend. Her choice is normally good. I read the cover first and was expecting a good movie. Although it<br /><br />was a horror movie. Which i don't prefer. But no horror came to mind while watching the movie. It was a dull,<br /><br />not very entertaining movie. The appearance of Denise Richards<br /><br />was again a pleasure for the eye. But that's it. We (the four of us)<br /><br />we're a little bit disappointed. But feel free to see this movie and<br /><br />judge it yourself.\", 'label': 'neg', '__hfsplit__': 'train', 'short': {'label': 'true', 'created': datetime.datetime(2023, 9, 19, 16, 5, 17, 185334)}, 'good': None, 'new_label': None, 'new_one': None, 'text.pii': {'emails': [], 'ip_addresses': [], 'secrets': []}, 'text.text_statistics': {'num_characters': 515, 'readability': 2.5206544399261475, 'log(type_token_ratio)': 0.8996703028678894, 'frac_non_ascii': 0.0}}\n",
      "{'text': 'The plot line of No One Sleeps is not a bad idea, and the subject matter is of quite a bit of interest. But, throughout watching this film, we were saying aloud, \"These filmmakers go to the trouble of finding good locations, the lighting is good, makeup and hair are good...why is the sound so bad?\" Throughout the film the sound was echoy, garbled and much of the dialog was unintelligible.<br /><br />There is some good acting in this film, and I think Jim Thalman is really a good actor. This story, with some of the same actors, would have been worth doing as a high-budget film.<br /><br />I just can\\'t reiterate enough - if you have a limited budget, dedicate more to good sound. Sound is as much a part of a film as the image, and it\\'s worth doing right. Could\\'ve earned a 6.', 'label': 'neg', '__hfsplit__': 'train', 'short': {'label': 'true', 'created': datetime.datetime(2023, 9, 19, 16, 5, 17, 185334)}, 'good': None, 'new_label': None, 'new_one': None, 'text.pii': {'emails': [], 'ip_addresses': [], 'secrets': []}, 'text.text_statistics': {'num_characters': 782, 'readability': 10.286800384521484, 'log(type_token_ratio)': 0.9024381637573242, 'frac_non_ascii': 0.0}}\n"
     ]
    }
   ],
   "source": [
    "# Print the first few rows:\n",
    "dataset = ll.get_dataset('local', 'imdb')\n",
    "for row in dataset.select_rows(['*'], limit=5):\n",
    "  print(row)"
   ]
  },
  {
   "cell_type": "code",
   "execution_count": null,
   "metadata": {},
   "outputs": [
    {
     "name": "stderr",
     "output_type": "stream",
     "text": [
      "INFO:     Started server process [2276]\n",
      "INFO:     Waiting for application startup.\n",
      "INFO:     Application startup complete.\n",
      "INFO:     Uvicorn running on http://127.0.0.1:5432 (Press CTRL+C to quit)\n"
     ]
    }
   ],
   "source": [
    "# You can start a lilac server with:\n",
    "ll.start_server(project_dir='./data')"
   ]
  },
  {
   "cell_type": "code",
   "execution_count": null,
   "metadata": {},
   "outputs": [],
   "source": []
  }
 ],
 "metadata": {
  "kernelspec": {
   "display_name": ".venv",
   "language": "python",
   "name": "python3"
  },
  "language_info": {
   "codemirror_mode": {
    "name": "ipython",
    "version": 3
   },
   "file_extension": ".py",
   "mimetype": "text/x-python",
   "name": "python",
   "nbconvert_exporter": "python",
   "pygments_lexer": "ipython3",
   "version": "3.9.17"
  },
  "orig_nbformat": 4
 },
 "nbformat": 4,
 "nbformat_minor": 2
}
