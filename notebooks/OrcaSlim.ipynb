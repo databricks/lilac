{
 "cells": [
  {
   "cell_type": "code",
   "execution_count": 1,
   "metadata": {},
   "outputs": [
    {
     "name": "stderr",
     "output_type": "stream",
     "text": [
      "/Users/dsmilkov/code/lilac/.venv/lib/python3.9/site-packages/tqdm/auto.py:21: TqdmWarning: IProgress not found. Please update jupyter and ipywidgets. See https://ipywidgets.readthedocs.io/en/stable/user_install.html\n",
      "  from .autonotebook import tqdm as notebook_tqdm\n"
     ]
    }
   ],
   "source": [
    "from datasets import load_dataset"
   ]
  },
  {
   "cell_type": "code",
   "execution_count": 71,
   "metadata": {},
   "outputs": [
    {
     "name": "stdout",
     "output_type": "stream",
     "text": [
      "slim_orca-train-00000-of-00002.arrow\n",
      "slim_orca-train-00001-of-00002.arrow\n"
     ]
    }
   ],
   "source": [
    "import os\n",
    "\n",
    "ds = load_dataset('Open-Orca/SlimOrca')['train']\n",
    "print(os.path.basename(ds._data.blocks[0][0].path))\n",
    "print(os.path.basename(ds._data.blocks[1][0].path))"
   ]
  },
  {
   "cell_type": "code",
   "execution_count": 72,
   "metadata": {},
   "outputs": [],
   "source": [
    "def func(example):\n",
    "  gpt = [x['value'] for x in example['conversations'] if x['from'] == 'gpt']\n",
    "  system = [x['value'] for x in example['conversations'] if x['from'] == 'system']\n",
    "  human = [x['value'] for x in example['conversations'] if x['from'] == 'human']\n",
    "  res = {}\n",
    "  res['gpt'] = gpt[0] if gpt else None\n",
    "  res['system'] = system[0] if system else None\n",
    "  res['human'] = human[0] if human else None\n",
    "  res['human_and_gpt'] = res['human'] + '\\n' + res['gpt']\n",
    "  return res\n",
    "\n",
    "\n",
    "ds2 = ds.map(func, remove_columns=['conversations'])"
   ]
  },
  {
   "cell_type": "code",
   "execution_count": 75,
   "metadata": {},
   "outputs": [
    {
     "name": "stderr",
     "output_type": "stream",
     "text": [
      "Map: 100%|██████████| 517982/517982 [00:36<00:00, 14365.22 examples/s]\n"
     ]
    }
   ],
   "source": [
    "ds3 = ds2.map(lambda x: {'test': (x or '') + ''}, input_columns='system')\n"
   ]
  },
  {
   "cell_type": "code",
   "execution_count": 79,
   "metadata": {},
   "outputs": [
    {
     "name": "stdout",
     "output_type": "stream",
     "text": [
      "/Users/dsmilkov/.cache/huggingface/datasets/Open-Orca___slim_orca/default-8eee9bed99b72d92/0.0.0/8bb11242116d547c741b2e8a1f18598ffdd40a1d4f2a2872c7a28b697434bc96/cache-584016660c217c6d.arrow\n",
      "gpt: string\n",
      "system: string\n",
      "human: string\n",
      "human_and_gpt: string\n",
      "test: string\n",
      "-- schema metadata --\n",
      "huggingface: '{\"info\": {\"features\": {\"gpt\": {\"dtype\": \"string\", \"_type\": ' + 246\n"
     ]
    }
   ],
   "source": [
    "print(ds3._data.path)\n",
    "print(ds3._data.schema)"
   ]
  },
  {
   "cell_type": "code",
   "execution_count": 68,
   "metadata": {},
   "outputs": [
    {
     "name": "stdout",
     "output_type": "stream",
     "text": [
      "slim_orca-train-00000-of-00002.arrow\n",
      "slim_orca-train-00001-of-00002.arrow\n",
      "<class 'datasets.table.InMemoryTable'>\n",
      "<class 'datasets.table.InMemoryTable'>\n"
     ]
    }
   ],
   "source": [
    "new_column = [\"foo\"] * len(ds)\n",
    "ds3 = ds.add_column(\"new_column\", new_column)\n",
    "print(os.path.basename(ds3._data.blocks[0][0].path))\n",
    "print(os.path.basename(ds3._data.blocks[1][0].path))\n",
    "print(type(ds3._data.blocks[0][1]))\n",
    "print(type(ds3._data.blocks[1][1]))"
   ]
  },
  {
   "cell_type": "code",
   "execution_count": 44,
   "metadata": {},
   "outputs": [],
   "source": [
    "def func(example):\n",
    "  gpt = [x['value'] for x in example['conversations'] if x['from'] == 'gpt']\n",
    "  system = [x['value'] for x in example['conversations'] if x['from'] == 'system']\n",
    "  human = [x['value'] for x in example['conversations'] if x['from'] == 'human']\n",
    "  res = {}\n",
    "  res['gpt'] = gpt[0] if gpt else None\n",
    "  res['system'] = system[0] if system else None\n",
    "  res['human'] = human[0] if human else None\n",
    "  res['human_and_gpt'] = res['human'] + '\\n' + res['gpt']\n",
    "  return res\n",
    "\n",
    "\n",
    "ds2 = ds.map(func, remove_columns=['conversations'])"
   ]
  },
  {
   "cell_type": "code",
   "execution_count": 46,
   "metadata": {},
   "outputs": [
    {
     "name": "stdout",
     "output_type": "stream",
     "text": [
      "['conversations']\n"
     ]
    }
   ],
   "source": [
    "ds3 = ds.map(func)"
   ]
  },
  {
   "cell_type": "code",
   "execution_count": 45,
   "metadata": {},
   "outputs": [
    {
     "name": "stdout",
     "output_type": "stream",
     "text": [
      "<class 'datasets.table.MemoryMappedTable'>\n",
      "/Users/dsmilkov/.cache/huggingface/datasets/Open-Orca___slim_orca/default-8eee9bed99b72d92/0.0.0/8bb11242116d547c741b2e8a1f18598ffdd40a1d4f2a2872c7a28b697434bc96/cache-8dd92d211d6fd44c.arrow\n"
     ]
    },
    {
     "data": {
      "text/plain": [
       "[('Yes', 1787),\n",
       " ('No', 1536),\n",
       " ('False', 1137),\n",
       " ('Insufficient information to provide an answer.', 716),\n",
       " (\"Can't answer\", 475),\n",
       " ('No answer', 404),\n",
       " ('Not answerable.', 381),\n",
       " ('True', 377),\n",
       " ('1', 312),\n",
       " ('No.', 300)]"
      ]
     },
     "execution_count": 45,
     "metadata": {},
     "output_type": "execute_result"
    }
   ],
   "source": [
    "import duckdb\n",
    "\n",
    "print(type(ds2._data))\n",
    "print(ds2._data.path)\n",
    "arrow_table = ds2._data.table\n",
    "con = duckdb.connect()\n",
    "con.execute(\n",
    "  'SELECT gpt, COUNT(*) as c FROM arrow_table GROUP BY gpt ORDER BY c DESC LIMIT 10').fetchall()\n"
   ]
  },
  {
   "cell_type": "code",
   "execution_count": 23,
   "metadata": {},
   "outputs": [
    {
     "name": "stderr",
     "output_type": "stream",
     "text": [
      "Saving the dataset (4/4 shards): 100%|██████████| 517982/517982 [00:04<00:00, 123040.31 examples/s]\n"
     ]
    }
   ],
   "source": [
    "ds2.save_to_disk('~/orcaslim/')"
   ]
  },
  {
   "cell_type": "code",
   "execution_count": 31,
   "metadata": {},
   "outputs": [
    {
     "name": "stderr",
     "output_type": "stream",
     "text": [
      "Map:  89%|████████▊ | 459447/517982 [00:07<00:00, 60011.98 examples/s]"
     ]
    },
    {
     "name": "stdout",
     "output_type": "stream",
     "text": [
      " Is The Invisible Man more prevalent in films than Picnic at Hanging Rock? Given the above question, please answer with reasoning first!\n"
     ]
    },
    {
     "name": "stderr",
     "output_type": "stream",
     "text": [
      "Map:  96%|█████████▌| 498467/517982 [00:08<00:00, 60086.82 examples/s]"
     ]
    },
    {
     "name": "stdout",
     "output_type": "stream",
     "text": [
      " _carry signals that control sexual development and reproduction\n",
      "Options:\n",
      "- (A) sex hormones\n",
      "- (B) electricity\n",
      "- (C) nucleic acid\n",
      "- (D) Most plants\n",
      "- (E) animals\n",
      "- (F) genes\n",
      "- (G) dendrites\n",
      "- (H) photons\n",
      "--\n",
      "Let's think first: Sex hormones are chemical messengers that control sexual development and reproduction. Chemical messengers carry signals from one nerve branch to another. Sex hormones carry signals that control sexual development and reproduction.... So the answer is [(A)]\n",
      "\n",
      "What are a source of food for many fish species?\n",
      "Options:\n",
      "- (A) layers of fat\n",
      "- (B) bird species\n",
      "- (C) human species\n",
      "- (D) keystone species\n",
      "- (E) Organic compounds\n",
      "- (F) barnacles\n",
      "- (G) gastropod shells\n",
      "- (H) species of deer\n",
      "--\n",
      "Let's think first: Sponges are a source of food for many species of fish. Sponges are also keystone species. Keystone species are a source of food for many fish species.... So the answer is [(D)]\n",
      "\n",
      "Many plants respond to the days growing shorted by doing what?\n",
      "Options:\n",
      "- (A) colder and wetter\n",
      "- (B) scattering seeds\n",
      "- (C) resistance activities\n",
      "- (D) Decrease bodily water\n",
      "- (E) evaporation\n",
      "- (F) Exfoliation\n",
      "- (G) bending light rays\n",
      "- (H) reusing materials\n",
      "--\n",
      "Let's think first: Many plants respond to the days growing shorter in the fall by going dormant. When the growing season ends, plants become dormant or scatter seeds and die. Many plants respond to the days growing shorted by scattering seeds.... So the answer is [(B)]\n",
      "\n",
      "What may vary in size as well as shape, but all are very small?\n",
      "Options:\n",
      "- (A) keeping food fresh for long periods of time\n",
      "- (B) disease-causing microorganisms\n",
      "- (C) A solid geometric shape\n",
      "- (D) Unequal radiation absorption\n",
      "- (E) Small countries.\n",
      "- (F) Shapewear.\n",
      "- (G) A water well.\n",
      "- (H) Basic units of the plant body.\n",
      "--\n",
      "Let's think first: Cells vary in size as well as shape, but all cells are very small. Basic unit of the plant body is the cell. Basic units of the plant body vary in size as well as shape, but all are very small.... So the answer is [(H)]\n",
      "\n",
      "What stimulates the pituitary gland in order to maintain structural integrity of the thyroid?\n",
      "Options:\n",
      "- (A) TRH\n",
      "- (B) Urea\n",
      "- (C) CO 2\n",
      "- (D) PDAs\n",
      "- (E) HPV\n",
      "- (F) SO2\n",
      "- (G) mL\n",
      "- (H) p53\n",
      "--\n",
      "Let's think first: TRH stimulates the pituitary gland to produce thyroid-stimulating hormone, or TSH. Another function of TSH is to maintain the structural integrity of the thyroid gland. TRH stimulates the pituitary gland to maintain structural integrity of the thyroid.... So the answer is [(A)]\n",
      "\n",
      "Creatures with six legs may live in what?\n",
      "Options:\n",
      "- (A) space centers\n",
      "- (B) ocean water\n",
      "- (C) salt and water.\n",
      "- (D) large colonies\n",
      "- (E) small pendants\n",
      "- (F) loose soil\n",
      "- (G) distant moons\n",
      "- (H) body water\n",
      "--\n",
      "\n"
     ]
    },
    {
     "name": "stderr",
     "output_type": "stream",
     "text": [
      "Map: 100%|██████████| 517982/517982 [00:08<00:00, 59684.17 examples/s]"
     ]
    },
    {
     "name": "stdout",
     "output_type": "stream",
     "text": [
      "2\n"
     ]
    },
    {
     "name": "stderr",
     "output_type": "stream",
     "text": [
      "\n"
     ]
    }
   ],
   "source": [
    "ds2._data.table.schema\n",
    "\n",
    "space = 0\n",
    "\n",
    "\n",
    "def starts_with_whitespace(ex):\n",
    "  global space\n",
    "  if ex[0].isspace():\n",
    "    space += 1\n",
    "    print(ex)\n",
    "  return\n",
    "\n",
    "\n",
    "space = 0\n",
    "ds2.map(starts_with_whitespace, input_columns=['human'])\n",
    "print(space)"
   ]
  },
  {
   "cell_type": "code",
   "execution_count": 1,
   "metadata": {},
   "outputs": [
    {
     "name": "stderr",
     "output_type": "stream",
     "text": [
      "/Users/dsmilkov/code/lilac/.venv/lib/python3.9/site-packages/tqdm/auto.py:21: TqdmWarning: IProgress not found. Please update jupyter and ipywidgets. See https://ipywidgets.readthedocs.io/en/stable/user_install.html\n",
      "  from .autonotebook import tqdm as notebook_tqdm\n"
     ]
    }
   ],
   "source": [
    "import lilac as ll"
   ]
  },
  {
   "cell_type": "code",
   "execution_count": 4,
   "metadata": {},
   "outputs": [],
   "source": [
    "ds = ll.get_dataset('local', 'orca-slim', project_dir='./data')"
   ]
  },
  {
   "cell_type": "code",
   "execution_count": 14,
   "metadata": {},
   "outputs": [],
   "source": [
    "df = ds.to_pandas()\n",
    "df['gpt.near_dup'] = df['gpt.near_dup'].apply(lambda x: x['cluster_id'])\n",
    "df['human.near_dup'] = df['human.near_dup'].apply(lambda x: x['cluster_id'])\n"
   ]
  },
  {
   "cell_type": "code",
   "execution_count": 17,
   "metadata": {},
   "outputs": [
    {
     "name": "stdout",
     "output_type": "stream",
     "text": [
      "517982\n"
     ]
    }
   ],
   "source": [
    "print(len(df))\n",
    "df_dedup = df.drop_duplicates('human.near_dup', keep='first')"
   ]
  },
  {
   "cell_type": "code",
   "execution_count": 18,
   "metadata": {},
   "outputs": [
    {
     "data": {
      "text/plain": [
       "457719"
      ]
     },
     "execution_count": 18,
     "metadata": {},
     "output_type": "execute_result"
    }
   ],
   "source": [
    "len(df_dedup)"
   ]
  },
  {
   "cell_type": "code",
   "execution_count": null,
   "metadata": {},
   "outputs": [],
   "source": []
  }
 ],
 "metadata": {
  "kernelspec": {
   "display_name": ".venv",
   "language": "python",
   "name": "python3"
  },
  "language_info": {
   "codemirror_mode": {
    "name": "ipython",
    "version": 3
   },
   "file_extension": ".py",
   "mimetype": "text/x-python",
   "name": "python",
   "nbconvert_exporter": "python",
   "pygments_lexer": "ipython3",
   "version": "3.9.13"
  },
  "orig_nbformat": 4
 },
 "nbformat": 4,
 "nbformat_minor": 2
}
