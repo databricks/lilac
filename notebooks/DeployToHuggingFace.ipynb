{
 "cells": [
  {
   "cell_type": "markdown",
   "metadata": {},
   "source": [
    "# Deploying Lilac to a HuggingFace Space\n",
    "\n",
    "This notebook will show you how to deploy a project directory, or a single dataset to HuggingFace spaces.\n",
    "\n",
    "This will allow you to make a public or private space that hosts your datasets so you can share with others.\n",
    "\n",
    "Example: https://huggingface.co/spaces/lilacai/lilac\n",
    "\n",
    "The accompanying guide can be found [here](https://lilacml.com/huggingface/huggingface_spaces.html).\n",
    "\n",
    "All of these scripts require:\n",
    "\n",
    "- You to be logged in with HuggingFace with `huggingface-cli login`.\n",
    "- Have the `huggingface_hub` pip package installed.\n"
   ]
  },
  {
   "cell_type": "markdown",
   "metadata": {},
   "source": [
    "## Deploying a single dataset from a config\n",
    "\n",
    "We can deploy a single dataset to a HuggingFace space with a few lines of Python.\n",
    "\n",
    "The dataset will get loaded from the HuggingFace space, so you don't have to load it locally!\n",
    "\n",
    "If you have already loaded a project locally and want to deploy it, skip to the next section.\n"
   ]
  },
  {
   "cell_type": "code",
   "execution_count": 1,
   "metadata": {},
   "outputs": [
    {
     "name": "stderr",
     "output_type": "stream",
     "text": [
      "/Users/nikhil/Code/lilac/.venv/lib/python3.9/site-packages/tqdm/auto.py:21: TqdmWarning: IProgress not found. Please update jupyter and ipywidgets. See https://ipywidgets.readthedocs.io/en/stable/user_install.html\n",
      "  from .autonotebook import tqdm as notebook_tqdm\n"
     ]
    }
   ],
   "source": [
    "from IPython.display import display\n",
    "import lilac as ll"
   ]
  },
  {
   "cell_type": "markdown",
   "metadata": {},
   "source": [
    "[`deploy_config`](https://lilacml.com/api_reference/index.html#lilac.deploy_config) will deploy a Lilac instance from a Lilac configuration object. The lilac config object below will tell the HuggingFace space to load the dataset. It will also compute the gte-small embedding and the `text_statistics` signal when it boots up on the space.\n",
    "\n",
    "You can also choose to compute embeddings, and signals on the HuggingFace space upon bootup of the space. See [lilac.Config](https://lilacml.com/api_reference/index.html#lilac.Config) for reference, or the guide on [Lilac Projects](https://lilacml.com/projects/projects.html).\n",
    "\n",
    "NOTE: The `deploy_config` script will always create a private space. To make it public, go to the HuggingFace UI, click Settings, and click \"Make public\" under \"Change space visibility.\"\n"
   ]
  },
  {
   "cell_type": "code",
   "execution_count": 2,
   "metadata": {},
   "outputs": [
    {
     "name": "stdout",
     "output_type": "stream",
     "text": [
      "Creating huggingface space https://huggingface.co/spaces/nsthorat-lilac/nikhil-demo\n",
      "The space will be created as private. You can change this from the UI.\n",
      "Created: https://huggingface.co/spaces/nsthorat-lilac/nikhil-demo\n",
      "Deploying project: /var/folders/35/q7dnsp_x3v3b8mp46bb9w0qr0000gn/T/tmpfeogfbkz\n",
      "\n",
      "Copying root files...\n",
      "\n",
      "Uploading concepts:  []\n",
      "\n",
      "Uploading cache files: []\n",
      "\n",
      "Done! View your space at https://huggingface.co/spaces/nsthorat-lilac/nikhil-demo\n"
     ]
    }
   ],
   "source": [
    "ll.deploy_config(\n",
    "  hf_space='nsthorat-lilac/nikhil-demo',\n",
    "  # Create the space if it doesn't exist.\n",
    "  create_space=True,\n",
    "  config=ll.Config(datasets=[\n",
    "    ll.DatasetConfig(\n",
    "      namespace='local',\n",
    "      name='glue_ax',\n",
    "      source=ll.HuggingFaceSource(dataset_name='glue', config_name='ax'),\n",
    "      # NOTE: Remove embeddings and signals if you just want to visualize the dataset without any\n",
    "      # enrichments.\n",
    "      embeddings=[\n",
    "        # Compute gte-small over 'hypothesis'.\n",
    "        ll.EmbeddingConfig(path='hypothesis', embedding='gte-small'),\n",
    "      ],\n",
    "      signals=[ll.SignalConfig(path='hypothesis', signal=ll.TextStatisticsSignal())])\n",
    "  ]),\n",
    "  # No persistent storage for HuggingFace. If you want to use persistent storage,\n",
    "  # set this to 'small', 'medium', or 'large'.\n",
    "  # NOTE: Persistent storage is not free. See https://huggingface.co/docs/hub/spaces-storage\n",
    "  storage=None)\n"
   ]
  },
  {
   "cell_type": "markdown",
   "metadata": {},
   "source": [
    "## Deploying a project\n",
    "\n",
    "If we've already loaded some datasets and embeddings locally, we can upload the entire project (or a subset) to a space and re-use local computation using\n",
    "[`deploy_project`](https://lilacml.com/api_reference/index.html#lilac.deploy_project).\n",
    "\n",
    "Loading data will not happen on the space automatically on bootup.\n",
    "\n",
    "NOTE: The `deploy_project` script will always create a private space. To make it public, go to the HuggingFace UI, click Settings, and click \"Make public\" under \"Change space visibility.\"\n"
   ]
  },
  {
   "cell_type": "code",
   "execution_count": 3,
   "metadata": {},
   "outputs": [
    {
     "name": "stdout",
     "output_type": "stream",
     "text": [
      "Creating huggingface space https://huggingface.co/spaces/nsthorat-lilac/nikhil-project-demo\n",
      "The space will be created as private. You can change this from the UI.\n",
      "Created: https://huggingface.co/spaces/nsthorat-lilac/nikhil-project-demo\n",
      "Deploying project: ./data\n",
      "\n",
      "Copying root files...\n",
      "\n",
      "Uploading datasets:  ['local/glue_ax']\n",
      "Uploading \"local/glue_ax\" to HuggingFace dataset repo https://huggingface.co/datasets/nsthorat-lilac/nikhil-project-demo-local-glue_ax\n",
      "\n"
     ]
    },
    {
     "name": "stderr",
     "output_type": "stream",
     "text": [
      "data-00000-of-00001.parquet:   0%|          | 0.00/116k [00:00<?, ?B/s]\n",
      "\u001b[A\n",
      "\n",
      "\n",
      "\n",
      "\u001b[A\u001b[A\u001b[A\u001b[A\n",
      "\n",
      "\u001b[A\u001b[A\n",
      "\n",
      "\n",
      "\u001b[A\u001b[A\u001b[A\n",
      "data-00000-of-00001.parquet:   7%|▋         | 8.19k/116k [00:00<00:01, 67.6kB/s]\n",
      "\n",
      "\n",
      "\n",
      "\u001b[A\u001b[A\u001b[A\u001b[A\n",
      "\n",
      "\n",
      "spans.pkl: 100%|██████████| 53.0k/53.0k [00:00<00:00, 165kB/s] \n",
      "hnsw.lookup.pkl: 100%|██████████| 53.4k/53.4k [00:00<00:00, 149kB/s] \n",
      "data-00000-of-00001.parquet: 100%|██████████| 46.8k/46.8k [00:00<00:00, 123kB/s] \n",
      "data-00000-of-00001.parquet: 100%|██████████| 116k/116k [00:00<00:00, 283kB/s]  \n",
      "data-00000-of-00001.parquet:   0%|          | 0.00/939 [00:00<?, ?B/s]\n",
      "\u001b[A\n",
      "\n",
      "\n",
      "data-00000-of-00001.parquet: 100%|██████████| 939/939 [00:00<00:00, 16.8kB/s]\n",
      "\n",
      "\n",
      "data-00000-of-00001.parquet: 100%|██████████| 47.4k/47.4k [00:00<00:00, 435kB/s]\n",
      "data-00000-of-00001.parquet: 100%|██████████| 43.5k/43.5k [00:00<00:00, 227kB/s]\n",
      "data-00000-of-00001.parquet: 100%|██████████| 41.2k/41.2k [00:00<00:00, 196kB/s]\n",
      "hnsw.hnswlib.bin: 100%|██████████| 1.86M/1.86M [00:01<00:00, 1.25MB/s]\n",
      "\n",
      "\n",
      "Upload 9 LFS files: 100%|██████████| 9/9 [00:01<00:00,  5.55it/s]\n"
     ]
    },
    {
     "name": "stdout",
     "output_type": "stream",
     "text": [
      "Uploading concepts:  ['local/aliens', '100712716653593140239/aliens', '100712716653593140239/private_aliens']\n",
      "\n",
      "Uploading cache files: ['concept/local/aliens/gte-small.pkl', 'concept/100712716653593140239/aliens/gte-small.pkl', 'concept/100712716653593140239/private_aliens/gte-small.pkl']\n",
      "\n"
     ]
    },
    {
     "name": "stderr",
     "output_type": "stream",
     "text": [
      "Upload 3 LFS files:   0%|          | 0/3 [00:00<?, ?it/s]\n",
      "\u001b[A\n",
      "\n",
      "gte-small.pkl: 100%|██████████| 21.8k/21.8k [00:00<00:00, 266kB/s]\n",
      "gte-small.pkl: 100%|██████████| 10.8k/10.8k [00:00<00:00, 111kB/s]\n",
      "gte-small.pkl: 100%|██████████| 28.4k/28.4k [00:00<00:00, 231kB/s]\n",
      "Upload 3 LFS files: 100%|██████████| 3/3 [00:00<00:00,  8.47it/s]\n"
     ]
    },
    {
     "name": "stdout",
     "output_type": "stream",
     "text": [
      "Done! View your space at https://huggingface.co/spaces/nsthorat-lilac/nikhil-project-demo\n"
     ]
    }
   ],
   "source": [
    "ll.deploy_project(\n",
    "  hf_space='nsthorat-lilac/nikhil-project-demo',\n",
    "  project_dir='./data',\n",
    "  datasets=['local/glue_ax'],  # This is optional. If not defined, uploads all datasets.\n",
    "  # Create the space if it doesn't exist.\n",
    "  create_space=True,\n",
    "  # The hf_token is required unless you set make_datasets_public=True. By default, uploaded datasets\n",
    "  # are made private.\n",
    "  # See: https://huggingface.co/docs/hub/security-tokens\n",
    "  hf_token='your_huggingface_read_token')"
   ]
  },
  {
   "cell_type": "code",
   "execution_count": null,
   "metadata": {},
   "outputs": [],
   "source": []
  }
 ],
 "metadata": {
  "kernelspec": {
   "display_name": ".venv",
   "language": "python",
   "name": "python3"
  },
  "language_info": {
   "codemirror_mode": {
    "name": "ipython",
    "version": 3
   },
   "file_extension": ".py",
   "mimetype": "text/x-python",
   "name": "python",
   "nbconvert_exporter": "python",
   "pygments_lexer": "ipython3",
   "version": "3.9.17"
  },
  "orig_nbformat": 4
 },
 "nbformat": 4,
 "nbformat_minor": 2
}
