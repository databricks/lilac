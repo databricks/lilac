{
 "cells": [
  {
   "cell_type": "markdown",
   "metadata": {},
   "source": [
    "## To test the Python API\n"
   ]
  },
  {
   "cell_type": "code",
   "execution_count": 1,
   "metadata": {},
   "outputs": [
    {
     "name": "stderr",
     "output_type": "stream",
     "text": [
      "/Users/dsmilkov/code/lilac/.venv/lib/python3.9/site-packages/tqdm/auto.py:21: TqdmWarning: IProgress not found. Please update jupyter and ipywidgets. See https://ipywidgets.readthedocs.io/en/stable/user_install.html\n",
      "  from .autonotebook import tqdm as notebook_tqdm\n"
     ]
    },
    {
     "name": "stdout",
     "output_type": "stream",
     "text": [
      "Computing signal \"signal_name='concept_score' embedding='sbert' namespace='lilac' concept_name='legal-termination' draft='main' num_negative_examples=100\" took 0.280s.\n",
      "Wrote signal manifest to ./data/datasets/local/legal-clauses/clause_text/sbert/embedding/lilac/legal-termination/v31/signal_manifest.json\n"
     ]
    }
   ],
   "source": [
    "from src.db_manager import get_dataset, set_default_dataset_cls\n",
    "from src.data.dataset_duckdb import DatasetDuckDB\n",
    "from src.signals.concept_scorer import ConceptScoreSignal\n",
    "from src.signals.default_signals import register_default_signals\n",
    "\n",
    "register_default_signals()\n",
    "set_default_dataset_cls(DatasetDuckDB)\n",
    "\n",
    "dataset = get_dataset('local', 'legal-clauses')\n",
    "\n",
    "dataset.compute_signal(\n",
    "  ConceptScoreSignal(namespace='lilac', concept_name='legal-termination', embedding='sbert'),\n",
    "  'clause_text')"
   ]
  }
 ],
 "metadata": {
  "kernelspec": {
   "display_name": ".venv",
   "language": "python",
   "name": "python3"
  },
  "language_info": {
   "codemirror_mode": {
    "name": "ipython",
    "version": 3
   },
   "file_extension": ".py",
   "mimetype": "text/x-python",
   "name": "python",
   "nbconvert_exporter": "python",
   "pygments_lexer": "ipython3",
   "version": "3.9.13"
  },
  "orig_nbformat": 4
 },
 "nbformat": 4,
 "nbformat_minor": 2
}
