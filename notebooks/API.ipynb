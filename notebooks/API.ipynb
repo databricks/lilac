{
 "cells": [
  {
   "cell_type": "markdown",
   "metadata": {},
   "source": [
    "## Creating a Lilac dataset\n"
   ]
  },
  {
   "cell_type": "code",
   "execution_count": 2,
   "metadata": {},
   "outputs": [],
   "source": [
    "from IPython.display import display\n",
    "\n",
    "import lilac as ll"
   ]
  },
  {
   "cell_type": "markdown",
   "metadata": {},
   "source": [
    "### From HuggingFace\n"
   ]
  },
  {
   "cell_type": "code",
   "execution_count": 3,
   "metadata": {},
   "outputs": [
    {
     "name": "stderr",
     "output_type": "stream",
     "text": [
      "Found cached dataset glue (/Users/dsmilkov/.cache/huggingface/datasets/glue/ax/1.0.0/dacbe3125aa31d7f70367a07a8a9e72a5a0bfeb5fc42e75c9db75b96da6053ad)\n",
      "100%|██████████| 1/1 [00:00<00:00, 518.65it/s]\n",
      "Reading from source huggingface...: 100%|██████████| 1104/1104 [00:00<00:00, 37553.62it/s]"
     ]
    },
    {
     "name": "stdout",
     "output_type": "stream",
     "text": [
      "Dataset \"glue\" written to ./data/datasets/local/glue\n"
     ]
    },
    {
     "name": "stderr",
     "output_type": "stream",
     "text": [
      "\n"
     ]
    }
   ],
   "source": [
    "source_config = ll.HuggingFaceDataset(dataset_name='glue', config_name='ax')\n",
    "dataset = ll.create_dataset('local', 'glue', source_config)"
   ]
  },
  {
   "cell_type": "markdown",
   "metadata": {},
   "source": [
    "### From CSV\n"
   ]
  },
  {
   "cell_type": "code",
   "execution_count": 15,
   "metadata": {},
   "outputs": [
    {
     "name": "stdout",
     "output_type": "stream",
     "text": [
      "Downloading from url https://storage.googleapis.com/lilac-data-us-east1/datasets/csv_datasets/the_movies_dataset/the_movies_dataset.csv to /tmp/./data/local_cache/932b6730f8094be7865a04380ae92c4b\n"
     ]
    },
    {
     "name": "stderr",
     "output_type": "stream",
     "text": [
      "Reading from source csv...: 100%|██████████| 45460/45460 [00:01<00:00, 43457.19it/s]"
     ]
    },
    {
     "name": "stdout",
     "output_type": "stream",
     "text": [
      "Dataset \"the_movies_dataset\" written to ./data/datasets/local/the_movies_dataset\n"
     ]
    },
    {
     "name": "stderr",
     "output_type": "stream",
     "text": [
      "\n"
     ]
    }
   ],
   "source": [
    "url = 'https://storage.googleapis.com/lilac-data-us-east1/datasets/csv_datasets/the_movies_dataset/the_movies_dataset.csv'\n",
    "source_config = ll.CSVDataset(filepaths=[url])\n",
    "dataset = ll.create_dataset('local', 'the_movies_dataset', source_config)"
   ]
  },
  {
   "cell_type": "markdown",
   "metadata": {},
   "source": [
    "### From JSON\n"
   ]
  },
  {
   "cell_type": "code",
   "execution_count": 5,
   "metadata": {},
   "outputs": [
    {
     "name": "stdout",
     "output_type": "stream",
     "text": [
      "Downloading from url https://raw.githubusercontent.com/explosion/prodigy-recipes/master/example-datasets/news_headlines.jsonl to /tmp/./data/local_cache/452137e2b28c444095efaba00674e4e5\n"
     ]
    },
    {
     "name": "stderr",
     "output_type": "stream",
     "text": [
      "Reading from source json...: 100%|██████████| 200/200 [00:00<00:00, 126907.84it/s]"
     ]
    },
    {
     "name": "stdout",
     "output_type": "stream",
     "text": [
      "Dataset \"news_headlines\" written to ./data/datasets/local/news_headlines\n"
     ]
    },
    {
     "name": "stderr",
     "output_type": "stream",
     "text": [
      "\n"
     ]
    }
   ],
   "source": [
    "source_config = ll.JSONDataset(filepaths=[\n",
    "  'https://raw.githubusercontent.com/explosion/prodigy-recipes/master/example-datasets/news_headlines.jsonl'\n",
    "])\n",
    "dataset = ll.create_dataset('local', 'news_headlines', source_config)"
   ]
  },
  {
   "cell_type": "markdown",
   "metadata": {},
   "source": [
    "## Visualize the data\n",
    "\n",
    "Now that we have imported a few datasets, let's visualize them to see what they look like.\n"
   ]
  },
  {
   "cell_type": "code",
   "execution_count": 4,
   "metadata": {},
   "outputs": [
    {
     "name": "stderr",
     "output_type": "stream",
     "text": [
      "INFO:     Started server process [94705]\n",
      "INFO:     Waiting for application startup.\n",
      "INFO:     Application startup complete.\n",
      "INFO:     Uvicorn running on http://0.0.0.0:5432 (Press CTRL+C to quit)\n"
     ]
    }
   ],
   "source": [
    "ll.start_server()"
   ]
  },
  {
   "cell_type": "markdown",
   "metadata": {},
   "source": [
    "### Stopping the server\n"
   ]
  },
  {
   "cell_type": "code",
   "execution_count": 6,
   "metadata": {},
   "outputs": [
    {
     "name": "stderr",
     "output_type": "stream",
     "text": [
      "INFO:     Shutting down\n",
      "INFO:     Waiting for application shutdown.\n",
      "INFO:     Application shutdown complete.\n"
     ]
    }
   ],
   "source": [
    "await ll.stop_server()"
   ]
  },
  {
   "cell_type": "markdown",
   "metadata": {},
   "source": [
    "## Query a dataset\n"
   ]
  },
  {
   "cell_type": "code",
   "execution_count": 4,
   "metadata": {},
   "outputs": [
    {
     "name": "stdout",
     "output_type": "stream",
     "text": [
      "Total number of rows 45460\n"
     ]
    },
    {
     "data": {
      "text/html": [
       "<div>\n",
       "<style scoped>\n",
       "    .dataframe tbody tr th:only-of-type {\n",
       "        vertical-align: middle;\n",
       "    }\n",
       "\n",
       "    .dataframe tbody tr th {\n",
       "        vertical-align: top;\n",
       "    }\n",
       "\n",
       "    .dataframe thead th {\n",
       "        text-align: right;\n",
       "    }\n",
       "</style>\n",
       "<table border=\"1\" class=\"dataframe\">\n",
       "  <thead>\n",
       "    <tr style=\"text-align: right;\">\n",
       "      <th></th>\n",
       "      <th>title</th>\n",
       "      <th>budget</th>\n",
       "      <th>overview</th>\n",
       "      <th>__rowid__</th>\n",
       "    </tr>\n",
       "  </thead>\n",
       "  <tbody>\n",
       "    <tr>\n",
       "      <th>0</th>\n",
       "      <td>Jumanji</td>\n",
       "      <td>65000000</td>\n",
       "      <td>When siblings Judy and Peter discover an encha...</td>\n",
       "      <td>4623e3ce29f34483be6419bc7e03f007</td>\n",
       "    </tr>\n",
       "    <tr>\n",
       "      <th>1</th>\n",
       "      <td>Grumpier Old Men</td>\n",
       "      <td>0</td>\n",
       "      <td>A family wedding reignites the ancient feud be...</td>\n",
       "      <td>f602496a210441b2bdff05191379b6cf</td>\n",
       "    </tr>\n",
       "    <tr>\n",
       "      <th>2</th>\n",
       "      <td>Waiting to Exhale</td>\n",
       "      <td>16000000</td>\n",
       "      <td>Cheated on, mistreated and stepped on, the wom...</td>\n",
       "      <td>69e5a63530cd4882a86cffba20ea14a7</td>\n",
       "    </tr>\n",
       "    <tr>\n",
       "      <th>3</th>\n",
       "      <td>Heat</td>\n",
       "      <td>60000000</td>\n",
       "      <td>Obsessive master thief, Neil McCauley leads a ...</td>\n",
       "      <td>e5be08e15a6247fd9759738fdd4f7291</td>\n",
       "    </tr>\n",
       "    <tr>\n",
       "      <th>4</th>\n",
       "      <td>Sudden Death</td>\n",
       "      <td>35000000</td>\n",
       "      <td>International action superstar Jean Claude Van...</td>\n",
       "      <td>9b92e098b40e4d689547d3e6d03a4b8a</td>\n",
       "    </tr>\n",
       "  </tbody>\n",
       "</table>\n",
       "</div>"
      ],
      "text/plain": [
       "               title    budget  \\\n",
       "0            Jumanji  65000000   \n",
       "1   Grumpier Old Men         0   \n",
       "2  Waiting to Exhale  16000000   \n",
       "3               Heat  60000000   \n",
       "4       Sudden Death  35000000   \n",
       "\n",
       "                                            overview  \\\n",
       "0  When siblings Judy and Peter discover an encha...   \n",
       "1  A family wedding reignites the ancient feud be...   \n",
       "2  Cheated on, mistreated and stepped on, the wom...   \n",
       "3  Obsessive master thief, Neil McCauley leads a ...   \n",
       "4  International action superstar Jean Claude Van...   \n",
       "\n",
       "                          __rowid__  \n",
       "0  4623e3ce29f34483be6419bc7e03f007  \n",
       "1  f602496a210441b2bdff05191379b6cf  \n",
       "2  69e5a63530cd4882a86cffba20ea14a7  \n",
       "3  e5be08e15a6247fd9759738fdd4f7291  \n",
       "4  9b92e098b40e4d689547d3e6d03a4b8a  "
      ]
     },
     "metadata": {},
     "output_type": "display_data"
    }
   ],
   "source": [
    "dataset = ll.get_dataset('local', 'the_movies_dataset')\n",
    "r = dataset.select_rows(['title', 'budget', 'overview'], limit=5)\n",
    "print('Total number of rows', r.total_num_rows)\n",
    "display(r.df())"
   ]
  },
  {
   "cell_type": "markdown",
   "metadata": {},
   "source": [
    "## Compute embedding\n",
    "\n",
    "Let's compute the `SBERT` embedding on device for the `overview` field.\n"
   ]
  },
  {
   "cell_type": "code",
   "execution_count": 8,
   "metadata": {},
   "outputs": [
    {
     "name": "stderr",
     "output_type": "stream",
     "text": [
      "Computing sbert: 100%|██████████| 45460/45460 [01:47<00:00, 422.10it/s]\n"
     ]
    },
    {
     "name": "stdout",
     "output_type": "stream",
     "text": [
      "Computing signal \"sbert\" took 107.781s.\n",
      "Wrote signal output to ./data/datasets/local/the_movies_dataset/overview/sbert\n"
     ]
    }
   ],
   "source": [
    "dataset.compute_embedding('sbert', 'overview')"
   ]
  },
  {
   "cell_type": "markdown",
   "metadata": {},
   "source": [
    "## Enriching an unstructured field with metadata\n"
   ]
  },
  {
   "cell_type": "code",
   "execution_count": 5,
   "metadata": {},
   "outputs": [
    {
     "name": "stderr",
     "output_type": "stream",
     "text": [
      "Computing pii: 100%|██████████| 45460/45460 [00:45<00:00, 995.15it/s] \n"
     ]
    },
    {
     "name": "stdout",
     "output_type": "stream",
     "text": [
      "Computing signal \"pii\" took 45.727s.\n",
      "Wrote signal output to ./data/datasets/local/the_movies_dataset/overview/pii\n"
     ]
    }
   ],
   "source": [
    "dataset.compute_signal(ll.PIISignal(), 'overview')"
   ]
  },
  {
   "cell_type": "code",
   "execution_count": 6,
   "metadata": {},
   "outputs": [
    {
     "name": "stderr",
     "output_type": "stream",
     "text": [
      "Computing lang_detection: 100%|██████████| 45460/45460 [01:31<00:00, 494.44it/s]\n"
     ]
    },
    {
     "name": "stdout",
     "output_type": "stream",
     "text": [
      "Computing signal \"lang_detection\" took 91.983s.\n",
      "Wrote signal output to ./data/datasets/local/the_movies_dataset/overview/lang_detection\n"
     ]
    }
   ],
   "source": [
    "dataset.compute_signal(ll.LangDetectionSignal(), 'overview')"
   ]
  },
  {
   "cell_type": "code",
   "execution_count": 7,
   "metadata": {},
   "outputs": [
    {
     "name": "stderr",
     "output_type": "stream",
     "text": [
      "Fingerprinting...: 44506it [00:06, 7055.80it/s]0:00<?, ?it/s]\n",
      "Computing hash collisions...: 100%|██████████| 5/5 [00:01<00:00,  4.31it/s]\n",
      "Clustering...: 100%|██████████| 21/21 [00:00<00:00, 154.89it/s]\n",
      "Computing near_dup: 100%|██████████| 45460/45460 [00:07<00:00, 5837.09it/s]\n"
     ]
    },
    {
     "name": "stdout",
     "output_type": "stream",
     "text": [
      "Computing signal \"near_dup\" took 7.824s.\n",
      "Wrote signal output to ./data/datasets/local/the_movies_dataset/overview/near_dup\n"
     ]
    }
   ],
   "source": [
    "dataset.compute_signal(ll.NearDuplicateSignal(), 'overview')"
   ]
  },
  {
   "cell_type": "markdown",
   "metadata": {},
   "source": [
    "## Searching\n"
   ]
  },
  {
   "cell_type": "markdown",
   "metadata": {},
   "source": [
    "### By keywords\n"
   ]
  },
  {
   "cell_type": "code",
   "execution_count": 4,
   "metadata": {},
   "outputs": [
    {
     "name": "stdout",
     "output_type": "stream",
     "text": [
      "Computing signal \"substring_search\" took 0.000s.\n"
     ]
    },
    {
     "data": {
      "text/html": [
       "<div>\n",
       "<style scoped>\n",
       "    .dataframe tbody tr th:only-of-type {\n",
       "        vertical-align: middle;\n",
       "    }\n",
       "\n",
       "    .dataframe tbody tr th {\n",
       "        vertical-align: top;\n",
       "    }\n",
       "\n",
       "    .dataframe thead th {\n",
       "        text-align: right;\n",
       "    }\n",
       "</style>\n",
       "<table border=\"1\" class=\"dataframe\">\n",
       "  <thead>\n",
       "    <tr style=\"text-align: right;\">\n",
       "      <th></th>\n",
       "      <th>overview</th>\n",
       "      <th>__rowid__</th>\n",
       "      <th>substring_search(query=Aliens)(overview)</th>\n",
       "    </tr>\n",
       "  </thead>\n",
       "  <tbody>\n",
       "    <tr>\n",
       "      <th>0</th>\n",
       "      <td>When Environmental Protection Agency inspector...</td>\n",
       "      <td>153b4f31b4374e1c8cdb165b8591beb5</td>\n",
       "      <td>[{'__value__': {'start': 422, 'end': 428}}]</td>\n",
       "    </tr>\n",
       "    <tr>\n",
       "      <th>1</th>\n",
       "      <td>With enormous cone-shaped heads, robotlike wal...</td>\n",
       "      <td>2e1b7bb114fd4406ac2284f19a218ff7</td>\n",
       "      <td>[{'__value__': {'start': 83, 'end': 89}}]</td>\n",
       "    </tr>\n",
       "    <tr>\n",
       "      <th>2</th>\n",
       "      <td>Aliens who've come to earth to spawn deep bene...</td>\n",
       "      <td>3113fc2b60c44197ae0fc3f0a9ad0b85</td>\n",
       "      <td>[{'__value__': {'start': 0, 'end': 6}}]</td>\n",
       "    </tr>\n",
       "    <tr>\n",
       "      <th>3</th>\n",
       "      <td>A team from the intergalactic fast food chain ...</td>\n",
       "      <td>99fc5d00ee7b488fb7cd300f57b18eb6</td>\n",
       "      <td>[{'__value__': {'start': 435, 'end': 441}}, {'...</td>\n",
       "    </tr>\n",
       "    <tr>\n",
       "      <th>4</th>\n",
       "      <td>Marcus is a kid on Manhattan's mean streets. H...</td>\n",
       "      <td>b0e4d97deaa14f459309e42a1dcfde66</td>\n",
       "      <td>[{'__value__': {'start': 133, 'end': 139}}]</td>\n",
       "    </tr>\n",
       "  </tbody>\n",
       "</table>\n",
       "</div>"
      ],
      "text/plain": [
       "                                            overview  \\\n",
       "0  When Environmental Protection Agency inspector...   \n",
       "1  With enormous cone-shaped heads, robotlike wal...   \n",
       "2  Aliens who've come to earth to spawn deep bene...   \n",
       "3  A team from the intergalactic fast food chain ...   \n",
       "4  Marcus is a kid on Manhattan's mean streets. H...   \n",
       "\n",
       "                          __rowid__  \\\n",
       "0  153b4f31b4374e1c8cdb165b8591beb5   \n",
       "1  2e1b7bb114fd4406ac2284f19a218ff7   \n",
       "2  3113fc2b60c44197ae0fc3f0a9ad0b85   \n",
       "3  99fc5d00ee7b488fb7cd300f57b18eb6   \n",
       "4  b0e4d97deaa14f459309e42a1dcfde66   \n",
       "\n",
       "            substring_search(query=Aliens)(overview)  \n",
       "0        [{'__value__': {'start': 422, 'end': 428}}]  \n",
       "1          [{'__value__': {'start': 83, 'end': 89}}]  \n",
       "2            [{'__value__': {'start': 0, 'end': 6}}]  \n",
       "3  [{'__value__': {'start': 435, 'end': 441}}, {'...  \n",
       "4        [{'__value__': {'start': 133, 'end': 139}}]  "
      ]
     },
     "metadata": {},
     "output_type": "display_data"
    }
   ],
   "source": [
    "query = ll.KeywordQuery(search='Aliens')\n",
    "r = dataset.select_rows(['overview'], searches=[ll.Search(path='overview', query=query)], limit=5)\n",
    "display(r.df())"
   ]
  },
  {
   "cell_type": "markdown",
   "metadata": {},
   "source": [
    "### Semantic search\n"
   ]
  },
  {
   "cell_type": "code",
   "execution_count": 7,
   "metadata": {},
   "outputs": [
    {
     "name": "stdout",
     "output_type": "stream",
     "text": [
      "Computing signal \"semantic_similarity\" took 0.002s.\n"
     ]
    },
    {
     "data": {
      "text/html": [
       "<div>\n",
       "<style scoped>\n",
       "    .dataframe tbody tr th:only-of-type {\n",
       "        vertical-align: middle;\n",
       "    }\n",
       "\n",
       "    .dataframe tbody tr th {\n",
       "        vertical-align: top;\n",
       "    }\n",
       "\n",
       "    .dataframe thead th {\n",
       "        text-align: right;\n",
       "    }\n",
       "</style>\n",
       "<table border=\"1\" class=\"dataframe\">\n",
       "  <thead>\n",
       "    <tr style=\"text-align: right;\">\n",
       "      <th></th>\n",
       "      <th>overview</th>\n",
       "      <th>__rowid__</th>\n",
       "      <th>semantic_similarity(query=Aliens have invaded the earth)(overview.sbert.*.embedding)</th>\n",
       "    </tr>\n",
       "  </thead>\n",
       "  <tbody>\n",
       "    <tr>\n",
       "      <th>0</th>\n",
       "      <td>The Earth is invaded by alien parasites aka \"s...</td>\n",
       "      <td>2f322658c8b240709ed6350731c977cd</td>\n",
       "      <td>[0.7876087948679924]</td>\n",
       "    </tr>\n",
       "    <tr>\n",
       "      <th>1</th>\n",
       "      <td>Aliens invade, this time delivering a clear ul...</td>\n",
       "      <td>a6bc9ca99dfe47668268695614e74292</td>\n",
       "      <td>[0.7808258235454559]</td>\n",
       "    </tr>\n",
       "    <tr>\n",
       "      <th>2</th>\n",
       "      <td>Aliens pretending to be friendly come to Earth...</td>\n",
       "      <td>63b6d34b48194b1eb355cb257859b54e</td>\n",
       "      <td>[0.7718495875597]</td>\n",
       "    </tr>\n",
       "    <tr>\n",
       "      <th>3</th>\n",
       "      <td>The nations of the Earth unite in a common cau...</td>\n",
       "      <td>5071f369239848ca9daa9b2c92907782</td>\n",
       "      <td>[0.7678595408797264]</td>\n",
       "    </tr>\n",
       "    <tr>\n",
       "      <th>4</th>\n",
       "      <td>Aliens have landed and are hiding on Earth, bu...</td>\n",
       "      <td>b09339247bd946ea8b0e081c2218dc9e</td>\n",
       "      <td>[0.7546965628862381]</td>\n",
       "    </tr>\n",
       "  </tbody>\n",
       "</table>\n",
       "</div>"
      ],
      "text/plain": [
       "                                            overview  \\\n",
       "0  The Earth is invaded by alien parasites aka \"s...   \n",
       "1  Aliens invade, this time delivering a clear ul...   \n",
       "2  Aliens pretending to be friendly come to Earth...   \n",
       "3  The nations of the Earth unite in a common cau...   \n",
       "4  Aliens have landed and are hiding on Earth, bu...   \n",
       "\n",
       "                          __rowid__  \\\n",
       "0  2f322658c8b240709ed6350731c977cd   \n",
       "1  a6bc9ca99dfe47668268695614e74292   \n",
       "2  63b6d34b48194b1eb355cb257859b54e   \n",
       "3  5071f369239848ca9daa9b2c92907782   \n",
       "4  b09339247bd946ea8b0e081c2218dc9e   \n",
       "\n",
       "  semantic_similarity(query=Aliens have invaded the earth)(overview.sbert.*.embedding)  \n",
       "0                               [0.7876087948679924]                                    \n",
       "1                               [0.7808258235454559]                                    \n",
       "2                                  [0.7718495875597]                                    \n",
       "3                               [0.7678595408797264]                                    \n",
       "4                               [0.7546965628862381]                                    "
      ]
     },
     "metadata": {},
     "output_type": "display_data"
    }
   ],
   "source": [
    "query = ll.SemanticQuery(search='Aliens have invaded the earth', embedding='sbert')\n",
    "r = dataset.select_rows(['overview'], searches=[ll.Search(path='overview', query=query)], limit=5)\n",
    "display(r.df())"
   ]
  },
  {
   "cell_type": "markdown",
   "metadata": {},
   "source": [
    "### Conceptual search\n"
   ]
  },
  {
   "cell_type": "code",
   "execution_count": 11,
   "metadata": {},
   "outputs": [
    {
     "name": "stdout",
     "output_type": "stream",
     "text": [
      "Computing signal \"concept_labels\" took 0.011s.\n",
      "Computing signal \"concept_score\" took 0.022s.\n"
     ]
    },
    {
     "data": {
      "text/html": [
       "<div>\n",
       "<style scoped>\n",
       "    .dataframe tbody tr th:only-of-type {\n",
       "        vertical-align: middle;\n",
       "    }\n",
       "\n",
       "    .dataframe tbody tr th {\n",
       "        vertical-align: top;\n",
       "    }\n",
       "\n",
       "    .dataframe thead th {\n",
       "        text-align: right;\n",
       "    }\n",
       "</style>\n",
       "<table border=\"1\" class=\"dataframe\">\n",
       "  <thead>\n",
       "    <tr style=\"text-align: right;\">\n",
       "      <th></th>\n",
       "      <th>overview</th>\n",
       "      <th>__rowid__</th>\n",
       "      <th>lilac/profanity/labels(overview)</th>\n",
       "      <th>lilac/profanity(overview.sbert.*.embedding)</th>\n",
       "    </tr>\n",
       "  </thead>\n",
       "  <tbody>\n",
       "    <tr>\n",
       "      <th>0</th>\n",
       "      <td>A traumatized young man abducts Korean leaders...</td>\n",
       "      <td>c924a9408c6547e9b65706740d3e4925</td>\n",
       "      <td>NaN</td>\n",
       "      <td>[0.1425706569142622, 0.9767540489817912]</td>\n",
       "    </tr>\n",
       "    <tr>\n",
       "      <th>1</th>\n",
       "      <td>The story centers around a graduating class of...</td>\n",
       "      <td>bbdf5894d8c74e1db9f1759e975358b0</td>\n",
       "      <td>NaN</td>\n",
       "      <td>[0.0009874361053396775, 0.9702729196295821]</td>\n",
       "    </tr>\n",
       "    <tr>\n",
       "      <th>2</th>\n",
       "      <td>What happens when a generation's ultimate anti...</td>\n",
       "      <td>40d80c411fbb4e959a8be7233eab1300</td>\n",
       "      <td>NaN</td>\n",
       "      <td>[0.46421371760421426, 0.9675712519471154]</td>\n",
       "    </tr>\n",
       "    <tr>\n",
       "      <th>3</th>\n",
       "      <td>Welcome to T &amp;amp; A High, where the entire st...</td>\n",
       "      <td>1e2e233f68674e1498576442f64443ed</td>\n",
       "      <td>NaN</td>\n",
       "      <td>[0.9675146942396857]</td>\n",
       "    </tr>\n",
       "    <tr>\n",
       "      <th>4</th>\n",
       "      <td>Baby Bink couldn't ask for more; he has adorin...</td>\n",
       "      <td>06680c9be7d74c92b01f0a975ac862b4</td>\n",
       "      <td>NaN</td>\n",
       "      <td>[0.23914685418353973, 0.9597516982156834]</td>\n",
       "    </tr>\n",
       "  </tbody>\n",
       "</table>\n",
       "</div>"
      ],
      "text/plain": [
       "                                            overview  \\\n",
       "0  A traumatized young man abducts Korean leaders...   \n",
       "1  The story centers around a graduating class of...   \n",
       "2  What happens when a generation's ultimate anti...   \n",
       "3  Welcome to T &amp; A High, where the entire st...   \n",
       "4  Baby Bink couldn't ask for more; he has adorin...   \n",
       "\n",
       "                          __rowid__  lilac/profanity/labels(overview)  \\\n",
       "0  c924a9408c6547e9b65706740d3e4925                               NaN   \n",
       "1  bbdf5894d8c74e1db9f1759e975358b0                               NaN   \n",
       "2  40d80c411fbb4e959a8be7233eab1300                               NaN   \n",
       "3  1e2e233f68674e1498576442f64443ed                               NaN   \n",
       "4  06680c9be7d74c92b01f0a975ac862b4                               NaN   \n",
       "\n",
       "   lilac/profanity(overview.sbert.*.embedding)  \n",
       "0     [0.1425706569142622, 0.9767540489817912]  \n",
       "1  [0.0009874361053396775, 0.9702729196295821]  \n",
       "2    [0.46421371760421426, 0.9675712519471154]  \n",
       "3                         [0.9675146942396857]  \n",
       "4    [0.23914685418353973, 0.9597516982156834]  "
      ]
     },
     "metadata": {},
     "output_type": "display_data"
    }
   ],
   "source": [
    "query = ll.ConceptQuery(concept_namespace='lilac', concept_name='profanity', embedding='sbert')\n",
    "r = dataset.select_rows(['overview'], searches=[ll.Search(path='overview', query=query)], limit=5)\n",
    "display(r.df())"
   ]
  },
  {
   "cell_type": "markdown",
   "metadata": {},
   "source": [
    "## Downloading a dataset\n"
   ]
  },
  {
   "cell_type": "code",
   "execution_count": null,
   "metadata": {},
   "outputs": [],
   "source": [
    "dataset.to_parquet(path=..., fields=...)\n",
    "dataset.to_csv(path=..., fields=...)\n",
    "dataset.to_jsonl(path=..., fields=...)"
   ]
  },
  {
   "cell_type": "markdown",
   "metadata": {},
   "source": [
    "## End to end example\n"
   ]
  },
  {
   "cell_type": "markdown",
   "metadata": {},
   "source": [
    "1. I have a csv dataset\n",
    "2. I want toxicity on field \"text\"\n",
    "3. I want to download it\n"
   ]
  }
 ],
 "metadata": {
  "kernelspec": {
   "display_name": ".venv",
   "language": "python",
   "name": "python3"
  },
  "language_info": {
   "codemirror_mode": {
    "name": "ipython",
    "version": 3
   },
   "file_extension": ".py",
   "mimetype": "text/x-python",
   "name": "python",
   "nbconvert_exporter": "python",
   "pygments_lexer": "ipython3",
   "version": "3.9.13"
  },
  "orig_nbformat": 4
 },
 "nbformat": 4,
 "nbformat_minor": 2
}
