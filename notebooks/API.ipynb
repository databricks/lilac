{
 "cells": [
  {
   "cell_type": "markdown",
   "metadata": {},
   "source": [
    "## Creating a Lilac dataset\n"
   ]
  },
  {
   "cell_type": "code",
   "execution_count": 1,
   "metadata": {},
   "outputs": [
    {
     "name": "stderr",
     "output_type": "stream",
     "text": [
      "/Users/dsmilkov/code/lilac/.venv/lib/python3.9/site-packages/tqdm/auto.py:21: TqdmWarning: IProgress not found. Please update jupyter and ipywidgets. See https://ipywidgets.readthedocs.io/en/stable/user_install.html\n",
      "  from .autonotebook import tqdm as notebook_tqdm\n"
     ]
    }
   ],
   "source": [
    "from IPython.display import display\n",
    "import lilac as ll"
   ]
  },
  {
   "cell_type": "markdown",
   "metadata": {},
   "source": [
    "### From HuggingFace\n"
   ]
  },
  {
   "cell_type": "code",
   "execution_count": 3,
   "metadata": {},
   "outputs": [
    {
     "name": "stderr",
     "output_type": "stream",
     "text": [
      "/Users/dsmilkov/code/lilac/.venv/lib/python3.9/site-packages/datasets/load.py:1760: FutureWarning: 'ignore_verifications' was deprecated in favor of 'verification_mode' in version 2.9.1 and will be removed in 3.0.0.\n",
      "You can remove this warning by passing 'verification_mode=no_checks' instead.\n",
      "  warnings.warn(\n",
      "Found cached dataset glue (/Users/dsmilkov/.cache/huggingface/datasets/glue/ax/1.0.0/dacbe3125aa31d7f70367a07a8a9e72a5a0bfeb5fc42e75c9db75b96da6053ad)\n",
      "100%|██████████| 1/1 [00:00<00:00, 428.60it/s]\n",
      "Reading from source huggingface...: 100%|██████████| 1104/1104 [00:00<00:00, 33616.55it/s]"
     ]
    },
    {
     "name": "stdout",
     "output_type": "stream",
     "text": [
      "Dataset \"glue\" written to ./data/datasets/local/glue\n"
     ]
    },
    {
     "name": "stderr",
     "output_type": "stream",
     "text": [
      "\n"
     ]
    }
   ],
   "source": [
    "config = ll.DatasetConfig(\n",
    "  namespace='local',\n",
    "  name='glue',\n",
    "  source=ll.HuggingFaceSource(dataset_name='glue', config_name='ax'))\n",
    "dataset = ll.create_dataset(config)"
   ]
  },
  {
   "cell_type": "markdown",
   "metadata": {},
   "source": [
    "### From CSV\n"
   ]
  },
  {
   "cell_type": "code",
   "execution_count": 6,
   "metadata": {},
   "outputs": [
    {
     "name": "stdout",
     "output_type": "stream",
     "text": [
      "Downloading from url https://storage.googleapis.com/lilac-data/datasets/the_movies_dataset/the_movies_dataset.csv to /tmp/./data/local_cache/7134d22e156b4fceb0000b16b61c7666\n"
     ]
    },
    {
     "name": "stderr",
     "output_type": "stream",
     "text": [
      "Reading from source csv...: 100%|██████████| 45460/45460 [00:00<00:00, 50050.20it/s]\n"
     ]
    },
    {
     "name": "stdout",
     "output_type": "stream",
     "text": [
      "Dataset \"the_movies_dataset\" written to ./data/datasets/local/the_movies_dataset\n"
     ]
    }
   ],
   "source": [
    "url = 'https://storage.googleapis.com/lilac-data/datasets/the_movies_dataset/the_movies_dataset.csv'\n",
    "config = ll.DatasetConfig(\n",
    "  namespace='local', name='the_movies_dataset', source=ll.CSVSource(filepaths=[url]))\n",
    "dataset = ll.create_dataset(config)"
   ]
  },
  {
   "cell_type": "markdown",
   "metadata": {},
   "source": [
    "### From JSON\n"
   ]
  },
  {
   "cell_type": "code",
   "execution_count": 4,
   "metadata": {},
   "outputs": [
    {
     "name": "stdout",
     "output_type": "stream",
     "text": [
      "Downloading from url https://raw.githubusercontent.com/explosion/prodigy-recipes/master/example-datasets/news_headlines.jsonl to /tmp/./data/local_cache/2e1090cdca7e4afda99eabcf576874f6\n"
     ]
    },
    {
     "name": "stderr",
     "output_type": "stream",
     "text": [
      "Reading from source json...: 100%|██████████| 200/200 [00:00<00:00, 118149.41it/s]"
     ]
    },
    {
     "name": "stdout",
     "output_type": "stream",
     "text": [
      "Dataset \"news_headlines\" written to ./data/datasets/local/news_headlines\n"
     ]
    },
    {
     "name": "stderr",
     "output_type": "stream",
     "text": [
      "\n"
     ]
    }
   ],
   "source": [
    "config = ll.DatasetConfig(\n",
    "  namespace='local',\n",
    "  name='news_headlines',\n",
    "  source=ll.JSONSource(filepaths=[\n",
    "    'https://raw.githubusercontent.com/explosion/prodigy-recipes/master/example-datasets/news_headlines.jsonl'\n",
    "  ]))\n",
    "dataset = ll.create_dataset(config)"
   ]
  },
  {
   "cell_type": "markdown",
   "metadata": {},
   "source": [
    "### From Pandas\n"
   ]
  },
  {
   "cell_type": "code",
   "execution_count": 5,
   "metadata": {},
   "outputs": [
    {
     "name": "stderr",
     "output_type": "stream",
     "text": [
      "Reading from source pandas...: 100%|██████████| 45466/45466 [00:00<00:00, 54764.93it/s]\n"
     ]
    },
    {
     "name": "stdout",
     "output_type": "stream",
     "text": [
      "Dataset \"the_movies_dataset2\" written to ./data/datasets/local/the_movies_dataset2\n"
     ]
    }
   ],
   "source": [
    "import pandas as pd\n",
    "\n",
    "url = 'https://storage.googleapis.com/lilac-data-us-east1/datasets/csv_datasets/the_movies_dataset/the_movies_dataset.csv'\n",
    "df = pd.read_csv(url, low_memory=False)\n",
    "\n",
    "config = ll.DatasetConfig(namespace='local', name='the_movies_dataset2', source=ll.PandasSource(df))\n",
    "\n",
    "dataset = ll.create_dataset(config)"
   ]
  },
  {
   "cell_type": "markdown",
   "metadata": {},
   "source": [
    "## Visualize the data\n",
    "\n",
    "Now that we have imported a few datasets, let's visualize them to see what they look like.\n"
   ]
  },
  {
   "cell_type": "code",
   "execution_count": null,
   "metadata": {},
   "outputs": [
    {
     "name": "stderr",
     "output_type": "stream",
     "text": [
      "INFO:     Started server process [47521]\n",
      "INFO:     Waiting for application startup.\n",
      "INFO:     Application startup complete.\n",
      "INFO:     Uvicorn running on http://127.0.0.1:5432 (Press CTRL+C to quit)\n"
     ]
    }
   ],
   "source": [
    "ll.start_server()"
   ]
  },
  {
   "cell_type": "markdown",
   "metadata": {},
   "source": [
    "### Stopping the server\n"
   ]
  },
  {
   "cell_type": "code",
   "execution_count": 21,
   "metadata": {},
   "outputs": [
    {
     "name": "stderr",
     "output_type": "stream",
     "text": [
      "INFO:     Shutting down\n",
      "INFO:     Waiting for application shutdown.\n",
      "INFO:     Application shutdown complete.\n"
     ]
    }
   ],
   "source": [
    "await ll.stop_server()"
   ]
  },
  {
   "cell_type": "markdown",
   "metadata": {},
   "source": [
    "## Query a dataset\n"
   ]
  },
  {
   "cell_type": "code",
   "execution_count": 7,
   "metadata": {},
   "outputs": [
    {
     "name": "stdout",
     "output_type": "stream",
     "text": [
      "Total number of rows 45460\n",
      "                         title    budget  \\\n",
      "0                    Toy Story  30000000   \n",
      "1                      Jumanji  65000000   \n",
      "2             Grumpier Old Men         0   \n",
      "3            Waiting to Exhale  16000000   \n",
      "4  Father of the Bride Part II         0   \n",
      "\n",
      "                                            overview  \n",
      "0  Led by Woody, Andy's toys live happily in his ...  \n",
      "1  When siblings Judy and Peter discover an encha...  \n",
      "2  A family wedding reignites the ancient feud be...  \n",
      "3  Cheated on, mistreated and stepped on, the wom...  \n",
      "4  Just when George Banks has recovered from his ...  \n"
     ]
    }
   ],
   "source": [
    "dataset = ll.get_dataset('local', 'the_movies_dataset')\n",
    "r = dataset.select_rows(['title', 'budget', 'overview'], limit=5)\n",
    "print('Total number of rows', r.total_num_rows)\n",
    "print(r.df())"
   ]
  },
  {
   "cell_type": "code",
   "execution_count": 9,
   "metadata": {},
   "outputs": [
    {
     "name": "stdout",
     "output_type": "stream",
     "text": [
      "   adult                              belongs_to_collection    budget  \\\n",
      "0  False  {'id': 10194, 'name': 'Toy Story Collection', ...  30000000   \n",
      "1  False                                               None  65000000   \n",
      "2  False  {'id': 119050, 'name': 'Grumpy Old Men Collect...         0   \n",
      "3  False                                               None  16000000   \n",
      "4  False  {'id': 96871, 'name': 'Father of the Bride Col...         0   \n",
      "\n",
      "                                              genres  \\\n",
      "0  [{'id': 16, 'name': 'Animation'}, {'id': 35, '...   \n",
      "1  [{'id': 12, 'name': 'Adventure'}, {'id': 14, '...   \n",
      "2  [{'id': 10749, 'name': 'Romance'}, {'id': 35, ...   \n",
      "3  [{'id': 35, 'name': 'Comedy'}, {'id': 18, 'nam...   \n",
      "4                     [{'id': 35, 'name': 'Comedy'}]   \n",
      "\n",
      "                               homepage     id    imdb_id original_language  \\\n",
      "0  http://toystory.disney.com/toy-story    862  tt0114709                en   \n",
      "1                                  None   8844  tt0113497                en   \n",
      "2                                  None  15602  tt0113228                en   \n",
      "3                                  None  31357  tt0114885                en   \n",
      "4                                  None  11862  tt0113041                en   \n",
      "\n",
      "                original_title  \\\n",
      "0                    Toy Story   \n",
      "1                      Jumanji   \n",
      "2             Grumpier Old Men   \n",
      "3            Waiting to Exhale   \n",
      "4  Father of the Bride Part II   \n",
      "\n",
      "                                            overview  ...    revenue runtime  \\\n",
      "0  Led by Woody, Andy's toys live happily in his ...  ...  373554033    81.0   \n",
      "1  When siblings Judy and Peter discover an encha...  ...  262797249   104.0   \n",
      "2  A family wedding reignites the ancient feud be...  ...          0   101.0   \n",
      "3  Cheated on, mistreated and stepped on, the wom...  ...   81452156   127.0   \n",
      "4  Just when George Banks has recovered from his ...  ...   76578911   106.0   \n",
      "\n",
      "                                    spoken_languages    status  \\\n",
      "0           [{'iso_639_1': 'en', 'name': 'English'}]  Released   \n",
      "1  [{'iso_639_1': 'en', 'name': 'English'}, {'iso...  Released   \n",
      "2           [{'iso_639_1': 'en', 'name': 'English'}]  Released   \n",
      "3           [{'iso_639_1': 'en', 'name': 'English'}]  Released   \n",
      "4           [{'iso_639_1': 'en', 'name': 'English'}]  Released   \n",
      "\n",
      "                                             tagline  \\\n",
      "0                                               None   \n",
      "1          Roll the dice and unleash the excitement!   \n",
      "2  Still Yelling. Still Fighting. Still Ready for...   \n",
      "3  Friends are the people who let you be yourself...   \n",
      "4  Just When His World Is Back To Normal... He's ...   \n",
      "\n",
      "                         title  video vote_average vote_count __line_number__  \n",
      "0                    Toy Story  False          7.7       5415               0  \n",
      "1                      Jumanji  False          6.9       2413               1  \n",
      "2             Grumpier Old Men  False          6.5         92               2  \n",
      "3            Waiting to Exhale  False          6.1         34               3  \n",
      "4  Father of the Bride Part II  False          5.7        173               4  \n",
      "\n",
      "[5 rows x 25 columns]\n"
     ]
    }
   ],
   "source": [
    "r = dataset.select_rows(['*'], limit=5)\n",
    "print(r.df())"
   ]
  },
  {
   "cell_type": "code",
   "execution_count": 8,
   "metadata": {},
   "outputs": [
    {
     "name": "stdout",
     "output_type": "stream",
     "text": [
      "namespace='local' dataset_name='the_movies_dataset' data_schema={\n",
      "  \"fields\": {\n",
      "    \"adult\": {\n",
      "      \"dtype\": \"boolean\"\n",
      "    },\n",
      "    \"belongs_to_collection\": {\n",
      "      \"dtype\": \"string\"\n",
      "    },\n",
      "    \"budget\": {\n",
      "      \"dtype\": \"int64\"\n",
      "    },\n",
      "    \"genres\": {\n",
      "      \"dtype\": \"string\"\n",
      "    },\n",
      "    \"homepage\": {\n",
      "      \"dtype\": \"string\"\n",
      "    },\n",
      "    \"id\": {\n",
      "      \"dtype\": \"int64\"\n",
      "    },\n",
      "    \"imdb_id\": {\n",
      "      \"dtype\": \"string\"\n",
      "    },\n",
      "    \"original_language\": {\n",
      "      \"dtype\": \"string\"\n",
      "    },\n",
      "    \"original_title\": {\n",
      "      \"dtype\": \"string\"\n",
      "    },\n",
      "    \"overview\": {\n",
      "      \"dtype\": \"string\"\n",
      "    },\n",
      "    \"popularity\": {\n",
      "      \"dtype\": \"float64\"\n",
      "    },\n",
      "    \"poster_path\": {\n",
      "      \"dtype\": \"string\"\n",
      "    },\n",
      "    \"production_companies\": {\n",
      "      \"dtype\": \"string\"\n",
      "    },\n",
      "    \"production_countries\": {\n",
      "      \"dtype\": \"string\"\n",
      "    },\n",
      "    \"release_date\": {\n",
      "      \"dtype\": \"timestamp\"\n",
      "    },\n",
      "    \"revenue\": {\n",
      "      \"dtype\": \"int64\"\n",
      "    },\n",
      "    \"runtime\": {\n",
      "      \"dtype\": \"float64\"\n",
      "    },\n",
      "    \"spoken_languages\": {\n",
      "      \"dtype\": \"string\"\n",
      "    },\n",
      "    \"status\": {\n",
      "      \"dtype\": \"string\"\n",
      "    },\n",
      "    \"tagline\": {\n",
      "      \"dtype\": \"string\"\n",
      "    },\n",
      "    \"title\": {\n",
      "      \"dtype\": \"string\"\n",
      "    },\n",
      "    \"video\": {\n",
      "      \"dtype\": \"boolean\"\n",
      "    },\n",
      "    \"vote_average\": {\n",
      "      \"dtype\": \"float64\"\n",
      "    },\n",
      "    \"vote_count\": {\n",
      "      \"dtype\": \"int64\"\n",
      "    },\n",
      "    \"__line_number__\": {\n",
      "      \"dtype\": \"int64\"\n",
      "    }\n",
      "  }\n",
      "} source=CSVSource(filepaths=['https://storage.googleapis.com/lilac-data/datasets/the_movies_dataset/the_movies_dataset.csv'], delim=',', header=True, names=None) num_items=45460\n"
     ]
    }
   ],
   "source": [
    "print(dataset.manifest())"
   ]
  },
  {
   "cell_type": "markdown",
   "metadata": {},
   "source": [
    "## Enriching an unstructured field with metadata\n"
   ]
  },
  {
   "cell_type": "code",
   "execution_count": 9,
   "metadata": {},
   "outputs": [
    {
     "name": "stderr",
     "output_type": "stream",
     "text": [
      "Computing pii on local/the_movies_dataset:('overview',): 100%|██████████| 45460/45460 [00:45<00:00, 1002.44it/s]\n"
     ]
    },
    {
     "name": "stdout",
     "output_type": "stream",
     "text": [
      "Computing signal \"pii\" on local/the_movies_dataset:('overview',) took 45.390s.\n",
      "Wrote signal output to ./data/datasets/local/the_movies_dataset/overview/pii\n"
     ]
    }
   ],
   "source": [
    "dataset.compute_signal(ll.PIISignal(), 'overview')"
   ]
  },
  {
   "cell_type": "code",
   "execution_count": 10,
   "metadata": {},
   "outputs": [
    {
     "name": "stderr",
     "output_type": "stream",
     "text": [
      "Computing lang_detection: 100%|██████████| 45460/45460 [01:31<00:00, 494.44it/s]\n"
     ]
    },
    {
     "name": "stdout",
     "output_type": "stream",
     "text": [
      "Computing signal \"lang_detection\" took 91.983s.\n",
      "Wrote signal output to ./data/datasets/local/the_movies_dataset/overview/lang_detection\n"
     ]
    }
   ],
   "source": [
    "dataset.compute_signal(ll.LangDetectionSignal(), 'overview')"
   ]
  },
  {
   "cell_type": "code",
   "execution_count": 11,
   "metadata": {},
   "outputs": [
    {
     "name": "stderr",
     "output_type": "stream",
     "text": [
      "Fingerprinting...: 44506it [00:06, 7055.80it/s]0:00<?, ?it/s]\n",
      "Computing hash collisions...: 100%|██████████| 5/5 [00:01<00:00,  4.31it/s]\n",
      "Clustering...: 100%|██████████| 21/21 [00:00<00:00, 154.89it/s]\n",
      "Computing near_dup: 100%|██████████| 45460/45460 [00:07<00:00, 5837.09it/s]\n"
     ]
    },
    {
     "name": "stdout",
     "output_type": "stream",
     "text": [
      "Computing signal \"near_dup\" took 7.824s.\n",
      "Wrote signal output to ./data/datasets/local/the_movies_dataset/overview/near_dup\n"
     ]
    }
   ],
   "source": [
    "dataset.compute_signal(ll.NearDuplicateSignal(), 'overview')"
   ]
  },
  {
   "cell_type": "markdown",
   "metadata": {},
   "source": [
    "## Searching\n"
   ]
  },
  {
   "cell_type": "markdown",
   "metadata": {},
   "source": [
    "### Compute embedding to enable advanced search\n",
    "\n",
    "Let's compute the `SBERT` embedding on device for the `overview` field.\n"
   ]
  },
  {
   "cell_type": "code",
   "execution_count": 12,
   "metadata": {},
   "outputs": [
    {
     "name": "stderr",
     "output_type": "stream",
     "text": [
      "Computing sbert: 100%|██████████| 45460/45460 [01:47<00:00, 422.10it/s]\n"
     ]
    },
    {
     "name": "stdout",
     "output_type": "stream",
     "text": [
      "Computing signal \"sbert\" took 107.781s.\n",
      "Wrote signal output to ./data/datasets/local/the_movies_dataset/overview/sbert\n"
     ]
    }
   ],
   "source": [
    "dataset.compute_embedding('sbert', 'overview')"
   ]
  },
  {
   "cell_type": "markdown",
   "metadata": {},
   "source": [
    "### Keyword search\n"
   ]
  },
  {
   "cell_type": "code",
   "execution_count": 13,
   "metadata": {},
   "outputs": [
    {
     "name": "stdout",
     "output_type": "stream",
     "text": [
      "Computing signal \"substring_search\" on local/the_movies_dataset:('overview',) took 0.001s.\n"
     ]
    },
    {
     "data": {
      "text/html": [
       "<div>\n",
       "<style scoped>\n",
       "    .dataframe tbody tr th:only-of-type {\n",
       "        vertical-align: middle;\n",
       "    }\n",
       "\n",
       "    .dataframe tbody tr th {\n",
       "        vertical-align: top;\n",
       "    }\n",
       "\n",
       "    .dataframe thead th {\n",
       "        text-align: right;\n",
       "    }\n",
       "</style>\n",
       "<table border=\"1\" class=\"dataframe\">\n",
       "  <thead>\n",
       "    <tr style=\"text-align: right;\">\n",
       "      <th></th>\n",
       "      <th>overview</th>\n",
       "      <th>overview.substring_search(query=Aliens)</th>\n",
       "    </tr>\n",
       "  </thead>\n",
       "  <tbody>\n",
       "    <tr>\n",
       "      <th>0</th>\n",
       "      <td>When Environmental Protection Agency inspector...</td>\n",
       "      <td>[{'__value__': {'start': 422, 'end': 428}}]</td>\n",
       "    </tr>\n",
       "    <tr>\n",
       "      <th>1</th>\n",
       "      <td>Aliens who've come to earth to spawn deep bene...</td>\n",
       "      <td>[{'__value__': {'start': 0, 'end': 6}}]</td>\n",
       "    </tr>\n",
       "    <tr>\n",
       "      <th>2</th>\n",
       "      <td>Marcus is a kid on Manhattan's mean streets. H...</td>\n",
       "      <td>[{'__value__': {'start': 133, 'end': 139}}]</td>\n",
       "    </tr>\n",
       "    <tr>\n",
       "      <th>3</th>\n",
       "      <td>Two hundred years after Lt. Ripley died, a gro...</td>\n",
       "      <td>[{'__value__': {'start': 168, 'end': 174}}]</td>\n",
       "    </tr>\n",
       "    <tr>\n",
       "      <th>4</th>\n",
       "      <td>In California, an old man (Bela Lugosi) grieve...</td>\n",
       "      <td>[{'__value__': {'start': 605, 'end': 611}}]</td>\n",
       "    </tr>\n",
       "  </tbody>\n",
       "</table>\n",
       "</div>"
      ],
      "text/plain": [
       "                                            overview  \\\n",
       "0  When Environmental Protection Agency inspector...   \n",
       "1  Aliens who've come to earth to spawn deep bene...   \n",
       "2  Marcus is a kid on Manhattan's mean streets. H...   \n",
       "3  Two hundred years after Lt. Ripley died, a gro...   \n",
       "4  In California, an old man (Bela Lugosi) grieve...   \n",
       "\n",
       "       overview.substring_search(query=Aliens)  \n",
       "0  [{'__value__': {'start': 422, 'end': 428}}]  \n",
       "1      [{'__value__': {'start': 0, 'end': 6}}]  \n",
       "2  [{'__value__': {'start': 133, 'end': 139}}]  \n",
       "3  [{'__value__': {'start': 168, 'end': 174}}]  \n",
       "4  [{'__value__': {'start': 605, 'end': 611}}]  "
      ]
     },
     "metadata": {},
     "output_type": "display_data"
    }
   ],
   "source": [
    "query = ll.KeywordSearch(path='overview', query='Aliens')\n",
    "r = dataset.select_rows(['overview'], searches=[query], limit=5)\n",
    "display(r.df())"
   ]
  },
  {
   "cell_type": "markdown",
   "metadata": {},
   "source": [
    "### Semantic search\n"
   ]
  },
  {
   "cell_type": "code",
   "execution_count": 14,
   "metadata": {},
   "outputs": [
    {
     "name": "stdout",
     "output_type": "stream",
     "text": [
      "Loading vector store \"hnsw\" for local/the_movies_dataset:('overview',) with embedding \"sbert\" took 0.410s.\n",
      "Computing topk on local/the_movies_dataset:('overview',) with embedding \"sbert\" and vector store \"hnsw\" took 0.738s.\n",
      "Computing signal \"semantic_similarity\" on local/the_movies_dataset:('overview',) took 0.001s.\n"
     ]
    },
    {
     "data": {
      "text/html": [
       "<div>\n",
       "<style scoped>\n",
       "    .dataframe tbody tr th:only-of-type {\n",
       "        vertical-align: middle;\n",
       "    }\n",
       "\n",
       "    .dataframe tbody tr th {\n",
       "        vertical-align: top;\n",
       "    }\n",
       "\n",
       "    .dataframe thead th {\n",
       "        text-align: right;\n",
       "    }\n",
       "</style>\n",
       "<table border=\"1\" class=\"dataframe\">\n",
       "  <thead>\n",
       "    <tr style=\"text-align: right;\">\n",
       "      <th></th>\n",
       "      <th>overview</th>\n",
       "      <th>overview.semantic_similarity(embedding=sbert,query=Aliens have invaded the earth)</th>\n",
       "    </tr>\n",
       "  </thead>\n",
       "  <tbody>\n",
       "    <tr>\n",
       "      <th>0</th>\n",
       "      <td>The Earth is invaded by alien parasites aka \"s...</td>\n",
       "      <td>[{'__value__': {'start': 0, 'end': 165}, 'scor...</td>\n",
       "    </tr>\n",
       "    <tr>\n",
       "      <th>1</th>\n",
       "      <td>Aliens invade, this time delivering a clear ul...</td>\n",
       "      <td>[{'__value__': {'start': 0, 'end': 186}, 'scor...</td>\n",
       "    </tr>\n",
       "    <tr>\n",
       "      <th>2</th>\n",
       "      <td>Aliens pretending to be friendly come to Earth...</td>\n",
       "      <td>[{'__value__': {'start': 0, 'end': 285}, 'scor...</td>\n",
       "    </tr>\n",
       "    <tr>\n",
       "      <th>3</th>\n",
       "      <td>The nations of the Earth unite in a common cau...</td>\n",
       "      <td>[{'__value__': {'start': 0, 'end': 90}, 'score...</td>\n",
       "    </tr>\n",
       "    <tr>\n",
       "      <th>4</th>\n",
       "      <td>Aliens have landed and are hiding on Earth, bu...</td>\n",
       "      <td>[{'__value__': {'start': 0, 'end': 114}, 'scor...</td>\n",
       "    </tr>\n",
       "  </tbody>\n",
       "</table>\n",
       "</div>"
      ],
      "text/plain": [
       "                                            overview  \\\n",
       "0  The Earth is invaded by alien parasites aka \"s...   \n",
       "1  Aliens invade, this time delivering a clear ul...   \n",
       "2  Aliens pretending to be friendly come to Earth...   \n",
       "3  The nations of the Earth unite in a common cau...   \n",
       "4  Aliens have landed and are hiding on Earth, bu...   \n",
       "\n",
       "  overview.semantic_similarity(embedding=sbert,query=Aliens have invaded the earth)  \n",
       "0  [{'__value__': {'start': 0, 'end': 165}, 'scor...                                 \n",
       "1  [{'__value__': {'start': 0, 'end': 186}, 'scor...                                 \n",
       "2  [{'__value__': {'start': 0, 'end': 285}, 'scor...                                 \n",
       "3  [{'__value__': {'start': 0, 'end': 90}, 'score...                                 \n",
       "4  [{'__value__': {'start': 0, 'end': 114}, 'scor...                                 "
      ]
     },
     "metadata": {},
     "output_type": "display_data"
    }
   ],
   "source": [
    "query = ll.SemanticSearch(path='overview', query='Aliens have invaded the earth', embedding='sbert')\n",
    "r = dataset.select_rows(['overview'], searches=[query], limit=5)\n",
    "display(r.df())"
   ]
  },
  {
   "cell_type": "markdown",
   "metadata": {},
   "source": [
    "### Conceptual search\n"
   ]
  },
  {
   "cell_type": "code",
   "execution_count": 15,
   "metadata": {},
   "outputs": [
    {
     "name": "stdout",
     "output_type": "stream",
     "text": [
      "Computing embeddings for \"lilac/profanity/sbert\" took 3.171s.\n",
      "huggingface/tokenizers: The current process just got forked, after parallelism has already been used. Disabling parallelism to avoid deadlocks...\n",
      "To disable this warning, you can either:\n",
      "\t- Avoid using `tokenizers` before the fork if possible\n",
      "\t- Explicitly set the environment variable TOKENIZERS_PARALLELISM=(true | false)\n",
      "huggingface/tokenizers: The current process just got forked, after parallelism has already been used. Disabling parallelism to avoid deadlocks...\n",
      "To disable this warning, you can either:\n",
      "\t- Avoid using `tokenizers` before the fork if possible\n",
      "\t- Explicitly set the environment variable TOKENIZERS_PARALLELISM=(true | false)\n",
      "huggingface/tokenizers: The current process just got forked, after parallelism has already been used. Disabling parallelism to avoid deadlocks...\n",
      "To disable this warning, you can either:\n",
      "\t- Avoid using `tokenizers` before the fork if possible\n",
      "\t- Explicitly set the environment variable TOKENIZERS_PARALLELISM=(true | false)\n",
      "huggingface/tokenizers: The current process just got forked, after parallelism has already been used. Disabling parallelism to avoid deadlocks...\n",
      "To disable this warning, you can either:\n",
      "\t- Avoid using `tokenizers` before the fork if possible\n",
      "\t- Explicitly set the environment variable TOKENIZERS_PARALLELISM=(true | false)\n",
      "huggingface/tokenizers: The current process just got forked, after parallelism has already been used. Disabling parallelism to avoid deadlocks...\n",
      "To disable this warning, you can either:\n",
      "\t- Avoid using `tokenizers` before the fork if possible\n",
      "\t- Explicitly set the environment variable TOKENIZERS_PARALLELISM=(true | false)\n",
      "huggingface/tokenizers: The current process just got forked, after parallelism has already been used. Disabling parallelism to avoid deadlocks...\n",
      "To disable this warning, you can either:\n",
      "\t- Avoid using `tokenizers` before the fork if possible\n",
      "\t- Explicitly set the environment variable TOKENIZERS_PARALLELISM=(true | false)\n",
      "huggingface/tokenizers: The current process just got forked, after parallelism has already been used. Disabling parallelism to avoid deadlocks...\n",
      "To disable this warning, you can either:\n",
      "\t- Avoid using `tokenizers` before the fork if possible\n",
      "\t- Explicitly set the environment variable TOKENIZERS_PARALLELISM=(true | false)\n",
      "huggingface/tokenizers: The current process just got forked, after parallelism has already been used. Disabling parallelism to avoid deadlocks...\n",
      "To disable this warning, you can either:\n",
      "\t- Avoid using `tokenizers` before the fork if possible\n",
      "\t- Explicitly set the environment variable TOKENIZERS_PARALLELISM=(true | false)\n",
      "huggingface/tokenizers: The current process just got forked, after parallelism has already been used. Disabling parallelism to avoid deadlocks...\n",
      "To disable this warning, you can either:\n",
      "\t- Avoid using `tokenizers` before the fork if possible\n",
      "\t- Explicitly set the environment variable TOKENIZERS_PARALLELISM=(true | false)\n",
      "Fitting model for \"lilac/profanity/sbert\" took 1.984s.\n",
      "Computing topk on local/the_movies_dataset:('overview',) with embedding \"sbert\" and vector store \"hnsw\" took 5.236s.\n",
      "Computing signal \"concept_labels\" on local/the_movies_dataset:('overview',) took 0.010s.\n",
      "Computing signal \"concept_score\" on local/the_movies_dataset:('overview',) took 0.086s.\n"
     ]
    },
    {
     "data": {
      "text/html": [
       "<div>\n",
       "<style scoped>\n",
       "    .dataframe tbody tr th:only-of-type {\n",
       "        vertical-align: middle;\n",
       "    }\n",
       "\n",
       "    .dataframe tbody tr th {\n",
       "        vertical-align: top;\n",
       "    }\n",
       "\n",
       "    .dataframe thead th {\n",
       "        text-align: right;\n",
       "    }\n",
       "</style>\n",
       "<table border=\"1\" class=\"dataframe\">\n",
       "  <thead>\n",
       "    <tr style=\"text-align: right;\">\n",
       "      <th></th>\n",
       "      <th>overview</th>\n",
       "      <th>overview.lilac/profanity/labels</th>\n",
       "      <th>overview.lilac/profanity/sbert</th>\n",
       "    </tr>\n",
       "  </thead>\n",
       "  <tbody>\n",
       "    <tr>\n",
       "      <th>0</th>\n",
       "      <td>Mick O'Brien is a young Chicago street thug to...</td>\n",
       "      <td>NaN</td>\n",
       "      <td>[{'__value__': {'start': 0, 'end': 294}, 'scor...</td>\n",
       "    </tr>\n",
       "    <tr>\n",
       "      <th>1</th>\n",
       "      <td>Rin Okumura is raised by a famous exorcist nam...</td>\n",
       "      <td>NaN</td>\n",
       "      <td>[{'__value__': {'start': 0, 'end': 315}, 'scor...</td>\n",
       "    </tr>\n",
       "    <tr>\n",
       "      <th>2</th>\n",
       "      <td>Ass-breaker Dingus Magee is looking for a gold...</td>\n",
       "      <td>NaN</td>\n",
       "      <td>[{'__value__': {'start': 0, 'end': 398}, 'scor...</td>\n",
       "    </tr>\n",
       "    <tr>\n",
       "      <th>3</th>\n",
       "      <td>While stopped at a roadside phone booth for tr...</td>\n",
       "      <td>NaN</td>\n",
       "      <td>[{'__value__': {'start': 0, 'end': 393}, 'scor...</td>\n",
       "    </tr>\n",
       "    <tr>\n",
       "      <th>4</th>\n",
       "      <td>Venom regulars Philip Kwok, Chiang Sheng, and ...</td>\n",
       "      <td>NaN</td>\n",
       "      <td>[{'__value__': {'start': 0, 'end': 397}, 'scor...</td>\n",
       "    </tr>\n",
       "  </tbody>\n",
       "</table>\n",
       "</div>"
      ],
      "text/plain": [
       "                                            overview  \\\n",
       "0  Mick O'Brien is a young Chicago street thug to...   \n",
       "1  Rin Okumura is raised by a famous exorcist nam...   \n",
       "2  Ass-breaker Dingus Magee is looking for a gold...   \n",
       "3  While stopped at a roadside phone booth for tr...   \n",
       "4  Venom regulars Philip Kwok, Chiang Sheng, and ...   \n",
       "\n",
       "   overview.lilac/profanity/labels  \\\n",
       "0                              NaN   \n",
       "1                              NaN   \n",
       "2                              NaN   \n",
       "3                              NaN   \n",
       "4                              NaN   \n",
       "\n",
       "                      overview.lilac/profanity/sbert  \n",
       "0  [{'__value__': {'start': 0, 'end': 294}, 'scor...  \n",
       "1  [{'__value__': {'start': 0, 'end': 315}, 'scor...  \n",
       "2  [{'__value__': {'start': 0, 'end': 398}, 'scor...  \n",
       "3  [{'__value__': {'start': 0, 'end': 393}, 'scor...  \n",
       "4  [{'__value__': {'start': 0, 'end': 397}, 'scor...  "
      ]
     },
     "metadata": {},
     "output_type": "display_data"
    }
   ],
   "source": [
    "query = ll.ConceptSearch(\n",
    "  path='overview', concept_namespace='lilac', concept_name='profanity', embedding='sbert')\n",
    "r = dataset.select_rows(['overview'], searches=[query], limit=5)\n",
    "display(r.df())"
   ]
  },
  {
   "cell_type": "markdown",
   "metadata": {},
   "source": [
    "## Downloading the enriched dataset\n"
   ]
  },
  {
   "cell_type": "code",
   "execution_count": 3,
   "metadata": {},
   "outputs": [
    {
     "name": "stdout",
     "output_type": "stream",
     "text": [
      "Dataset exported to the_movies_dataset.json\n"
     ]
    }
   ],
   "source": [
    "dataset.to_json('the_movies_dataset.json')"
   ]
  },
  {
   "cell_type": "code",
   "execution_count": 5,
   "metadata": {},
   "outputs": [
    {
     "name": "stdout",
     "output_type": "stream",
     "text": [
      "Dataset exported to the_movies_dataset.parquet\n"
     ]
    }
   ],
   "source": [
    "dataset.to_parquet('the_movies_dataset.parquet')"
   ]
  },
  {
   "cell_type": "code",
   "execution_count": 6,
   "metadata": {},
   "outputs": [
    {
     "name": "stdout",
     "output_type": "stream",
     "text": [
      "Dataset exported to the_movies_dataset.csv\n"
     ]
    }
   ],
   "source": [
    "dataset.to_csv('the_movies_dataset.csv')"
   ]
  },
  {
   "cell_type": "code",
   "execution_count": 9,
   "metadata": {},
   "outputs": [
    {
     "data": {
      "text/html": [
       "<div>\n",
       "<style scoped>\n",
       "    .dataframe tbody tr th:only-of-type {\n",
       "        vertical-align: middle;\n",
       "    }\n",
       "\n",
       "    .dataframe tbody tr th {\n",
       "        vertical-align: top;\n",
       "    }\n",
       "\n",
       "    .dataframe thead th {\n",
       "        text-align: right;\n",
       "    }\n",
       "</style>\n",
       "<table border=\"1\" class=\"dataframe\">\n",
       "  <thead>\n",
       "    <tr style=\"text-align: right;\">\n",
       "      <th></th>\n",
       "      <th>adult</th>\n",
       "      <th>belongs_to_collection</th>\n",
       "      <th>budget</th>\n",
       "      <th>genres</th>\n",
       "      <th>homepage</th>\n",
       "      <th>id</th>\n",
       "      <th>imdb_id</th>\n",
       "      <th>original_language</th>\n",
       "      <th>original_title</th>\n",
       "      <th>overview</th>\n",
       "      <th>...</th>\n",
       "      <th>runtime</th>\n",
       "      <th>spoken_languages</th>\n",
       "      <th>status</th>\n",
       "      <th>tagline</th>\n",
       "      <th>title</th>\n",
       "      <th>video</th>\n",
       "      <th>vote_average</th>\n",
       "      <th>vote_count</th>\n",
       "      <th>__line_number__</th>\n",
       "      <th>__rowid__</th>\n",
       "    </tr>\n",
       "  </thead>\n",
       "  <tbody>\n",
       "    <tr>\n",
       "      <th>0</th>\n",
       "      <td>False</td>\n",
       "      <td>{'id': 10194, 'name': 'Toy Story Collection', ...</td>\n",
       "      <td>30000000</td>\n",
       "      <td>[{'id': 16, 'name': 'Animation'}, {'id': 35, '...</td>\n",
       "      <td>http://toystory.disney.com/toy-story</td>\n",
       "      <td>862</td>\n",
       "      <td>tt0114709</td>\n",
       "      <td>en</td>\n",
       "      <td>Toy Story</td>\n",
       "      <td>Led by Woody, Andy's toys live happily in his ...</td>\n",
       "      <td>...</td>\n",
       "      <td>81.0</td>\n",
       "      <td>[{'iso_639_1': 'en', 'name': 'English'}]</td>\n",
       "      <td>Released</td>\n",
       "      <td>None</td>\n",
       "      <td>Toy Story</td>\n",
       "      <td>False</td>\n",
       "      <td>7.7</td>\n",
       "      <td>5415</td>\n",
       "      <td>0</td>\n",
       "      <td>21f248b70d4e4efbbeebe41027f1acf7</td>\n",
       "    </tr>\n",
       "    <tr>\n",
       "      <th>1</th>\n",
       "      <td>False</td>\n",
       "      <td>None</td>\n",
       "      <td>65000000</td>\n",
       "      <td>[{'id': 12, 'name': 'Adventure'}, {'id': 14, '...</td>\n",
       "      <td>None</td>\n",
       "      <td>8844</td>\n",
       "      <td>tt0113497</td>\n",
       "      <td>en</td>\n",
       "      <td>Jumanji</td>\n",
       "      <td>When siblings Judy and Peter discover an encha...</td>\n",
       "      <td>...</td>\n",
       "      <td>104.0</td>\n",
       "      <td>[{'iso_639_1': 'en', 'name': 'English'}, {'iso...</td>\n",
       "      <td>Released</td>\n",
       "      <td>Roll the dice and unleash the excitement!</td>\n",
       "      <td>Jumanji</td>\n",
       "      <td>False</td>\n",
       "      <td>6.9</td>\n",
       "      <td>2413</td>\n",
       "      <td>1</td>\n",
       "      <td>5b3df6d6824646ecb91941971930e625</td>\n",
       "    </tr>\n",
       "    <tr>\n",
       "      <th>2</th>\n",
       "      <td>False</td>\n",
       "      <td>{'id': 119050, 'name': 'Grumpy Old Men Collect...</td>\n",
       "      <td>0</td>\n",
       "      <td>[{'id': 10749, 'name': 'Romance'}, {'id': 35, ...</td>\n",
       "      <td>None</td>\n",
       "      <td>15602</td>\n",
       "      <td>tt0113228</td>\n",
       "      <td>en</td>\n",
       "      <td>Grumpier Old Men</td>\n",
       "      <td>A family wedding reignites the ancient feud be...</td>\n",
       "      <td>...</td>\n",
       "      <td>101.0</td>\n",
       "      <td>[{'iso_639_1': 'en', 'name': 'English'}]</td>\n",
       "      <td>Released</td>\n",
       "      <td>Still Yelling. Still Fighting. Still Ready for...</td>\n",
       "      <td>Grumpier Old Men</td>\n",
       "      <td>False</td>\n",
       "      <td>6.5</td>\n",
       "      <td>92</td>\n",
       "      <td>2</td>\n",
       "      <td>3f2051460298402e817ed859fe425528</td>\n",
       "    </tr>\n",
       "    <tr>\n",
       "      <th>3</th>\n",
       "      <td>False</td>\n",
       "      <td>None</td>\n",
       "      <td>16000000</td>\n",
       "      <td>[{'id': 35, 'name': 'Comedy'}, {'id': 18, 'nam...</td>\n",
       "      <td>None</td>\n",
       "      <td>31357</td>\n",
       "      <td>tt0114885</td>\n",
       "      <td>en</td>\n",
       "      <td>Waiting to Exhale</td>\n",
       "      <td>Cheated on, mistreated and stepped on, the wom...</td>\n",
       "      <td>...</td>\n",
       "      <td>127.0</td>\n",
       "      <td>[{'iso_639_1': 'en', 'name': 'English'}]</td>\n",
       "      <td>Released</td>\n",
       "      <td>Friends are the people who let you be yourself...</td>\n",
       "      <td>Waiting to Exhale</td>\n",
       "      <td>False</td>\n",
       "      <td>6.1</td>\n",
       "      <td>34</td>\n",
       "      <td>3</td>\n",
       "      <td>f83112ea28fc4a41b44bbd2784ccb130</td>\n",
       "    </tr>\n",
       "    <tr>\n",
       "      <th>4</th>\n",
       "      <td>False</td>\n",
       "      <td>{'id': 96871, 'name': 'Father of the Bride Col...</td>\n",
       "      <td>0</td>\n",
       "      <td>[{'id': 35, 'name': 'Comedy'}]</td>\n",
       "      <td>None</td>\n",
       "      <td>11862</td>\n",
       "      <td>tt0113041</td>\n",
       "      <td>en</td>\n",
       "      <td>Father of the Bride Part II</td>\n",
       "      <td>Just when George Banks has recovered from his ...</td>\n",
       "      <td>...</td>\n",
       "      <td>106.0</td>\n",
       "      <td>[{'iso_639_1': 'en', 'name': 'English'}]</td>\n",
       "      <td>Released</td>\n",
       "      <td>Just When His World Is Back To Normal... He's ...</td>\n",
       "      <td>Father of the Bride Part II</td>\n",
       "      <td>False</td>\n",
       "      <td>5.7</td>\n",
       "      <td>173</td>\n",
       "      <td>4</td>\n",
       "      <td>bffb8f13612a46d1b995ac405b82f27c</td>\n",
       "    </tr>\n",
       "  </tbody>\n",
       "</table>\n",
       "<p>5 rows × 26 columns</p>\n",
       "</div>"
      ],
      "text/plain": [
       "   adult                              belongs_to_collection    budget  \\\n",
       "0  False  {'id': 10194, 'name': 'Toy Story Collection', ...  30000000   \n",
       "1  False                                               None  65000000   \n",
       "2  False  {'id': 119050, 'name': 'Grumpy Old Men Collect...         0   \n",
       "3  False                                               None  16000000   \n",
       "4  False  {'id': 96871, 'name': 'Father of the Bride Col...         0   \n",
       "\n",
       "                                              genres  \\\n",
       "0  [{'id': 16, 'name': 'Animation'}, {'id': 35, '...   \n",
       "1  [{'id': 12, 'name': 'Adventure'}, {'id': 14, '...   \n",
       "2  [{'id': 10749, 'name': 'Romance'}, {'id': 35, ...   \n",
       "3  [{'id': 35, 'name': 'Comedy'}, {'id': 18, 'nam...   \n",
       "4                     [{'id': 35, 'name': 'Comedy'}]   \n",
       "\n",
       "                               homepage     id    imdb_id original_language  \\\n",
       "0  http://toystory.disney.com/toy-story    862  tt0114709                en   \n",
       "1                                  None   8844  tt0113497                en   \n",
       "2                                  None  15602  tt0113228                en   \n",
       "3                                  None  31357  tt0114885                en   \n",
       "4                                  None  11862  tt0113041                en   \n",
       "\n",
       "                original_title  \\\n",
       "0                    Toy Story   \n",
       "1                      Jumanji   \n",
       "2             Grumpier Old Men   \n",
       "3            Waiting to Exhale   \n",
       "4  Father of the Bride Part II   \n",
       "\n",
       "                                            overview  ...  runtime  \\\n",
       "0  Led by Woody, Andy's toys live happily in his ...  ...     81.0   \n",
       "1  When siblings Judy and Peter discover an encha...  ...    104.0   \n",
       "2  A family wedding reignites the ancient feud be...  ...    101.0   \n",
       "3  Cheated on, mistreated and stepped on, the wom...  ...    127.0   \n",
       "4  Just when George Banks has recovered from his ...  ...    106.0   \n",
       "\n",
       "                                    spoken_languages    status  \\\n",
       "0           [{'iso_639_1': 'en', 'name': 'English'}]  Released   \n",
       "1  [{'iso_639_1': 'en', 'name': 'English'}, {'iso...  Released   \n",
       "2           [{'iso_639_1': 'en', 'name': 'English'}]  Released   \n",
       "3           [{'iso_639_1': 'en', 'name': 'English'}]  Released   \n",
       "4           [{'iso_639_1': 'en', 'name': 'English'}]  Released   \n",
       "\n",
       "                                             tagline  \\\n",
       "0                                               None   \n",
       "1          Roll the dice and unleash the excitement!   \n",
       "2  Still Yelling. Still Fighting. Still Ready for...   \n",
       "3  Friends are the people who let you be yourself...   \n",
       "4  Just When His World Is Back To Normal... He's ...   \n",
       "\n",
       "                         title  video  vote_average vote_count  \\\n",
       "0                    Toy Story  False           7.7       5415   \n",
       "1                      Jumanji  False           6.9       2413   \n",
       "2             Grumpier Old Men  False           6.5         92   \n",
       "3            Waiting to Exhale  False           6.1         34   \n",
       "4  Father of the Bride Part II  False           5.7        173   \n",
       "\n",
       "  __line_number__                         __rowid__  \n",
       "0               0  21f248b70d4e4efbbeebe41027f1acf7  \n",
       "1               1  5b3df6d6824646ecb91941971930e625  \n",
       "2               2  3f2051460298402e817ed859fe425528  \n",
       "3               3  f83112ea28fc4a41b44bbd2784ccb130  \n",
       "4               4  bffb8f13612a46d1b995ac405b82f27c  \n",
       "\n",
       "[5 rows x 26 columns]"
      ]
     },
     "execution_count": 9,
     "metadata": {},
     "output_type": "execute_result"
    }
   ],
   "source": [
    "dataset.to_pandas()[:5]"
   ]
  },
  {
   "cell_type": "markdown",
   "metadata": {},
   "source": [
    "## Using concepts\n"
   ]
  },
  {
   "cell_type": "markdown",
   "metadata": {},
   "source": [
    "### Use the positive-sentiment concept\n"
   ]
  },
  {
   "cell_type": "code",
   "execution_count": 16,
   "metadata": {},
   "outputs": [
    {
     "name": "stdout",
     "output_type": "stream",
     "text": [
      "[[{'__value__': {'start': 0, 'end': 35}, 'score': 0.9302721936202625}]]\n"
     ]
    }
   ],
   "source": [
    "signal = ll.signals.ConceptSignal(\n",
    "  namespace='lilac', concept_name='positive-sentiment', embedding='gte-small')\n",
    "\n",
    "result = list(signal.compute(['This product is amazing, thank you!']))\n",
    "\n",
    "print(result)\n"
   ]
  },
  {
   "cell_type": "markdown",
   "metadata": {},
   "source": [
    "### Create a positive product reviews concept\n"
   ]
  },
  {
   "cell_type": "code",
   "execution_count": 17,
   "metadata": {},
   "outputs": [],
   "source": [
    "db = ll.DiskConceptDB()\n",
    "\n",
    "concepts = db.list()\n",
    "# Don't create the concept twice.\n",
    "if not list(\n",
    "    filter(lambda c: c.namespace == 'local' and c.name == 'positive-product-reviews', concepts)):\n",
    "  db.create('local', 'positive-product-reviews')"
   ]
  },
  {
   "cell_type": "markdown",
   "metadata": {},
   "source": [
    "#### Add a few training examples\n"
   ]
  },
  {
   "cell_type": "code",
   "execution_count": 6,
   "metadata": {},
   "outputs": [
    {
     "data": {
      "text/plain": [
       "Concept(namespace='local', concept_name='positive-product-reviews', type=text, data={'b5213e639f1d45dfacbb12e127529f2d': Example(label=False, text='The quick brown fox jumps over the lazy dog.', img=None, origin=None, draft='main', id='b5213e639f1d45dfacbb12e127529f2d'), '6b7492e786fd4bf4ac3c84fa999d5fab': Example(label=False, text='This is a random sentence.', img=None, origin=None, draft='main', id='6b7492e786fd4bf4ac3c84fa999d5fab'), '733d90b4fa88496a9fe636a2dd3c8337': Example(label=True, text='This product is amazing!', img=None, origin=None, draft='main', id='733d90b4fa88496a9fe636a2dd3c8337'), 'f3d5059fcffd4a9a863c8c4ce8e74d89': Example(label=True, text='Thank you for your awesome work on this UI.', img=None, origin=None, draft='main', id='f3d5059fcffd4a9a863c8c4ce8e74d89')}, version=1, tags=[], description=None)"
      ]
     },
     "execution_count": 6,
     "metadata": {},
     "output_type": "execute_result"
    }
   ],
   "source": [
    "train_data = [\n",
    "  ll.ExampleIn(label=False, text='The quick brown fox jumps over the lazy dog.'),\n",
    "  ll.ExampleIn(label=False, text='This is a random sentence.'),\n",
    "  ll.ExampleIn(label=True, text='This product is amazing!'),\n",
    "  ll.ExampleIn(label=True, text='Thank you for your awesome work on this UI.')\n",
    "]\n",
    "db.edit('local', 'positive-product-reviews', ll.ConceptUpdate(insert=train_data))"
   ]
  },
  {
   "cell_type": "markdown",
   "metadata": {},
   "source": [
    "#### Show the examples in the concept\n"
   ]
  },
  {
   "cell_type": "code",
   "execution_count": 7,
   "metadata": {},
   "outputs": [
    {
     "name": "stdout",
     "output_type": "stream",
     "text": [
      "{'b5213e639f1d45dfacbb12e127529f2d': Example(label=False, text='The quick brown fox jumps over the lazy dog.', img=None, origin=None, draft='main', id='b5213e639f1d45dfacbb12e127529f2d'), '6b7492e786fd4bf4ac3c84fa999d5fab': Example(label=False, text='This is a random sentence.', img=None, origin=None, draft='main', id='6b7492e786fd4bf4ac3c84fa999d5fab'), '733d90b4fa88496a9fe636a2dd3c8337': Example(label=True, text='This product is amazing!', img=None, origin=None, draft='main', id='733d90b4fa88496a9fe636a2dd3c8337'), 'f3d5059fcffd4a9a863c8c4ce8e74d89': Example(label=True, text='Thank you for your awesome work on this UI.', img=None, origin=None, draft='main', id='f3d5059fcffd4a9a863c8c4ce8e74d89')}\n"
     ]
    }
   ],
   "source": [
    "concept = db.get('local', 'positive-product-reviews')\n",
    "\n",
    "if concept:\n",
    "  print(concept.data)"
   ]
  },
  {
   "cell_type": "markdown",
   "metadata": {},
   "source": [
    "#### Remove examples\n"
   ]
  },
  {
   "cell_type": "code",
   "execution_count": null,
   "metadata": {},
   "outputs": [],
   "source": [
    "db.edit('local', 'positive-product-reviews',\n",
    "        ll.ConceptUpdate(remove=['d86e4cb53c70443b8d8782a6847f4752']))"
   ]
  },
  {
   "cell_type": "markdown",
   "metadata": {},
   "source": [
    "##### Use the new concept\n"
   ]
  },
  {
   "cell_type": "code",
   "execution_count": 8,
   "metadata": {},
   "outputs": [
    {
     "name": "stdout",
     "output_type": "stream",
     "text": [
      "Computing embeddings for \"local/positive-product-reviews/gte-small\" took 2.169s.\n",
      "huggingface/tokenizers: The current process just got forked, after parallelism has already been used. Disabling parallelism to avoid deadlocks...\n",
      "To disable this warning, you can either:\n",
      "\t- Avoid using `tokenizers` before the fork if possible\n",
      "\t- Explicitly set the environment variable TOKENIZERS_PARALLELISM=(true | false)\n",
      "huggingface/tokenizers: The current process just got forked, after parallelism has already been used. Disabling parallelism to avoid deadlocks...\n",
      "To disable this warning, you can either:\n",
      "\t- Avoid using `tokenizers` before the fork if possible\n",
      "\t- Explicitly set the environment variable TOKENIZERS_PARALLELISM=(true | false)\n",
      "huggingface/tokenizers: The current process just got forked, after parallelism has already been used. Disabling parallelism to avoid deadlocks...\n",
      "To disable this warning, you can either:\n",
      "\t- Avoid using `tokenizers` before the fork if possible\n",
      "\t- Explicitly set the environment variable TOKENIZERS_PARALLELISM=(true | false)\n",
      "huggingface/tokenizers: The current process just got forked, after parallelism has already been used. Disabling parallelism to avoid deadlocks...\n",
      "To disable this warning, you can either:\n",
      "\t- Avoid using `tokenizers` before the fork if possible\n",
      "\t- Explicitly set the environment variable TOKENIZERS_PARALLELISM=(true | false)\n",
      "huggingface/tokenizers: The current process just got forked, after parallelism has already been used. Disabling parallelism to avoid deadlocks...\n",
      "To disable this warning, you can either:\n",
      "\t- Avoid using `tokenizers` before the fork if possible\n",
      "\t- Explicitly set the environment variable TOKENIZERS_PARALLELISM=(true | false)\n",
      "huggingface/tokenizers: The current process just got forked, after parallelism has already been used. Disabling parallelism to avoid deadlocks...\n",
      "To disable this warning, you can either:\n",
      "\t- Avoid using `tokenizers` before the fork if possible\n",
      "\t- Explicitly set the environment variable TOKENIZERS_PARALLELISM=(true | false)\n",
      "huggingface/tokenizers: The current process just got forked, after parallelism has already been used. Disabling parallelism to avoid deadlocks...\n",
      "To disable this warning, you can either:\n",
      "\t- Avoid using `tokenizers` before the fork if possible\n",
      "\t- Explicitly set the environment variable TOKENIZERS_PARALLELISM=(true | false)\n",
      "huggingface/tokenizers: The current process just got forked, after parallelism has already been used. Disabling parallelism to avoid deadlocks...\n",
      "To disable this warning, you can either:\n",
      "\t- Avoid using `tokenizers` before the fork if possible\n",
      "\t- Explicitly set the environment variable TOKENIZERS_PARALLELISM=(true | false)\n",
      "huggingface/tokenizers: The current process just got forked, after parallelism has already been used. Disabling parallelism to avoid deadlocks...\n",
      "To disable this warning, you can either:\n",
      "\t- Avoid using `tokenizers` before the fork if possible\n",
      "\t- Explicitly set the environment variable TOKENIZERS_PARALLELISM=(true | false)\n",
      "assigned metrics\n",
      "Fitting model for \"local/positive-product-reviews/gte-small\" took 1.298s.\n",
      "[[{'__value__': {'start': 0, 'end': 35}, 'score': 0.8335085855066104}]]\n"
     ]
    }
   ],
   "source": [
    "signal = ll.signals.ConceptSignal(\n",
    "  namespace='local', concept_name='positive-product-reviews', embedding='gte-small')\n",
    "\n",
    "result = list(signal.compute(['This product is amazing, thank you!']))\n",
    "\n",
    "print(result)"
   ]
  },
  {
   "cell_type": "markdown",
   "metadata": {},
   "source": [
    "#### Concept metrics\n",
    "\n",
    "To compute metrics for a concept, we first have to instantiate a concept model.\n"
   ]
  },
  {
   "cell_type": "code",
   "execution_count": 11,
   "metadata": {},
   "outputs": [
    {
     "name": "stdout",
     "output_type": "stream",
     "text": [
      "f1=0.5555555555555556 precision=0.5 recall=1.0 roc_auc=0.0 overall=<OverallScore.OK: 'ok'>\n"
     ]
    }
   ],
   "source": [
    "model_db = ll.DiskConceptModelDB(ll.DiskConceptDB())\n",
    "\n",
    "model = model_db.get('local', 'positive-product-reviews', embedding_name='gte-small')\n",
    "\n",
    "if model:\n",
    "  print(model.get_metrics())\n"
   ]
  },
  {
   "cell_type": "markdown",
   "metadata": {},
   "source": [
    "#### Remove the concept\n"
   ]
  },
  {
   "cell_type": "code",
   "execution_count": 12,
   "metadata": {},
   "outputs": [],
   "source": [
    "db.remove('local', 'positive-product-reviews')"
   ]
  }
 ],
 "metadata": {
  "kernelspec": {
   "display_name": ".venv",
   "language": "python",
   "name": "python3"
  },
  "language_info": {
   "codemirror_mode": {
    "name": "ipython",
    "version": 3
   },
   "file_extension": ".py",
   "mimetype": "text/x-python",
   "name": "python",
   "nbconvert_exporter": "python",
   "pygments_lexer": "ipython3",
   "version": "3.9.13"
  },
  "orig_nbformat": 4
 },
 "nbformat": 4,
 "nbformat_minor": 2
}
