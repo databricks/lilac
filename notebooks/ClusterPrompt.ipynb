{
 "cells": [
  {
   "cell_type": "code",
   "execution_count": 3,
   "metadata": {},
   "outputs": [
    {
     "name": "stdout",
     "output_type": "stream",
     "text": [
      "The autoreload extension is already loaded. To reload it, use:\n",
      "  %reload_ext autoreload\n"
     ]
    }
   ],
   "source": [
    "%load_ext autoreload\n",
    "%autoreload 2"
   ]
  },
  {
   "cell_type": "code",
   "execution_count": 22,
   "metadata": {},
   "outputs": [],
   "source": [
    "%load_ext autoreload\n",
    "%autoreload 2\n",
    "import lilac as ll\n",
    "\n",
    "ds = ll.get_dataset('local', 'hncomments-1m')\n",
    "\n",
    "ll.data.clustering.compute_titles(ds, 'text__cluster')\n",
    "import lilac as ll\n",
    "from lilac.batch_utils import flatten_path_iter\n",
    "from lilac.schema import VALUE_KEY, normalize_path\n",
    "\n",
    "namespace = 'local'\n",
    "dataset = 'capybara'\n",
    "ds = ll.get_dataset(namespace, dataset)\n",
    "input = 'conversation.*.input'\n",
    "input_path = normalize_path(input)\n",
    "text_column = '_text'\n",
    "cluster_column = '_cluster'\n",
    "ds.cluster(input_path, output_path=cluster_column, remote=True)\n",
    "\n",
    "\n",
    "def flatten_input(item) -> str:\n",
    "  texts = flatten_path_iter(item, input_path)\n",
    "  # Filter out Nones\n",
    "  texts = (t for t in texts if t)\n",
    "  # Deal with enriched items.\n",
    "  texts = (t[VALUE_KEY] if VALUE_KEY in t else t for t in texts)\n",
    "  return '\\n'.join(texts)\n",
    "\n",
    "\n",
    "ds.map(flatten_input, output_path=text_column)"
   ]
  },
  {
   "cell_type": "code",
   "execution_count": 25,
   "metadata": {},
   "outputs": [],
   "source": [
    "import random\n",
    "\n",
    "groups: dict[int, list[tuple[str, float]]] = {}\n",
    "for row in ds.select_rows([text_column, cluster_column]):\n",
    "  cluster_id = row[cluster_column]['cluster_id']\n",
    "  membership_prob = row[cluster_column]['cluster_membership_prob']\n",
    "  groups.setdefault(cluster_id, []).append((row[text_column], membership_prob))\n",
    "\n",
    "# Sort by descending membership score.\n",
    "for cluster_id, group in groups.items():\n",
    "  # Remove any duplicate texts in the group.\n",
    "  group = list(set(group))\n",
    "  # Shuffle the group to avoid biasing the topic function.\n",
    "  random.shuffle(group)\n",
    "  group.sort(key=lambda text_score: text_score[1], reverse=True)\n",
    "  groups[cluster_id] = group"
   ]
  },
  {
   "cell_type": "code",
   "execution_count": 26,
   "metadata": {},
   "outputs": [
    {
     "name": "stderr",
     "output_type": "stream",
     "text": [
      "100%|██████████| 417/417 [00:00<00:00, 6296.60it/s]"
     ]
    },
    {
     "name": "stdout",
     "output_type": "stream",
     "text": [
      "Dataset \"capybara_clusters\" written to ./data/datasets/local/capybara_clusters\n"
     ]
    },
    {
     "name": "stderr",
     "output_type": "stream",
     "text": [
      "\n"
     ]
    },
    {
     "data": {
      "text/plain": [
       "<lilac.data.dataset_duckdb.DatasetDuckDB at 0x2b5916b50>"
      ]
     },
     "execution_count": 26,
     "metadata": {},
     "output_type": "execute_result"
    }
   ],
   "source": [
    "items = [\n",
    "  {'cluster_id': cluster_id, 'texts': [{'text': text, 'prob': prob} for text, prob in g]}\n",
    "  for cluster_id, g in groups.items()\n",
    "]\n",
    "ds = ll.from_dicts(namespace, f'{dataset}_clusters', items, overwrite=True)"
   ]
  },
  {
   "cell_type": "code",
   "execution_count": 30,
   "metadata": {},
   "outputs": [
    {
     "name": "stdout",
     "output_type": "stream",
     "text": [
      "cluster_id: int64\n",
      "texts: list(\n",
      "  text: string\n",
      "  prob: float64)\n"
     ]
    }
   ],
   "source": [
    "print(ds.manifest().data_schema)"
   ]
  },
  {
   "cell_type": "code",
   "execution_count": 2,
   "metadata": {},
   "outputs": [
    {
     "name": "stderr",
     "output_type": "stream",
     "text": [
      "[local/capybara_clusters][64 shards] map \"title\" to \"('title_v6',)\": 100%|██████████| 417/417 [00:11<00:00, 35.69it/s]\n"
     ]
    },
    {
     "name": "stdout",
     "output_type": "stream",
     "text": [
      "Wrote map output to ./data/datasets/local/capybara_clusters\n"
     ]
    },
    {
     "data": {
      "text/plain": [
       "<lilac.data.dataset_duckdb.DuckDBMapOutput at 0x288fb2a90>"
      ]
     },
     "execution_count": 2,
     "metadata": {},
     "output_type": "execute_result"
    }
   ],
   "source": [
    "import lilac as ll\n",
    "from lilac.data.clustering import summarize_request\n",
    "\n",
    "namespace = 'local'\n",
    "dataset = 'capybara'\n",
    "ds = ll.get_dataset(namespace, f'{dataset}_clusters')\n",
    "\n",
    "\n",
    "def title(item):\n",
    "  ranked_docs = [(x['text'], x['prob']) for x in item['texts']]\n",
    "  title = summarize_request(ranked_docs)\n",
    "  return title\n",
    "\n",
    "\n",
    "ds.map(title, num_jobs=64, output_path='title_v6', overwrite=True)"
   ]
  },
  {
   "cell_type": "code",
   "execution_count": 3,
   "metadata": {},
   "outputs": [
    {
     "name": "stderr",
     "output_type": "stream",
     "text": [
      "[local/capybara][1 shards] map \"extract_text\" to \"('clusters',)\": 100%|██████████| 16006/16006 [00:00<00:00, 27559.16it/s]\n"
     ]
    },
    {
     "name": "stdout",
     "output_type": "stream",
     "text": [
      "Wrote map output to clusters-00000-of-00001.parquet\n"
     ]
    },
    {
     "name": "stderr",
     "output_type": "stream",
     "text": [
      "[local/capybara][1 shards] map \"compute_clusters\" to \"('clusters',)\": 100%|██████████| 16006/16006 [00:51<00:00, 307.84it/s]\n"
     ]
    },
    {
     "name": "stdout",
     "output_type": "stream",
     "text": [
      "Wrote map output to clusters-00000-of-00001.parquet\n"
     ]
    },
    {
     "name": "stderr",
     "output_type": "stream",
     "text": [
      "[local/capybara][1 shards] map \"compute_cluster_titles\" to \"('clusters',)\": 100%|██████████| 16006/16006 [00:31<00:00, 511.24it/s]\n"
     ]
    },
    {
     "name": "stdout",
     "output_type": "stream",
     "text": [
      "Wrote map output to clusters-00000-of-00001.parquet\n"
     ]
    },
    {
     "name": "stderr",
     "output_type": "stream",
     "text": [
      "[local/capybara][1 shards] map \"compute_category_clusters\" to \"('clusters',)\": 100%|██████████| 16006/16006 [00:14<00:00, 1091.18it/s]\n"
     ]
    },
    {
     "name": "stdout",
     "output_type": "stream",
     "text": [
      "Wrote map output to clusters-00000-of-00001.parquet\n"
     ]
    },
    {
     "name": "stderr",
     "output_type": "stream",
     "text": [
      "[local/capybara][1 shards] map \"compute_category_titles\" to \"('clusters',)\": 100%|██████████| 16006/16006 [00:04<00:00, 3420.32it/s]\n"
     ]
    },
    {
     "name": "stdout",
     "output_type": "stream",
     "text": [
      "Wrote map output to clusters-00000-of-00001.parquet\n"
     ]
    }
   ],
   "source": [
    "%autoreload 2\n",
    "import lilac as ll\n",
    "\n",
    "ll.set_project_dir('./data')\n",
    "ds = ll.get_dataset('local', 'capybara')\n",
    "ll.data.clustering.cluster_impl(ds, 'conversation.*.input', output_path='clusters', remote=True)"
   ]
  },
  {
   "cell_type": "code",
   "execution_count": 4,
   "metadata": {},
   "outputs": [
    {
     "name": "stderr",
     "output_type": "stream",
     "text": [
      "[local/hncomments-1m][1 shards] map \"extract_text\" to \"('text__cluster',)\": 100%|██████████| 1000000/1000000 [00:28<00:00, 34908.13it/s]\n"
     ]
    },
    {
     "name": "stdout",
     "output_type": "stream",
     "text": [
      "Wrote map output to text__cluster-00000-of-00001.parquet\n"
     ]
    },
    {
     "name": "stderr",
     "output_type": "stream",
     "text": [
      "[local/hncomments-1m][1 shards] map \"compute_cluster_titles\" to \"('text__cluster',)\": 100%|██████████| 1000000/1000000 [16:07<00:00, 1033.65it/s]\n"
     ]
    },
    {
     "name": "stdout",
     "output_type": "stream",
     "text": [
      "Wrote map output to text__cluster-00000-of-00001.parquet\n"
     ]
    },
    {
     "name": "stderr",
     "output_type": "stream",
     "text": [
      "[local/hncomments-1m][1 shards] map \"compute_category_clusters\" to \"('text__cluster',)\": 100%|██████████| 1000000/1000000 [01:05<00:00, 15177.23it/s]\n"
     ]
    },
    {
     "name": "stdout",
     "output_type": "stream",
     "text": [
      "Wrote map output to text__cluster-00000-of-00001.parquet\n"
     ]
    },
    {
     "name": "stderr",
     "output_type": "stream",
     "text": [
      "[local/hncomments-1m][1 shards] map \"compute_category_titles\" to \"('text__cluster',)\": 100%|██████████| 1000000/1000000 [00:31<00:00, 31462.51it/s]\n"
     ]
    },
    {
     "name": "stdout",
     "output_type": "stream",
     "text": [
      "Wrote map output to text__cluster-00000-of-00001.parquet\n"
     ]
    }
   ],
   "source": [
    "%autoreload 2\n",
    "import lilac as ll\n",
    "\n",
    "ds = ll.get_dataset('local', 'hncomments-1m')\n",
    "ll.data.clustering.cluster_impl(ds, 'text', remote=True, recompute_titles=True)"
   ]
  },
  {
   "cell_type": "code",
   "execution_count": 2,
   "metadata": {},
   "outputs": [
    {
     "name": "stderr",
     "output_type": "stream",
     "text": [
      "/Users/dsmilkov/code/lilac/.venv/lib/python3.11/site-packages/tqdm/auto.py:21: TqdmWarning: IProgress not found. Please update jupyter and ipywidgets. See https://ipywidgets.readthedocs.io/en/stable/user_install.html\n",
      "  from .autonotebook import tqdm as notebook_tqdm\n",
      "[local/OpenHermes-2.5][1 shards] map \"extract_text\" to \"('prompt__cluster',)\": 100%|██████████| 1001551/1001551 [00:30<00:00, 32375.49it/s]\n"
     ]
    },
    {
     "name": "stdout",
     "output_type": "stream",
     "text": [
      "Wrote map output to prompt__cluster-00000-of-00001.parquet\n"
     ]
    },
    {
     "name": "stderr",
     "output_type": "stream",
     "text": [
      "[local/OpenHermes-2.5][1 shards] map \"compute_clusters\" to \"('prompt__cluster',)\": 100%|██████████| 1001551/1001551 [15:47<00:00, 1056.65it/s]\n"
     ]
    },
    {
     "name": "stdout",
     "output_type": "stream",
     "text": [
      "Wrote map output to prompt__cluster-00000-of-00001.parquet\n"
     ]
    },
    {
     "name": "stderr",
     "output_type": "stream",
     "text": [
      "[local/OpenHermes-2.5][1 shards] map \"compute_cluster_titles\" to \"('prompt__cluster',)\": 100%|██████████| 1001551/1001551 [13:18<00:00, 1254.06it/s]\n"
     ]
    },
    {
     "name": "stdout",
     "output_type": "stream",
     "text": [
      "Wrote map output to prompt__cluster-00000-of-00001.parquet\n"
     ]
    },
    {
     "name": "stderr",
     "output_type": "stream",
     "text": [
      "[local/OpenHermes-2.5][1 shards] map \"compute_category_clusters\" to \"('prompt__cluster',)\": 100%|██████████| 1001551/1001551 [01:17<00:00, 13002.68it/s]\n"
     ]
    },
    {
     "name": "stdout",
     "output_type": "stream",
     "text": [
      "Wrote map output to prompt__cluster-00000-of-00001.parquet\n"
     ]
    },
    {
     "name": "stderr",
     "output_type": "stream",
     "text": [
      "[local/OpenHermes-2.5][1 shards] map \"compute_category_titles\" to \"('prompt__cluster',)\": 100%|██████████| 1001551/1001551 [00:19<00:00, 51214.62it/s]\n"
     ]
    },
    {
     "name": "stdout",
     "output_type": "stream",
     "text": [
      "Wrote map output to prompt__cluster-00000-of-00001.parquet\n"
     ]
    }
   ],
   "source": [
    "%autoreload 2\n",
    "import lilac as ll\n",
    "\n",
    "ds = ll.get_dataset('local', 'OpenHermes-2.5')\n",
    "ll.data.clustering.cluster_impl(ds, 'prompt', remote=True)"
   ]
  },
  {
   "cell_type": "code",
   "execution_count": 1,
   "metadata": {},
   "outputs": [
    {
     "name": "stderr",
     "output_type": "stream",
     "text": [
      "/Users/dsmilkov/code/lilac/.venv/lib/python3.11/site-packages/tqdm/auto.py:21: TqdmWarning: IProgress not found. Please update jupyter and ipywidgets. See https://ipywidgets.readthedocs.io/en/stable/user_install.html\n",
      "  from .autonotebook import tqdm as notebook_tqdm\n"
     ]
    },
    {
     "name": "stdout",
     "output_type": "stream",
     "text": [
      "Recomputing table+index for openorca... took 21.557s.\n"
     ]
    }
   ],
   "source": [
    "%load_ext autoreload\n",
    "%autoreload 2\n",
    "\n",
    "import lilac as ll\n",
    "\n",
    "ll.set_project_dir('./data')\n",
    "ds = ll.get_dataset('local', 'openorca')\n",
    "# ds.cluster('question', remote=True)"
   ]
  },
  {
   "cell_type": "code",
   "execution_count": null,
   "metadata": {},
   "outputs": [],
   "source": []
  }
 ],
 "metadata": {
  "kernelspec": {
   "display_name": ".venv",
   "language": "python",
   "name": "python3"
  },
  "language_info": {
   "codemirror_mode": {
    "name": "ipython",
    "version": 3
   },
   "file_extension": ".py",
   "mimetype": "text/x-python",
   "name": "python",
   "nbconvert_exporter": "python",
   "pygments_lexer": "ipython3",
   "version": "3.11.4"
  }
 },
 "nbformat": 4,
 "nbformat_minor": 2
}
