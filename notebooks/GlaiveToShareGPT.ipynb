{
 "cells": [
  {
   "cell_type": "markdown",
   "metadata": {},
   "source": [
    "# Convert the unformatted Glaive dataset to ShareGPT\n"
   ]
  },
  {
   "cell_type": "code",
   "execution_count": 3,
   "metadata": {},
   "outputs": [
    {
     "name": "stdout",
     "output_type": "stream",
     "text": [
      "The autoreload extension is already loaded. To reload it, use:\n",
      "  %reload_ext autoreload\n"
     ]
    }
   ],
   "source": [
    "%load_ext autoreload\n",
    "%autoreload 2\n",
    "import lilac as ll\n",
    "\n",
    "ll.set_project_dir('./data')\n",
    "\n",
    "if not ll.has_dataset('local', 'glaive-function-calling-v2'):\n",
    "  ll.from_huggingface(\n",
    "    'glaiveai/glaive-function-calling-v2',\n",
    "    'local',\n",
    "    'glaive-function-calling-v2',\n",
    "  )\n",
    "\n",
    "ds = ll.get_dataset('local', 'glaive-function-calling-v2')"
   ]
  },
  {
   "cell_type": "code",
   "execution_count": 15,
   "metadata": {},
   "outputs": [
    {
     "name": "stderr",
     "output_type": "stream",
     "text": [
      "[local/glaive-function-calling-v2][1 shards] map \"_parse_chat\" to \"('conversations',)\":   0%|          | 0/112960 [00:00<?, ?it/s]"
     ]
    },
    {
     "name": "stderr",
     "output_type": "stream",
     "text": [
      "[local/glaive-function-calling-v2][1 shards] map \"_parse_chat\" to \"('conversations',)\": 100%|██████████| 112960/112960 [00:07<00:00, 15708.45it/s]\n"
     ]
    },
    {
     "name": "stdout",
     "output_type": "stream",
     "text": [
      "Wrote map output to conversations-00000-of-00001.parquet\n"
     ]
    }
   ],
   "source": [
    "import re\n",
    "\n",
    "ROLES = ['USER', 'ASSISTANT', 'FUNCTION RESPONSE']\n",
    "\n",
    "# The split regex is a role, plus semicolon and space. For example\n",
    "# \"USER: \" or \"FUNCTION RESPONSE: \".\n",
    "split_re = re.compile(r'({}): '.format('|'.join(ROLES)))\n",
    "\n",
    "\n",
    "def _parse_chat(row: dict):\n",
    "  system_prompt = row.get('system')\n",
    "\n",
    "  chat = row['chat']\n",
    "  # Split chat by split_res, and remove empty strings.\n",
    "  chats = [s.strip() for s in split_re.split(chat) if s]\n",
    "\n",
    "  # results look like:\n",
    "  # ['USER', 'Can you book a flight for me from New York to London?', 'ASSISTANT', '...']\n",
    "  # We now want it to be a dictionary of {'from': 'user', 'value': 'Can you book a flight...'}\n",
    "  chats = [{'from': role.lower(), 'value': value} for role, value in zip(chats[::2], chats[1::2])]\n",
    "\n",
    "  if system_prompt:\n",
    "    chats = [{'from': 'system', 'value': system_prompt}] + chats\n",
    "\n",
    "  return chats\n",
    "\n",
    "\n",
    "res = ds.map(_parse_chat, output_path='conversations', overwrite=True)"
   ]
  },
  {
   "cell_type": "code",
   "execution_count": 6,
   "metadata": {},
   "outputs": [
    {
     "name": "stdout",
     "output_type": "stream",
     "text": [
      "<class 'datasets.arrow_dataset.Dataset'>\n",
      "Dataset({\n",
      "    features: ['chat', 'system', '__hfsplit__', 'chat__cluster', 'conversations'],\n",
      "    num_rows: 112960\n",
      "})\n"
     ]
    },
    {
     "name": "stderr",
     "output_type": "stream",
     "text": [
      "Creating parquet from Arrow format: 100%|██████████| 57/57 [00:00<00:00, 90.73ba/s]\n",
      "Creating parquet from Arrow format: 100%|██████████| 57/57 [00:00<00:00, 91.67ba/s]s/it]\n",
      "Pushing dataset shards to the dataset hub: 100%|██████████| 2/2 [00:21<00:00, 10.92s/it]\n"
     ]
    }
   ],
   "source": [
    "hf_ds = ds.to_huggingface()\n",
    "\n",
    "print(hf_ds)\n",
    "\n",
    "hf_ds.push_to_hub('lilacai/glaive-function-calling-v2-sharegpt')"
   ]
  },
  {
   "cell_type": "code",
   "execution_count": null,
   "metadata": {},
   "outputs": [],
   "source": []
  }
 ],
 "metadata": {
  "kernelspec": {
   "display_name": ".venv",
   "language": "python",
   "name": "python3"
  },
  "language_info": {
   "codemirror_mode": {
    "name": "ipython",
    "version": 3
   },
   "file_extension": ".py",
   "mimetype": "text/x-python",
   "name": "python",
   "nbconvert_exporter": "python",
   "pygments_lexer": "ipython3",
   "version": "3.11.4"
  }
 },
 "nbformat": 4,
 "nbformat_minor": 2
}
