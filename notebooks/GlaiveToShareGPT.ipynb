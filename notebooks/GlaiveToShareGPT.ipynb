{
 "cells": [
  {
   "cell_type": "markdown",
   "metadata": {},
   "source": [
    "# Convert the unformatted Glaive dataset to ShareGPT\n"
   ]
  },
  {
   "cell_type": "code",
   "execution_count": 2,
   "metadata": {},
   "outputs": [
    {
     "name": "stderr",
     "output_type": "stream",
     "text": [
      "/Users/nikhil/Code/lilac/.venv/lib/python3.11/site-packages/tqdm/auto.py:21: TqdmWarning: IProgress not found. Please update jupyter and ipywidgets. See https://ipywidgets.readthedocs.io/en/stable/user_install.html\n",
      "  from .autonotebook import tqdm as notebook_tqdm\n"
     ]
    }
   ],
   "source": [
    "%load_ext autoreload\n",
    "%autoreload 2\n",
    "import lilac as ll\n",
    "\n",
    "ll.set_project_dir('./data')\n",
    "\n",
    "if not ll.has_dataset('local', 'glaive-function-calling-v2'):\n",
    "  ll.from_huggingface(\n",
    "    'glaiveai/glaive-function-calling-v2',\n",
    "    'local',\n",
    "    'glaive-function-calling-v2',\n",
    "  )\n",
    "\n",
    "ds = ll.get_dataset('local', 'glaive-function-calling-v2')"
   ]
  },
  {
   "cell_type": "code",
   "execution_count": 6,
   "metadata": {},
   "outputs": [
    {
     "name": "stderr",
     "output_type": "stream",
     "text": [
      "[local/glaive-function-calling-v2][1 shards] map \"_parse_chat\" to \"('conversations',)\": 100%|██████████| 112960/112960 [00:06<00:00, 16609.62it/s]\n"
     ]
    },
    {
     "name": "stdout",
     "output_type": "stream",
     "text": [
      "Wrote map output to conversations-00000-of-00001.parquet\n"
     ]
    }
   ],
   "source": [
    "import re\n",
    "\n",
    "GLAIVE_ROLES = ['USER', 'ASSISTANT', 'FUNCTION RESPONSE']\n",
    "GLAIVE_TO_SHAREGPT_ROLE = {\n",
    "  'SYSTEM': 'system',\n",
    "  'USER': 'human',\n",
    "  'ASSISTANT': 'gpt',\n",
    "  'FUNCTION RESPONSE': 'tool',\n",
    "}\n",
    "\n",
    "\n",
    "# The split regex is a role, plus semicolon and space. For example\n",
    "# \"USER: \" or \"FUNCTION RESPONSE: \".\n",
    "split_re = re.compile(r'({}): '.format('|'.join(GLAIVE_ROLES)))\n",
    "\n",
    "\n",
    "def _parse_chat(row: dict):\n",
    "  system_prompt = row.get('system')\n",
    "  # Remove \"SYSTEM: \" from the beginning of the prompt.\n",
    "  if system_prompt:\n",
    "    system_prompt = system_prompt.removeprefix('SYSTEM: ')\n",
    "\n",
    "  chat = row['chat']\n",
    "  # Split chat by split_res, and remove empty strings.\n",
    "  chats = [s.strip() for s in split_re.split(chat) if s]\n",
    "\n",
    "  # results look like:\n",
    "  # ['USER', 'Can you book a flight for me from New York to London?', 'ASSISTANT', '...']\n",
    "  # We now want it to be a dictionary of {'from': 'user', 'value': 'Can you book a flight...'}\n",
    "  chats = [\n",
    "    {'from': GLAIVE_TO_SHAREGPT_ROLE[role], 'value': value}\n",
    "    for role, value in zip(chats[::2], chats[1::2])\n",
    "  ]\n",
    "\n",
    "  if system_prompt:\n",
    "    chats = [{'from': GLAIVE_TO_SHAREGPT_ROLE['SYSTEM'], 'value': system_prompt}] + chats\n",
    "\n",
    "  return chats\n",
    "\n",
    "\n",
    "res = ds.map(_parse_chat, output_path='conversations', overwrite=True)"
   ]
  },
  {
   "cell_type": "code",
   "execution_count": 7,
   "metadata": {},
   "outputs": [
    {
     "name": "stdout",
     "output_type": "stream",
     "text": [
      "{'conversations': [{'from': 'system',\n",
      "                    'value': 'You are a helpful assistant with access to the '\n",
      "                             'following functions. Use them if required -\\n'\n",
      "                             '{\\n'\n",
      "                             '    \"name\": \"calculate_median\",\\n'\n",
      "                             '    \"description\": \"Calculate the median of a '\n",
      "                             'list of numbers\",\\n'\n",
      "                             '    \"parameters\": {\\n'\n",
      "                             '        \"type\": \"object\",\\n'\n",
      "                             '        \"properties\": {\\n'\n",
      "                             '            \"numbers\": {\\n'\n",
      "                             '                \"type\": \"array\",\\n'\n",
      "                             '                \"items\": {\\n'\n",
      "                             '                    \"type\": \"number\"\\n'\n",
      "                             '                },\\n'\n",
      "                             '                \"description\": \"The list of '\n",
      "                             'numbers\"\\n'\n",
      "                             '            }\\n'\n",
      "                             '        },\\n'\n",
      "                             '        \"required\": [\\n'\n",
      "                             '            \"numbers\"\\n'\n",
      "                             '        ]\\n'\n",
      "                             '    }\\n'\n",
      "                             '}\\n'},\n",
      "                   {'from': 'human',\n",
      "                    'value': 'Hi, I have a list of numbers and I need to find '\n",
      "                             'the median. The numbers are 5, 2, 9, 1, 7, 4, 6, '\n",
      "                             '3, 8.'},\n",
      "                   {'from': 'gpt',\n",
      "                    'value': '<functioncall> {\"name\": \"calculate_median\", '\n",
      "                             '\"arguments\": \\'{\"numbers\": [5, 2, 9, 1, 7, 4, 6, '\n",
      "                             \"3, 8]}'} <|endoftext|>\"},\n",
      "                   {'from': 'tool', 'value': '{\"median\": 5}'},\n",
      "                   {'from': 'gpt',\n",
      "                    'value': 'The median of your list of numbers is 5. '\n",
      "                             '<|endoftext|>'}]}\n"
     ]
    }
   ],
   "source": [
    "import pprint\n",
    "\n",
    "pprint.pprint(next(ds.select_rows(['conversations'], limit=1)))"
   ]
  },
  {
   "cell_type": "code",
   "execution_count": 8,
   "metadata": {},
   "outputs": [
    {
     "name": "stderr",
     "output_type": "stream",
     "text": [
      "Generating train split: 112960 examples [00:03, 36913.50 examples/s]\n",
      "Creating parquet from Arrow format: 100%|██████████| 57/57 [00:00<00:00, 89.98ba/s]\n",
      "Creating parquet from Arrow format: 100%|██████████| 57/57 [00:00<00:00, 85.01ba/s]s/it]\n",
      "Pushing dataset shards to the dataset hub: 100%|██████████| 2/2 [00:10<00:00,  5.15s/it]\n",
      "Deleting unused files from dataset repository: 100%|██████████| 2/2 [00:01<00:00,  1.33it/s]\n",
      "Downloading metadata: 100%|██████████| 2.83k/2.83k [00:00<00:00, 13.0MB/s]\n"
     ]
    }
   ],
   "source": [
    "hf_ds = ds.to_huggingface()\n",
    "hf_ds.push_to_hub('lilacai/glaive-function-calling-v2-sharegpt')"
   ]
  }
 ],
 "metadata": {
  "kernelspec": {
   "display_name": ".venv",
   "language": "python",
   "name": "python3"
  },
  "language_info": {
   "codemirror_mode": {
    "name": "ipython",
    "version": 3
   },
   "file_extension": ".py",
   "mimetype": "text/x-python",
   "name": "python",
   "nbconvert_exporter": "python",
   "pygments_lexer": "ipython3",
   "version": "3.11.4"
  }
 },
 "nbformat": 4,
 "nbformat_minor": 2
}
