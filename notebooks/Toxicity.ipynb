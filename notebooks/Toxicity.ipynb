{
 "cells": [
  {
   "attachments": {},
   "cell_type": "markdown",
   "metadata": {},
   "source": [
    "# Toxicity signal analysis\n"
   ]
  },
  {
   "cell_type": "code",
   "execution_count": 30,
   "metadata": {},
   "outputs": [
    {
     "name": "stderr",
     "output_type": "stream",
     "text": [
      "WARNING:datasets.builder:Found cached dataset jigsaw_toxicity_pred (/Users/dsmilkov/.cache/huggingface/datasets/jigsaw_toxicity_pred/default-411414f1c21f4c9f/1.1.0/9cf096ac4341c35839bc8a9f6a19d93e18e5ad3d84cf05f690d2bc6f7384af85)\n",
      "WARNING:datasets.builder:Found cached dataset jigsaw_toxicity_pred (/Users/dsmilkov/.cache/huggingface/datasets/jigsaw_toxicity_pred/default-411414f1c21f4c9f/1.1.0/9cf096ac4341c35839bc8a9f6a19d93e18e5ad3d84cf05f690d2bc6f7384af85)\n"
     ]
    }
   ],
   "source": [
    "from datasets import load_dataset\n",
    "import cohere\n",
    "import numpy as np\n",
    "import os\n",
    "\n",
    "EMBEDDING_MODEL = 'large'\n",
    "BATCH_SIZE = 96\n",
    "TEMPLATE = '{}'\n",
    "co = cohere.Client(os.environ['COHERE_API_KEY'])\n",
    "\n",
    "train_data = load_dataset('jigsaw_toxicity_pred',\n",
    "                          data_dir='../datasets/jigsaw_toxicity_pred',\n",
    "                          split='train[:10%]')\n",
    "test_data = load_dataset('jigsaw_toxicity_pred',\n",
    "                         data_dir='../datasets/jigsaw_toxicity_pred',\n",
    "                         split='test[:20%]')\n"
   ]
  },
  {
   "cell_type": "code",
   "execution_count": 31,
   "metadata": {},
   "outputs": [],
   "source": [
    "from sklearn.preprocessing import normalize\n",
    "\n",
    "\n",
    "def compute_embedding(texts: list[str]) -> np.ndarray:\n",
    "  \"\"\"Compute cohere embeddings for a list of texts.\"\"\"\n",
    "  texts = [TEMPLATE.replace('{}', text) for text in texts]\n",
    "  cohere_embeddings = co.embed(texts, truncate='START', model=EMBEDDING_MODEL).embeddings\n",
    "  return np.array(cohere_embeddings)\n",
    "\n",
    "\n",
    "def get_embeddings(dataset) -> np.ndarray:\n",
    "  fname = f'{dataset.builder_name}_{dataset.split}_{EMBEDDING_MODEL}_embeddings.npy'\n",
    "  try:\n",
    "    embeddings = np.load(fname)\n",
    "  except FileNotFoundError:\n",
    "    data = dataset.map(lambda batch: {'x': compute_embedding(batch['comment_text'])},\n",
    "                       batched=True,\n",
    "                       batch_size=BATCH_SIZE)\n",
    "    embeddings = np.array(data['x'])\n",
    "    np.save(fname, embeddings)\n",
    "\n",
    "  embeddings = normalize(embeddings).astype(np.float16)\n",
    "  return embeddings"
   ]
  },
  {
   "attachments": {},
   "cell_type": "markdown",
   "metadata": {},
   "source": [
    "### Compute the embeddings\n"
   ]
  },
  {
   "cell_type": "code",
   "execution_count": 32,
   "metadata": {},
   "outputs": [],
   "source": [
    "from sklearn.linear_model import LogisticRegression\n",
    "\n",
    "train_embeddings = get_embeddings(train_data)\n",
    "test_embeddings = get_embeddings(test_data)\n",
    "\n",
    "model = LogisticRegression(class_weight='balanced', C=10, warm_start=True, max_iter=1_000)"
   ]
  },
  {
   "attachments": {},
   "cell_type": "markdown",
   "metadata": {},
   "source": [
    "## Train a model\n"
   ]
  },
  {
   "cell_type": "code",
   "execution_count": 33,
   "metadata": {},
   "outputs": [],
   "source": [
    "def _make_balanced_data(train_data, sample_size_per_group):\n",
    "  df = train_data.to_pandas()\n",
    "  groups = df['toxic'].groupby(df['toxic']).groups\n",
    "  positive_examples = groups[1][:sample_size_per_group]\n",
    "  negative_examples = groups[0][:sample_size_per_group]\n",
    "  positive_embeddings = train_embeddings[positive_examples]\n",
    "  negative_embeddings = train_embeddings[negative_examples]\n",
    "  positive_labels = np.ones(len(positive_embeddings))\n",
    "  negative_labels = np.zeros(len(negative_embeddings))\n",
    "  positive_text = df.loc[positive_examples]['comment_text']\n",
    "  negative_text = df.loc[negative_examples]['comment_text']\n",
    "  embeddings = np.concatenate([positive_embeddings, negative_embeddings])\n",
    "  labels = np.concatenate([positive_labels, negative_labels])\n",
    "  text = np.concatenate([positive_text, negative_text])\n",
    "  return embeddings, labels, text"
   ]
  },
  {
   "cell_type": "code",
   "execution_count": 35,
   "metadata": {},
   "outputs": [
    {
     "name": "stdout",
     "output_type": "stream",
     "text": [
      "600 600\n",
      "Training a model took 0.035s.\n",
      "ROC AUC on train set, 600 examples: 0.999\n",
      "ROC AUC on test set, 12796 examples: 0.932\n"
     ]
    }
   ],
   "source": [
    "from sklearn.metrics import roc_auc_score\n",
    "\n",
    "from src.utils import DebugTimer\n",
    "\n",
    "SAMPLE_SIZE_PER_GROUP = 300\n",
    "embeddings, labels, texts = _make_balanced_data(train_data, SAMPLE_SIZE_PER_GROUP)\n",
    "print(len(embeddings), len(labels))\n",
    "with DebugTimer('Training a model'):\n",
    "  model.fit(embeddings, labels)\n",
    "\n",
    "y_score = model.predict_proba(embeddings)[:, 1]\n",
    "roc_auc = roc_auc_score(labels, y_score)\n",
    "print(f'ROC AUC on train set, {len(embeddings)} examples: {roc_auc:.3f}')\n",
    "\n",
    "test_labels = np.array(test_data['toxic'])\n",
    "y_score = model.predict_proba(test_embeddings)[:, 1]\n",
    "roc_auc = roc_auc_score(test_labels, y_score)\n",
    "print(f'ROC AUC on test set, {len(test_labels)} examples: {roc_auc:.3f}')"
   ]
  },
  {
   "attachments": {},
   "cell_type": "markdown",
   "metadata": {},
   "source": [
    "## Save the concept\n"
   ]
  },
  {
   "cell_type": "code",
   "execution_count": 36,
   "metadata": {},
   "outputs": [],
   "source": [
    "from src.concepts.concept import Concept, Example\n",
    "\n",
    "data = {}\n",
    "\n",
    "for index, (label, text) in enumerate(zip(labels, texts)):\n",
    "  id = str(index)\n",
    "  ex = Example(label=bool(label), text=text, id=str(index))\n",
    "  data[id] = ex\n",
    "\n",
    "concept = Concept(namespace='local', concept_name='toxicity', type='text', data=data)\n",
    "\n",
    "with open('gcs_cache/concept/local/toxicity/concept.json', 'w') as f:\n",
    "  f.write(concept.json(exclude_none=True, exclude_unset=True))"
   ]
  },
  {
   "cell_type": "code",
   "execution_count": 62,
   "metadata": {},
   "outputs": [
    {
     "data": {
      "text/plain": [
       "(array([5860., 1456.,  769.,  555.,  423.,  301.,  250.,  234.,  203.,\n",
       "         169.,  181.,  175.,  189.,  173.,  180.,  168.,  230.,  246.,\n",
       "         309.,  725.]),\n",
       " array([3.09592849e-04, 5.02832292e-02, 1.00256866e-01, 1.50230502e-01,\n",
       "        2.00204138e-01, 2.50177775e-01, 3.00151411e-01, 3.50125047e-01,\n",
       "        4.00098684e-01, 4.50072320e-01, 5.00045957e-01, 5.50019593e-01,\n",
       "        5.99993229e-01, 6.49966866e-01, 6.99940502e-01, 7.49914138e-01,\n",
       "        7.99887775e-01, 8.49861411e-01, 8.99835048e-01, 9.49808684e-01,\n",
       "        9.99782320e-01]),\n",
       " <BarContainer object of 20 artists>)"
      ]
     },
     "execution_count": 62,
     "metadata": {},
     "output_type": "execute_result"
    },
    {
     "data": {
      "image/png": "[encoded data removed]",
      "text/plain": [
       "<Figure size 640x480 with 1 Axes>"
      ]
     },
     "metadata": {},
     "output_type": "display_data"
    }
   ],
   "source": [
    "import matplotlib.pyplot as plt\n",
    "\n",
    "%matplotlib inline\n",
    "plt.hist(y_score, bins=20)"
   ]
  }
 ],
 "metadata": {
  "kernelspec": {
   "display_name": ".venv",
   "language": "python",
   "name": "python3"
  },
  "language_info": {
   "codemirror_mode": {
    "name": "ipython",
    "version": 3
   },
   "file_extension": ".py",
   "mimetype": "text/x-python",
   "name": "python",
   "nbconvert_exporter": "python",
   "pygments_lexer": "ipython3",
   "version": "3.9.13"
  },
  "orig_nbformat": 4
 },
 "nbformat": 4,
 "nbformat_minor": 2
}
