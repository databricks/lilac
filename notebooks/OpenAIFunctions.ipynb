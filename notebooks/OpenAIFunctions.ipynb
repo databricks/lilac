{
 "cells": [
  {
   "cell_type": "code",
   "execution_count": 26,
   "metadata": {},
   "outputs": [],
   "source": [
    "from openai_function_call import openai_function, OpenAISchema\n",
    "import openai\n",
    "from pydantic import Field\n",
    "from src.config import CONFIG\n",
    "\n",
    "openai.api_key = CONFIG['OPENAI_API_KEY']\n"
   ]
  },
  {
   "cell_type": "code",
   "execution_count": 38,
   "metadata": {},
   "outputs": [
    {
     "name": "stdout",
     "output_type": "stream",
     "text": [
      "Lost in the vastness of the universe, we dance among the stars.\n",
      "With galaxies in her eyes, she sings a celestial lullaby.\n",
      "In the cosmic symphony, our love echoes through space and time.\n",
      "We're astronauts of emotion, orbiting in the gravity of our hearts.\n",
      "Surrounded by constellations, we harmonize with the cosmos.\n"
     ]
    }
   ],
   "source": [
    "class Examples(OpenAISchema):\n",
    "  \"\"\"Generated text examples.\"\"\"\n",
    "  examples: list[str] = Field(..., description='List of generated examples')\n",
    "\n",
    "\n",
    "concept_desc = 'song lyrics about outer space'\n",
    "\n",
    "completion = openai.ChatCompletion.create(\n",
    "  model=\"gpt-3.5-turbo-0613\",\n",
    "  functions=[Examples.openai_schema],\n",
    "  messages=[\n",
    "    {\n",
    "      \"role\": \"system\",\n",
    "      \"content\": \"You must call the `Examples` function with the generated sentences.\",\n",
    "    },\n",
    "    {\n",
    "      \"role\": \"user\",\n",
    "      \"content\": f'Give me 5 diverse examples of sentences that demonstrate \"{concept_desc}\"',\n",
    "    },\n",
    "  ],\n",
    ")\n",
    "result = Examples.from_response(completion)\n",
    "for ex in result.examples:\n",
    "  print(ex)"
   ]
  },
  {
   "cell_type": "code",
   "execution_count": 20,
   "metadata": {},
   "outputs": [
    {
     "name": "stdout",
     "output_type": "stream",
     "text": [
      "9\n"
     ]
    }
   ],
   "source": [
    "print(result)"
   ]
  },
  {
   "cell_type": "code",
   "execution_count": null,
   "metadata": {},
   "outputs": [],
   "source": []
  }
 ],
 "metadata": {
  "kernelspec": {
   "display_name": ".venv",
   "language": "python",
   "name": "python3"
  },
  "language_info": {
   "codemirror_mode": {
    "name": "ipython",
    "version": 3
   },
   "file_extension": ".py",
   "mimetype": "text/x-python",
   "name": "python",
   "nbconvert_exporter": "python",
   "pygments_lexer": "ipython3",
   "version": "3.9.13"
  },
  "orig_nbformat": 4
 },
 "nbformat": 4,
 "nbformat_minor": 2
}
