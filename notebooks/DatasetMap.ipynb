{
 "cells": [
  {
   "cell_type": "markdown",
   "metadata": {},
   "source": [
    "# Dataset.map()\n",
    "\n",
    "This notebook shows a workflow for using `Dataset.map`. This method is useful for creating a new column with a custom map function to generate the output.\n"
   ]
  },
  {
   "cell_type": "code",
   "execution_count": 1,
   "metadata": {},
   "outputs": [
    {
     "name": "stderr",
     "output_type": "stream",
     "text": [
      "/Users/nikhil/Code/lilac/.venv/lib/python3.9/site-packages/tqdm/auto.py:21: TqdmWarning: IProgress not found. Please update jupyter and ipywidgets. See https://ipywidgets.readthedocs.io/en/stable/user_install.html\n",
      "  from .autonotebook import tqdm as notebook_tqdm\n"
     ]
    },
    {
     "name": "stdout",
     "output_type": "stream",
     "text": [
      "Executing:\n",
      "SELECT COUNT() as count FROM t\n",
      "Query took 0.001s.\n"
     ]
    }
   ],
   "source": [
    "import lilac as ll\n",
    "\n",
    "ll.set_project_dir('./data')\n",
    "\n",
    "try:\n",
    "  glue = ll.get_dataset('local', 'glue_ax_map')\n",
    "except:\n",
    "  glue = ll.create_dataset(\n",
    "    ll.DatasetConfig(\n",
    "      namespace='local',\n",
    "      name='glue_ax_map',\n",
    "      source=ll.HuggingFaceSource(\n",
    "        dataset_name='glue',\n",
    "        config_name='ax',\n",
    "      )))\n",
    "\n",
    "#ll.start_server()\n"
   ]
  },
  {
   "cell_type": "markdown",
   "metadata": {},
   "source": [
    "# Upper case 'premise'\n",
    "\n",
    "The following map will upper case the 'premise' field from the dataset.\n",
    "\n",
    "The output of the map is returned as a generator.\n"
   ]
  },
  {
   "cell_type": "code",
   "execution_count": 2,
   "metadata": {},
   "outputs": [
    {
     "ename": "ValueError",
     "evalue": "Cannot map to path ('a,',) which already exists in the dataset.",
     "output_type": "error",
     "traceback": [
      "\u001b[0;31m---------------------------------------------------------------------------\u001b[0m",
      "\u001b[0;31mValueError\u001b[0m                                Traceback (most recent call last)",
      "\u001b[1;32m/Users/nikhil/Code/lilac/notebooks/DatasetMap.ipynb Cell 4\u001b[0m line \u001b[0;36m3\n\u001b[1;32m      <a href='vscode-notebook-cell:/Users/nikhil/Code/lilac/notebooks/DatasetMap.ipynb#W4sZmlsZQ%3D%3D?line=0'>1</a>\u001b[0m \u001b[39m# Upper case 'premise' and print the first result\u001b[39;00m\n\u001b[1;32m      <a href='vscode-notebook-cell:/Users/nikhil/Code/lilac/notebooks/DatasetMap.ipynb#W4sZmlsZQ%3D%3D?line=1'>2</a>\u001b[0m \u001b[39m# This call does not save the output to a column.\u001b[39;00m\n\u001b[0;32m----> <a href='vscode-notebook-cell:/Users/nikhil/Code/lilac/notebooks/DatasetMap.ipynb#W4sZmlsZQ%3D%3D?line=2'>3</a>\u001b[0m res \u001b[39m=\u001b[39m glue\u001b[39m.\u001b[39;49mmap(\u001b[39mlambda\u001b[39;49;00m item: item[\u001b[39m'\u001b[39;49m\u001b[39mpremise\u001b[39;49m\u001b[39m'\u001b[39;49m]\u001b[39m.\u001b[39;49mupper(), output_path\u001b[39m=\u001b[39;49m(\u001b[39m'\u001b[39;49m\u001b[39ma,\u001b[39;49m\u001b[39m'\u001b[39;49m))\n\u001b[1;32m      <a href='vscode-notebook-cell:/Users/nikhil/Code/lilac/notebooks/DatasetMap.ipynb#W4sZmlsZQ%3D%3D?line=3'>4</a>\u001b[0m \u001b[39mprint\u001b[39m(\u001b[39mnext\u001b[39m(\u001b[39miter\u001b[39m(res)))\n\u001b[1;32m      <a href='vscode-notebook-cell:/Users/nikhil/Code/lilac/notebooks/DatasetMap.ipynb#W4sZmlsZQ%3D%3D?line=5'>6</a>\u001b[0m \u001b[39m# Write the output to a column 'premise_upper'.\u001b[39;00m\n",
      "File \u001b[0;32m~/Code/lilac/lilac/data/dataset_duckdb.py:1880\u001b[0m, in \u001b[0;36mDatasetDuckDB.map\u001b[0;34m(self, map_fn, output_path, input_paths, overwrite, combine_columns, resolve_span, task_step_id)\u001b[0m\n\u001b[1;32m   1878\u001b[0m         \u001b[39mraise\u001b[39;00m \u001b[39mValueError\u001b[39;00m(\u001b[39mf\u001b[39m\u001b[39m'\u001b[39m\u001b[39m{\u001b[39;00moutput_path\u001b[39m}\u001b[39;00m\u001b[39m is not a map column so it cannot be overwritten.\u001b[39m\u001b[39m'\u001b[39m)\n\u001b[1;32m   1879\u001b[0m     \u001b[39melse\u001b[39;00m:\n\u001b[0;32m-> 1880\u001b[0m       \u001b[39mraise\u001b[39;00m \u001b[39mValueError\u001b[39;00m(\u001b[39mf\u001b[39m\u001b[39m'\u001b[39m\u001b[39mCannot map to path \u001b[39m\u001b[39m{\u001b[39;00moutput_path\u001b[39m}\u001b[39;00m\u001b[39m which already exists in the dataset.\u001b[39m\u001b[39m'\u001b[39m)\n\u001b[1;32m   1881\u001b[0m \u001b[39melse\u001b[39;00m:\n\u001b[1;32m   1882\u001b[0m   output_column \u001b[39m=\u001b[39m map_fn\u001b[39m.\u001b[39m\u001b[39m__name__\u001b[39m\n",
      "\u001b[0;31mValueError\u001b[0m: Cannot map to path ('a,',) which already exists in the dataset."
     ]
    }
   ],
   "source": [
    "# Upper case 'premise' and print the first result\n",
    "# This call does not save the output to a column.\n",
    "res = glue.map(lambda item: item['premise'].upper(), output_path=('a,'))\n",
    "print(next(iter(res)))\n",
    "\n",
    "# Write the output to a column 'premise_upper'.\n",
    "glue.map(lambda item: item['premise'].upper(), output_path='premise_upper', overwrite=True)\n",
    "glue.select_rows(['premise', 'premise_upper'], limit=1)\n"
   ]
  },
  {
   "cell_type": "markdown",
   "metadata": {},
   "source": []
  },
  {
   "cell_type": "code",
   "execution_count": null,
   "metadata": {},
   "outputs": [],
   "source": []
  }
 ],
 "metadata": {
  "kernelspec": {
   "display_name": ".venv",
   "language": "python",
   "name": "python3"
  },
  "language_info": {
   "codemirror_mode": {
    "name": "ipython",
    "version": 3
   },
   "file_extension": ".py",
   "mimetype": "text/x-python",
   "name": "python",
   "nbconvert_exporter": "python",
   "pygments_lexer": "ipython3",
   "version": "3.9.17"
  }
 },
 "nbformat": 4,
 "nbformat_minor": 2
}
