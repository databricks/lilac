{
 "cells": [
  {
   "cell_type": "markdown",
   "metadata": {},
   "source": [
    "# Dataset.map()\n",
    "\n",
    "This notebook shows a workflow for using `Dataset.map`. This method is useful for creating a new column with a custom map function to generate the output.\n"
   ]
  },
  {
   "cell_type": "code",
   "execution_count": 1,
   "metadata": {},
   "outputs": [
    {
     "name": "stderr",
     "output_type": "stream",
     "text": [
      "/Users/nikhil/Code/lilac/.venv/lib/python3.11/site-packages/tqdm/auto.py:21: TqdmWarning: IProgress not found. Please update jupyter and ipywidgets. See https://ipywidgets.readthedocs.io/en/stable/user_install.html\n",
      "  from .autonotebook import tqdm as notebook_tqdm\n"
     ]
    }
   ],
   "source": [
    "%load_ext autoreload\n",
    "%autoreload 2\n",
    "import lilac as ll\n",
    "\n",
    "ll.set_project_dir('./data')\n",
    "\n",
    "try:\n",
    "  glue = ll.get_dataset('local', 'glue_ax_map_2')\n",
    "except:\n",
    "  glue = ll.create_dataset(\n",
    "    ll.DatasetConfig(\n",
    "      namespace='local',\n",
    "      name='glue_ax_map_2',\n",
    "      source=ll.HuggingFaceSource(\n",
    "        dataset_name='glue',\n",
    "        config_name='ax',\n",
    "        sample_size=100\n",
    "      )))\n",
    "\n",
    "ll.start_server()\n"
   ]
  },
  {
   "cell_type": "markdown",
   "metadata": {},
   "source": [
    "# Upper case 'premise'\n",
    "\n",
    "The following map will upper case the 'premise' field from the dataset.\n",
    "\n",
    "The output of the map is returned as a generator.\n"
   ]
  },
  {
   "cell_type": "code",
   "execution_count": 2,
   "metadata": {},
   "outputs": [
    {
     "name": "stdout",
     "output_type": "stream",
     "text": [
      "Scheduling task \"d5bc8686bfe04991b3ad7ac49447de69\": \"[local/glue_ax_map_2] map \"_upper\"\".\n"
     ]
    },
    {
     "name": "stderr",
     "output_type": "stream",
     "text": [
      "/Users/nikhil/Code/lilac/.venv/lib/python3.11/site-packages/distributed/node.py:182: UserWarning: Port 8787 is already in use.\n",
      "Perhaps you already have a cluster running?\n",
      "Hosting the HTTP server on port 49341 instead\n",
      "  warnings.warn(\n",
      "[local/glue_ax_map_2] map \"_upper\": 100%|██████████| 100/100 [00:00<00:00, 17690.02it/s]\n"
     ]
    },
    {
     "name": "stdout",
     "output_type": "stream",
     "text": [
      "IF THE PIPELINE TOKENIZATION SCHEME DOES NOT CORRESPOND TO THE ONE THAT WAS USED WHEN A MODEL WAS CREATED, IT WOULD BE EXPECTED TO NEGATIVELY IMPACT THE PIPELINE RESULTS.\n",
      "\n",
      "Scheduling task \"b84cca8d8e9243ebb404db6bb5f39887\": \"[local/glue_ax_map_2][1/12] map \"<lambda>\" to \"premise_upper\"\".\n",
      "Scheduling task \"17c5362a3f48402c8362c7615b0f43f7\": \"[local/glue_ax_map_2][2/12] map \"<lambda>\" to \"premise_upper\"\".\n",
      "Scheduling task \"bf53e50466aa4e20bf0524c0aa89ec0c\": \"[local/glue_ax_map_2][3/12] map \"<lambda>\" to \"premise_upper\"\".\n",
      "Scheduling task \"b4664b692c6a487088cc8eb70f7bd289\": \"[local/glue_ax_map_2][4/12] map \"<lambda>\" to \"premise_upper\"\".\n",
      "Scheduling task \"6c8b3097256443bc8607d2863ffca34f\": \"[local/glue_ax_map_2][5/12] map \"<lambda>\" to \"premise_upper\"\".\n",
      "Scheduling task \"1be0b6cfbb2a455e86d3c887c7ae1918\": \"[local/glue_ax_map_2][6/12] map \"<lambda>\" to \"premise_upper\"\".\n",
      "Scheduling task \"86039b57045f49388b51ef325f314684\": \"[local/glue_ax_map_2][7/12] map \"<lambda>\" to \"premise_upper\"\".\n",
      "Scheduling task \"22170bfb42254ad3a996245b0a5646d9\": \"[local/glue_ax_map_2][8/12] map \"<lambda>\" to \"premise_upper\"\".\n",
      "Scheduling task \"80755b4080354f80a3dcfe7666eacbb9\": \"[local/glue_ax_map_2][9/12] map \"<lambda>\" to \"premise_upper\"\".\n",
      "Scheduling task \"040593316dcd408a8bbb9d60704f2a08\": \"[local/glue_ax_map_2][10/12] map \"<lambda>\" to \"premise_upper\"\".\n",
      "Scheduling task \"7119494a202d44618fac8551572633fe\": \"[local/glue_ax_map_2][11/12] map \"<lambda>\" to \"premise_upper\"\".\n",
      "Scheduling task \"03eedf84a06343d8bed763cf6c86d62a\": \"[local/glue_ax_map_2][12/12] map \"<lambda>\" to \"premise_upper\"\".\n",
      "Task finished \"d5bc8686bfe04991b3ad7ac49447de69\": \"[local/glue_ax_map_2] map \"_upper\"\" in 5s.\n"
     ]
    },
    {
     "name": "stderr",
     "output_type": "stream",
     "text": [
      "[local/glue_ax_map_2][12/12] map \"<lambda>\" to \"premise_upper\":   1%|          | 1/100 [00:00<00:00, 108.28it/s]\n"
     ]
    },
    {
     "name": "stdout",
     "output_type": "stream",
     "text": [
      "Task finished \"03eedf84a06343d8bed763cf6c86d62a\": \"[local/glue_ax_map_2][12/12] map \"<lambda>\" to \"premise_upper\"\" in 3s.\n"
     ]
    },
    {
     "name": "stderr",
     "output_type": "stream",
     "text": [
      "[local/glue_ax_map_2][1/12] map \"<lambda>\" to \"premise_upper\":   9%|▉         | 9/100 [00:00<00:00, 668.25it/s]\n",
      "[local/glue_ax_map_2][2/12] map \"<lambda>\" to \"premise_upper\":   9%|▉         | 9/100 [00:00<00:00, 411.39it/s]\n"
     ]
    },
    {
     "name": "stdout",
     "output_type": "stream",
     "text": [
      "Task finished \"b84cca8d8e9243ebb404db6bb5f39887\": \"[local/glue_ax_map_2][1/12] map \"<lambda>\" to \"premise_upper\"\" in 6s.\n",
      "Task finished \"17c5362a3f48402c8362c7615b0f43f7\": \"[local/glue_ax_map_2][2/12] map \"<lambda>\" to \"premise_upper\"\" in 6s.\n"
     ]
    },
    {
     "name": "stderr",
     "output_type": "stream",
     "text": [
      "[local/glue_ax_map_2][3/12] map \"<lambda>\" to \"premise_upper\":   9%|▉         | 9/100 [00:00<00:00, 1007.06it/s]\n"
     ]
    },
    {
     "name": "stdout",
     "output_type": "stream",
     "text": [
      "Task finished \"bf53e50466aa4e20bf0524c0aa89ec0c\": \"[local/glue_ax_map_2][3/12] map \"<lambda>\" to \"premise_upper\"\" in 6s.\n"
     ]
    },
    {
     "name": "stderr",
     "output_type": "stream",
     "text": [
      "[local/glue_ax_map_2][4/12] map \"<lambda>\" to \"premise_upper\":   9%|▉         | 9/100 [00:00<00:00, 1691.63it/s]\n"
     ]
    },
    {
     "name": "stdout",
     "output_type": "stream",
     "text": [
      "Task finished \"b4664b692c6a487088cc8eb70f7bd289\": \"[local/glue_ax_map_2][4/12] map \"<lambda>\" to \"premise_upper\"\" in 6s.\n"
     ]
    },
    {
     "name": "stderr",
     "output_type": "stream",
     "text": [
      "[local/glue_ax_map_2][5/12] map \"<lambda>\" to \"premise_upper\":   9%|▉         | 9/100 [00:00<00:00, 1367.16it/s]\n"
     ]
    },
    {
     "name": "stdout",
     "output_type": "stream",
     "text": [
      "Task finished \"6c8b3097256443bc8607d2863ffca34f\": \"[local/glue_ax_map_2][5/12] map \"<lambda>\" to \"premise_upper\"\" in 7s.\n"
     ]
    },
    {
     "name": "stderr",
     "output_type": "stream",
     "text": [
      "[local/glue_ax_map_2][6/12] map \"<lambda>\" to \"premise_upper\":   9%|▉         | 9/100 [00:00<00:00, 2178.10it/s]\n"
     ]
    },
    {
     "name": "stdout",
     "output_type": "stream",
     "text": [
      "Task finished \"1be0b6cfbb2a455e86d3c887c7ae1918\": \"[local/glue_ax_map_2][6/12] map \"<lambda>\" to \"premise_upper\"\" in 7s.\n"
     ]
    },
    {
     "name": "stderr",
     "output_type": "stream",
     "text": [
      "[local/glue_ax_map_2][7/12] map \"<lambda>\" to \"premise_upper\":   9%|▉         | 9/100 [00:00<00:00, 1891.12it/s]\n"
     ]
    },
    {
     "name": "stdout",
     "output_type": "stream",
     "text": [
      "Task finished \"86039b57045f49388b51ef325f314684\": \"[local/glue_ax_map_2][7/12] map \"<lambda>\" to \"premise_upper\"\" in 7s.\n"
     ]
    },
    {
     "name": "stderr",
     "output_type": "stream",
     "text": [
      "[local/glue_ax_map_2][8/12] map \"<lambda>\" to \"premise_upper\":   9%|▉         | 9/100 [00:00<00:00, 2449.47it/s]\n"
     ]
    },
    {
     "name": "stdout",
     "output_type": "stream",
     "text": [
      "Task finished \"22170bfb42254ad3a996245b0a5646d9\": \"[local/glue_ax_map_2][8/12] map \"<lambda>\" to \"premise_upper\"\" in 8s.\n"
     ]
    },
    {
     "name": "stderr",
     "output_type": "stream",
     "text": [
      "[local/glue_ax_map_2][9/12] map \"<lambda>\" to \"premise_upper\":   9%|▉         | 9/100 [00:00<00:00, 1987.19it/s]\n"
     ]
    },
    {
     "name": "stdout",
     "output_type": "stream",
     "text": [
      "Task finished \"80755b4080354f80a3dcfe7666eacbb9\": \"[local/glue_ax_map_2][9/12] map \"<lambda>\" to \"premise_upper\"\" in 8s.\n",
      "Task finished \"040593316dcd408a8bbb9d60704f2a08\": \"[local/glue_ax_map_2][10/12] map \"<lambda>\" to \"premise_upper\"\" in 8s.\n",
      "Wrote map output to ./data/datasets/local/glue_ax_map_2/premise_upper-00000-of-00001.parquet\n",
      "{'premise': 'The cat sat on the mat.', 'premise_upper': 'THE CAT SAT ON THE MAT.'}\n",
      "{'premise': 'The cat did not sit on the mat.', 'premise_upper': 'THE CAT DID NOT SIT ON THE MAT.'}\n",
      "{'premise': \"When you've got no snow, it's really hard to learn a snow sport so we looked at all the different ways I could mimic being on snow without actually being on snow.\", 'premise_upper': \"WHEN YOU'VE GOT NO SNOW, IT'S REALLY HARD TO LEARN A SNOW SPORT SO WE LOOKED AT ALL THE DIFFERENT WAYS I COULD MIMIC BEING ON SNOW WITHOUT ACTUALLY BEING ON SNOW.\"}\n"
     ]
    },
    {
     "name": "stderr",
     "output_type": "stream",
     "text": [
      "[local/glue_ax_map_2][10/12] map \"<lambda>\" to \"premise_upper\":   9%|▉         | 9/100 [00:00<00:00, 2164.62it/s]\n",
      "[local/glue_ax_map_2][11/12] map \"<lambda>\" to \"premise_upper\":   9%|▉         | 9/100 [00:00<00:00, 2183.27it/s]\n"
     ]
    }
   ],
   "source": [
    "# Upper case 'premise' and print the first result\n",
    "# This call does not save the output to a column.\n",
    "def _upper(item: dict) -> str:\n",
    "  #print('premise==>', item['premise'])\n",
    "  return item['premise'].upper()\n",
    "\n",
    "res = glue.map(_upper)\n",
    "print(next(iter(res)))\n",
    "print()\n",
    "\n",
    "# # Write the output to a column 'premise_upper'.\n",
    "glue.map(lambda item: item['premise'].upper(), output_path='premise_upper', overwrite=True, num_jobs=-1)\n",
    "\n",
    "rows = glue.select_rows(['premise', 'premise_upper'], limit=3)\n",
    "for row in rows:\n",
    "  print(row)\n"
   ]
  },
  {
   "cell_type": "markdown",
   "metadata": {},
   "source": [
    "# Map continuation during an error, or computer shutdown\n",
    "\n",
    "`dataset.map()` will not lose data if an error is thrown when writing to disk. The next time it is called, it will continue from where it left off. Once it is finally complete, the column is written.\n"
   ]
  },
  {
   "cell_type": "code",
   "execution_count": 3,
   "metadata": {},
   "outputs": [
    {
     "name": "stdout",
     "output_type": "stream",
     "text": [
      "Task finished \"7119494a202d44618fac8551572633fe\": \"[local/glue_ax_map_2][11/12] map \"<lambda>\" to \"premise_upper\"\" in 8s.\n",
      "Scheduling task \"ac7c99155acc4e4e9056fb8fbd707745\": \"[local/glue_ax_map_2][1/12] map \"_upper\" to \"premise_upper2\"\".\n",
      "Scheduling task \"77d505b71e6d424380a06097b6834656\": \"[local/glue_ax_map_2][2/12] map \"_upper\" to \"premise_upper2\"\".\n",
      "Scheduling task \"3956bd7817f44bf883e82836e5d9cd7d\": \"[local/glue_ax_map_2][3/12] map \"_upper\" to \"premise_upper2\"\".\n",
      "Scheduling task \"52d54e0215264584bdab20d432be4f0a\": \"[local/glue_ax_map_2][4/12] map \"_upper\" to \"premise_upper2\"\".\n",
      "Scheduling task \"078ee572902640278f69112f07db54a7\": \"[local/glue_ax_map_2][5/12] map \"_upper\" to \"premise_upper2\"\".\n",
      "Scheduling task \"45648adad0984d1a84b3777b1fcafe1c\": \"[local/glue_ax_map_2][6/12] map \"_upper\" to \"premise_upper2\"\".\n",
      "Scheduling task \"9b7a25c408cc4925a7790d8e83daae90\": \"[local/glue_ax_map_2][7/12] map \"_upper\" to \"premise_upper2\"\".\n",
      "Scheduling task \"43f2fdec45bc47deb7ca533f9f4f0a64\": \"[local/glue_ax_map_2][8/12] map \"_upper\" to \"premise_upper2\"\".\n",
      "Scheduling task \"e485048dee164e30b59e9c1a5d5a393b\": \"[local/glue_ax_map_2][9/12] map \"_upper\" to \"premise_upper2\"\".\n",
      "Scheduling task \"76c5acbbc85341be9d9c692157a5ec2b\": \"[local/glue_ax_map_2][10/12] map \"_upper\" to \"premise_upper2\"\".\n",
      "Scheduling task \"8d4d69b14ecd49a0a8b5a6d83a980864\": \"[local/glue_ax_map_2][11/12] map \"_upper\" to \"premise_upper2\"\".\n",
      "Scheduling task \"2d3c43ef8cbb4ac7b6d495d5d779a825\": \"[local/glue_ax_map_2][12/12] map \"_upper\" to \"premise_upper2\"\".\n"
     ]
    },
    {
     "name": "stderr",
     "output_type": "stream",
     "text": [
      "[local/glue_ax_map_2][1/12] map \"_upper\" to \"premise_upper2\":   9%|▉         | 9/100 [00:00<00:04, 22.20it/s]\n",
      "[local/glue_ax_map_2][3/12] map \"_upper\" to \"premise_upper2\":   9%|▉         | 9/100 [00:00<00:05, 17.26it/s]\n",
      "[local/glue_ax_map_2][2/12] map \"_upper\" to \"premise_upper2\":   9%|▉         | 9/100 [00:00<00:05, 17.23it/s]\n",
      "[local/glue_ax_map_2][4/12] map \"_upper\" to \"premise_upper2\":   9%|▉         | 9/100 [00:00<00:04, 22.06it/s]\n",
      "[local/glue_ax_map_2][5/12] map \"_upper\" to \"premise_upper2\":   6%|▌         | 6/100 [00:00<00:03, 28.98it/s]\n",
      "2023-11-12 14:24:26,536 - distributed.worker - WARNING - Compute Failed\n",
      "Key:       078ee572902640278f69112f07db54a7\n",
      "Function:  _execute_task\n",
      "args:      (<function _upper at 0x14da3d1c0>, (36, 45), './data/.cache/lilac/local/glue_ax_map_2/premise_upper2.36-45.jsonl', 'premise_upper2', None, True, False, False, ('078ee572902640278f69112f07db54a7', 0))\n",
      "kwargs:    {}\n",
      "Exception: \"ValueError('Throwing for 56505f14f6dc496e807018c3675ac840')\"\n",
      "\n",
      "[local/glue_ax_map_2][6/12] map \"_upper\" to \"premise_upper2\":   9%|▉         | 9/100 [00:00<00:05, 17.50it/s]\n",
      "[local/glue_ax_map_2][7/12] map \"_upper\" to \"premise_upper2\":   9%|▉         | 9/100 [00:00<00:02, 44.18it/s]\n",
      "[local/glue_ax_map_2][8/12] map \"_upper\" to \"premise_upper2\":   9%|▉         | 9/100 [00:00<00:02, 44.24it/s]\n",
      "[local/glue_ax_map_2][9/12] map \"_upper\" to \"premise_upper2\":   9%|▉         | 9/100 [00:00<00:00, 858.71it/s]\n",
      "[local/glue_ax_map_2][10/12] map \"_upper\" to \"premise_upper2\":   9%|▉         | 9/100 [00:00<00:00, 2667.38it/s]\n",
      "2023-11-12 14:24:27,075 - distributed.client - ERROR - Error in callback <function TaskManager.execute.<locals>.<lambda> at 0x2fafbb920> of <Future: error, key: 078ee572902640278f69112f07db54a7>:\n",
      "Traceback (most recent call last):\n",
      "  File \"/Users/nikhil/Code/lilac/.venv/lib/python3.11/site-packages/distributed/client.py\", line 401, in execute_callback\n",
      "    fn(fut)\n",
      "  File \"/Users/nikhil/Code/lilac/lilac/tasks.py\", line 257, in <lambda>\n",
      "    lambda task_future: self._set_task_completed(task_id, task_future)\n",
      "                        ^^^^^^^^^^^^^^^^^^^^^^^^^^^^^^^^^^^^^^^^^^^^^^\n",
      "  File \"/Users/nikhil/Code/lilac/lilac/tasks.py\", line 231, in _set_task_completed\n",
      "    raise e\n",
      "  File \"/Users/nikhil/Code/lilac/.venv/lib/python3.11/site-packages/distributed/worker.py\", line 2983, in apply_function_simple\n",
      "    result = function(*args, **kwargs)\n",
      "    ^^^^^^^^^^^^^^^^^\n",
      "  File \"/Users/nikhil/Code/lilac/lilac/tasks.py\", line 289, in _execute_task\n",
      "    task(*args)\n",
      "        ^^^^^^^^\n",
      "  File \"/Users/nikhil/Code/lilac/lilac/data/dataset_duckdb.py\", line 2351, in _map_worker\n",
      "    for item in outputs:\n",
      "    ^^^^^^^^^^^^^^^^^\n",
      "  File \"/Users/nikhil/Code/lilac/lilac/tasks.py\", line 344, in progress\n",
      "    for t in tq:\n",
      "      ^^^^^^^^^^^\n",
      "  File \"/Users/nikhil/Code/lilac/.venv/lib/python3.11/site-packages/tqdm/std.py\", line 1182, in __iter__\n",
      "    for obj in iterable:\n",
      "    ^^^^^^^^^^^^^^^^^\n",
      "  File \"/Users/nikhil/Code/lilac/lilac/data/dataset_duckdb.py\", line 2327, in <genexpr>\n",
      "    outputs = ({ROWID: row[ROWID], output_column: map_fn(row)} for row in _rows())\n",
      "      ^^^^^^^^^^^^^^^^^\n",
      "  File \"/var/folders/35/q7dnsp_x3v3b8mp46bb9w0qr0000gn/T/ipykernel_56207/3581942675.py\", line 8, in _upper\n",
      "    raise ValueError(f'Throwing for {random_row_id}')\n",
      "      ^^^^^^^^^^^^^^^^^\n",
      "ValueError: Throwing for 56505f14f6dc496e807018c3675ac840\n"
     ]
    },
    {
     "name": "stdout",
     "output_type": "stream",
     "text": [
      "Task finished \"ac7c99155acc4e4e9056fb8fbd707745\": \"[local/glue_ax_map_2][1/12] map \"_upper\" to \"premise_upper2\"\" in 2s.\n",
      "Task finished \"3956bd7817f44bf883e82836e5d9cd7d\": \"[local/glue_ax_map_2][3/12] map \"_upper\" to \"premise_upper2\"\" in 2s.\n",
      "Task finished \"77d505b71e6d424380a06097b6834656\": \"[local/glue_ax_map_2][2/12] map \"_upper\" to \"premise_upper2\"\" in 2s.\n",
      "Task finished \"52d54e0215264584bdab20d432be4f0a\": \"[local/glue_ax_map_2][4/12] map \"_upper\" to \"premise_upper2\"\" in 2s.\n",
      "Task finished \"45648adad0984d1a84b3777b1fcafe1c\": \"[local/glue_ax_map_2][6/12] map \"_upper\" to \"premise_upper2\"\" in 2s.\n",
      "Task finished \"9b7a25c408cc4925a7790d8e83daae90\": \"[local/glue_ax_map_2][7/12] map \"_upper\" to \"premise_upper2\"\" in 2s.\n",
      "Task finished \"43f2fdec45bc47deb7ca533f9f4f0a64\": \"[local/glue_ax_map_2][8/12] map \"_upper\" to \"premise_upper2\"\" in 2s.\n",
      "Task finished \"e485048dee164e30b59e9c1a5d5a393b\": \"[local/glue_ax_map_2][9/12] map \"_upper\" to \"premise_upper2\"\" in 2s.\n",
      "Task finished \"76c5acbbc85341be9d9c692157a5ec2b\": \"[local/glue_ax_map_2][10/12] map \"_upper\" to \"premise_upper2\"\" in 2s.\n"
     ]
    },
    {
     "name": "stderr",
     "output_type": "stream",
     "text": [
      "[local/glue_ax_map_2][11/12] map \"_upper\" to \"premise_upper2\":   9%|▉         | 9/100 [00:00<00:00, 2159.42it/s]\n",
      "[local/glue_ax_map_2][12/12] map \"_upper\" to \"premise_upper2\":   1%|          | 1/100 [00:00<00:00, 245.68it/s]\n"
     ]
    },
    {
     "name": "stdout",
     "output_type": "stream",
     "text": [
      "Task finished \"8d4d69b14ecd49a0a8b5a6d83a980864\": \"[local/glue_ax_map_2][11/12] map \"_upper\" to \"premise_upper2\"\" in 3s.\n"
     ]
    },
    {
     "ename": "Exception",
     "evalue": "Throwing for 56505f14f6dc496e807018c3675ac840: \n['  File \"/Users/nikhil/Code/lilac/lilac/tasks.py\", line 289, in _execute_task\\n    task(*args)\\n        ^^^^^^^^\\n', '  File \"/Users/nikhil/Code/lilac/lilac/data/dataset_duckdb.py\", line 2351, in _map_worker\\n    for item in outputs:\\n    ^^^^^^^^^^^^^^^^^\\n', '  File \"/Users/nikhil/Code/lilac/lilac/tasks.py\", line 344, in progress\\n    for t in tq:\\n      ^^^^^^^^^^^\\n', '  File \"/Users/nikhil/Code/lilac/.venv/lib/python3.11/site-packages/tqdm/std.py\", line 1182, in __iter__\\n    for obj in iterable:\\n    ^^^^^^^^^^^^^^^^^\\n', '  File \"/Users/nikhil/Code/lilac/lilac/data/dataset_duckdb.py\", line 2327, in <genexpr>\\n    outputs = ({ROWID: row[ROWID], output_column: map_fn(row)} for row in _rows())\\n      ^^^^^^^^^^^^^^^^^\\n', '  File \"/var/folders/35/q7dnsp_x3v3b8mp46bb9w0qr0000gn/T/ipykernel_56207/3581942675.py\", line 8, in _upper\\n    raise ValueError(f\\'Throwing for {random_row_id}\\')\\n      ^^^^^^^^^^^^^^^^^\\n']",
     "output_type": "error",
     "traceback": [
      "\u001b[0;31m---------------------------------------------------------------------------\u001b[0m",
      "\u001b[0;31mException\u001b[0m                                 Traceback (most recent call last)",
      "\u001b[1;32m/Users/nikhil/Code/lilac/notebooks/DatasetMap.ipynb Cell 6\u001b[0m line \u001b[0;36m1\n\u001b[1;32m     <a href='vscode-notebook-cell:/Users/nikhil/Code/lilac/notebooks/DatasetMap.ipynb#W5sZmlsZQ%3D%3D?line=10'>11</a>\u001b[0m   \u001b[39mreturn\u001b[39;00m item[\u001b[39m'\u001b[39m\u001b[39mpremise\u001b[39m\u001b[39m'\u001b[39m]\u001b[39m.\u001b[39mupper()\n\u001b[1;32m     <a href='vscode-notebook-cell:/Users/nikhil/Code/lilac/notebooks/DatasetMap.ipynb#W5sZmlsZQ%3D%3D?line=13'>14</a>\u001b[0m \u001b[39m# This is going to throw after 10 iterations. When we call it again, it will only call _upper()\u001b[39;00m\n\u001b[1;32m     <a href='vscode-notebook-cell:/Users/nikhil/Code/lilac/notebooks/DatasetMap.ipynb#W5sZmlsZQ%3D%3D?line=14'>15</a>\u001b[0m \u001b[39m# for the rest of the dataset.\u001b[39;00m\n\u001b[0;32m---> <a href='vscode-notebook-cell:/Users/nikhil/Code/lilac/notebooks/DatasetMap.ipynb#W5sZmlsZQ%3D%3D?line=15'>16</a>\u001b[0m glue\u001b[39m.\u001b[39;49mmap(_upper, output_path\u001b[39m=\u001b[39;49m\u001b[39m'\u001b[39;49m\u001b[39mpremise_upper2\u001b[39;49m\u001b[39m'\u001b[39;49m, overwrite\u001b[39m=\u001b[39;49m\u001b[39mTrue\u001b[39;49;00m, num_jobs\u001b[39m=\u001b[39;49m\u001b[39m-\u001b[39;49m\u001b[39m1\u001b[39;49m)\n",
      "File \u001b[0;32m~/Code/lilac/lilac/data/dataset_duckdb.py:2145\u001b[0m, in \u001b[0;36mDatasetDuckDB.map\u001b[0;34m(self, map_fn, output_path, input_paths, overwrite, combine_columns, resolve_span, num_jobs)\u001b[0m\n\u001b[1;32m   2142\u001b[0m get_task_manager()\u001b[39m.\u001b[39mwait(task_ids)\n\u001b[1;32m   2143\u001b[0m \u001b[39m# Raise errors that tasks may have produce. If a task throws an error, we don't write the output\u001b[39;00m\n\u001b[1;32m   2144\u001b[0m \u001b[39m# to the dataset.\u001b[39;00m\n\u001b[0;32m-> 2145\u001b[0m get_task_manager()\u001b[39m.\u001b[39;49mraise_from_tasks(task_ids)\n\u001b[1;32m   2147\u001b[0m \u001b[39m# Merge all the shard outputs.\u001b[39;00m\n\u001b[1;32m   2148\u001b[0m jsonl_view_name \u001b[39m=\u001b[39m \u001b[39m'\u001b[39m\u001b[39mtmp_output\u001b[39m\u001b[39m'\u001b[39m\n",
      "File \u001b[0;32m~/Code/lilac/lilac/tasks.py:191\u001b[0m, in \u001b[0;36mTaskManager.raise_from_tasks\u001b[0;34m(self, task_ids)\u001b[0m\n\u001b[1;32m    189\u001b[0m \u001b[39mfor\u001b[39;00m task_id \u001b[39min\u001b[39;00m task_ids:\n\u001b[1;32m    190\u001b[0m   \u001b[39mif\u001b[39;00m \u001b[39mself\u001b[39m\u001b[39m.\u001b[39m_tasks[task_id]\u001b[39m.\u001b[39mstatus \u001b[39m==\u001b[39m TaskStatus\u001b[39m.\u001b[39mERROR:\n\u001b[0;32m--> 191\u001b[0m     \u001b[39mraise\u001b[39;00m \u001b[39mException\u001b[39;00m(\u001b[39mself\u001b[39m\u001b[39m.\u001b[39m_tasks[task_id]\u001b[39m.\u001b[39merror)\n",
      "\u001b[0;31mException\u001b[0m: Throwing for 56505f14f6dc496e807018c3675ac840: \n['  File \"/Users/nikhil/Code/lilac/lilac/tasks.py\", line 289, in _execute_task\\n    task(*args)\\n        ^^^^^^^^\\n', '  File \"/Users/nikhil/Code/lilac/lilac/data/dataset_duckdb.py\", line 2351, in _map_worker\\n    for item in outputs:\\n    ^^^^^^^^^^^^^^^^^\\n', '  File \"/Users/nikhil/Code/lilac/lilac/tasks.py\", line 344, in progress\\n    for t in tq:\\n      ^^^^^^^^^^^\\n', '  File \"/Users/nikhil/Code/lilac/.venv/lib/python3.11/site-packages/tqdm/std.py\", line 1182, in __iter__\\n    for obj in iterable:\\n    ^^^^^^^^^^^^^^^^^\\n', '  File \"/Users/nikhil/Code/lilac/lilac/data/dataset_duckdb.py\", line 2327, in <genexpr>\\n    outputs = ({ROWID: row[ROWID], output_column: map_fn(row)} for row in _rows())\\n      ^^^^^^^^^^^^^^^^^\\n', '  File \"/var/folders/35/q7dnsp_x3v3b8mp46bb9w0qr0000gn/T/ipykernel_56207/3581942675.py\", line 8, in _upper\\n    raise ValueError(f\\'Throwing for {random_row_id}\\')\\n      ^^^^^^^^^^^^^^^^^\\n']"
     ]
    },
    {
     "name": "stdout",
     "output_type": "stream",
     "text": [
      "Task finished \"2d3c43ef8cbb4ac7b6d495d5d779a825\": \"[local/glue_ax_map_2][12/12] map \"_upper\" to \"premise_upper2\"\" in 3s.\n"
     ]
    }
   ],
   "source": [
    "throw_for_rowid = True\n",
    "\n",
    "random_row_id = list(glue.select_rows([ll.ROWID], limit=1))[0][ll.ROWID]\n",
    "\n",
    "def _upper(item):\n",
    "  global i, throw_after_n\n",
    "  if throw_for_rowid and item[ll.ROWID] == random_row_id:\n",
    "    raise ValueError(f'Throwing for {random_row_id}')\n",
    "  if not throw_for_rowid:\n",
    "    print(item['premise'].upper())\n",
    "  return item['premise'].upper()\n",
    "\n",
    "\n",
    "# This is going to throw after 10 iterations. When we call it again, it will only call _upper()\n",
    "# for the rest of the dataset.\n",
    "glue.map(_upper, output_path='premise_upper2', overwrite=True, num_jobs=-1)\n"
   ]
  },
  {
   "cell_type": "code",
   "execution_count": 4,
   "metadata": {},
   "outputs": [
    {
     "name": "stdout",
     "output_type": "stream",
     "text": [
      "Scheduling task \"f1f823a845fa4c2da6e31ba7a217845f\": \"[local/glue_ax_map_2][1/12] map \"_upper\" to \"premise_upper2\"\".\n",
      "Scheduling task \"8e92688926e24101b8466cf93a216a7e\": \"[local/glue_ax_map_2][2/12] map \"_upper\" to \"premise_upper2\"\".\n",
      "Scheduling task \"55c99c41b0e34ed086a6790d3939de87\": \"[local/glue_ax_map_2][3/12] map \"_upper\" to \"premise_upper2\"\".\n",
      "Scheduling task \"57a26c7b20d54ef0ac0bb1fc494461f5\": \"[local/glue_ax_map_2][4/12] map \"_upper\" to \"premise_upper2\"\".\n",
      "Scheduling task \"c78dfce7c3674e61866ab199c51638a7\": \"[local/glue_ax_map_2][5/12] map \"_upper\" to \"premise_upper2\"\".\n",
      "Scheduling task \"25115f3be9ea47ff8980f1164e746694\": \"[local/glue_ax_map_2][6/12] map \"_upper\" to \"premise_upper2\"\".\n",
      "Scheduling task \"a8ed3352630b4d9f93c1394bf1f33b1c\": \"[local/glue_ax_map_2][7/12] map \"_upper\" to \"premise_upper2\"\".\n",
      "Scheduling task \"d45f3223232e426da934df5d7722db82\": \"[local/glue_ax_map_2][8/12] map \"_upper\" to \"premise_upper2\"\".\n",
      "Scheduling task \"3a3cf62705414416a47a86ca86aeebeb\": \"[local/glue_ax_map_2][9/12] map \"_upper\" to \"premise_upper2\"\".\n",
      "Scheduling task \"175cb61c27db4ef9adcef1d336b995aa\": \"[local/glue_ax_map_2][10/12] map \"_upper\" to \"premise_upper2\"\".\n",
      "Scheduling task \"64b3a516e9e84eed9e695860e11a98a9\": \"[local/glue_ax_map_2][11/12] map \"_upper\" to \"premise_upper2\"\".\n",
      "Scheduling task \"5023621058fd48278094fbd3033e97ac\": \"[local/glue_ax_map_2][12/12] map \"_upper\" to \"premise_upper2\"\".\n"
     ]
    },
    {
     "name": "stderr",
     "output_type": "stream",
     "text": [
      "[local/glue_ax_map_2][1/12] map \"_upper\" to \"premise_upper2\":   0%|          | 0/100 [00:00<?, ?it/s]\n",
      "[local/glue_ax_map_2][2/12] map \"_upper\" to \"premise_upper2\":   0%|          | 0/100 [00:00<?, ?it/s]\n",
      "[local/glue_ax_map_2][3/12] map \"_upper\" to \"premise_upper2\":   0%|          | 0/100 [00:00<?, ?it/s]\n",
      "[local/glue_ax_map_2][4/12] map \"_upper\" to \"premise_upper2\":   0%|          | 0/100 [00:00<?, ?it/s]\n",
      "[local/glue_ax_map_2][6/12] map \"_upper\" to \"premise_upper2\":   0%|          | 0/100 [00:00<?, ?it/s]\n"
     ]
    },
    {
     "name": "stdout",
     "output_type": "stream",
     "text": [
      "THE CAT SAT ON THE MAT.\n"
     ]
    },
    {
     "name": "stderr",
     "output_type": "stream",
     "text": [
      "[local/glue_ax_map_2][5/12] map \"_upper\" to \"premise_upper2\":   3%|▎         | 3/100 [00:00<00:12,  7.53it/s]\n"
     ]
    },
    {
     "name": "stdout",
     "output_type": "stream",
     "text": [
      "SOME DOGS LIKE TO SCRATCH THEIR EARS.\n",
      "ALL DOGS LIKE TO SCRATCH THEIR EARS.\n"
     ]
    },
    {
     "name": "stderr",
     "output_type": "stream",
     "text": [
      "[local/glue_ax_map_2][8/12] map \"_upper\" to \"premise_upper2\":   0%|          | 0/100 [00:00<?, ?it/s]\n",
      "\n",
      "[local/glue_ax_map_2][9/12] map \"_upper\" to \"premise_upper2\":   0%|          | 0/100 [00:00<?, ?it/s]]\n",
      "[local/glue_ax_map_2][10/12] map \"_upper\" to \"premise_upper2\":   0%|          | 0/100 [00:00<?, ?it/s]\n",
      "[local/glue_ax_map_2][11/12] map \"_upper\" to \"premise_upper2\":   0%|          | 0/100 [00:00<?, ?it/s]"
     ]
    },
    {
     "name": "stdout",
     "output_type": "stream",
     "text": [
      "Task finished \"f1f823a845fa4c2da6e31ba7a217845f\": \"[local/glue_ax_map_2][1/12] map \"_upper\" to \"premise_upper2\"\" in 2s.\n",
      "Task finished \"8e92688926e24101b8466cf93a216a7e\": \"[local/glue_ax_map_2][2/12] map \"_upper\" to \"premise_upper2\"\" in 2s.\n",
      "Task finished \"55c99c41b0e34ed086a6790d3939de87\": \"[local/glue_ax_map_2][3/12] map \"_upper\" to \"premise_upper2\"\" in 2s.\n",
      "Task finished \"57a26c7b20d54ef0ac0bb1fc494461f5\": \"[local/glue_ax_map_2][4/12] map \"_upper\" to \"premise_upper2\"\" in 2s.\n",
      "Task finished \"25115f3be9ea47ff8980f1164e746694\": \"[local/glue_ax_map_2][6/12] map \"_upper\" to \"premise_upper2\"\" in 2s.\n",
      "Task finished \"c78dfce7c3674e61866ab199c51638a7\": \"[local/glue_ax_map_2][5/12] map \"_upper\" to \"premise_upper2\"\" in 2s.\n",
      "Task finished \"a8ed3352630b4d9f93c1394bf1f33b1c\": \"[local/glue_ax_map_2][7/12] map \"_upper\" to \"premise_upper2\"\" in 2s.\n",
      "Task finished \"d45f3223232e426da934df5d7722db82\": \"[local/glue_ax_map_2][8/12] map \"_upper\" to \"premise_upper2\"\" in 2s.\n",
      "Task finished \"3a3cf62705414416a47a86ca86aeebeb\": \"[local/glue_ax_map_2][9/12] map \"_upper\" to \"premise_upper2\"\" in 2s.\n",
      "Task finished \"175cb61c27db4ef9adcef1d336b995aa\": \"[local/glue_ax_map_2][10/12] map \"_upper\" to \"premise_upper2\"\" in 2s.\n",
      "Task finished \"64b3a516e9e84eed9e695860e11a98a9\": \"[local/glue_ax_map_2][11/12] map \"_upper\" to \"premise_upper2\"\" in 3s.\n",
      "Wrote map output to ./data/datasets/local/glue_ax_map_2/premise_upper2-00000-of-00001.parquet\n"
     ]
    },
    {
     "name": "stderr",
     "output_type": "stream",
     "text": [
      "[local/glue_ax_map_2][11/12] map \"_upper\" to \"premise_upper2\":   0%|          | 0/100 [00:00<?, ?it/s]\n",
      "[local/glue_ax_map_2][12/12] map \"_upper\" to \"premise_upper2\":   0%|          | 0/100 [00:00<?, ?it/s]\n"
     ]
    },
    {
     "data": {
      "text/plain": [
       "<lilac.data.dataset_duckdb.DuckDBMapOutput at 0x30205ce50>"
      ]
     },
     "execution_count": 4,
     "metadata": {},
     "output_type": "execute_result"
    },
    {
     "name": "stdout",
     "output_type": "stream",
     "text": [
      "Task finished \"5023621058fd48278094fbd3033e97ac\": \"[local/glue_ax_map_2][12/12] map \"_upper\" to \"premise_upper2\"\" in 3s.\n"
     ]
    }
   ],
   "source": [
    "throw_for_rowid = False\n",
    "# This will finish calling _upper, without calling it for the first 10 items.\n",
    "glue.map(_upper, output_path='premise_upper2', num_jobs=-1)\n"
   ]
  },
  {
   "cell_type": "code",
   "execution_count": null,
   "metadata": {},
   "outputs": [],
   "source": []
  }
 ],
 "metadata": {
  "kernelspec": {
   "display_name": ".venv",
   "language": "python",
   "name": "python3"
  },
  "language_info": {
   "codemirror_mode": {
    "name": "ipython",
    "version": 3
   },
   "file_extension": ".py",
   "mimetype": "text/x-python",
   "name": "python",
   "nbconvert_exporter": "python",
   "pygments_lexer": "ipython3",
   "version": "3.11.4"
  }
 },
 "nbformat": 4,
 "nbformat_minor": 2
}
