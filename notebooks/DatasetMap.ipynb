{
 "cells": [
  {
   "cell_type": "markdown",
   "metadata": {},
   "source": [
    "# Dataset.map()\n",
    "\n",
    "This notebook shows a workflow for using `Dataset.map`. This method is useful for creating a new column with a custom map function to generate the output.\n"
   ]
  },
  {
   "cell_type": "code",
   "execution_count": 1,
   "metadata": {},
   "outputs": [
    {
     "name": "stderr",
     "output_type": "stream",
     "text": [
      "/Users/nikhil/Code/lilac/.venv/lib/python3.9/site-packages/tqdm/auto.py:21: TqdmWarning: IProgress not found. Please update jupyter and ipywidgets. See https://ipywidgets.readthedocs.io/en/stable/user_install.html\n",
      "  from .autonotebook import tqdm as notebook_tqdm\n"
     ]
    },
    {
     "name": "stdout",
     "output_type": "stream",
     "text": [
      "Executing:\n",
      "SELECT COUNT() as count FROM t\n",
      "Query took 0.000s.\n"
     ]
    }
   ],
   "source": [
    "import lilac as ll\n",
    "\n",
    "ll.set_project_dir('./data')\n",
    "\n",
    "try:\n",
    "  glue = ll.get_dataset('local', 'glue_ax_map')\n",
    "except:\n",
    "  glue = ll.create_dataset(\n",
    "    ll.DatasetConfig(\n",
    "      namespace='local',\n",
    "      name='glue_ax_map',\n",
    "      source=ll.HuggingFaceSource(\n",
    "        dataset_name='glue',\n",
    "        config_name='ax',\n",
    "      )))\n",
    "\n",
    "#ll.start_server()\n"
   ]
  },
  {
   "cell_type": "markdown",
   "metadata": {},
   "source": [
    "# Upper case 'premise'\n",
    "\n",
    "The following map will upper case the 'premise' field from the dataset.\n",
    "\n",
    "The output of the map is returned as a generator.\n"
   ]
  },
  {
   "cell_type": "code",
   "execution_count": 2,
   "metadata": {},
   "outputs": [
    {
     "name": "stdout",
     "output_type": "stream",
     "text": [
      "got output path None\n"
     ]
    },
    {
     "name": "stderr",
     "output_type": "stream",
     "text": [
      "Computing map over ['*', '__rowid__']: 100%|██████████| 1104/1104 [00:00<00:00, 72384.54it/s]"
     ]
    },
    {
     "name": "stdout",
     "output_type": "stream",
     "text": [
      "OP= None\n",
      "THE CAT SAT ON THE MAT.\n"
     ]
    },
    {
     "name": "stderr",
     "output_type": "stream",
     "text": [
      "\n"
     ]
    },
    {
     "ename": "ValueError",
     "evalue": "Unable to select path ('premise_upper',). Path part \"premise_upper\" not found in the dataset.",
     "output_type": "error",
     "traceback": [
      "\u001b[0;31m---------------------------------------------------------------------------\u001b[0m",
      "\u001b[0;31mValueError\u001b[0m                                Traceback (most recent call last)",
      "\u001b[1;32m/Users/nikhil/Code/lilac/notebooks/DatasetMap.ipynb Cell 4\u001b[0m line \u001b[0;36m8\n\u001b[1;32m      <a href='vscode-notebook-cell:/Users/nikhil/Code/lilac/notebooks/DatasetMap.ipynb#W4sZmlsZQ%3D%3D?line=5'>6</a>\u001b[0m \u001b[39m# Write the output to a column 'premise_upper'.\u001b[39;00m\n\u001b[1;32m      <a href='vscode-notebook-cell:/Users/nikhil/Code/lilac/notebooks/DatasetMap.ipynb#W4sZmlsZQ%3D%3D?line=6'>7</a>\u001b[0m glue\u001b[39m.\u001b[39mmap(\u001b[39mlambda\u001b[39;00m item: item[\u001b[39m'\u001b[39m\u001b[39mpremise\u001b[39m\u001b[39m'\u001b[39m]\u001b[39m.\u001b[39mupper(), output_path\u001b[39m=\u001b[39m\u001b[39m'\u001b[39m\u001b[39mpremise_upper\u001b[39m\u001b[39m'\u001b[39m)\n\u001b[0;32m----> <a href='vscode-notebook-cell:/Users/nikhil/Code/lilac/notebooks/DatasetMap.ipynb#W4sZmlsZQ%3D%3D?line=7'>8</a>\u001b[0m glue\u001b[39m.\u001b[39;49mselect_rows([\u001b[39m'\u001b[39;49m\u001b[39mpremise\u001b[39;49m\u001b[39m'\u001b[39;49m, \u001b[39m'\u001b[39;49m\u001b[39mpremise_upper\u001b[39;49m\u001b[39m'\u001b[39;49m], limit\u001b[39m=\u001b[39;49m\u001b[39m1\u001b[39;49m)\n",
      "File \u001b[0;32m~/Code/lilac/lilac/data/dataset_duckdb.py:1061\u001b[0m, in \u001b[0;36mDatasetDuckDB.select_rows\u001b[0;34m(self, columns, searches, filters, sort_by, sort_order, limit, offset, task_step_id, resolve_span, combine_columns, user)\u001b[0m\n\u001b[1;32m   1053\u001b[0m \u001b[39mif\u001b[39;00m combine_columns:\n\u001b[1;32m   1054\u001b[0m   schema \u001b[39m=\u001b[39m \u001b[39mself\u001b[39m\u001b[39m.\u001b[39mselect_rows_schema(\n\u001b[1;32m   1055\u001b[0m     [Column(path\u001b[39m=\u001b[39mPATH_WILDCARD)] \u001b[39m+\u001b[39m udf_columns,\n\u001b[1;32m   1056\u001b[0m     sort_by,\n\u001b[1;32m   1057\u001b[0m     sort_order,\n\u001b[1;32m   1058\u001b[0m     searches,\n\u001b[1;32m   1059\u001b[0m     combine_columns\u001b[39m=\u001b[39m\u001b[39mTrue\u001b[39;00m)\u001b[39m.\u001b[39mdata_schema\n\u001b[0;32m-> 1061\u001b[0m \u001b[39mself\u001b[39;49m\u001b[39m.\u001b[39;49m_validate_columns(cols, manifest\u001b[39m.\u001b[39;49mdata_schema, schema)\n\u001b[1;32m   1063\u001b[0m temp_rowid_selected \u001b[39m=\u001b[39m \u001b[39mFalse\u001b[39;00m\n\u001b[1;32m   1064\u001b[0m \u001b[39mfor\u001b[39;00m col \u001b[39min\u001b[39;00m cols:\n",
      "File \u001b[0;32m~/Code/lilac/lilac/data/dataset_duckdb.py:755\u001b[0m, in \u001b[0;36mDatasetDuckDB._validate_columns\u001b[0;34m(self, columns, source_schema, select_schema)\u001b[0m\n\u001b[1;32m    753\u001b[0m udf_cols \u001b[39m=\u001b[39m [col \u001b[39mfor\u001b[39;00m col \u001b[39min\u001b[39;00m columns \u001b[39mif\u001b[39;00m col\u001b[39m.\u001b[39msignal_udf]\n\u001b[1;32m    754\u001b[0m \u001b[39mself\u001b[39m\u001b[39m.\u001b[39m_validate_udfs(udf_cols, source_schema)\n\u001b[0;32m--> 755\u001b[0m \u001b[39mself\u001b[39;49m\u001b[39m.\u001b[39;49m_validate_selection(columns, select_schema)\n",
      "File \u001b[0;32m~/Code/lilac/lilac/data/dataset_duckdb.py:735\u001b[0m, in \u001b[0;36mDatasetDuckDB._validate_selection\u001b[0;34m(self, columns, select_schema)\u001b[0m\n\u001b[1;32m    733\u001b[0m \u001b[39mif\u001b[39;00m current_field\u001b[39m.\u001b[39mfields:\n\u001b[1;32m    734\u001b[0m   \u001b[39mif\u001b[39;00m path_part \u001b[39mnot\u001b[39;00m \u001b[39min\u001b[39;00m current_field\u001b[39m.\u001b[39mfields:\n\u001b[0;32m--> 735\u001b[0m     \u001b[39mraise\u001b[39;00m \u001b[39mValueError\u001b[39;00m(\u001b[39mf\u001b[39m\u001b[39m'\u001b[39m\u001b[39mUnable to select path \u001b[39m\u001b[39m{\u001b[39;00mpath\u001b[39m}\u001b[39;00m\u001b[39m. \u001b[39m\u001b[39m'\u001b[39m\n\u001b[1;32m    736\u001b[0m                      \u001b[39mf\u001b[39m\u001b[39m'\u001b[39m\u001b[39mPath part \u001b[39m\u001b[39m\"\u001b[39m\u001b[39m{\u001b[39;00mpath_part\u001b[39m}\u001b[39;00m\u001b[39m\"\u001b[39m\u001b[39m not found in the dataset.\u001b[39m\u001b[39m'\u001b[39m)\n\u001b[1;32m    737\u001b[0m   current_field \u001b[39m=\u001b[39m current_field\u001b[39m.\u001b[39mfields[path_part]\n\u001b[1;32m    738\u001b[0m   \u001b[39mcontinue\u001b[39;00m\n",
      "\u001b[0;31mValueError\u001b[0m: Unable to select path ('premise_upper',). Path part \"premise_upper\" not found in the dataset."
     ]
    }
   ],
   "source": [
    "# Upper case 'premise' and print the first result\n",
    "# This call does not save the output to a column.\n",
    "res = glue.map(lambda item: item['premise'].upper())\n",
    "print(next(iter(res)))\n",
    "\n",
    "# Write the output to a column 'premise_upper'.\n",
    "glue.map(lambda item: item['premise'].upper(), output_path='premise_upper')\n",
    "glue.select_rows(['premise', 'premise_upper'], limit=1)\n"
   ]
  },
  {
   "cell_type": "markdown",
   "metadata": {},
   "source": []
  },
  {
   "cell_type": "code",
   "execution_count": null,
   "metadata": {},
   "outputs": [],
   "source": []
  }
 ],
 "metadata": {
  "kernelspec": {
   "display_name": ".venv",
   "language": "python",
   "name": "python3"
  },
  "language_info": {
   "codemirror_mode": {
    "name": "ipython",
    "version": 3
   },
   "file_extension": ".py",
   "mimetype": "text/x-python",
   "name": "python",
   "nbconvert_exporter": "python",
   "pygments_lexer": "ipython3",
   "version": "3.9.17"
  }
 },
 "nbformat": 4,
 "nbformat_minor": 2
}
