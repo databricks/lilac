{
 "cells": [
  {
   "cell_type": "markdown",
   "metadata": {},
   "source": [
    "# Dataset.map()\n",
    "\n",
    "This notebook shows a workflow for using `Dataset.map`. This method is useful for creating a new column with a custom map function to generate the output.\n"
   ]
  },
  {
   "cell_type": "code",
   "execution_count": 1,
   "metadata": {},
   "outputs": [
    {
     "name": "stderr",
     "output_type": "stream",
     "text": [
      "/Users/nikhil/Code/lilac/.venv/lib/python3.9/site-packages/tqdm/auto.py:21: TqdmWarning: IProgress not found. Please update jupyter and ipywidgets. See https://ipywidgets.readthedocs.io/en/stable/user_install.html\n",
      "  from .autonotebook import tqdm as notebook_tqdm\n"
     ]
    }
   ],
   "source": [
    "import lilac as ll\n",
    "\n",
    "ll.set_project_dir('./data')\n",
    "\n",
    "try:\n",
    "  glue = ll.get_dataset('local', 'glue_ax_map')\n",
    "except:\n",
    "  glue = ll.create_dataset(\n",
    "    ll.DatasetConfig(\n",
    "      namespace='local',\n",
    "      name='glue_ax_map',\n",
    "      source=ll.HuggingFaceSource(\n",
    "        dataset_name='glue',\n",
    "        config_name='ax',\n",
    "      )))\n",
    "\n",
    "#ll.start_server()\n"
   ]
  },
  {
   "cell_type": "markdown",
   "metadata": {},
   "source": [
    "# Upper case 'premise'\n",
    "\n",
    "The following map will upper case the 'premise' field from the dataset.\n",
    "\n",
    "The output of the map is returned as a generator.\n"
   ]
  },
  {
   "cell_type": "code",
   "execution_count": 2,
   "metadata": {},
   "outputs": [
    {
     "name": "stderr",
     "output_type": "stream",
     "text": [
      "Computing map over ['*', '__rowid__']:   0%|          | 0/1104 [00:00<?, ?it/s]"
     ]
    },
    {
     "name": "stderr",
     "output_type": "stream",
     "text": [
      "Computing map over ['*', '__rowid__']: 100%|██████████| 1104/1104 [00:00<00:00, 53158.89it/s]\n"
     ]
    },
    {
     "name": "stdout",
     "output_type": "stream",
     "text": [
      "THE CAT SAT ON THE MAT.\n",
      "\n"
     ]
    },
    {
     "name": "stderr",
     "output_type": "stream",
     "text": [
      "Computing map over ['*', '__rowid__']: 100%|██████████| 1104/1104 [00:00<00:00, 57608.48it/s]"
     ]
    },
    {
     "name": "stdout",
     "output_type": "stream",
     "text": [
      "Wrote map output to ./data/datasets/local/glue_ax_map/premise_upper-00000-of-00001.parquet\n",
      "{'premise': 'The cat sat on the mat.', 'premise_upper': 'THE CAT SAT ON THE MAT.'}\n",
      "{'premise': \"When you've got no snow, it's really hard to learn a snow sport so we looked at all the different ways I could mimic being on snow without actually being on snow.\", 'premise_upper': \"WHEN YOU'VE GOT NO SNOW, IT'S REALLY HARD TO LEARN A SNOW SPORT SO WE LOOKED AT ALL THE DIFFERENT WAYS I COULD MIMIC BEING ON SNOW WITHOUT ACTUALLY BEING ON SNOW.\"}\n",
      "{'premise': \"When you've got snow, it's really hard to learn a snow sport so we looked at all the different ways I could mimic being on snow without actually being on snow.\", 'premise_upper': \"WHEN YOU'VE GOT SNOW, IT'S REALLY HARD TO LEARN A SNOW SPORT SO WE LOOKED AT ALL THE DIFFERENT WAYS I COULD MIMIC BEING ON SNOW WITHOUT ACTUALLY BEING ON SNOW.\"}\n"
     ]
    },
    {
     "name": "stderr",
     "output_type": "stream",
     "text": [
      "\n"
     ]
    }
   ],
   "source": [
    "# Upper case 'premise' and print the first result\n",
    "# This call does not save the output to a column.\n",
    "res = glue.map(lambda item: item['premise'].upper())\n",
    "print(next(iter(res)))\n",
    "print()\n",
    "\n",
    "# Write the output to a column 'premise_upper'.\n",
    "glue.map(lambda item: item['premise'].upper(), output_path='premise_upper', overwrite=True)\n",
    "\n",
    "rows = glue.select_rows(['premise', 'premise_upper'], limit=3)\n",
    "for row in rows:\n",
    "  print(row)\n"
   ]
  },
  {
   "cell_type": "markdown",
   "metadata": {},
   "source": [
    "# Map continuation during an error, or computer shutdown\n",
    "\n",
    "`dataset.map()` will not lose data if an error is thrown when writing to disk. The next time it is called, it will continue from where it left off. Once it is finally complete, the column is written.\n"
   ]
  },
  {
   "cell_type": "code",
   "execution_count": 4,
   "metadata": {},
   "outputs": [
    {
     "name": "stderr",
     "output_type": "stream",
     "text": [
      "Computing map over ['*', '__rowid__']:   1%|          | 11/1104 [00:00<00:00, 1100.11it/s]"
     ]
    },
    {
     "name": "stdout",
     "output_type": "stream",
     "text": [
      "BREXIT IS A REVERSIBLE DECISION, SIR MIKE RAKE, THE CHAIRMAN OF WORLDPAY AND EX-CHAIRMAN OF BT GROUP, SAID AS CALLS FOR A SECOND EU REFERENDUM WERE SPARKED LAST WEEK.\n",
      "WE BUILT OUR SOCIETY ON UNCLEAN ENERGY.\n",
      "WE BUILT OUR SOCIETY ON CLEAN ENERGY.\n",
      "PURSUING A STRATEGY OF NONVIOLENT PROTEST, GANDHI TOOK THE ADMINISTRATION BY SURPRISE AND WON CONCESSIONS FROM THE AUTHORITIES.\n",
      "PURSUING A STRATEGY OF VIOLENT PROTEST, GANDHI TOOK THE ADMINISTRATION BY SURPRISE AND WON CONCESSIONS FROM THE AUTHORITIES.\n",
      "PURSUING A STRATEGY OF NONVIOLENT PROTEST, GANDHI TOOK THE ADMINISTRATION BY SURPRISE AND WON CONCESSIONS FROM THE AUTHORITIES.\n",
      "PURSUING A STRATEGY OF PROTEST, GANDHI TOOK THE ADMINISTRATION BY SURPRISE AND WON CONCESSIONS FROM THE AUTHORITIES.\n",
      "AND IF BOTH APPLY, THEY ARE ESSENTIALLY IMPOSSIBLE.\n",
      "AND IF BOTH APPLY, THEY ARE ESSENTIALLY POSSIBLE.\n",
      "WRITING JAVA IS NOT TOO DIFFERENT FROM PROGRAMMING WITH HANDCUFFS.\n",
      "WRITING JAVA IS SIMILAR TO PROGRAMMING WITH HANDCUFFS.\n"
     ]
    },
    {
     "name": "stderr",
     "output_type": "stream",
     "text": [
      "\n"
     ]
    },
    {
     "ename": "ValueError",
     "evalue": "Throwing after 11",
     "output_type": "error",
     "traceback": [
      "\u001b[0;31m---------------------------------------------------------------------------\u001b[0m",
      "\u001b[0;31mValueError\u001b[0m                                Traceback (most recent call last)",
      "\u001b[1;32m/Users/nikhil/Code/lilac/notebooks/DatasetMap.ipynb Cell 6\u001b[0m line \u001b[0;36m1\n\u001b[1;32m     <a href='vscode-notebook-cell:/Users/nikhil/Code/lilac/notebooks/DatasetMap.ipynb#W2sZmlsZQ%3D%3D?line=11'>12</a>\u001b[0m   \u001b[39mreturn\u001b[39;00m item[\u001b[39m'\u001b[39m\u001b[39mpremise\u001b[39m\u001b[39m'\u001b[39m]\u001b[39m.\u001b[39mupper()\n\u001b[1;32m     <a href='vscode-notebook-cell:/Users/nikhil/Code/lilac/notebooks/DatasetMap.ipynb#W2sZmlsZQ%3D%3D?line=14'>15</a>\u001b[0m \u001b[39m# This is going to throw after 10 iterations. When we call it again, it will only call _upper()\u001b[39;00m\n\u001b[1;32m     <a href='vscode-notebook-cell:/Users/nikhil/Code/lilac/notebooks/DatasetMap.ipynb#W2sZmlsZQ%3D%3D?line=15'>16</a>\u001b[0m \u001b[39m# for the rest of the dataset.\u001b[39;00m\n\u001b[0;32m---> <a href='vscode-notebook-cell:/Users/nikhil/Code/lilac/notebooks/DatasetMap.ipynb#W2sZmlsZQ%3D%3D?line=16'>17</a>\u001b[0m glue\u001b[39m.\u001b[39;49mmap(_upper, output_path\u001b[39m=\u001b[39;49m\u001b[39m'\u001b[39;49m\u001b[39mpremise_upper2\u001b[39;49m\u001b[39m'\u001b[39;49m)\n\u001b[1;32m     <a href='vscode-notebook-cell:/Users/nikhil/Code/lilac/notebooks/DatasetMap.ipynb#W2sZmlsZQ%3D%3D?line=18'>19</a>\u001b[0m throw_after_n \u001b[39m=\u001b[39m \u001b[39mFalse\u001b[39;00m\n\u001b[1;32m     <a href='vscode-notebook-cell:/Users/nikhil/Code/lilac/notebooks/DatasetMap.ipynb#W2sZmlsZQ%3D%3D?line=19'>20</a>\u001b[0m \u001b[39m# This will finish calling _upper, without calling it for the first 10 items.\u001b[39;00m\n",
      "File \u001b[0;32m~/Code/lilac/lilac/data/dataset_duckdb.py:2034\u001b[0m, in \u001b[0;36mDatasetDuckDB.map\u001b[0;34m(self, map_fn, output_path, input_paths, overwrite, combine_columns, resolve_span, task_step_id)\u001b[0m\n\u001b[1;32m   2031\u001b[0m   write_mode \u001b[39m=\u001b[39m \u001b[39m'\u001b[39m\u001b[39mw\u001b[39m\u001b[39m'\u001b[39m\n\u001b[1;32m   2033\u001b[0m \u001b[39mwith\u001b[39;00m fs\u001b[39m.\u001b[39mopen(jsonl_filepath, write_mode) \u001b[39mas\u001b[39;00m file:\n\u001b[0;32m-> 2034\u001b[0m   \u001b[39mfor\u001b[39;00m item \u001b[39min\u001b[39;00m outputs:\n\u001b[1;32m   2035\u001b[0m     json\u001b[39m.\u001b[39mdump(item, file)\n\u001b[1;32m   2036\u001b[0m     file\u001b[39m.\u001b[39mwrite(\u001b[39m'\u001b[39m\u001b[39m\\n\u001b[39;00m\u001b[39m'\u001b[39m)\n",
      "File \u001b[0;32m~/Code/lilac/lilac/tasks.py:275\u001b[0m, in \u001b[0;36mprogress\u001b[0;34m(it, task_step_id, estimated_len, step_description, emit_every_s)\u001b[0m\n\u001b[1;32m    273\u001b[0m \u001b[39m\u001b[39m\u001b[39m\"\"\"An iterable wrapper that emits progress and yields the original iterable.\"\"\"\u001b[39;00m\n\u001b[1;32m    274\u001b[0m \u001b[39mif\u001b[39;00m \u001b[39mnot\u001b[39;00m task_step_id \u001b[39mor\u001b[39;00m task_step_id[\u001b[39m0\u001b[39m] \u001b[39m==\u001b[39m \u001b[39m'\u001b[39m\u001b[39m'\u001b[39m:\n\u001b[0;32m--> 275\u001b[0m   \u001b[39myield from\u001b[39;00m tqdm(it, desc\u001b[39m=\u001b[39mstep_description, total\u001b[39m=\u001b[39mestimated_len)\n\u001b[1;32m    276\u001b[0m   \u001b[39mreturn\u001b[39;00m\n\u001b[1;32m    278\u001b[0m task_id, step_id \u001b[39m=\u001b[39m task_step_id\n",
      "File \u001b[0;32m~/Code/lilac/.venv/lib/python3.9/site-packages/tqdm/std.py:1182\u001b[0m, in \u001b[0;36mtqdm.__iter__\u001b[0;34m(self)\u001b[0m\n\u001b[1;32m   1179\u001b[0m time \u001b[39m=\u001b[39m \u001b[39mself\u001b[39m\u001b[39m.\u001b[39m_time\n\u001b[1;32m   1181\u001b[0m \u001b[39mtry\u001b[39;00m:\n\u001b[0;32m-> 1182\u001b[0m     \u001b[39mfor\u001b[39;00m obj \u001b[39min\u001b[39;00m iterable:\n\u001b[1;32m   1183\u001b[0m         \u001b[39myield\u001b[39;00m obj\n\u001b[1;32m   1184\u001b[0m         \u001b[39m# Update and possibly print the progressbar.\u001b[39;00m\n\u001b[1;32m   1185\u001b[0m         \u001b[39m# Note: does not call self.update(1) for speed optimisation.\u001b[39;00m\n",
      "File \u001b[0;32m~/Code/lilac/lilac/data/dataset_duckdb.py:2003\u001b[0m, in \u001b[0;36m<genexpr>\u001b[0;34m(.0)\u001b[0m\n\u001b[1;32m   2000\u001b[0m       df_chunk \u001b[39m=\u001b[39m pd\u001b[39m.\u001b[39mDataFrame\u001b[39m.\u001b[39mfrom_records(df_chunk[\u001b[39m'\u001b[39m\u001b[39m*\u001b[39m\u001b[39m'\u001b[39m])\n\u001b[1;32m   2001\u001b[0m     \u001b[39myield from\u001b[39;00m df_chunk\u001b[39m.\u001b[39mto_dict(\u001b[39m'\u001b[39m\u001b[39mrecords\u001b[39m\u001b[39m'\u001b[39m)\n\u001b[0;32m-> 2003\u001b[0m outputs \u001b[39m=\u001b[39m ({ROWID: row[ROWID], output_column: map_fn(row)} \u001b[39mfor\u001b[39;00m row \u001b[39min\u001b[39;00m _rows())\n\u001b[1;32m   2005\u001b[0m \u001b[39m# Add progress.\u001b[39;00m\n\u001b[1;32m   2006\u001b[0m \u001b[39mif\u001b[39;00m task_step_id \u001b[39mis\u001b[39;00m \u001b[39mnot\u001b[39;00m \u001b[39mNone\u001b[39;00m:\n",
      "\u001b[1;32m/Users/nikhil/Code/lilac/notebooks/DatasetMap.ipynb Cell 6\u001b[0m line \u001b[0;36m9\n\u001b[1;32m      <a href='vscode-notebook-cell:/Users/nikhil/Code/lilac/notebooks/DatasetMap.ipynb#W2sZmlsZQ%3D%3D?line=6'>7</a>\u001b[0m \u001b[39mglobal\u001b[39;00m i\n\u001b[1;32m      <a href='vscode-notebook-cell:/Users/nikhil/Code/lilac/notebooks/DatasetMap.ipynb#W2sZmlsZQ%3D%3D?line=7'>8</a>\u001b[0m \u001b[39mif\u001b[39;00m throw_after_n \u001b[39mand\u001b[39;00m i \u001b[39m>\u001b[39m throw_after_n:\n\u001b[0;32m----> <a href='vscode-notebook-cell:/Users/nikhil/Code/lilac/notebooks/DatasetMap.ipynb#W2sZmlsZQ%3D%3D?line=8'>9</a>\u001b[0m   \u001b[39mraise\u001b[39;00m \u001b[39mValueError\u001b[39;00m(\u001b[39mf\u001b[39m\u001b[39m'\u001b[39m\u001b[39mThrowing after \u001b[39m\u001b[39m{\u001b[39;00mi\u001b[39m}\u001b[39;00m\u001b[39m'\u001b[39m)\n\u001b[1;32m     <a href='vscode-notebook-cell:/Users/nikhil/Code/lilac/notebooks/DatasetMap.ipynb#W2sZmlsZQ%3D%3D?line=9'>10</a>\u001b[0m i \u001b[39m+\u001b[39m\u001b[39m=\u001b[39m \u001b[39m1\u001b[39m\n\u001b[1;32m     <a href='vscode-notebook-cell:/Users/nikhil/Code/lilac/notebooks/DatasetMap.ipynb#W2sZmlsZQ%3D%3D?line=10'>11</a>\u001b[0m \u001b[39mprint\u001b[39m(item[\u001b[39m'\u001b[39m\u001b[39mpremise\u001b[39m\u001b[39m'\u001b[39m]\u001b[39m.\u001b[39mupper())\n",
      "\u001b[0;31mValueError\u001b[0m: Throwing after 11"
     ]
    }
   ],
   "source": [
    "throw_after_n = 10\n",
    "i = 0\n",
    "\n",
    "\n",
    "def _upper(item):\n",
    "  global i, throw_after_n\n",
    "  if throw_after_n and i > throw_after_n:\n",
    "    raise ValueError(f'Throwing after {i}')\n",
    "  i += 1\n",
    "  print(item['premise'].upper())\n",
    "  return item['premise'].upper()\n",
    "\n",
    "\n",
    "# This is going to throw after 10 iterations. When we call it again, it will only call _upper()\n",
    "# for the rest of the dataset.\n",
    "glue.map(_upper, output_path='premise_upper2')\n",
    "\n",
    "throw_after_n = False\n",
    "# This will finish calling _upper, without calling it for the first 10 items.\n",
    "glue.map(_upper, output_path='premise_upper2')\n"
   ]
  },
  {
   "cell_type": "code",
   "execution_count": null,
   "metadata": {},
   "outputs": [],
   "source": []
  }
 ],
 "metadata": {
  "kernelspec": {
   "display_name": ".venv",
   "language": "python",
   "name": "python3"
  },
  "language_info": {
   "codemirror_mode": {
    "name": "ipython",
    "version": 3
   },
   "file_extension": ".py",
   "mimetype": "text/x-python",
   "name": "python",
   "nbconvert_exporter": "python",
   "pygments_lexer": "ipython3",
   "version": "3.9.17"
  }
 },
 "nbformat": 4,
 "nbformat_minor": 2
}
