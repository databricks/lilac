{
 "cells": [
  {
   "cell_type": "markdown",
   "metadata": {},
   "source": [
    "# Dataset.map()\n",
    "\n",
    "This notebook shows a workflow for using `Dataset.map`. This method is useful for creating a new column with a custom map function to generate the output.\n"
   ]
  },
  {
   "cell_type": "code",
   "execution_count": 1,
   "metadata": {},
   "outputs": [
    {
     "name": "stderr",
     "output_type": "stream",
     "text": [
      "/Users/nikhil/Code/lilac/.venv/lib/python3.11/site-packages/tqdm/auto.py:21: TqdmWarning: IProgress not found. Please update jupyter and ipywidgets. See https://ipywidgets.readthedocs.io/en/stable/user_install.html\n",
      "  from .autonotebook import tqdm as notebook_tqdm\n"
     ]
    },
    {
     "data": {
      "text/plain": [
       "True"
      ]
     },
     "execution_count": 1,
     "metadata": {},
     "output_type": "execute_result"
    }
   ],
   "source": [
    "%load_ext autoreload\n",
    "%autoreload 2\n",
    "import lilac as ll\n",
    "\n",
    "ll.set_project_dir('./data')\n",
    "\n",
    "try:\n",
    "  glue = ll.get_dataset('local', 'glue_ax_map_2')\n",
    "except:\n",
    "  glue = ll.create_dataset(\n",
    "    ll.DatasetConfig(\n",
    "      namespace='local',\n",
    "      name='glue_ax_map_2',\n",
    "      source=ll.HuggingFaceSource(\n",
    "        dataset_name='glue',\n",
    "        config_name='ax',\n",
    "        sample_size=100\n",
    "      )))\n",
    "\n",
    "#ll.start_server()"
   ]
  },
  {
   "cell_type": "markdown",
   "metadata": {},
   "source": [
    "# Upper case 'premise'\n",
    "\n",
    "The following map will upper case the 'premise' field from the dataset.\n",
    "\n",
    "The output of the map is returned as a generator.\n"
   ]
  },
  {
   "cell_type": "code",
   "execution_count": 2,
   "metadata": {},
   "outputs": [
    {
     "name": "stdout",
     "output_type": "stream",
     "text": [
      "Scheduling task \"99197345dced43ada2ba9fda35aaebd7\": \"[local/glue_ax_map_2] map \"_upper\"\".\n"
     ]
    },
    {
     "name": "stderr",
     "output_type": "stream",
     "text": [
      "/Users/nikhil/Code/lilac/.venv/lib/python3.11/site-packages/distributed/node.py:182: UserWarning: Port 8787 is already in use.\n",
      "Perhaps you already have a cluster running?\n",
      "Hosting the HTTP server on port 54128 instead\n",
      "  warnings.warn(\n"
     ]
    },
    {
     "name": "stdout",
     "output_type": "stream",
     "text": [
      "IF THE PIPELINE TOKENIZATION SCHEME DOES NOT CORRESPOND TO THE ONE THAT WAS USED WHEN A MODEL WAS CREATED, IT WOULD BE EXPECTED TO NEGATIVELY IMPACT THE PIPELINE RESULTS.\n",
      "\n"
     ]
    },
    {
     "name": "stderr",
     "output_type": "stream",
     "text": [
      "[local/glue_ax_map_2] map \"_upper\": 100%|██████████| 100/100 [00:00<00:00, 16572.38it/s]\n"
     ]
    },
    {
     "name": "stdout",
     "output_type": "stream",
     "text": [
      "Task finished \"99197345dced43ada2ba9fda35aaebd7\": \"[local/glue_ax_map_2] map \"_upper\"\" in 5s.\n"
     ]
    }
   ],
   "source": [
    "# Upper case 'premise' and print the first result\n",
    "# This call does not save the output to a column.\n",
    "def _upper(item: dict) -> str:\n",
    "  #print('premise==>', item['premise'])\n",
    "  return item['premise'].upper()\n",
    "\n",
    "res = glue.map(_upper)\n",
    "print(next(iter(res)))\n",
    "print()\n",
    "\n",
    "# # # Write the output to a column 'premise_upper'.\n",
    "# glue.map(lambda item: item['premise'].upper(), output_path='premise_upper', overwrite=True, num_jobs=-1)\n",
    "\n",
    "# rows = glue.select_rows(['premise', 'premise_upper'], limit=3)\n",
    "# for row in rows:\n",
    "#   print(row)\n"
   ]
  },
  {
   "cell_type": "markdown",
   "metadata": {},
   "source": [
    "# Map continuation during an error, or computer shutdown\n",
    "\n",
    "`dataset.map()` will not lose data if an error is thrown when writing to disk. The next time it is called, it will continue from where it left off. Once it is finally complete, the column is written.\n"
   ]
  },
  {
   "cell_type": "code",
   "execution_count": 3,
   "metadata": {},
   "outputs": [
    {
     "name": "stdout",
     "output_type": "stream",
     "text": [
      "Scheduling task \"1da54efcbe0f497e9bd9085cf98144e6\": \"[local/glue_ax_map_2][1/12] map \"_upper\" to \"premise_upper2\"\".\n",
      "Scheduling task \"e6d7dae5dd5a460e88d2d0e384636380\": \"[local/glue_ax_map_2][2/12] map \"_upper\" to \"premise_upper2\"\".\n",
      "Scheduling task \"704e030c9c71413881b6539511fe1aa1\": \"[local/glue_ax_map_2][3/12] map \"_upper\" to \"premise_upper2\"\".\n",
      "Scheduling task \"5621b696af3a4962a08c3da2fdd67fe3\": \"[local/glue_ax_map_2][4/12] map \"_upper\" to \"premise_upper2\"\".\n",
      "Scheduling task \"2ba96252fefa4200b815c8ddabbf5fed\": \"[local/glue_ax_map_2][5/12] map \"_upper\" to \"premise_upper2\"\".\n",
      "Scheduling task \"d5a8710fba1647aea11eb1bc96c42111\": \"[local/glue_ax_map_2][6/12] map \"_upper\" to \"premise_upper2\"\".\n",
      "Scheduling task \"c92841f9775e4071bae1178c675cf8bd\": \"[local/glue_ax_map_2][7/12] map \"_upper\" to \"premise_upper2\"\".\n",
      "Scheduling task \"15f763466dfe4cd8b6344ed2b43e1ed2\": \"[local/glue_ax_map_2][8/12] map \"_upper\" to \"premise_upper2\"\".\n",
      "Scheduling task \"a922afdf40b94a638b8dac7b07b62294\": \"[local/glue_ax_map_2][9/12] map \"_upper\" to \"premise_upper2\"\".\n",
      "Scheduling task \"b2f6b5dbfec247d993c6bd8e409d6c76\": \"[local/glue_ax_map_2][10/12] map \"_upper\" to \"premise_upper2\"\".\n",
      "Scheduling task \"1f4032a8910c431db311d4bfd874b552\": \"[local/glue_ax_map_2][11/12] map \"_upper\" to \"premise_upper2\"\".\n",
      "Scheduling task \"c7e6304252154fd8a75f8ad5fc27f66e\": \"[local/glue_ax_map_2][12/12] map \"_upper\" to \"premise_upper2\"\".\n"
     ]
    },
    {
     "name": "stderr",
     "output_type": "stream",
     "text": [
      "/Users/nikhil/Code/lilac/.venv/lib/python3.11/site-packages/distributed/node.py:182: UserWarning: Port 8787 is already in use.\n",
      "Perhaps you already have a cluster running?\n",
      "Hosting the HTTP server on port 54248 instead\n",
      "  warnings.warn(\n",
      "[local/glue_ax_map_2][1/12] map \"_upper\" to \"premise_upper2\":   9%|▉         | 9/100 [00:00<00:00, 1152.95it/s]\n",
      "[local/glue_ax_map_2][2/12] map \"_upper\" to \"premise_upper2\":   9%|▉         | 9/100 [00:00<00:00, 604.27it/s]\n"
     ]
    },
    {
     "name": "stdout",
     "output_type": "stream",
     "text": [
      "Task finished \"1da54efcbe0f497e9bd9085cf98144e6\": \"[local/glue_ax_map_2][1/12] map \"_upper\" to \"premise_upper2\"\" in 8s.\n",
      "Task finished \"e6d7dae5dd5a460e88d2d0e384636380\": \"[local/glue_ax_map_2][2/12] map \"_upper\" to \"premise_upper2\"\" in 8s.\n"
     ]
    },
    {
     "name": "stderr",
     "output_type": "stream",
     "text": [
      "[local/glue_ax_map_2][3/12] map \"_upper\" to \"premise_upper2\":   9%|▉         | 9/100 [00:00<00:00, 1401.63it/s]\n"
     ]
    },
    {
     "name": "stdout",
     "output_type": "stream",
     "text": [
      "Task finished \"704e030c9c71413881b6539511fe1aa1\": \"[local/glue_ax_map_2][3/12] map \"_upper\" to \"premise_upper2\"\" in 8s.\n"
     ]
    },
    {
     "name": "stderr",
     "output_type": "stream",
     "text": [
      "[local/glue_ax_map_2][4/12] map \"_upper\" to \"premise_upper2\":   9%|▉         | 9/100 [00:00<00:00, 1301.91it/s]\n"
     ]
    },
    {
     "name": "stdout",
     "output_type": "stream",
     "text": [
      "Task finished \"5621b696af3a4962a08c3da2fdd67fe3\": \"[local/glue_ax_map_2][4/12] map \"_upper\" to \"premise_upper2\"\" in 9s.\n",
      "Task error \"2ba96252fefa4200b815c8ddabbf5fed\": \"[local/glue_ax_map_2][5/12] map \"_upper\" to \"premise_upper2\"\" in 9s.\n"
     ]
    },
    {
     "name": "stderr",
     "output_type": "stream",
     "text": [
      "[local/glue_ax_map_2][5/12] map \"_upper\" to \"premise_upper2\":   6%|▌         | 6/100 [00:00<00:00, 937.66it/s]\n",
      "2023-11-12 20:58:34,016 - distributed.worker - WARNING - Compute Failed\n",
      "Key:       2ba96252fefa4200b815c8ddabbf5fed\n",
      "Function:  _execute_task\n",
      "args:      (<function _upper at 0x2aef63920>, (36, 45), './data/.cache/lilac/local/glue_ax_map_2/premise_upper2.36-45.jsonl', 'premise_upper2', None, True, False, False, ('2ba96252fefa4200b815c8ddabbf5fed', 0))\n",
      "kwargs:    {}\n",
      "Exception: \"ValueError('Throwing for 56505f14f6dc496e807018c3675ac840')\"\n",
      "\n",
      "[local/glue_ax_map_2][6/12] map \"_upper\" to \"premise_upper2\":   9%|▉         | 9/100 [00:00<00:00, 1587.55it/s]\n"
     ]
    },
    {
     "name": "stdout",
     "output_type": "stream",
     "text": [
      "Task finished \"d5a8710fba1647aea11eb1bc96c42111\": \"[local/glue_ax_map_2][6/12] map \"_upper\" to \"premise_upper2\"\" in 9s.\n"
     ]
    },
    {
     "name": "stderr",
     "output_type": "stream",
     "text": [
      "[local/glue_ax_map_2][7/12] map \"_upper\" to \"premise_upper2\":   9%|▉         | 9/100 [00:00<00:00, 1857.99it/s]\n",
      "[local/glue_ax_map_2][8/12] map \"_upper\" to \"premise_upper2\":   9%|▉         | 9/100 [00:00<00:00, 2045.78it/s]\n"
     ]
    },
    {
     "name": "stdout",
     "output_type": "stream",
     "text": [
      "Task finished \"c92841f9775e4071bae1178c675cf8bd\": \"[local/glue_ax_map_2][7/12] map \"_upper\" to \"premise_upper2\"\" in 10s.\n",
      "Task finished \"15f763466dfe4cd8b6344ed2b43e1ed2\": \"[local/glue_ax_map_2][8/12] map \"_upper\" to \"premise_upper2\"\" in 10s.\n"
     ]
    },
    {
     "name": "stderr",
     "output_type": "stream",
     "text": [
      "[local/glue_ax_map_2][9/12] map \"_upper\" to \"premise_upper2\":   9%|▉         | 9/100 [00:00<00:00, 1299.80it/s]\n"
     ]
    },
    {
     "name": "stdout",
     "output_type": "stream",
     "text": [
      "Task finished \"a922afdf40b94a638b8dac7b07b62294\": \"[local/glue_ax_map_2][9/12] map \"_upper\" to \"premise_upper2\"\" in 10s.\n"
     ]
    },
    {
     "name": "stderr",
     "output_type": "stream",
     "text": [
      "[local/glue_ax_map_2][10/12] map \"_upper\" to \"premise_upper2\":   9%|▉         | 9/100 [00:00<00:00, 2163.50it/s]\n",
      "[local/glue_ax_map_2][11/12] map \"_upper\" to \"premise_upper2\":   9%|▉         | 9/100 [00:00<00:00, 1947.32it/s]\n",
      "[local/glue_ax_map_2][12/12] map \"_upper\" to \"premise_upper2\":   1%|          | 1/100 [00:00<00:00, 258.59it/s]\n"
     ]
    },
    {
     "name": "stdout",
     "output_type": "stream",
     "text": [
      "Task finished \"b2f6b5dbfec247d993c6bd8e409d6c76\": \"[local/glue_ax_map_2][10/12] map \"_upper\" to \"premise_upper2\"\" in 11s.\n",
      "Task finished \"1f4032a8910c431db311d4bfd874b552\": \"[local/glue_ax_map_2][11/12] map \"_upper\" to \"premise_upper2\"\" in 11s.\n"
     ]
    },
    {
     "ename": "ValueError",
     "evalue": "Throwing for 56505f14f6dc496e807018c3675ac840",
     "output_type": "error",
     "traceback": [
      "\u001b[0;31m---------------------------------------------------------------------------\u001b[0m",
      "\u001b[0;31mValueError\u001b[0m                                Traceback (most recent call last)",
      "\u001b[1;32m/Users/nikhil/Code/lilac/notebooks/DatasetMap.ipynb Cell 6\u001b[0m line \u001b[0;36m1\n\u001b[1;32m     <a href='vscode-notebook-cell:/Users/nikhil/Code/lilac/notebooks/DatasetMap.ipynb#W5sZmlsZQ%3D%3D?line=10'>11</a>\u001b[0m   \u001b[39mreturn\u001b[39;00m item[\u001b[39m'\u001b[39m\u001b[39mpremise\u001b[39m\u001b[39m'\u001b[39m]\u001b[39m.\u001b[39mupper()\n\u001b[1;32m     <a href='vscode-notebook-cell:/Users/nikhil/Code/lilac/notebooks/DatasetMap.ipynb#W5sZmlsZQ%3D%3D?line=13'>14</a>\u001b[0m \u001b[39m# This is going to throw after 10 iterations. When we call it again, it will only call _upper()\u001b[39;00m\n\u001b[1;32m     <a href='vscode-notebook-cell:/Users/nikhil/Code/lilac/notebooks/DatasetMap.ipynb#W5sZmlsZQ%3D%3D?line=14'>15</a>\u001b[0m \u001b[39m# for the rest of the dataset.\u001b[39;00m\n\u001b[0;32m---> <a href='vscode-notebook-cell:/Users/nikhil/Code/lilac/notebooks/DatasetMap.ipynb#W5sZmlsZQ%3D%3D?line=15'>16</a>\u001b[0m glue\u001b[39m.\u001b[39;49mmap(_upper, output_path\u001b[39m=\u001b[39;49m\u001b[39m'\u001b[39;49m\u001b[39mpremise_upper2\u001b[39;49m\u001b[39m'\u001b[39;49m, overwrite\u001b[39m=\u001b[39;49m\u001b[39mTrue\u001b[39;49;00m, num_jobs\u001b[39m=\u001b[39;49m\u001b[39m-\u001b[39;49m\u001b[39m1\u001b[39;49m)\n",
      "File \u001b[0;32m~/Code/lilac/lilac/data/dataset_duckdb.py:2142\u001b[0m, in \u001b[0;36mDatasetDuckDB.map\u001b[0;34m(self, map_fn, output_path, input_paths, overwrite, combine_columns, resolve_span, num_jobs)\u001b[0m\n\u001b[1;32m   2139\u001b[0m   shard_output_filepaths\u001b[39m.\u001b[39mappend(shard_output_filepath)\n\u001b[1;32m   2141\u001b[0m \u001b[39m# Wait for the tasks to finish before reading the outputs.\u001b[39;00m\n\u001b[0;32m-> 2142\u001b[0m get_task_manager()\u001b[39m.\u001b[39;49mwait(task_ids)\n\u001b[1;32m   2144\u001b[0m \u001b[39m# Merge all the shard outputs.\u001b[39;00m\n\u001b[1;32m   2145\u001b[0m jsonl_view_name \u001b[39m=\u001b[39m \u001b[39m'\u001b[39m\u001b[39mtmp_output\u001b[39m\u001b[39m'\u001b[39m\n",
      "File \u001b[0;32m~/Code/lilac/lilac/tasks.py:205\u001b[0m, in \u001b[0;36mTaskManager.wait\u001b[0;34m(self, task_ids)\u001b[0m\n\u001b[1;32m    203\u001b[0m \u001b[39mif\u001b[39;00m asyncio\u001b[39m.\u001b[39miscoroutine(task_error):\n\u001b[1;32m    204\u001b[0m   task_error \u001b[39m=\u001b[39m asyncio\u001b[39m.\u001b[39mget_event_loop()\u001b[39m.\u001b[39mrun_until_complete(task_error)\n\u001b[0;32m--> 205\u001b[0m \u001b[39mraise\u001b[39;00m task_error\n",
      "File \u001b[0;32m~/Code/lilac/.venv/lib/python3.11/site-packages/distributed/worker.py:2983\u001b[0m, in \u001b[0;36mapply_function_simple\u001b[0;34m()\u001b[0m\n\u001b[1;32m   2981\u001b[0m     \u001b[39mwith\u001b[39;00m context_meter\u001b[39m.\u001b[39mmeter(\u001b[39m\"\u001b[39m\u001b[39mthread-noncpu\u001b[39m\u001b[39m\"\u001b[39m, func\u001b[39m=\u001b[39mtime) \u001b[39mas\u001b[39;00m m:\n\u001b[1;32m   2982\u001b[0m         \u001b[39mwith\u001b[39;00m context_meter\u001b[39m.\u001b[39mmeter(\u001b[39m\"\u001b[39m\u001b[39mthread-cpu\u001b[39m\u001b[39m\"\u001b[39m, func\u001b[39m=\u001b[39mthread_time):\n\u001b[0;32m-> 2983\u001b[0m             result \u001b[39m=\u001b[39m function(\u001b[39m*\u001b[39margs, \u001b[39m*\u001b[39m\u001b[39m*\u001b[39mkwargs)\n\u001b[1;32m   2984\u001b[0m \u001b[39mexcept\u001b[39;00m (\u001b[39mSystemExit\u001b[39;00m, \u001b[39mKeyboardInterrupt\u001b[39;00m):\n\u001b[1;32m   2985\u001b[0m     \u001b[39m# Special-case these, just like asyncio does all over the place. They will pass\u001b[39;00m\n\u001b[1;32m   2986\u001b[0m     \u001b[39m# through `fail_hard` and `_handle_stimulus_from_task`, and eventually be caught\u001b[39;00m\n\u001b[0;32m   (...)\u001b[0m\n\u001b[1;32m   2989\u001b[0m     \u001b[39m# Any other `BaseException` types would ultimately be ignored by asyncio if\u001b[39;00m\n\u001b[1;32m   2990\u001b[0m     \u001b[39m# raised here, after messing up the worker state machine along their way.\u001b[39;00m\n\u001b[1;32m   2991\u001b[0m     \u001b[39mraise\u001b[39;00m\n",
      "File \u001b[0;32m~/Code/lilac/lilac/tasks.py:309\u001b[0m, in \u001b[0;36m_execute_task\u001b[0;34m()\u001b[0m\n\u001b[1;32m    307\u001b[0m annotations \u001b[39m=\u001b[39m cast(\u001b[39mdict\u001b[39m, get_worker()\u001b[39m.\u001b[39mstate\u001b[39m.\u001b[39mtasks[task_id]\u001b[39m.\u001b[39mannotations)\n\u001b[1;32m    308\u001b[0m annotations[\u001b[39m'\u001b[39m\u001b[39mtask_info\u001b[39m\u001b[39m'\u001b[39m] \u001b[39m=\u001b[39m task_info\n\u001b[0;32m--> 309\u001b[0m task(\u001b[39m*\u001b[39margs)\n",
      "File \u001b[0;32m~/Code/lilac/lilac/data/dataset_duckdb.py:2345\u001b[0m, in \u001b[0;36m_map_worker\u001b[0;34m()\u001b[0m\n\u001b[1;32m   2342\u001b[0m write_mode \u001b[39m=\u001b[39m \u001b[39m'\u001b[39m\u001b[39ma\u001b[39m\u001b[39m'\u001b[39m\n\u001b[1;32m   2344\u001b[0m \u001b[39mwith\u001b[39;00m fs\u001b[39m.\u001b[39mopen(shard_output_filepath, write_mode) \u001b[39mas\u001b[39;00m file:\n\u001b[0;32m-> 2345\u001b[0m   \u001b[39mfor\u001b[39;00m item \u001b[39min\u001b[39;00m outputs:\n\u001b[1;32m   2346\u001b[0m     json\u001b[39m.\u001b[39mdump(item, file)\n\u001b[1;32m   2347\u001b[0m     file\u001b[39m.\u001b[39mwrite(\u001b[39m'\u001b[39m\u001b[39m\\n\u001b[39;00m\u001b[39m'\u001b[39m)\n",
      "File \u001b[0;32m~/Code/lilac/lilac/tasks.py:364\u001b[0m, in \u001b[0;36mprogress\u001b[0;34m()\u001b[0m\n\u001b[1;32m    362\u001b[0m last_emit \u001b[39m=\u001b[39m time\u001b[39m.\u001b[39mtime() \u001b[39m-\u001b[39m emit_every_s\n\u001b[1;32m    363\u001b[0m \u001b[39mwith\u001b[39;00m tqdm(it, desc\u001b[39m=\u001b[39mtask_info\u001b[39m.\u001b[39mname, total\u001b[39m=\u001b[39mestimated_len) \u001b[39mas\u001b[39;00m tq:\n\u001b[0;32m--> 364\u001b[0m   \u001b[39mfor\u001b[39;00m t \u001b[39min\u001b[39;00m tq:\n\u001b[1;32m    365\u001b[0m     cur_time \u001b[39m=\u001b[39m time\u001b[39m.\u001b[39mtime()\n\u001b[1;32m    366\u001b[0m     \u001b[39mif\u001b[39;00m estimated_len \u001b[39mand\u001b[39;00m cur_time \u001b[39m-\u001b[39m last_emit \u001b[39m>\u001b[39m emit_every_s:\n",
      "File \u001b[0;32m~/Code/lilac/.venv/lib/python3.11/site-packages/tqdm/std.py:1182\u001b[0m, in \u001b[0;36m__iter__\u001b[0;34m()\u001b[0m\n\u001b[1;32m   1179\u001b[0m time \u001b[39m=\u001b[39m \u001b[39mself\u001b[39m\u001b[39m.\u001b[39m_time\n\u001b[1;32m   1181\u001b[0m \u001b[39mtry\u001b[39;00m:\n\u001b[0;32m-> 1182\u001b[0m     \u001b[39mfor\u001b[39;00m obj \u001b[39min\u001b[39;00m iterable:\n\u001b[1;32m   1183\u001b[0m         \u001b[39myield\u001b[39;00m obj\n\u001b[1;32m   1184\u001b[0m         \u001b[39m# Update and possibly print the progressbar.\u001b[39;00m\n\u001b[1;32m   1185\u001b[0m         \u001b[39m# Note: does not call self.update(1) for speed optimisation.\u001b[39;00m\n",
      "File \u001b[0;32m~/Code/lilac/lilac/data/dataset_duckdb.py:2329\u001b[0m, in \u001b[0;36m<genexpr>\u001b[0;34m()\u001b[0m\n\u001b[1;32m   2326\u001b[0m       df_chunk \u001b[39m=\u001b[39m pd\u001b[39m.\u001b[39mDataFrame\u001b[39m.\u001b[39mfrom_records(df_chunk[\u001b[39m'\u001b[39m\u001b[39m*\u001b[39m\u001b[39m'\u001b[39m])\n\u001b[1;32m   2327\u001b[0m     \u001b[39myield from\u001b[39;00m df_chunk\u001b[39m.\u001b[39mto_dict(\u001b[39m'\u001b[39m\u001b[39mrecords\u001b[39m\u001b[39m'\u001b[39m)\n\u001b[0;32m-> 2329\u001b[0m outputs \u001b[39m=\u001b[39m ({ROWID: row[ROWID], output_column: map_fn(row)} \u001b[39mfor\u001b[39;00m row \u001b[39min\u001b[39;00m _rows())\n\u001b[1;32m   2331\u001b[0m \u001b[39m# Add progress.\u001b[39;00m\n\u001b[1;32m   2332\u001b[0m \u001b[39mif\u001b[39;00m task_step_id \u001b[39mis\u001b[39;00m \u001b[39mnot\u001b[39;00m \u001b[39mNone\u001b[39;00m:\n",
      "\u001b[1;32m/Users/nikhil/Code/lilac/notebooks/DatasetMap.ipynb Cell 6\u001b[0m line \u001b[0;36m8\n\u001b[1;32m      <a href='vscode-notebook-cell:/Users/nikhil/Code/lilac/notebooks/DatasetMap.ipynb#W5sZmlsZQ%3D%3D?line=5'>6</a>\u001b[0m \u001b[39mglobal\u001b[39;00m i, throw_after_n\n\u001b[1;32m      <a href='vscode-notebook-cell:/Users/nikhil/Code/lilac/notebooks/DatasetMap.ipynb#W5sZmlsZQ%3D%3D?line=6'>7</a>\u001b[0m \u001b[39mif\u001b[39;00m throw_for_rowid \u001b[39mand\u001b[39;00m item[ll\u001b[39m.\u001b[39mROWID] \u001b[39m==\u001b[39m random_row_id:\n\u001b[0;32m----> <a href='vscode-notebook-cell:/Users/nikhil/Code/lilac/notebooks/DatasetMap.ipynb#W5sZmlsZQ%3D%3D?line=7'>8</a>\u001b[0m   \u001b[39mraise\u001b[39;00m \u001b[39mValueError\u001b[39;00m(\u001b[39mf\u001b[39m\u001b[39m'\u001b[39m\u001b[39mThrowing for \u001b[39m\u001b[39m{\u001b[39;00mrandom_row_id\u001b[39m}\u001b[39;00m\u001b[39m'\u001b[39m)\n\u001b[1;32m      <a href='vscode-notebook-cell:/Users/nikhil/Code/lilac/notebooks/DatasetMap.ipynb#W5sZmlsZQ%3D%3D?line=8'>9</a>\u001b[0m \u001b[39mif\u001b[39;00m \u001b[39mnot\u001b[39;00m throw_for_rowid:\n\u001b[1;32m     <a href='vscode-notebook-cell:/Users/nikhil/Code/lilac/notebooks/DatasetMap.ipynb#W5sZmlsZQ%3D%3D?line=9'>10</a>\u001b[0m   \u001b[39mprint\u001b[39m(item[\u001b[39m'\u001b[39m\u001b[39mpremise\u001b[39m\u001b[39m'\u001b[39m]\u001b[39m.\u001b[39mupper())\n",
      "\u001b[0;31mValueError\u001b[0m: Throwing for 56505f14f6dc496e807018c3675ac840"
     ]
    },
    {
     "name": "stdout",
     "output_type": "stream",
     "text": [
      "Task finished \"c7e6304252154fd8a75f8ad5fc27f66e\": \"[local/glue_ax_map_2][12/12] map \"_upper\" to \"premise_upper2\"\" in 11s.\n"
     ]
    }
   ],
   "source": [
    "throw_for_rowid = True\n",
    "\n",
    "random_row_id = list(glue.select_rows([ll.ROWID], limit=1))[0][ll.ROWID]\n",
    "\n",
    "def _upper(item):\n",
    "  global i, throw_after_n\n",
    "  if throw_for_rowid and item[ll.ROWID] == random_row_id:\n",
    "    raise ValueError(f'Throwing for {random_row_id}')\n",
    "  if not throw_for_rowid:\n",
    "    print(item['premise'].upper())\n",
    "  return item['premise'].upper()\n",
    "\n",
    "\n",
    "# This is going to throw after 10 iterations. When we call it again, it will only call _upper()\n",
    "# for the rest of the dataset.\n",
    "glue.map(_upper, output_path='premise_upper2', overwrite=True, num_jobs=-1)\n"
   ]
  },
  {
   "cell_type": "code",
   "execution_count": 4,
   "metadata": {},
   "outputs": [
    {
     "name": "stdout",
     "output_type": "stream",
     "text": [
      "Scheduling task \"37d5981f1df24e57932e66c18b451482\": \"[local/glue_ax_map_2][1/12] map \"_upper\" to \"premise_upper2\"\".\n",
      "Scheduling task \"5427454733a14a16af71c66b30d7cc53\": \"[local/glue_ax_map_2][2/12] map \"_upper\" to \"premise_upper2\"\".\n",
      "Scheduling task \"3510adb400e040db9eb0656cb16a43f5\": \"[local/glue_ax_map_2][3/12] map \"_upper\" to \"premise_upper2\"\".\n",
      "Scheduling task \"17367dfd696d486e9a804c260b15d58b\": \"[local/glue_ax_map_2][4/12] map \"_upper\" to \"premise_upper2\"\".\n",
      "Scheduling task \"a255d661dfb24a8a89e85a058ccd004f\": \"[local/glue_ax_map_2][5/12] map \"_upper\" to \"premise_upper2\"\".\n",
      "Scheduling task \"d054c47d8ffb4fa7b05dd9ec4c6c1dab\": \"[local/glue_ax_map_2][6/12] map \"_upper\" to \"premise_upper2\"\".\n",
      "Scheduling task \"c9cfa05c3fc0423285eda0e01a34a6cf\": \"[local/glue_ax_map_2][7/12] map \"_upper\" to \"premise_upper2\"\".\n",
      "Scheduling task \"fe4f94cc4c0b4ac08cf1b84bdb59722c\": \"[local/glue_ax_map_2][8/12] map \"_upper\" to \"premise_upper2\"\".\n",
      "Scheduling task \"474178fe84be4234add6574c00e1787d\": \"[local/glue_ax_map_2][9/12] map \"_upper\" to \"premise_upper2\"\".\n",
      "Scheduling task \"04b7322f687541e7b84bb5a2d25cd94b\": \"[local/glue_ax_map_2][10/12] map \"_upper\" to \"premise_upper2\"\".\n",
      "Scheduling task \"97a309cd763f46b7bace45709ac5ac76\": \"[local/glue_ax_map_2][11/12] map \"_upper\" to \"premise_upper2\"\".\n",
      "Scheduling task \"83b94f11c5134242a63f60dee03d1829\": \"[local/glue_ax_map_2][12/12] map \"_upper\" to \"premise_upper2\"\".\n"
     ]
    },
    {
     "name": "stderr",
     "output_type": "stream",
     "text": [
      "[local/glue_ax_map_2][1/12] map \"_upper\" to \"premise_upper2\":   0%|          | 0/100 [00:00<?, ?it/s]\n",
      "[local/glue_ax_map_2][2/12] map \"_upper\" to \"premise_upper2\":   0%|          | 0/100 [00:00<?, ?it/s]\n",
      "[local/glue_ax_map_2][3/12] map \"_upper\" to \"premise_upper2\":   0%|          | 0/100 [00:00<?, ?it/s]\n",
      "[local/glue_ax_map_2][4/12] map \"_upper\" to \"premise_upper2\":   0%|          | 0/100 [00:00<?, ?it/s]\n"
     ]
    },
    {
     "name": "stdout",
     "output_type": "stream",
     "text": [
      "THE CAT SAT ON THE MAT.\n",
      "SOME DOGS LIKE TO SCRATCH THEIR EARS.\n",
      "ALL DOGS LIKE TO SCRATCH THEIR EARS.\n"
     ]
    },
    {
     "name": "stderr",
     "output_type": "stream",
     "text": [
      "[local/glue_ax_map_2][5/12] map \"_upper\" to \"premise_upper2\":   3%|▎         | 3/100 [00:00<00:07, 13.79it/s]\n",
      "[local/glue_ax_map_2][6/12] map \"_upper\" to \"premise_upper2\":   0%|          | 0/100 [00:00<?, ?it/s]\n",
      "[local/glue_ax_map_2][7/12] map \"_upper\" to \"premise_upper2\":   0%|          | 0/100 [00:00<?, ?it/s]\n",
      "[local/glue_ax_map_2][9/12] map \"_upper\" to \"premise_upper2\":   0%|          | 0/100 [00:00<?, ?it/s]\n",
      "[local/glue_ax_map_2][8/12] map \"_upper\" to \"premise_upper2\":   0%|          | 0/100 [00:00<?, ?it/s]]\n",
      "[local/glue_ax_map_2][10/12] map \"_upper\" to \"premise_upper2\":   0%|          | 0/100 [00:00<?, ?it/s]\n"
     ]
    },
    {
     "name": "stdout",
     "output_type": "stream",
     "text": [
      "Task finished \"5427454733a14a16af71c66b30d7cc53\": \"[local/glue_ax_map_2][2/12] map \"_upper\" to \"premise_upper2\"\" in 2s.\n",
      "Task finished \"37d5981f1df24e57932e66c18b451482\": \"[local/glue_ax_map_2][1/12] map \"_upper\" to \"premise_upper2\"\" in 3s.\n",
      "Task finished \"3510adb400e040db9eb0656cb16a43f5\": \"[local/glue_ax_map_2][3/12] map \"_upper\" to \"premise_upper2\"\" in 3s.\n",
      "Task finished \"17367dfd696d486e9a804c260b15d58b\": \"[local/glue_ax_map_2][4/12] map \"_upper\" to \"premise_upper2\"\" in 3s.\n",
      "Task finished \"a255d661dfb24a8a89e85a058ccd004f\": \"[local/glue_ax_map_2][5/12] map \"_upper\" to \"premise_upper2\"\" in 3s.\n",
      "Task finished \"c9cfa05c3fc0423285eda0e01a34a6cf\": \"[local/glue_ax_map_2][7/12] map \"_upper\" to \"premise_upper2\"\" in 3s.\n",
      "Task finished \"d054c47d8ffb4fa7b05dd9ec4c6c1dab\": \"[local/glue_ax_map_2][6/12] map \"_upper\" to \"premise_upper2\"\" in 3s.\n",
      "Task finished \"474178fe84be4234add6574c00e1787d\": \"[local/glue_ax_map_2][9/12] map \"_upper\" to \"premise_upper2\"\" in 3s.\n",
      "Task finished \"fe4f94cc4c0b4ac08cf1b84bdb59722c\": \"[local/glue_ax_map_2][8/12] map \"_upper\" to \"premise_upper2\"\" in 3s.\n",
      "Task finished \"04b7322f687541e7b84bb5a2d25cd94b\": \"[local/glue_ax_map_2][10/12] map \"_upper\" to \"premise_upper2\"\" in 3s.\n",
      "Wrote map output to ./data/datasets/local/glue_ax_map_2/premise_upper2-00000-of-00001.parquet\n"
     ]
    },
    {
     "name": "stderr",
     "output_type": "stream",
     "text": [
      "[local/glue_ax_map_2][12/12] map \"_upper\" to \"premise_upper2\":   0%|          | 0/100 [00:00<?, ?it/s]\n",
      "[local/glue_ax_map_2][11/12] map \"_upper\" to \"premise_upper2\":   0%|          | 0/100 [00:00<?, ?it/s]\n"
     ]
    },
    {
     "data": {
      "text/plain": [
       "<lilac.data.dataset_duckdb.DuckDBMapOutput at 0x3200a3c90>"
      ]
     },
     "execution_count": 4,
     "metadata": {},
     "output_type": "execute_result"
    },
    {
     "name": "stdout",
     "output_type": "stream",
     "text": [
      "Task finished \"83b94f11c5134242a63f60dee03d1829\": \"[local/glue_ax_map_2][12/12] map \"_upper\" to \"premise_upper2\"\" in 3s.\n",
      "Task finished \"97a309cd763f46b7bace45709ac5ac76\": \"[local/glue_ax_map_2][11/12] map \"_upper\" to \"premise_upper2\"\" in 3s.\n"
     ]
    },
    {
     "name": "stderr",
     "output_type": "stream",
     "text": [
      "2023-11-13 08:26:38,312 - tornado.application - ERROR - Exception in callback <bound method SystemMonitor.update of <SystemMonitor: cpu: 2 memory: 86 MB fds: 26>>\n",
      "Traceback (most recent call last):\n",
      "  File \"/Users/nikhil/Code/lilac/.venv/lib/python3.11/site-packages/tornado/ioloop.py\", line 919, in _run\n",
      "    val = self.callback()\n",
      "          ^^^^^^^^^^^^^^^\n",
      "  File \"/Users/nikhil/Code/lilac/.venv/lib/python3.11/site-packages/distributed/system_monitor.py\", line 168, in update\n",
      "    net_ioc = psutil.net_io_counters()\n",
      "              ^^^^^^^^^^^^^^^^^^^^^^^^\n",
      "  File \"/Users/nikhil/Code/lilac/.venv/lib/python3.11/site-packages/psutil/__init__.py\", line 2119, in net_io_counters\n",
      "    rawdict = _psplatform.net_io_counters()\n",
      "              ^^^^^^^^^^^^^^^^^^^^^^^^^^^^^\n",
      "OSError: [Errno 12] Cannot allocate memory\n"
     ]
    }
   ],
   "source": [
    "throw_for_rowid = False\n",
    "# This will finish calling _upper, without calling it for the first 10 items.\n",
    "glue.map(_upper, output_path='premise_upper2', num_jobs=-1)\n"
   ]
  },
  {
   "cell_type": "code",
   "execution_count": null,
   "metadata": {},
   "outputs": [],
   "source": []
  }
 ],
 "metadata": {
  "kernelspec": {
   "display_name": ".venv",
   "language": "python",
   "name": "python3"
  },
  "language_info": {
   "codemirror_mode": {
    "name": "ipython",
    "version": 3
   },
   "file_extension": ".py",
   "mimetype": "text/x-python",
   "name": "python",
   "nbconvert_exporter": "python",
   "pygments_lexer": "ipython3",
   "version": "3.11.4"
  }
 },
 "nbformat": 4,
 "nbformat_minor": 2
}
